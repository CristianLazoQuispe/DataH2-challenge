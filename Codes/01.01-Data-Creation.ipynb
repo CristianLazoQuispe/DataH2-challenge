{
 "cells": [
  {
   "cell_type": "code",
   "execution_count": 3,
   "id": "20a9b75f",
   "metadata": {
    "collapsed": false,
    "gradient": {
     "editing": false,
     "id": "d85eb24e-1c37-40cb-92b7-b9b1c3f3c4ad",
     "kernelId": "4b36f2bb-a103-476c-967f-0825f38bd3c1",
     "source_hidden": false
    },
    "jupyter": {
     "outputs_hidden": false
    }
   },
   "outputs": [],
   "source": [
    "import sys\n",
    "sys.path.insert(1, '../Src')\n",
    "\n",
    "import pandas as pd\n",
    "import os\n",
    "from utils.preprocessing import *\n",
    "\n",
    "PATH_DATASET = '../Dataset/data-h-m1-challenge-final'\n",
    "PATH_RESULTS = '../Results/dataset/'"
   ]
  },
  {
   "cell_type": "code",
   "execution_count": 4,
   "id": "d994161a",
   "metadata": {
    "collapsed": false,
    "gradient": {
     "editing": false,
     "id": "062c1697-593e-4fac-b57d-93db08d323f8",
     "kernelId": "4b36f2bb-a103-476c-967f-0825f38bd3c1",
     "source_hidden": false
    },
    "jupyter": {
     "outputs_hidden": false
    }
   },
   "outputs": [
    {
     "data": {
      "text/html": [
       "<div>\n",
       "<style scoped>\n",
       "    .dataframe tbody tr th:only-of-type {\n",
       "        vertical-align: middle;\n",
       "    }\n",
       "\n",
       "    .dataframe tbody tr th {\n",
       "        vertical-align: top;\n",
       "    }\n",
       "\n",
       "    .dataframe thead th {\n",
       "        text-align: right;\n",
       "    }\n",
       "</style>\n",
       "<table border=\"1\" class=\"dataframe\">\n",
       "  <thead>\n",
       "    <tr style=\"text-align: right;\">\n",
       "      <th></th>\n",
       "      <th>DATE</th>\n",
       "      <th>S100</th>\n",
       "      <th>I100</th>\n",
       "      <th>C100</th>\n",
       "      <th>C101</th>\n",
       "      <th>QTT</th>\n",
       "      <th>item_id</th>\n",
       "    </tr>\n",
       "  </thead>\n",
       "  <tbody>\n",
       "    <tr>\n",
       "      <th>0</th>\n",
       "      <td>2017-01-08</td>\n",
       "      <td>0</td>\n",
       "      <td>0</td>\n",
       "      <td>12</td>\n",
       "      <td>76</td>\n",
       "      <td>2</td>\n",
       "      <td>0_12_76</td>\n",
       "    </tr>\n",
       "    <tr>\n",
       "      <th>1</th>\n",
       "      <td>2017-01-08</td>\n",
       "      <td>0</td>\n",
       "      <td>0</td>\n",
       "      <td>12</td>\n",
       "      <td>149</td>\n",
       "      <td>3</td>\n",
       "      <td>0_12_149</td>\n",
       "    </tr>\n",
       "  </tbody>\n",
       "</table>\n",
       "</div>"
      ],
      "text/plain": [
       "         DATE  S100  I100  C100  C101  QTT   item_id\n",
       "0  2017-01-08     0     0    12    76    2   0_12_76\n",
       "1  2017-01-08     0     0    12   149    3  0_12_149"
      ]
     },
     "execution_count": 4,
     "metadata": {},
     "output_type": "execute_result"
    }
   ],
   "source": [
    "df_sales = pd.read_csv(os.path.join(PATH_DATASET,'sales.csv'))\n",
    "df_sales = columns_to_int(df_sales,['S100','I100','C100','C101'])\n",
    "df_sales = get_item_id(df_sales)\n",
    "df_sales.head(2)"
   ]
  },
  {
   "cell_type": "code",
   "execution_count": 5,
   "id": "b5e65805",
   "metadata": {
    "collapsed": false,
    "gradient": {
     "editing": false,
     "id": "2dd7392b-4271-4b20-b29e-6b457dc77da5",
     "kernelId": "4b36f2bb-a103-476c-967f-0825f38bd3c1",
     "source_hidden": false
    },
    "jupyter": {
     "outputs_hidden": false
    }
   },
   "outputs": [
    {
     "data": {
      "text/html": [
       "<div>\n",
       "<style scoped>\n",
       "    .dataframe tbody tr th:only-of-type {\n",
       "        vertical-align: middle;\n",
       "    }\n",
       "\n",
       "    .dataframe tbody tr th {\n",
       "        vertical-align: top;\n",
       "    }\n",
       "\n",
       "    .dataframe thead th {\n",
       "        text-align: right;\n",
       "    }\n",
       "</style>\n",
       "<table border=\"1\" class=\"dataframe\">\n",
       "  <thead>\n",
       "    <tr style=\"text-align: right;\">\n",
       "      <th></th>\n",
       "      <th>ID</th>\n",
       "      <th>QTT</th>\n",
       "      <th>DATE</th>\n",
       "      <th>S100</th>\n",
       "      <th>I100</th>\n",
       "      <th>C100</th>\n",
       "      <th>C101</th>\n",
       "      <th>item_id</th>\n",
       "    </tr>\n",
       "  </thead>\n",
       "  <tbody>\n",
       "    <tr>\n",
       "      <th>0</th>\n",
       "      <td>2021-12-19_0_1_12_76</td>\n",
       "      <td>-1</td>\n",
       "      <td>2021-12-19</td>\n",
       "      <td>0</td>\n",
       "      <td>1</td>\n",
       "      <td>12</td>\n",
       "      <td>76</td>\n",
       "      <td>1_12_76</td>\n",
       "    </tr>\n",
       "    <tr>\n",
       "      <th>1</th>\n",
       "      <td>2021-12-19_0_1_12_140</td>\n",
       "      <td>-1</td>\n",
       "      <td>2021-12-19</td>\n",
       "      <td>0</td>\n",
       "      <td>1</td>\n",
       "      <td>12</td>\n",
       "      <td>140</td>\n",
       "      <td>1_12_140</td>\n",
       "    </tr>\n",
       "  </tbody>\n",
       "</table>\n",
       "</div>"
      ],
      "text/plain": [
       "                      ID  QTT        DATE  S100  I100  C100  C101   item_id\n",
       "0   2021-12-19_0_1_12_76   -1  2021-12-19     0     1    12    76   1_12_76\n",
       "1  2021-12-19_0_1_12_140   -1  2021-12-19     0     1    12   140  1_12_140"
      ]
     },
     "execution_count": 5,
     "metadata": {},
     "output_type": "execute_result"
    }
   ],
   "source": [
    "df_submission_sample = pd.read_csv(os.path.join(PATH_DATASET,'submission_sample.csv'))\n",
    "df_submission_sample[['DATE', 'S100', 'I100', 'C100', 'C101']] = df_submission_sample['ID'].str.split('_',expand=True)\n",
    "df_submission_sample = columns_to_int(df_submission_sample,['S100','I100','C100','C101'])\n",
    "df_submission_sample = get_item_id(df_submission_sample)\n",
    "df_submission_sample.head(2)"
   ]
  },
  {
   "cell_type": "code",
   "execution_count": 6,
   "id": "f96f6b5a",
   "metadata": {},
   "outputs": [],
   "source": [
    "df_sales['DATE'] = pd.to_datetime(df_sales['DATE'], errors='coerce')\n",
    "df_submission_sample['DATE'] = pd.to_datetime(df_submission_sample['DATE'], errors='coerce')\n",
    "\n",
    "date = df_sales['DATE'].min()\n",
    "maxi = df_submission_sample['DATE'].max()\n",
    "\n",
    "dict_dates = {}\n",
    "idx = 0\n",
    "while(True):    \n",
    "    if date>maxi:\n",
    "        break\n",
    "    dict_dates[date]=idx\n",
    "    date = date+ pd.DateOffset(days=7)    \n",
    "    idx = idx+1\n",
    "\n",
    "df_sales['date_block_num'] = df_sales['DATE'].replace(dict_dates)\n",
    "df_submission_sample['date_block_num'] = df_submission_sample['DATE'].replace(dict_dates)"
   ]
  },
  {
   "cell_type": "code",
   "execution_count": 7,
   "id": "87726c56",
   "metadata": {
    "collapsed": false,
    "gradient": {
     "editing": false,
     "id": "56fe5c68-4eac-4ddc-8d3b-fe0bff3b7efd",
     "kernelId": "4b36f2bb-a103-476c-967f-0825f38bd3c1",
     "source_hidden": false
    },
    "jupyter": {
     "outputs_hidden": false
    }
   },
   "outputs": [
    {
     "data": {
      "text/html": [
       "<div>\n",
       "<style scoped>\n",
       "    .dataframe tbody tr th:only-of-type {\n",
       "        vertical-align: middle;\n",
       "    }\n",
       "\n",
       "    .dataframe tbody tr th {\n",
       "        vertical-align: top;\n",
       "    }\n",
       "\n",
       "    .dataframe thead th {\n",
       "        text-align: right;\n",
       "    }\n",
       "</style>\n",
       "<table border=\"1\" class=\"dataframe\">\n",
       "  <thead>\n",
       "    <tr style=\"text-align: right;\">\n",
       "      <th></th>\n",
       "      <th>S100</th>\n",
       "      <th>S101</th>\n",
       "      <th>S102</th>\n",
       "      <th>S103</th>\n",
       "    </tr>\n",
       "  </thead>\n",
       "  <tbody>\n",
       "    <tr>\n",
       "      <th>0</th>\n",
       "      <td>0</td>\n",
       "      <td>1</td>\n",
       "      <td>17</td>\n",
       "      <td>10</td>\n",
       "    </tr>\n",
       "    <tr>\n",
       "      <th>1</th>\n",
       "      <td>1</td>\n",
       "      <td>1</td>\n",
       "      <td>18</td>\n",
       "      <td>10</td>\n",
       "    </tr>\n",
       "  </tbody>\n",
       "</table>\n",
       "</div>"
      ],
      "text/plain": [
       "   S100  S101  S102  S103\n",
       "0     0     1    17    10\n",
       "1     1     1    18    10"
      ]
     },
     "execution_count": 7,
     "metadata": {},
     "output_type": "execute_result"
    }
   ],
   "source": [
    "df_store = pd.read_csv(os.path.join(PATH_DATASET,'meta-store.csv'))\n",
    "df_store = columns_to_int(df_store,['S100','S101','S102','S103'])\n",
    "df_store.head(2)"
   ]
  },
  {
   "cell_type": "code",
   "execution_count": 8,
   "id": "43247222",
   "metadata": {
    "collapsed": false,
    "gradient": {
     "editing": false,
     "id": "519a3c6b-17d8-420b-a6c9-f3a99fe1c91c",
     "kernelId": "4b36f2bb-a103-476c-967f-0825f38bd3c1",
     "source_hidden": false
    },
    "jupyter": {
     "outputs_hidden": false
    }
   },
   "outputs": [
    {
     "data": {
      "text/html": [
       "<div>\n",
       "<style scoped>\n",
       "    .dataframe tbody tr th:only-of-type {\n",
       "        vertical-align: middle;\n",
       "    }\n",
       "\n",
       "    .dataframe tbody tr th {\n",
       "        vertical-align: top;\n",
       "    }\n",
       "\n",
       "    .dataframe thead th {\n",
       "        text-align: right;\n",
       "    }\n",
       "</style>\n",
       "<table border=\"1\" class=\"dataframe\">\n",
       "  <thead>\n",
       "    <tr style=\"text-align: right;\">\n",
       "      <th></th>\n",
       "      <th>I100</th>\n",
       "      <th>I101</th>\n",
       "      <th>I102</th>\n",
       "      <th>I103</th>\n",
       "    </tr>\n",
       "  </thead>\n",
       "  <tbody>\n",
       "    <tr>\n",
       "      <th>0</th>\n",
       "      <td>0</td>\n",
       "      <td>2</td>\n",
       "      <td>1</td>\n",
       "      <td>1</td>\n",
       "    </tr>\n",
       "    <tr>\n",
       "      <th>1</th>\n",
       "      <td>1</td>\n",
       "      <td>2</td>\n",
       "      <td>1</td>\n",
       "      <td>1</td>\n",
       "    </tr>\n",
       "  </tbody>\n",
       "</table>\n",
       "</div>"
      ],
      "text/plain": [
       "   I100  I101  I102  I103\n",
       "0     0     2     1     1\n",
       "1     1     2     1     1"
      ]
     },
     "execution_count": 8,
     "metadata": {},
     "output_type": "execute_result"
    }
   ],
   "source": [
    "df_item = pd.read_csv(os.path.join(PATH_DATASET,'meta-item.csv'))\n",
    "df_item = columns_to_int(df_item,['I100','I101','I102','I103'])\n",
    "df_item.head(2)"
   ]
  },
  {
   "cell_type": "code",
   "execution_count": 9,
   "id": "7276ea1c",
   "metadata": {
    "collapsed": false,
    "gradient": {
     "editing": false,
     "id": "83593f0b-4b89-4683-908b-db439378aaad",
     "kernelId": "4b36f2bb-a103-476c-967f-0825f38bd3c1",
     "source_hidden": false
    },
    "jupyter": {
     "outputs_hidden": false
    }
   },
   "outputs": [
    {
     "name": "stdout",
     "output_type": "stream",
     "text": [
      "unique S100 :  31\n",
      "unknown S100 in submission : set()\n",
      "unique I100 :  96\n",
      "unknown I100 in submission : set()\n",
      "unique C100 :  21\n",
      "unknown C100 in submission : set()\n",
      "unique C101 :  355\n",
      "unknown C101 in submission : set()\n",
      "unique item_id :  3781\n",
      "unknown item_id in submission : set()\n"
     ]
    }
   ],
   "source": [
    "for column_name in ['S100','I100','C100','C101','item_id']:\n",
    "    ids_sales,ids_submission = unique_comparations(df_sales,df_submission_sample,column_name)"
   ]
  },
  {
   "cell_type": "code",
   "execution_count": 10,
   "id": "b46b5f17",
   "metadata": {
    "collapsed": false,
    "gradient": {
     "editing": false,
     "id": "ce2d19aa-49c5-471b-b235-e0b9438573c2",
     "kernelId": "4b36f2bb-a103-476c-967f-0825f38bd3c1",
     "source_hidden": false
    },
    "jupyter": {
     "outputs_hidden": false
    }
   },
   "outputs": [
    {
     "data": {
      "text/html": [
       "<div>\n",
       "<style scoped>\n",
       "    .dataframe tbody tr th:only-of-type {\n",
       "        vertical-align: middle;\n",
       "    }\n",
       "\n",
       "    .dataframe tbody tr th {\n",
       "        vertical-align: top;\n",
       "    }\n",
       "\n",
       "    .dataframe thead th {\n",
       "        text-align: right;\n",
       "    }\n",
       "</style>\n",
       "<table border=\"1\" class=\"dataframe\">\n",
       "  <thead>\n",
       "    <tr style=\"text-align: right;\">\n",
       "      <th></th>\n",
       "      <th>ID</th>\n",
       "      <th>QTT</th>\n",
       "      <th>DATE</th>\n",
       "      <th>S100</th>\n",
       "      <th>I100</th>\n",
       "      <th>C100</th>\n",
       "      <th>C101</th>\n",
       "      <th>item_id</th>\n",
       "      <th>date_block_num</th>\n",
       "    </tr>\n",
       "  </thead>\n",
       "  <tbody>\n",
       "  </tbody>\n",
       "</table>\n",
       "</div>"
      ],
      "text/plain": [
       "Empty DataFrame\n",
       "Columns: [ID, QTT, DATE, S100, I100, C100, C101, item_id, date_block_num]\n",
       "Index: []"
      ]
     },
     "execution_count": 10,
     "metadata": {},
     "output_type": "execute_result"
    }
   ],
   "source": [
    "df_submission_sample[(df_submission_sample['I100']=='15') & (df_submission_sample['C100']=='14')].head(2)"
   ]
  },
  {
   "cell_type": "code",
   "execution_count": 11,
   "id": "05709aba",
   "metadata": {
    "collapsed": false,
    "gradient": {
     "editing": false,
     "id": "9b561e46-828b-4b3f-a97e-af8702b5a59e",
     "kernelId": "4b36f2bb-a103-476c-967f-0825f38bd3c1",
     "source_hidden": false
    },
    "jupyter": {
     "outputs_hidden": false
    }
   },
   "outputs": [
    {
     "data": {
      "text/html": [
       "<div>\n",
       "<style scoped>\n",
       "    .dataframe tbody tr th:only-of-type {\n",
       "        vertical-align: middle;\n",
       "    }\n",
       "\n",
       "    .dataframe tbody tr th {\n",
       "        vertical-align: top;\n",
       "    }\n",
       "\n",
       "    .dataframe thead th {\n",
       "        text-align: right;\n",
       "    }\n",
       "</style>\n",
       "<table border=\"1\" class=\"dataframe\">\n",
       "  <thead>\n",
       "    <tr style=\"text-align: right;\">\n",
       "      <th></th>\n",
       "      <th>DATE</th>\n",
       "      <th>S100</th>\n",
       "      <th>I100</th>\n",
       "      <th>C100</th>\n",
       "      <th>C101</th>\n",
       "      <th>QTT</th>\n",
       "      <th>item_id</th>\n",
       "      <th>date_block_num</th>\n",
       "    </tr>\n",
       "  </thead>\n",
       "  <tbody>\n",
       "  </tbody>\n",
       "</table>\n",
       "</div>"
      ],
      "text/plain": [
       "Empty DataFrame\n",
       "Columns: [DATE, S100, I100, C100, C101, QTT, item_id, date_block_num]\n",
       "Index: []"
      ]
     },
     "execution_count": 11,
     "metadata": {},
     "output_type": "execute_result"
    }
   ],
   "source": [
    "df_sales[(df_sales['I100']=='15') & (df_sales['C101']=='192')]"
   ]
  },
  {
   "cell_type": "code",
   "execution_count": 12,
   "id": "b5d37924",
   "metadata": {
    "collapsed": false,
    "gradient": {
     "editing": false,
     "id": "725f1ec2-2b01-4710-bc07-89072e8aa149",
     "kernelId": "4b36f2bb-a103-476c-967f-0825f38bd3c1",
     "source_hidden": false
    },
    "jupyter": {
     "outputs_hidden": false
    }
   },
   "outputs": [
    {
     "data": {
      "text/html": [
       "<div>\n",
       "<style scoped>\n",
       "    .dataframe tbody tr th:only-of-type {\n",
       "        vertical-align: middle;\n",
       "    }\n",
       "\n",
       "    .dataframe tbody tr th {\n",
       "        vertical-align: top;\n",
       "    }\n",
       "\n",
       "    .dataframe thead th {\n",
       "        text-align: right;\n",
       "    }\n",
       "</style>\n",
       "<table border=\"1\" class=\"dataframe\">\n",
       "  <thead>\n",
       "    <tr style=\"text-align: right;\">\n",
       "      <th></th>\n",
       "      <th>DATE</th>\n",
       "      <th>S100</th>\n",
       "      <th>I100</th>\n",
       "      <th>C100</th>\n",
       "      <th>C101</th>\n",
       "      <th>QTT</th>\n",
       "      <th>item_id</th>\n",
       "      <th>date_block_num</th>\n",
       "    </tr>\n",
       "  </thead>\n",
       "  <tbody>\n",
       "  </tbody>\n",
       "</table>\n",
       "</div>"
      ],
      "text/plain": [
       "Empty DataFrame\n",
       "Columns: [DATE, S100, I100, C100, C101, QTT, item_id, date_block_num]\n",
       "Index: []"
      ]
     },
     "execution_count": 12,
     "metadata": {},
     "output_type": "execute_result"
    }
   ],
   "source": [
    "df_sales[(df_sales['C101']=='192')]"
   ]
  },
  {
   "cell_type": "code",
   "execution_count": 13,
   "id": "52055e96",
   "metadata": {
    "collapsed": false,
    "gradient": {
     "editing": false,
     "id": "3dfd1da5-f9e5-4839-9afb-067e9d68842a",
     "kernelId": "4b36f2bb-a103-476c-967f-0825f38bd3c1",
     "source_hidden": false
    },
    "jupyter": {
     "outputs_hidden": false
    }
   },
   "outputs": [
    {
     "data": {
      "text/html": [
       "<div>\n",
       "<style scoped>\n",
       "    .dataframe tbody tr th:only-of-type {\n",
       "        vertical-align: middle;\n",
       "    }\n",
       "\n",
       "    .dataframe tbody tr th {\n",
       "        vertical-align: top;\n",
       "    }\n",
       "\n",
       "    .dataframe thead th {\n",
       "        text-align: right;\n",
       "    }\n",
       "</style>\n",
       "<table border=\"1\" class=\"dataframe\">\n",
       "  <thead>\n",
       "    <tr style=\"text-align: right;\">\n",
       "      <th></th>\n",
       "      <th>DATE</th>\n",
       "      <th>S100</th>\n",
       "      <th>I100</th>\n",
       "      <th>C100</th>\n",
       "      <th>C101</th>\n",
       "      <th>QTT</th>\n",
       "      <th>item_id</th>\n",
       "      <th>date_block_num</th>\n",
       "    </tr>\n",
       "  </thead>\n",
       "  <tbody>\n",
       "  </tbody>\n",
       "</table>\n",
       "</div>"
      ],
      "text/plain": [
       "Empty DataFrame\n",
       "Columns: [DATE, S100, I100, C100, C101, QTT, item_id, date_block_num]\n",
       "Index: []"
      ]
     },
     "execution_count": 13,
     "metadata": {},
     "output_type": "execute_result"
    }
   ],
   "source": [
    "df_sales[(df_sales['I100']=='15') & (df_sales['C100']=='12')].head(2)"
   ]
  },
  {
   "cell_type": "code",
   "execution_count": 14,
   "id": "a0e8c5ef",
   "metadata": {
    "collapsed": false,
    "gradient": {
     "editing": false,
     "id": "f0f40717-9c9a-48d7-a571-4645abd678af",
     "kernelId": "4b36f2bb-a103-476c-967f-0825f38bd3c1",
     "source_hidden": false
    },
    "jupyter": {
     "outputs_hidden": false
    }
   },
   "outputs": [
    {
     "name": "stdout",
     "output_type": "stream",
     "text": [
      "953 ms ± 7.3 ms per loop (mean ± std. dev. of 7 runs, 1 loop each)\n"
     ]
    }
   ],
   "source": [
    "%timeit df_sales.to_pickle(os.path.join(PATH_RESULTS,'sales.pkl'))"
   ]
  },
  {
   "cell_type": "code",
   "execution_count": 15,
   "id": "f414181a",
   "metadata": {
    "collapsed": false,
    "gradient": {
     "editing": false,
     "id": "8bce1059-41bf-4c41-b1e2-1aac8ff2001f",
     "kernelId": "4b36f2bb-a103-476c-967f-0825f38bd3c1",
     "source_hidden": false
    },
    "jupyter": {
     "outputs_hidden": false
    }
   },
   "outputs": [
    {
     "name": "stdout",
     "output_type": "stream",
     "text": [
      "29.2 ms ± 1.35 ms per loop (mean ± std. dev. of 7 runs, 10 loops each)\n"
     ]
    }
   ],
   "source": [
    "%timeit df_submission_sample.to_pickle(os.path.join(PATH_RESULTS,'submission_sample.pkl'))"
   ]
  },
  {
   "cell_type": "code",
   "execution_count": 16,
   "id": "97601271",
   "metadata": {
    "collapsed": false,
    "gradient": {
     "editing": false,
     "id": "caf12073-fcb3-4551-8aa1-74d132a21c01",
     "kernelId": "4b36f2bb-a103-476c-967f-0825f38bd3c1",
     "source_hidden": false
    },
    "jupyter": {
     "outputs_hidden": false
    }
   },
   "outputs": [
    {
     "name": "stdout",
     "output_type": "stream",
     "text": [
      "3.54 ms ± 542 µs per loop (mean ± std. dev. of 7 runs, 100 loops each)\n"
     ]
    }
   ],
   "source": [
    "%timeit df_item.to_pickle(os.path.join(PATH_RESULTS,'item.pkl'))"
   ]
  },
  {
   "cell_type": "code",
   "execution_count": 17,
   "id": "a07a539b",
   "metadata": {
    "collapsed": false,
    "gradient": {
     "editing": false,
     "id": "985b59d1-6749-4901-8135-f2b64cc13797",
     "kernelId": "4b36f2bb-a103-476c-967f-0825f38bd3c1",
     "source_hidden": false
    },
    "jupyter": {
     "outputs_hidden": false
    }
   },
   "outputs": [
    {
     "name": "stdout",
     "output_type": "stream",
     "text": [
      "3.5 ms ± 574 µs per loop (mean ± std. dev. of 7 runs, 100 loops each)\n"
     ]
    }
   ],
   "source": [
    "%timeit df_store.to_pickle(os.path.join(PATH_RESULTS,'store.pkl'))"
   ]
  },
  {
   "cell_type": "code",
   "execution_count": null,
   "id": "fd4fdd69",
   "metadata": {
    "collapsed": false,
    "gradient": {
     "editing": false,
     "id": "f5a4ed0d-ffcf-49dc-8389-615b8b6caf69",
     "kernelId": "4b36f2bb-a103-476c-967f-0825f38bd3c1",
     "source_hidden": false
    },
    "jupyter": {
     "outputs_hidden": false
    }
   },
   "outputs": [],
   "source": []
  },
  {
   "cell_type": "code",
   "execution_count": null,
   "id": "eaaf5490",
   "metadata": {},
   "outputs": [],
   "source": []
  },
  {
   "cell_type": "code",
   "execution_count": null,
   "id": "5726fef0",
   "metadata": {},
   "outputs": [],
   "source": []
  }
 ],
 "metadata": {
  "kernelspec": {
   "display_name": "Python 3 (ipykernel)",
   "language": "python",
   "name": "python3"
  },
  "language_info": {
   "codemirror_mode": {
    "name": "ipython",
    "version": 3
   },
   "file_extension": ".py",
   "mimetype": "text/x-python",
   "name": "python",
   "nbconvert_exporter": "python",
   "pygments_lexer": "ipython3",
   "version": "3.8.12"
  }
 },
 "nbformat": 4,
 "nbformat_minor": 5
}
