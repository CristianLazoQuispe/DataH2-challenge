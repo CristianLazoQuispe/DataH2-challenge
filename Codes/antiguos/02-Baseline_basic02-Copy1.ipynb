{
 "cells": [
  {
   "cell_type": "code",
   "execution_count": 40,
   "id": "c133da05",
   "metadata": {
    "collapsed": false,
    "gradient": {
     "editing": false,
     "execution_count": 1,
     "id": "7da63e9e-23d4-421f-a649-07e8883a8209",
     "kernelId": "db0b7ca0-c10b-4a39-8e4f-561906e587a6",
     "source_hidden": false
    },
    "jupyter": {
     "outputs_hidden": false
    }
   },
   "outputs": [],
   "source": [
    "import sys\n",
    "sys.path.insert(1, '../Src')\n",
    "import numpy as np\n",
    "import pandas as pd\n",
    "import os\n",
    "from utils.feature_engineering import *\n",
    "from utils.preprocessing import *\n",
    "\n",
    "PATH_DATASET = '../Dataset/'\n",
    "#PATH_DATASET = '../Dataset/datah-m1-challange/'\n",
    "PATH_RESULTS = '../Results/'"
   ]
  },
  {
   "cell_type": "code",
   "execution_count": 41,
   "id": "aef7ee2c",
   "metadata": {
    "collapsed": false,
    "gradient": {
     "editing": false,
     "execution_count": 2,
     "id": "f97b902c-23ca-40f0-b3bd-f1fd92886175",
     "kernelId": "db0b7ca0-c10b-4a39-8e4f-561906e587a6",
     "source_hidden": false
    },
    "jupyter": {
     "outputs_hidden": false
    }
   },
   "outputs": [],
   "source": [
    "df_sales  = pd.read_pickle(os.path.join(PATH_RESULTS,'dataset','sales.pkl'))\n",
    "df_items  = pd.read_pickle(os.path.join(PATH_RESULTS,'dataset','item.pkl'))\n",
    "df_stores = pd.read_pickle(os.path.join(PATH_RESULTS,'dataset','store.pkl'))\n",
    "\n",
    "df_submission_sample = pd.read_pickle(os.path.join(PATH_RESULTS,'dataset','submission_sample.pkl'))"
   ]
  },
  {
   "cell_type": "code",
   "execution_count": 42,
   "id": "cade953d",
   "metadata": {
    "collapsed": false,
    "gradient": {
     "editing": false,
     "execution_count": 3,
     "id": "72275110-39fc-4d89-b994-0f8b8ad21363",
     "kernelId": "db0b7ca0-c10b-4a39-8e4f-561906e587a6",
     "source_hidden": false
    },
    "jupyter": {
     "outputs_hidden": false
    }
   },
   "outputs": [],
   "source": [
    "N_submission = df_submission_sample.shape[0]\n",
    "N_sales      = df_sales.shape[0]"
   ]
  },
  {
   "cell_type": "code",
   "execution_count": 43,
   "id": "7247b57b",
   "metadata": {
    "collapsed": false,
    "gradient": {
     "editing": false,
     "execution_count": 4,
     "id": "e3d30ca5-4e75-4ae8-85b5-f2ace9722aae",
     "kernelId": "db0b7ca0-c10b-4a39-8e4f-561906e587a6",
     "source_hidden": false
    },
    "jupyter": {
     "outputs_hidden": false
    }
   },
   "outputs": [],
   "source": [
    "df_sales = fe_dates(df_sales)\n",
    "df_submission_sample = fe_dates(df_submission_sample)"
   ]
  },
  {
   "cell_type": "code",
   "execution_count": 44,
   "id": "b33a6dae",
   "metadata": {
    "collapsed": false,
    "gradient": {
     "editing": false,
     "execution_count": 5,
     "id": "7ff43128-1e4e-4c5c-945c-d1bb7fdc7953",
     "kernelId": "db0b7ca0-c10b-4a39-8e4f-561906e587a6",
     "source_hidden": false
    },
    "jupyter": {
     "outputs_hidden": false
    }
   },
   "outputs": [],
   "source": [
    "df_sales = df_sales.merge(df_items,on=['I100'])\n",
    "df_sales = df_sales.merge(df_stores,on=['S100'])\n",
    "    \n",
    "df_submission_sample = df_submission_sample.merge(df_items,on=['I100'])\n",
    "df_submission_sample = df_submission_sample.merge(df_stores,on=['S100'])\n",
    "\n"
   ]
  },
  {
   "cell_type": "code",
   "execution_count": 45,
   "id": "a1c147a2",
   "metadata": {
    "collapsed": false,
    "gradient": {
     "editing": false,
     "execution_count": 6,
     "id": "2a9f60bb-b183-4f1f-9aa7-f5bedcee58e4",
     "kernelId": "db0b7ca0-c10b-4a39-8e4f-561906e587a6",
     "source_hidden": false
    },
    "jupyter": {
     "outputs_hidden": false
    }
   },
   "outputs": [],
   "source": [
    "def string_to_categorical(df):\n",
    "    for name in df.columns:\n",
    "        aux = df[name].dtype\n",
    "        if str(aux) in ['str','object']:\n",
    "            df[name] = df[name].astype('category')\n",
    "            print(name,aux,df[name].dtype)\n",
    "    return df"
   ]
  },
  {
   "cell_type": "code",
   "execution_count": 46,
   "id": "0f7800db",
   "metadata": {
    "collapsed": false,
    "gradient": {
     "editing": false,
     "execution_count": 7,
     "id": "302d50a5-a0bd-4a27-ab40-17998a99774f",
     "kernelId": "db0b7ca0-c10b-4a39-8e4f-561906e587a6",
     "source_hidden": false
    },
    "jupyter": {
     "outputs_hidden": false
    }
   },
   "outputs": [
    {
     "name": "stdout",
     "output_type": "stream",
     "text": [
      "item_id object category\n",
      "ID object category\n",
      "item_id object category\n"
     ]
    }
   ],
   "source": [
    "df_sales.replace([np.inf, -np.inf, np.nan],0,inplace=True)\n",
    "df_submission_sample.replace([np.inf, -np.inf, np.nan],0,inplace=True)\n",
    "df_sales             = string_to_categorical(df_sales).copy()\n",
    "df_submission_sample = string_to_categorical(df_submission_sample).copy()\n"
   ]
  },
  {
   "cell_type": "code",
   "execution_count": 47,
   "id": "a8e9c7a1",
   "metadata": {
    "collapsed": false,
    "gradient": {
     "editing": false,
     "execution_count": 8,
     "id": "bcf469e9-d3da-4d88-9c81-68c288956f64",
     "kernelId": "db0b7ca0-c10b-4a39-8e4f-561906e587a6",
     "source_hidden": false
    },
    "jupyter": {
     "outputs_hidden": false
    }
   },
   "outputs": [
    {
     "data": {
      "text/html": [
       "<div>\n",
       "<style scoped>\n",
       "    .dataframe tbody tr th:only-of-type {\n",
       "        vertical-align: middle;\n",
       "    }\n",
       "\n",
       "    .dataframe tbody tr th {\n",
       "        vertical-align: top;\n",
       "    }\n",
       "\n",
       "    .dataframe thead th {\n",
       "        text-align: right;\n",
       "    }\n",
       "</style>\n",
       "<table border=\"1\" class=\"dataframe\">\n",
       "  <thead>\n",
       "    <tr style=\"text-align: right;\">\n",
       "      <th></th>\n",
       "      <th>DATE</th>\n",
       "      <th>S100</th>\n",
       "      <th>I100</th>\n",
       "      <th>C100</th>\n",
       "      <th>C101</th>\n",
       "      <th>QTT</th>\n",
       "      <th>item_id</th>\n",
       "      <th>year</th>\n",
       "      <th>month</th>\n",
       "      <th>day</th>\n",
       "      <th>...</th>\n",
       "      <th>is_year_start</th>\n",
       "      <th>is_quarter_start</th>\n",
       "      <th>is_month_start</th>\n",
       "      <th>is_month_end</th>\n",
       "      <th>I101</th>\n",
       "      <th>I102</th>\n",
       "      <th>I103</th>\n",
       "      <th>S101</th>\n",
       "      <th>S102</th>\n",
       "      <th>S103</th>\n",
       "    </tr>\n",
       "  </thead>\n",
       "  <tbody>\n",
       "    <tr>\n",
       "      <th>0</th>\n",
       "      <td>2017-01-08</td>\n",
       "      <td>0</td>\n",
       "      <td>0</td>\n",
       "      <td>12</td>\n",
       "      <td>76</td>\n",
       "      <td>2</td>\n",
       "      <td>0_12_76</td>\n",
       "      <td>2017</td>\n",
       "      <td>1</td>\n",
       "      <td>8</td>\n",
       "      <td>...</td>\n",
       "      <td>False</td>\n",
       "      <td>False</td>\n",
       "      <td>False</td>\n",
       "      <td>False</td>\n",
       "      <td>2</td>\n",
       "      <td>1</td>\n",
       "      <td>1</td>\n",
       "      <td>1</td>\n",
       "      <td>17</td>\n",
       "      <td>10</td>\n",
       "    </tr>\n",
       "    <tr>\n",
       "      <th>1</th>\n",
       "      <td>2017-01-08</td>\n",
       "      <td>0</td>\n",
       "      <td>0</td>\n",
       "      <td>12</td>\n",
       "      <td>149</td>\n",
       "      <td>3</td>\n",
       "      <td>0_12_149</td>\n",
       "      <td>2017</td>\n",
       "      <td>1</td>\n",
       "      <td>8</td>\n",
       "      <td>...</td>\n",
       "      <td>False</td>\n",
       "      <td>False</td>\n",
       "      <td>False</td>\n",
       "      <td>False</td>\n",
       "      <td>2</td>\n",
       "      <td>1</td>\n",
       "      <td>1</td>\n",
       "      <td>1</td>\n",
       "      <td>17</td>\n",
       "      <td>10</td>\n",
       "    </tr>\n",
       "    <tr>\n",
       "      <th>2</th>\n",
       "      <td>2017-01-08</td>\n",
       "      <td>0</td>\n",
       "      <td>0</td>\n",
       "      <td>12</td>\n",
       "      <td>256</td>\n",
       "      <td>3</td>\n",
       "      <td>0_12_256</td>\n",
       "      <td>2017</td>\n",
       "      <td>1</td>\n",
       "      <td>8</td>\n",
       "      <td>...</td>\n",
       "      <td>False</td>\n",
       "      <td>False</td>\n",
       "      <td>False</td>\n",
       "      <td>False</td>\n",
       "      <td>2</td>\n",
       "      <td>1</td>\n",
       "      <td>1</td>\n",
       "      <td>1</td>\n",
       "      <td>17</td>\n",
       "      <td>10</td>\n",
       "    </tr>\n",
       "    <tr>\n",
       "      <th>3</th>\n",
       "      <td>2017-01-08</td>\n",
       "      <td>0</td>\n",
       "      <td>0</td>\n",
       "      <td>12</td>\n",
       "      <td>354</td>\n",
       "      <td>3</td>\n",
       "      <td>0_12_354</td>\n",
       "      <td>2017</td>\n",
       "      <td>1</td>\n",
       "      <td>8</td>\n",
       "      <td>...</td>\n",
       "      <td>False</td>\n",
       "      <td>False</td>\n",
       "      <td>False</td>\n",
       "      <td>False</td>\n",
       "      <td>2</td>\n",
       "      <td>1</td>\n",
       "      <td>1</td>\n",
       "      <td>1</td>\n",
       "      <td>17</td>\n",
       "      <td>10</td>\n",
       "    </tr>\n",
       "    <tr>\n",
       "      <th>4</th>\n",
       "      <td>2017-01-08</td>\n",
       "      <td>0</td>\n",
       "      <td>0</td>\n",
       "      <td>13</td>\n",
       "      <td>149</td>\n",
       "      <td>2</td>\n",
       "      <td>0_13_149</td>\n",
       "      <td>2017</td>\n",
       "      <td>1</td>\n",
       "      <td>8</td>\n",
       "      <td>...</td>\n",
       "      <td>False</td>\n",
       "      <td>False</td>\n",
       "      <td>False</td>\n",
       "      <td>False</td>\n",
       "      <td>2</td>\n",
       "      <td>1</td>\n",
       "      <td>1</td>\n",
       "      <td>1</td>\n",
       "      <td>17</td>\n",
       "      <td>10</td>\n",
       "    </tr>\n",
       "  </tbody>\n",
       "</table>\n",
       "<p>5 rows × 22 columns</p>\n",
       "</div>"
      ],
      "text/plain": [
       "        DATE  S100  I100  C100  C101  QTT   item_id  year  month  day  ...  \\\n",
       "0 2017-01-08     0     0    12    76    2   0_12_76  2017      1    8  ...   \n",
       "1 2017-01-08     0     0    12   149    3  0_12_149  2017      1    8  ...   \n",
       "2 2017-01-08     0     0    12   256    3  0_12_256  2017      1    8  ...   \n",
       "3 2017-01-08     0     0    12   354    3  0_12_354  2017      1    8  ...   \n",
       "4 2017-01-08     0     0    13   149    2  0_13_149  2017      1    8  ...   \n",
       "\n",
       "   is_year_start  is_quarter_start  is_month_start  is_month_end  I101  I102  \\\n",
       "0          False             False           False         False     2     1   \n",
       "1          False             False           False         False     2     1   \n",
       "2          False             False           False         False     2     1   \n",
       "3          False             False           False         False     2     1   \n",
       "4          False             False           False         False     2     1   \n",
       "\n",
       "   I103  S101  S102  S103  \n",
       "0     1     1    17    10  \n",
       "1     1     1    17    10  \n",
       "2     1     1    17    10  \n",
       "3     1     1    17    10  \n",
       "4     1     1    17    10  \n",
       "\n",
       "[5 rows x 22 columns]"
      ]
     },
     "execution_count": 47,
     "metadata": {},
     "output_type": "execute_result"
    }
   ],
   "source": [
    "df_sales.head()"
   ]
  },
  {
   "cell_type": "code",
   "execution_count": 48,
   "id": "b1ccb3f4",
   "metadata": {
    "collapsed": false,
    "gradient": {
     "editing": false,
     "execution_count": 8,
     "id": "07c1db11-3189-4cda-9b5d-4dfcf144026c",
     "kernelId": "db0b7ca0-c10b-4a39-8e4f-561906e587a6",
     "source_hidden": false
    },
    "jupyter": {
     "outputs_hidden": false
    }
   },
   "outputs": [],
   "source": [
    "def categorical_to_numeric(df):\n",
    "    cat_columns = df.select_dtypes(['category']).columns\n",
    "    print(cat_columns)\n",
    "    df[cat_columns] = df[cat_columns].apply(lambda x: x.cat.codes)\n",
    "    df[cat_columns] = df[cat_columns].astype(int)\n",
    "    return df"
   ]
  },
  {
   "cell_type": "code",
   "execution_count": 49,
   "id": "316b98b5",
   "metadata": {
    "collapsed": false,
    "gradient": {
     "editing": false,
     "execution_count": 9,
     "id": "2617f210-5c65-4e42-8527-2ea8cb174181",
     "kernelId": "db0b7ca0-c10b-4a39-8e4f-561906e587a6",
     "source_hidden": false
    },
    "jupyter": {
     "outputs_hidden": false
    }
   },
   "outputs": [
    {
     "name": "stdout",
     "output_type": "stream",
     "text": [
      "(2749369, 22) (69121, 23)\n",
      "item_id object category\n",
      "Index(['item_id', 'ID'], dtype='object')\n",
      "(2749369, 24) (69121, 24)\n"
     ]
    }
   ],
   "source": [
    "print(df_sales.shape,df_submission_sample.shape)\n",
    "df_auxiliar = pd.concat([df_sales,df_submission_sample])\n",
    "df_auxiliar.replace([np.inf, -np.inf, np.nan],0,inplace=True)\n",
    "\n",
    "df_auxiliar = string_to_categorical(df_auxiliar).copy()\n",
    "\n",
    "dates = df_auxiliar['DATE'].unique()\n",
    "dict_dates = {}\n",
    "for idx,date in enumerate(dates):\n",
    "    dict_dates[date]=idx\n",
    "    \n",
    "#df_auxiliar['date_block_num'] = df_auxiliar['DATE'].replace(dict_dates)\n",
    "df_auxiliar['date_block_num'] = df_auxiliar['year']*12*4+df_auxiliar['month']*4+df_auxiliar['day']//7\n",
    "\n",
    "df_auxiliar['date_block_num'] = df_auxiliar['date_block_num']-int(df_auxiliar['date_block_num'].min())+1\n",
    "\n",
    "df_auxiliar = categorical_to_numeric(df_auxiliar)\n",
    "\n",
    "df_auxiliar = columns_to_str(df_auxiliar,[\"S100\",\"item_id\",\"S101\", \"S102\",\"S103\",\"I100\",\"I101\",\"I102\",\"I103\",\"C100\",\"C101\"])\n",
    "\n",
    "df_sales, df_submission_sample = df_auxiliar[:N_sales], df_auxiliar[N_sales:]\n",
    "print(df_sales.shape,df_submission_sample.shape)"
   ]
  },
  {
   "cell_type": "code",
   "execution_count": 50,
   "id": "c731601a",
   "metadata": {
    "collapsed": false,
    "gradient": {
     "editing": false,
     "execution_count": 10,
     "id": "f8322de9-3950-4fd4-a66d-2953a1935716",
     "kernelId": "db0b7ca0-c10b-4a39-8e4f-561906e587a6",
     "source_hidden": false
    },
    "jupyter": {
     "outputs_hidden": false
    }
   },
   "outputs": [
    {
     "name": "stdout",
     "output_type": "stream",
     "text": [
      "{'day', 'day_of_week', 'S100', 'item_id', 'day_of_year', 'C101', 'month', 'I101', 'I103', 'is_quarter_start', 'is_month_end', 'S102', 'ID', 'date_block_num', 'S101', 'C100', 'is_month_start', 'is_year_start', 'year', 'S103', 'I100', 'I102'}\n"
     ]
    }
   ],
   "source": [
    "features_names = set(df_sales.columns)-set(['QTT','DATE'])\n",
    "print(features_names)"
   ]
  },
  {
   "cell_type": "code",
   "execution_count": 51,
   "id": "4323eddf",
   "metadata": {
    "collapsed": false,
    "gradient": {
     "editing": false,
     "execution_count": 11,
     "id": "a433b70a-80cd-4efe-95ba-16864a29ccc0",
     "kernelId": "db0b7ca0-c10b-4a39-8e4f-561906e587a6",
     "source_hidden": false
    },
    "jupyter": {
     "outputs_hidden": false
    }
   },
   "outputs": [
    {
     "data": {
      "text/plain": [
       "0          1\n",
       "1          1\n",
       "2          1\n",
       "3          1\n",
       "4          1\n",
       "        ... \n",
       "69116    231\n",
       "69117    233\n",
       "69118    233\n",
       "69119    230\n",
       "69120    233\n",
       "Name: date_block_num, Length: 2818490, dtype: int64"
      ]
     },
     "execution_count": 51,
     "metadata": {},
     "output_type": "execute_result"
    }
   ],
   "source": [
    "df_auxiliar['date_block_num']"
   ]
  },
  {
   "cell_type": "code",
   "execution_count": 52,
   "id": "0dff4f5d",
   "metadata": {
    "collapsed": false,
    "gradient": {
     "editing": false,
     "execution_count": 11,
     "id": "55edb339-69dd-4c28-bd3d-15788188525d",
     "kernelId": "db0b7ca0-c10b-4a39-8e4f-561906e587a6",
     "source_hidden": false
    },
    "jupyter": {
     "outputs_hidden": false
    }
   },
   "outputs": [
    {
     "data": {
      "text/plain": [
       "(Timestamp('2021-10-03 00:00:00'), Timestamp('2021-11-21 00:00:00'))"
      ]
     },
     "execution_count": 52,
     "metadata": {},
     "output_type": "execute_result"
    }
   ],
   "source": [
    "df_submission_sample['DATE'].min(),df_submission_sample['DATE'].max()"
   ]
  },
  {
   "cell_type": "code",
   "execution_count": 53,
   "id": "317de299",
   "metadata": {},
   "outputs": [],
   "source": [
    "#df_sales2 = df_sales[df_sales['QTT']<=15].copy()"
   ]
  },
  {
   "cell_type": "code",
   "execution_count": 54,
   "id": "c1687263",
   "metadata": {},
   "outputs": [],
   "source": [
    "#df_submission_sample = df_submission_sample[df_submission_sample['S100']==0]"
   ]
  },
  {
   "cell_type": "raw",
   "id": "a8b732a1",
   "metadata": {
    "gradient": {
     "editing": false,
     "execution_count": 12,
     "id": "d8f40713-1eaa-4e17-a997-ce093c9eaedd",
     "kernelId": "db0b7ca0-c10b-4a39-8e4f-561906e587a6",
     "source_hidden": false
    },
    "jupyter": {
     "outputs_hidden": false
    }
   },
   "source": [
    "X_train      = df_sales[(df_sales['DATE'] >= '2017-01-01') & (df_sales['DATE'] < '2020-10-01')].copy()\n",
    "#X_train = X_train.sample(frac=1).reset_index(drop=True)\n",
    "X_validation = df_sales[(df_sales['DATE'] >= '2020-10-01') & (df_sales['DATE'] < '2021-03-01')].copy()\n",
    "X_test       = df_sales[(df_sales['DATE'] >= '2021-03-01') & (df_sales['DATE'] < '2021-10-03')].copy() "
   ]
  },
  {
   "cell_type": "raw",
   "id": "264f8cac",
   "metadata": {},
   "source": [
    "X_train['item_id']"
   ]
  },
  {
   "cell_type": "code",
   "execution_count": 55,
   "id": "7941b577",
   "metadata": {},
   "outputs": [],
   "source": [
    "import warnings\n",
    "import numpy as np\n",
    "import pandas as pd\n",
    "import copy\n",
    "from pathlib import Path\n",
    "import torch\n",
    "import torch.nn as nn\n",
    "\n",
    "import pytorch_lightning as pl\n",
    "from pytorch_lightning.callbacks import EarlyStopping, LearningRateMonitor\n",
    "from pytorch_lightning.loggers import TensorBoardLogger\n",
    "\n",
    "import pytorch_forecasting\n",
    "from pytorch_forecasting import Baseline, TemporalFusionTransformer, TimeSeriesDataSet\n",
    "from pytorch_forecasting.data import GroupNormalizer\n",
    "from pytorch_forecasting.metrics import SMAPE, PoissonLoss, QuantileLoss\n",
    "from pytorch_forecasting.models.temporal_fusion_transformer.tuning import optimize_hyperparameters\n",
    "\n",
    "import matplotlib.pyplot as plt\n",
    "%matplotlib inline\n",
    "import warnings\n",
    "warnings.filterwarnings(\"ignore\")"
   ]
  },
  {
   "cell_type": "code",
   "execution_count": 58,
   "id": "85e13ee8",
   "metadata": {},
   "outputs": [],
   "source": [
    "#'day_of_week', 'day', 'is_month_end', 'day_of_year',  'is_quarter_start', 'year', 'month', 'is_year_start', 'is_month_start'\n",
    "for cat_col in [\"S100\", \"item_id\",\"S101\", \"S102\",\"S103\",\"I100\",\"I101\",\"I102\",\"I103\",\"C100\",\"C101\"]:\n",
    "    df_sales[cat_col]             = df_sales[cat_col].astype(str).astype('category')\n",
    "    df_submission_sample[cat_col] = df_submission_sample[cat_col].astype(str).astype('category')\n"
   ]
  },
  {
   "cell_type": "code",
   "execution_count": 59,
   "id": "305072db",
   "metadata": {},
   "outputs": [
    {
     "data": {
      "text/plain": [
       "DATE                datetime64[ns]\n",
       "S100                      category\n",
       "I100                      category\n",
       "C100                      category\n",
       "C101                      category\n",
       "QTT                          int64\n",
       "item_id                   category\n",
       "year                         int64\n",
       "month                        int64\n",
       "day                          int64\n",
       "day_of_week                  int64\n",
       "day_of_year                  int64\n",
       "is_year_start                 bool\n",
       "is_quarter_start              bool\n",
       "is_month_start                bool\n",
       "is_month_end                  bool\n",
       "I101                      category\n",
       "I102                      category\n",
       "I103                      category\n",
       "S101                      category\n",
       "S102                      category\n",
       "S103                      category\n",
       "ID                           int64\n",
       "date_block_num               int64\n",
       "dtype: object"
      ]
     },
     "execution_count": 59,
     "metadata": {},
     "output_type": "execute_result"
    }
   ],
   "source": [
    "df_sales.dtypes"
   ]
  },
  {
   "cell_type": "code",
   "execution_count": 61,
   "id": "1527b5e5",
   "metadata": {},
   "outputs": [],
   "source": []
  },
  {
   "cell_type": "code",
   "execution_count": 62,
   "id": "3ae36f6b",
   "metadata": {},
   "outputs": [
    {
     "ename": "KeyboardInterrupt",
     "evalue": "",
     "output_type": "error",
     "traceback": [
      "\u001b[0;31m---------------------------------------------------------------------------\u001b[0m",
      "\u001b[0;31mKeyboardInterrupt\u001b[0m                         Traceback (most recent call last)",
      "\u001b[0;32m/tmp/ipykernel_2897/1047033416.py\u001b[0m in \u001b[0;36m<module>\u001b[0;34m\u001b[0m\n\u001b[1;32m      7\u001b[0m \u001b[0mtraining_cutoff\u001b[0m \u001b[0;34m=\u001b[0m \u001b[0mdf_sales\u001b[0m\u001b[0;34m[\u001b[0m\u001b[0;34m'date_block_num'\u001b[0m\u001b[0;34m]\u001b[0m\u001b[0;34m.\u001b[0m\u001b[0mmax\u001b[0m\u001b[0;34m(\u001b[0m\u001b[0;34m)\u001b[0m \u001b[0;34m-\u001b[0m \u001b[0mmax_prediction_length\u001b[0m\u001b[0;34m\u001b[0m\u001b[0;34m\u001b[0m\u001b[0m\n\u001b[1;32m      8\u001b[0m \u001b[0;34m\u001b[0m\u001b[0m\n\u001b[0;32m----> 9\u001b[0;31m training = TimeSeriesDataSet(\n\u001b[0m\u001b[1;32m     10\u001b[0m     \u001b[0mdf_sales\u001b[0m\u001b[0;34m[\u001b[0m\u001b[0;32mlambda\u001b[0m \u001b[0mx\u001b[0m\u001b[0;34m:\u001b[0m \u001b[0mx\u001b[0m\u001b[0;34m[\u001b[0m\u001b[0;34m'date_block_num'\u001b[0m\u001b[0;34m]\u001b[0m \u001b[0;34m<=\u001b[0m \u001b[0mtraining_cutoff\u001b[0m\u001b[0;34m]\u001b[0m\u001b[0;34m,\u001b[0m\u001b[0;34m\u001b[0m\u001b[0;34m\u001b[0m\u001b[0m\n\u001b[1;32m     11\u001b[0m     \u001b[0mtime_idx\u001b[0m\u001b[0;34m=\u001b[0m\u001b[0;34m'date_block_num'\u001b[0m\u001b[0;34m,\u001b[0m\u001b[0;34m\u001b[0m\u001b[0;34m\u001b[0m\u001b[0m\n",
      "\u001b[0;32m/opt/conda/lib/python3.8/site-packages/pytorch_forecasting/data/timeseries.py\u001b[0m in \u001b[0;36m__init__\u001b[0;34m(self, data, time_idx, target, group_ids, weight, max_encoder_length, min_encoder_length, min_prediction_idx, min_prediction_length, max_prediction_length, static_categoricals, static_reals, time_varying_known_categoricals, time_varying_known_reals, time_varying_unknown_categoricals, time_varying_unknown_reals, variable_groups, constant_fill_strategy, allow_missing_timesteps, lags, add_relative_time_idx, add_target_scales, add_encoder_length, target_normalizer, categorical_encoders, scalers, randomize_length, predict_mode)\u001b[0m\n\u001b[1;32m    432\u001b[0m \u001b[0;34m\u001b[0m\u001b[0m\n\u001b[1;32m    433\u001b[0m         \u001b[0;31m# preprocess data\u001b[0m\u001b[0;34m\u001b[0m\u001b[0;34m\u001b[0m\u001b[0;34m\u001b[0m\u001b[0m\n\u001b[0;32m--> 434\u001b[0;31m         \u001b[0mdata\u001b[0m \u001b[0;34m=\u001b[0m \u001b[0mself\u001b[0m\u001b[0;34m.\u001b[0m\u001b[0m_preprocess_data\u001b[0m\u001b[0;34m(\u001b[0m\u001b[0mdata\u001b[0m\u001b[0;34m)\u001b[0m\u001b[0;34m\u001b[0m\u001b[0;34m\u001b[0m\u001b[0m\n\u001b[0m\u001b[1;32m    435\u001b[0m         \u001b[0;32mfor\u001b[0m \u001b[0mtarget\u001b[0m \u001b[0;32min\u001b[0m \u001b[0mself\u001b[0m\u001b[0;34m.\u001b[0m\u001b[0mtarget_names\u001b[0m\u001b[0;34m:\u001b[0m\u001b[0;34m\u001b[0m\u001b[0;34m\u001b[0m\u001b[0m\n\u001b[1;32m    436\u001b[0m             \u001b[0;32massert\u001b[0m \u001b[0mtarget\u001b[0m \u001b[0;32mnot\u001b[0m \u001b[0;32min\u001b[0m \u001b[0mself\u001b[0m\u001b[0;34m.\u001b[0m\u001b[0mscalers\u001b[0m\u001b[0;34m,\u001b[0m \u001b[0;34m\"Target normalizer is separate and not in scalers.\"\u001b[0m\u001b[0;34m\u001b[0m\u001b[0;34m\u001b[0m\u001b[0m\n",
      "\u001b[0;32m/opt/conda/lib/python3.8/site-packages/pytorch_forecasting/data/timeseries.py\u001b[0m in \u001b[0;36m_preprocess_data\u001b[0;34m(self, data)\u001b[0m\n\u001b[1;32m    688\u001b[0m             \u001b[0;31m# targets and its lagged versions are handled separetely\u001b[0m\u001b[0;34m\u001b[0m\u001b[0;34m\u001b[0m\u001b[0;34m\u001b[0m\u001b[0m\n\u001b[1;32m    689\u001b[0m             \u001b[0;32mif\u001b[0m \u001b[0mname\u001b[0m \u001b[0;32mnot\u001b[0m \u001b[0;32min\u001b[0m \u001b[0mself\u001b[0m\u001b[0;34m.\u001b[0m\u001b[0mtarget_names\u001b[0m \u001b[0;32mand\u001b[0m \u001b[0mname\u001b[0m \u001b[0;32mnot\u001b[0m \u001b[0;32min\u001b[0m \u001b[0mself\u001b[0m\u001b[0;34m.\u001b[0m\u001b[0mlagged_targets\u001b[0m\u001b[0;34m:\u001b[0m\u001b[0;34m\u001b[0m\u001b[0;34m\u001b[0m\u001b[0m\n\u001b[0;32m--> 690\u001b[0;31m                 data[name] = self.transform_values(\n\u001b[0m\u001b[1;32m    691\u001b[0m                     \u001b[0mname\u001b[0m\u001b[0;34m,\u001b[0m \u001b[0mdata\u001b[0m\u001b[0;34m[\u001b[0m\u001b[0mname\u001b[0m\u001b[0;34m]\u001b[0m\u001b[0;34m,\u001b[0m \u001b[0minverse\u001b[0m\u001b[0;34m=\u001b[0m\u001b[0;32mFalse\u001b[0m\u001b[0;34m,\u001b[0m \u001b[0mignore_na\u001b[0m\u001b[0;34m=\u001b[0m\u001b[0mname\u001b[0m \u001b[0;32min\u001b[0m \u001b[0mself\u001b[0m\u001b[0;34m.\u001b[0m\u001b[0mlagged_variables\u001b[0m\u001b[0;34m\u001b[0m\u001b[0;34m\u001b[0m\u001b[0m\n\u001b[1;32m    692\u001b[0m                 )\n",
      "\u001b[0;32m/opt/conda/lib/python3.8/site-packages/pytorch_forecasting/data/timeseries.py\u001b[0m in \u001b[0;36mtransform_values\u001b[0;34m(self, name, values, data, inverse, group_id, **kwargs)\u001b[0m\n\u001b[1;32m    891\u001b[0m         \u001b[0;31m# remaining categories\u001b[0m\u001b[0;34m\u001b[0m\u001b[0;34m\u001b[0m\u001b[0;34m\u001b[0m\u001b[0m\n\u001b[1;32m    892\u001b[0m         \u001b[0;32mif\u001b[0m \u001b[0mname\u001b[0m \u001b[0;32min\u001b[0m \u001b[0mself\u001b[0m\u001b[0;34m.\u001b[0m\u001b[0mflat_categoricals\u001b[0m \u001b[0;34m+\u001b[0m \u001b[0mself\u001b[0m\u001b[0;34m.\u001b[0m\u001b[0mgroup_ids\u001b[0m \u001b[0;34m+\u001b[0m \u001b[0mself\u001b[0m\u001b[0;34m.\u001b[0m\u001b[0m_group_ids\u001b[0m\u001b[0;34m:\u001b[0m\u001b[0;34m\u001b[0m\u001b[0;34m\u001b[0m\u001b[0m\n\u001b[0;32m--> 893\u001b[0;31m             \u001b[0;32mreturn\u001b[0m \u001b[0mtransform\u001b[0m\u001b[0;34m(\u001b[0m\u001b[0mvalues\u001b[0m\u001b[0;34m,\u001b[0m \u001b[0;34m**\u001b[0m\u001b[0mkwargs\u001b[0m\u001b[0;34m)\u001b[0m\u001b[0;34m\u001b[0m\u001b[0;34m\u001b[0m\u001b[0m\n\u001b[0m\u001b[1;32m    894\u001b[0m \u001b[0;34m\u001b[0m\u001b[0m\n\u001b[1;32m    895\u001b[0m         \u001b[0;31m# reals\u001b[0m\u001b[0;34m\u001b[0m\u001b[0;34m\u001b[0m\u001b[0;34m\u001b[0m\u001b[0m\n",
      "\u001b[0;32m/opt/conda/lib/python3.8/site-packages/pytorch_forecasting/data/encoders.py\u001b[0m in \u001b[0;36mtransform\u001b[0;34m(self, y, return_norm, target_scale, ignore_na)\u001b[0m\n\u001b[1;32m    139\u001b[0m             \u001b[0mencoded\u001b[0m \u001b[0;34m=\u001b[0m \u001b[0mtorch\u001b[0m\u001b[0;34m.\u001b[0m\u001b[0mtensor\u001b[0m\u001b[0;34m(\u001b[0m\u001b[0mencoded\u001b[0m\u001b[0;34m,\u001b[0m \u001b[0mdtype\u001b[0m\u001b[0;34m=\u001b[0m\u001b[0mtorch\u001b[0m\u001b[0;34m.\u001b[0m\u001b[0mlong\u001b[0m\u001b[0;34m,\u001b[0m \u001b[0mdevice\u001b[0m\u001b[0;34m=\u001b[0m\u001b[0my\u001b[0m\u001b[0;34m.\u001b[0m\u001b[0mdevice\u001b[0m\u001b[0;34m)\u001b[0m\u001b[0;34m\u001b[0m\u001b[0;34m\u001b[0m\u001b[0m\n\u001b[1;32m    140\u001b[0m         \u001b[0;32melse\u001b[0m\u001b[0;34m:\u001b[0m\u001b[0;34m\u001b[0m\u001b[0;34m\u001b[0m\u001b[0m\n\u001b[0;32m--> 141\u001b[0;31m             \u001b[0mencoded\u001b[0m \u001b[0;34m=\u001b[0m \u001b[0mnp\u001b[0m\u001b[0;34m.\u001b[0m\u001b[0marray\u001b[0m\u001b[0;34m(\u001b[0m\u001b[0mencoded\u001b[0m\u001b[0;34m)\u001b[0m\u001b[0;34m\u001b[0m\u001b[0;34m\u001b[0m\u001b[0m\n\u001b[0m\u001b[1;32m    142\u001b[0m \u001b[0;34m\u001b[0m\u001b[0m\n\u001b[1;32m    143\u001b[0m         \u001b[0;32mif\u001b[0m \u001b[0mreturn_norm\u001b[0m\u001b[0;34m:\u001b[0m\u001b[0;34m\u001b[0m\u001b[0;34m\u001b[0m\u001b[0m\n",
      "\u001b[0;31mKeyboardInterrupt\u001b[0m: "
     ]
    }
   ],
   "source": [
    "#'day_of_week', 'day', 'is_month_end', 'day_of_year',  'is_quarter_start', 'year', 'month', 'is_year_start', 'is_month_start', \n",
    "# 'I103','S103', 'C101','I100' , 'C100', 'ID', 'I102','S102',, 'S101', 'S100', 'item_id', 'date_block_num', 'I101'\n",
    "max_prediction_length = 6\n",
    "\n",
    "max_encoder_length = 27\n",
    "\n",
    "training_cutoff = df_sales['date_block_num'].max() - max_prediction_length\n",
    "\n",
    "training = TimeSeriesDataSet(\n",
    "    df_sales[lambda x: x['date_block_num'] <= training_cutoff],\n",
    "    time_idx='date_block_num',\n",
    "    target=\"QTT\",\n",
    "    group_ids=[\"S100\", \"item_id\"],\n",
    "    min_encoder_length=0,  \n",
    "    max_encoder_length=max_encoder_length,\n",
    "    min_prediction_length=1,\n",
    "    max_prediction_length=max_prediction_length,\n",
    "    static_categoricals=[\"S101\", \"S102\",\"S103\",\"I100\",\"I101\",\"I102\",\"I103\",\"C100\",\"C101\"],\n",
    "    static_reals=[\"S100\", \"item_id\",'day_of_week', 'day', 'is_month_end', 'day_of_year',  'is_quarter_start', 'year', 'month', 'is_year_start', 'is_month_start'],\n",
    "    time_varying_known_categoricals=[],  \n",
    "    time_varying_known_reals=['date_block_num'],\n",
    "    time_varying_unknown_categoricals=[],\n",
    "    time_varying_unknown_reals=['date_block_num'],\n",
    "    categorical_encoders={'S100': pytorch_forecasting.data.encoders.NaNLabelEncoder(add_nan=True),\n",
    "                          'item_id':pytorch_forecasting.data.encoders.NaNLabelEncoder(add_nan=True)},\n",
    "    add_relative_time_idx=True,\n",
    "    add_target_scales=True,\n",
    "    add_encoder_length=True,\n",
    "    allow_missing_timesteps=True\n",
    "    \n",
    ")"
   ]
  },
  {
   "cell_type": "code",
   "execution_count": null,
   "id": "dd791aa5",
   "metadata": {},
   "outputs": [],
   "source": [
    "validation = TimeSeriesDataSet.from_dataset(training, df_sales, predict=True, stop_randomization=True)\n",
    "batch_size = 128\n",
    "train_dataloader = training.to_dataloader(train=True, batch_size=batch_size, num_workers=0)\n",
    "val_dataloader   = validation.to_dataloader(train=False, batch_size=batch_size * 10, num_workers=0)"
   ]
  },
  {
   "cell_type": "code",
   "execution_count": null,
   "id": "75da5e9b",
   "metadata": {},
   "outputs": [],
   "source": [
    "# configure network and trainer\n",
    "pl.seed_everything(42)\n",
    "trainer = pl.Trainer(\n",
    "    gpus=1,\n",
    "    # clipping gradients is a hyperparameter and important to prevent divergance\n",
    "    # of the gradient for recurrent neural networks\n",
    "    gradient_clip_val=0.1,\n",
    ")\n",
    "\n",
    "\n",
    "tft = TemporalFusionTransformer.from_dataset(\n",
    "    training,\n",
    "    # not meaningful for finding the learning rate but otherwise very important\n",
    "    learning_rate=0.03,\n",
    "    hidden_size=16,  # most important hyperparameter apart from learning rate\n",
    "    # number of attention heads. Set to up to 4 for large datasets\n",
    "    attention_head_size=1,\n",
    "    dropout=0.1,  # between 0.1 and 0.3 are good values\n",
    "    hidden_continuous_size=8,  # set to <= hidden_size\n",
    "    output_size=1,  # 7 quantiles by default\n",
    "    loss=pytorch_forecasting.metrics.RMSE(),\n",
    "    # reduce learning rate if no improvement in validation loss after x epochs\n",
    "    reduce_on_plateau_patience=4,\n",
    ")\n",
    "print(f\"Number of parameters in network: {tft.size()/1e3:.1f}k\")"
   ]
  },
  {
   "cell_type": "code",
   "execution_count": null,
   "id": "ae903799",
   "metadata": {
    "scrolled": true,
    "tags": []
   },
   "outputs": [],
   "source": [
    "# find optimal learning rate\n",
    "res = trainer.tuner.lr_find(\n",
    "    tft,\n",
    "    train_dataloader=train_dataloader,\n",
    "    val_dataloaders=val_dataloader,\n",
    "    max_lr=0.1,\n",
    "    min_lr=1e-7,\n",
    ")\n",
    "\n",
    "print(f\"suggested learning rate: {res.suggestion()}\")\n",
    "fig = res.plot(show=True, suggest=True)\n",
    "fig.show()"
   ]
  },
  {
   "cell_type": "code",
   "execution_count": null,
   "id": "ee0994bd",
   "metadata": {},
   "outputs": [],
   "source": [
    "early_stop_callback = EarlyStopping(monitor=\"val_loss\", min_delta=1e-7, patience=10, verbose=False, mode=\"min\")\n",
    "lr_logger = LearningRateMonitor()  \n",
    "logger = TensorBoardLogger(\"lightning_logs\") \n",
    "\n",
    "trainer = pl.Trainer(\n",
    "    max_epochs=100,\n",
    "    gpus=1,\n",
    "    weights_summary=\"top\",\n",
    "    gradient_clip_val=0.1,\n",
    "    limit_train_batches=30,  \n",
    "    callbacks=[lr_logger, early_stop_callback],\n",
    "    logger=logger,\n",
    ")\n",
    "\n",
    "\n",
    "tft = TemporalFusionTransformer.from_dataset(\n",
    "    training,\n",
    "    learning_rate=5e-7,\n",
    "    hidden_size=16,\n",
    "    attention_head_size=1,\n",
    "    dropout=0.1,\n",
    "    hidden_continuous_size=8,\n",
    "    output_size=1, \n",
    "    loss=pytorch_forecasting.metrics.RMSE(),\n",
    "    log_interval=10,  \n",
    "    reduce_on_plateau_patience=4,\n",
    ")\n",
    "print(f\"Number of parameters in network: {tft.size()/1e3:.1f}k\")"
   ]
  },
  {
   "cell_type": "code",
   "execution_count": null,
   "id": "cd962df3",
   "metadata": {
    "scrolled": true,
    "tags": []
   },
   "outputs": [],
   "source": [
    "# fit network\n",
    "trainer.fit(\n",
    "    tft,\n",
    "    train_dataloader=train_dataloader,\n",
    "    val_dataloaders=val_dataloader,\n",
    ")"
   ]
  },
  {
   "cell_type": "code",
   "execution_count": null,
   "id": "cf51506a",
   "metadata": {},
   "outputs": [],
   "source": [
    "# load the best model according to the validation loss\n",
    "# (given that we use early stopping, this is not necessarily the last epoch)\n",
    "best_model_path = trainer.checkpoint_callback.best_model_path\n",
    "print(best_model_path)\n",
    "best_tft = TemporalFusionTransformer.load_from_checkpoint(best_model_path)"
   ]
  },
  {
   "cell_type": "code",
   "execution_count": null,
   "id": "589e813d",
   "metadata": {},
   "outputs": [],
   "source": [
    "# calcualte root mean squared error on validation set\n",
    "actuals = torch.cat([y[0] for x, y in iter(val_dataloader)])\n",
    "val_predictions = best_tft.predict(val_dataloader)"
   ]
  },
  {
   "cell_type": "code",
   "execution_count": null,
   "id": "7d16cf45",
   "metadata": {},
   "outputs": [],
   "source": [
    "criterion = nn.MSELoss()\n",
    "torch.sqrt(criterion(actuals,val_predictions))"
   ]
  },
  {
   "cell_type": "code",
   "execution_count": null,
   "id": "afff52f4",
   "metadata": {},
   "outputs": [],
   "source": [
    "for x, y in iter(val_dataloader):\n",
    "    break"
   ]
  },
  {
   "cell_type": "code",
   "execution_count": 31,
   "id": "b2c70faf",
   "metadata": {},
   "outputs": [
    {
     "ename": "NameError",
     "evalue": "name 'X_train' is not defined",
     "output_type": "error",
     "traceback": [
      "\u001b[0;31m---------------------------------------------------------------------------\u001b[0m",
      "\u001b[0;31mNameError\u001b[0m                                 Traceback (most recent call last)",
      "\u001b[0;32m/tmp/ipykernel_3036/189608203.py\u001b[0m in \u001b[0;36m<module>\u001b[0;34m\u001b[0m\n\u001b[0;32m----> 1\u001b[0;31m \u001b[0mX_train\u001b[0m\u001b[0;34m[\u001b[0m\u001b[0;34m[\u001b[0m\u001b[0;34m\"S100\"\u001b[0m\u001b[0;34m,\u001b[0m\u001b[0;34m\"item_id\"\u001b[0m\u001b[0;34m,\u001b[0m\u001b[0;34m\"S101\"\u001b[0m\u001b[0;34m,\u001b[0m \u001b[0;34m\"S102\"\u001b[0m\u001b[0;34m,\u001b[0m\u001b[0;34m\"S103\"\u001b[0m\u001b[0;34m,\u001b[0m\u001b[0;34m\"I100\"\u001b[0m\u001b[0;34m,\u001b[0m\u001b[0;34m\"I101\"\u001b[0m\u001b[0;34m,\u001b[0m\u001b[0;34m\"I102\"\u001b[0m\u001b[0;34m,\u001b[0m\u001b[0;34m\"I103\"\u001b[0m\u001b[0;34m,\u001b[0m\u001b[0;34m\"C100\"\u001b[0m\u001b[0;34m,\u001b[0m\u001b[0;34m\"C101\"\u001b[0m\u001b[0;34m]\u001b[0m\u001b[0;34m]\u001b[0m\u001b[0;34m\u001b[0m\u001b[0;34m\u001b[0m\u001b[0m\n\u001b[0m",
      "\u001b[0;31mNameError\u001b[0m: name 'X_train' is not defined"
     ]
    }
   ],
   "source": [
    "X_train[[\"S100\",\"item_id\",\"S101\", \"S102\",\"S103\",\"I100\",\"I101\",\"I102\",\"I103\",\"C100\",\"C101\"]]"
   ]
  },
  {
   "cell_type": "code",
   "execution_count": null,
   "id": "f609c961",
   "metadata": {},
   "outputs": [],
   "source": [
    "x['encoder_cat'][0]"
   ]
  },
  {
   "cell_type": "code",
   "execution_count": null,
   "id": "3cfab196",
   "metadata": {},
   "outputs": [],
   "source": []
  },
  {
   "cell_type": "code",
   "execution_count": null,
   "id": "81447329",
   "metadata": {},
   "outputs": [],
   "source": []
  },
  {
   "cell_type": "code",
   "execution_count": null,
   "id": "a111dfc0",
   "metadata": {},
   "outputs": [],
   "source": []
  },
  {
   "cell_type": "code",
   "execution_count": null,
   "id": "e8421ec8",
   "metadata": {
    "collapsed": false,
    "gradient": {
     "editing": false,
     "id": "21c36cc8-30df-462d-9b0f-72850735c603",
     "kernelId": "db0b7ca0-c10b-4a39-8e4f-561906e587a6",
     "source_hidden": false
    },
    "jupyter": {
     "outputs_hidden": false
    }
   },
   "outputs": [],
   "source": [
    "X_train_pred      = gbm.predict(X_train, num_iteration=gbm.best_iteration_)\n",
    "X_validation_pred = gbm.predict(X_validation, num_iteration=gbm.best_iteration_)\n",
    "X_test_pred       = gbm.predict(X_test, num_iteration=gbm.best_iteration_)\n",
    "\n",
    "X_submission_pred = gbm.predict(X_submission, num_iteration=gbm.best_iteration_)"
   ]
  },
  {
   "cell_type": "code",
   "execution_count": null,
   "id": "9bc0b9ac",
   "metadata": {
    "collapsed": false,
    "gradient": {
     "editing": false,
     "id": "b14aeda1-ddf9-4eaa-b89c-caab3e47e4e6",
     "kernelId": "db0b7ca0-c10b-4a39-8e4f-561906e587a6",
     "source_hidden": false
    },
    "jupyter": {
     "outputs_hidden": false
    }
   },
   "outputs": [],
   "source": [
    "from sklearn.metrics import mean_squared_error\n",
    "\n",
    "X_train_pred = np.maximum(X_train_pred, 0)\n",
    "X_validation_pred = np.maximum(X_validation_pred, 0)\n",
    "X_test_pred = np.maximum(X_test_pred, 0)\n",
    "X_submission_pred = np.maximum(X_submission_pred, 0)\n",
    "\n",
    "df_train_rmse = mean_squared_error(y_train,X_train_pred, squared=False)\n",
    "df_val_rmse   = mean_squared_error(y_validation,X_validation_pred, squared=False)\n",
    "df_test_rmse  = mean_squared_error(y_test,X_test_pred, squared=False)\n",
    "\n",
    "print('Final score mean_squared_error')\n",
    "print('Score train:',df_train_rmse)\n",
    "print('Score val  :',df_val_rmse)\n",
    "print('Score test :',df_test_rmse)"
   ]
  },
  {
   "cell_type": "code",
   "execution_count": null,
   "id": "a25c708d",
   "metadata": {},
   "outputs": [],
   "source": [
    "#X_test_pred[0] = 200"
   ]
  },
  {
   "cell_type": "code",
   "execution_count": null,
   "id": "3c9cac09",
   "metadata": {
    "collapsed": false,
    "gradient": {
     "editing": false,
     "id": "2640bd06-d755-479c-a622-4771d4dc9543",
     "kernelId": "db0b7ca0-c10b-4a39-8e4f-561906e587a6",
     "source_hidden": false
    },
    "jupyter": {
     "outputs_hidden": false
    }
   },
   "outputs": [],
   "source": [
    "import matplotlib.pyplot as plt\n",
    "\n",
    "fig = plt.figure(figsize=(20,8))\n",
    "plt.plot(X_test_pred,'b', alpha=0.7)\n",
    "plt.plot(y_test.values,'r', alpha=0.4)\n",
    "plt.legend([\"prediction\", \"real\"], loc =\"upper right\")\n",
    "\n",
    "plt.show()"
   ]
  },
  {
   "cell_type": "code",
   "execution_count": null,
   "id": "0734641f",
   "metadata": {
    "collapsed": false,
    "gradient": {
     "editing": false,
     "id": "f9e2ce69-487f-4ab0-a211-615806012578",
     "kernelId": "db0b7ca0-c10b-4a39-8e4f-561906e587a6",
     "source_hidden": false
    },
    "jupyter": {
     "outputs_hidden": false
    }
   },
   "outputs": [],
   "source": [
    "df_submission_sample.reset_index(drop=True,inplace=True)\n",
    "df_submission_sample['QTT'] = X_submission_pred\n",
    "df_submission_sample.head()"
   ]
  },
  {
   "cell_type": "code",
   "execution_count": null,
   "id": "3e2f757c",
   "metadata": {
    "collapsed": false,
    "gradient": {
     "editing": false,
     "id": "41519149-3412-4c67-9239-c192176833dc",
     "kernelId": "db0b7ca0-c10b-4a39-8e4f-561906e587a6",
     "source_hidden": false
    },
    "jupyter": {
     "outputs_hidden": false
    }
   },
   "outputs": [],
   "source": [
    "filename_submission= 'submission_NOFILL_good_'+str(np.round(df_test_rmse,4))+'_local.csv'\n",
    "save = False\n",
    "if save:\n",
    "    print('saving..')\n",
    "    print(filename_submission)\n",
    "    df_submission_sample[['ID','QTT']].to_csv(os.path.join(PATH_RESULTS,'submissions','no_fill',filename_submission),index=None)"
   ]
  },
  {
   "cell_type": "code",
   "execution_count": null,
   "id": "f236972c",
   "metadata": {
    "collapsed": false,
    "gradient": {
     "editing": false,
     "id": "f0b59901-c795-46f7-a6bd-53163aa7144f",
     "kernelId": "db0b7ca0-c10b-4a39-8e4f-561906e587a6",
     "source_hidden": false
    },
    "jupyter": {
     "outputs_hidden": false
    }
   },
   "outputs": [],
   "source": [
    "result = pd.read_csv(os.path.join(PATH_RESULTS,'submissions','submission_2.1046_local.csv'))"
   ]
  },
  {
   "cell_type": "code",
   "execution_count": null,
   "id": "d1f96dee",
   "metadata": {
    "collapsed": false,
    "gradient": {
     "editing": false,
     "id": "56aeb886-46d0-4704-8a18-16f8434c0008",
     "kernelId": "db0b7ca0-c10b-4a39-8e4f-561906e587a6",
     "source_hidden": false
    },
    "jupyter": {
     "outputs_hidden": false
    }
   },
   "outputs": [],
   "source": [
    "df_submission_sample['QTT_reference']= result['QTT'].copy()\n",
    "df_submission_sample[['QTT_reference','QTT']][-20:]"
   ]
  },
  {
   "cell_type": "code",
   "execution_count": null,
   "id": "36a58267",
   "metadata": {
    "collapsed": false,
    "gradient": {
     "editing": false,
     "id": "5bf18c7d-3a3f-4b35-9e8a-a0f3df40650f",
     "kernelId": "db0b7ca0-c10b-4a39-8e4f-561906e587a6",
     "source_hidden": false
    },
    "jupyter": {
     "outputs_hidden": false
    }
   },
   "outputs": [],
   "source": [
    "fig = plt.figure(figsize=(20,8))\n",
    "plt.plot(df_submission_sample['QTT'],'b', alpha=0.7)\n",
    "plt.plot(result['QTT'],'r', alpha=0.4)\n",
    "plt.legend([\"prediction\", \"real\"], loc =\"upper right\")\n",
    "plt.show()"
   ]
  },
  {
   "cell_type": "code",
   "execution_count": null,
   "id": "2d666633",
   "metadata": {},
   "outputs": [],
   "source": [
    "difference = mean_squared_error(df_submission_sample['QTT'],result['QTT'], squared=False)\n",
    "\n",
    "print('Final score mean_squared_error')\n",
    "print('Score train:',difference)"
   ]
  },
  {
   "cell_type": "code",
   "execution_count": null,
   "id": "0cc00a2b",
   "metadata": {},
   "outputs": [],
   "source": []
  },
  {
   "cell_type": "code",
   "execution_count": null,
   "id": "44726cdf",
   "metadata": {},
   "outputs": [],
   "source": []
  },
  {
   "cell_type": "code",
   "execution_count": null,
   "id": "61b4e616",
   "metadata": {},
   "outputs": [],
   "source": []
  },
  {
   "cell_type": "code",
   "execution_count": null,
   "id": "517c0bab",
   "metadata": {},
   "outputs": [],
   "source": []
  },
  {
   "cell_type": "code",
   "execution_count": null,
   "id": "3fc86cbf",
   "metadata": {},
   "outputs": [],
   "source": []
  },
  {
   "cell_type": "code",
   "execution_count": null,
   "id": "310c448a",
   "metadata": {},
   "outputs": [],
   "source": []
  },
  {
   "cell_type": "code",
   "execution_count": null,
   "id": "2aef8bbb",
   "metadata": {},
   "outputs": [],
   "source": []
  }
 ],
 "metadata": {
  "kernelspec": {
   "display_name": "Python 3 (ipykernel)",
   "language": "python",
   "name": "python3"
  },
  "language_info": {
   "codemirror_mode": {
    "name": "ipython",
    "version": 3
   },
   "file_extension": ".py",
   "mimetype": "text/x-python",
   "name": "python",
   "nbconvert_exporter": "python",
   "pygments_lexer": "ipython3",
   "version": "3.8.12"
  }
 },
 "nbformat": 4,
 "nbformat_minor": 5
}
