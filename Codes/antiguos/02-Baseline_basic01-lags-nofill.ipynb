{
 "cells": [
  {
   "cell_type": "code",
   "execution_count": 1,
   "id": "a5aa0112",
   "metadata": {
    "collapsed": false,
    "gradient": {
     "editing": false,
     "id": "712ffa80",
     "kernelId": "cb40c0d7-fd9c-42da-9b82-284ee8e2c9c3",
     "source_hidden": false
    },
    "jupyter": {
     "outputs_hidden": false
    }
   },
   "outputs": [],
   "source": [
    "import sys\n",
    "sys.path.insert(1, '../Src')\n",
    "import numpy as np\n",
    "\n",
    "import pandas as pd\n",
    "\n",
    "import os\n",
    "from utils.feature_engineering import *\n",
    "from utils.preprocessing import *\n",
    "import gc\n",
    "import tqdm\n",
    "from utils.analysis import *\n",
    "import matplotlib.pyplot as plt\n",
    "\n",
    "PATH_DATASET = '../Dataset/'\n",
    "#PATH_DATASET = '../Dataset/datah-m1-challange/'\n",
    "PATH_RESULTS = '../Results/'"
   ]
  },
  {
   "cell_type": "markdown",
   "id": "533145c1",
   "metadata": {
    "gradient": {
     "editing": false,
     "id": "a3480b54",
     "kernelId": "cb40c0d7-fd9c-42da-9b82-284ee8e2c9c3"
    }
   },
   "source": [
    "# loading dataset"
   ]
  },
  {
   "cell_type": "code",
   "execution_count": 2,
   "id": "86b5b7ba",
   "metadata": {},
   "outputs": [],
   "source": [
    "df_sales  = pd.read_pickle(os.path.join(PATH_RESULTS,'dataset','sales.pkl'))\n",
    "df_items  = pd.read_pickle(os.path.join(PATH_RESULTS,'dataset','item.pkl'))\n",
    "df_stores = pd.read_pickle(os.path.join(PATH_RESULTS,'dataset','store.pkl'))\n",
    "\n",
    "df_submission_sample = pd.read_pickle(os.path.join(PATH_RESULTS,'dataset','submission_sample.pkl'))\n",
    "\n",
    "df_sales['DATE']= pd.to_datetime(df_sales['DATE'])\n",
    "\n",
    "df_submission_sample['DATE']= pd.to_datetime(df_submission_sample['DATE'])\n",
    "\n",
    "N_submission = df_submission_sample.shape[0]\n",
    "N_sales      = df_sales.shape[0]\n"
   ]
  },
  {
   "cell_type": "code",
   "execution_count": 3,
   "id": "c947774f",
   "metadata": {},
   "outputs": [
    {
     "data": {
      "text/plain": [
       "(Timestamp('2021-10-03 00:00:00'), Timestamp('2021-11-21 00:00:00'))"
      ]
     },
     "execution_count": 3,
     "metadata": {},
     "output_type": "execute_result"
    }
   ],
   "source": [
    "df_submission_sample['DATE'].min(),df_submission_sample['DATE'].max()"
   ]
  },
  {
   "cell_type": "code",
   "execution_count": 6,
   "id": "a6d18ad3",
   "metadata": {},
   "outputs": [
    {
     "name": "stdout",
     "output_type": "stream",
     "text": [
      "processing ..\n"
     ]
    },
    {
     "name": "stderr",
     "output_type": "stream",
     "text": [
      "100%|██████████| 31/31 [00:06<00:00,  4.82it/s]\n"
     ]
    },
    {
     "name": "stdout",
     "output_type": "stream",
     "text": [
      "saving ..\n",
      "completed\n"
     ]
    }
   ],
   "source": [
    "sample_sales_unique_filename = os.path.join(PATH_RESULTS,'dataset','sample_sales_unique.pkl')\n",
    "\n",
    "if os.path.exists(sample_sales_unique_filename):\n",
    "    print('already exist !')\n",
    "    sample_sales_unique = pd.read_pickle(sample_sales_unique_filename)\n",
    "else:\n",
    "    print('processing ..')\n",
    "    sample_sales_unique  = get_sample_sales_unique(df_sales,df_submission_sample)\n",
    "    print('saving ..')\n",
    "    sample_sales_unique.to_pickle(os.path.join(PATH_RESULTS,'dataset','sample_sales_unique.pkl'))\n",
    "    print('completed')"
   ]
  },
  {
   "cell_type": "code",
   "execution_count": 7,
   "id": "403ddf4c",
   "metadata": {},
   "outputs": [
    {
     "data": {
      "text/html": [
       "<div>\n",
       "<style scoped>\n",
       "    .dataframe tbody tr th:only-of-type {\n",
       "        vertical-align: middle;\n",
       "    }\n",
       "\n",
       "    .dataframe tbody tr th {\n",
       "        vertical-align: top;\n",
       "    }\n",
       "\n",
       "    .dataframe thead th {\n",
       "        text-align: right;\n",
       "    }\n",
       "</style>\n",
       "<table border=\"1\" class=\"dataframe\">\n",
       "  <thead>\n",
       "    <tr style=\"text-align: right;\">\n",
       "      <th></th>\n",
       "      <th>S100</th>\n",
       "      <th>I100</th>\n",
       "      <th>C100</th>\n",
       "      <th>C101</th>\n",
       "      <th>DATE</th>\n",
       "    </tr>\n",
       "  </thead>\n",
       "  <tbody>\n",
       "    <tr>\n",
       "      <th>0</th>\n",
       "      <td>0</td>\n",
       "      <td>0</td>\n",
       "      <td>12</td>\n",
       "      <td>76</td>\n",
       "      <td>2017-01-08</td>\n",
       "    </tr>\n",
       "    <tr>\n",
       "      <th>1</th>\n",
       "      <td>0</td>\n",
       "      <td>0</td>\n",
       "      <td>12</td>\n",
       "      <td>76</td>\n",
       "      <td>2017-01-15</td>\n",
       "    </tr>\n",
       "  </tbody>\n",
       "</table>\n",
       "</div>"
      ],
      "text/plain": [
       "   S100  I100  C100  C101       DATE\n",
       "0     0     0    12    76 2017-01-08\n",
       "1     0     0    12    76 2017-01-15"
      ]
     },
     "execution_count": 7,
     "metadata": {},
     "output_type": "execute_result"
    }
   ],
   "source": [
    "sample_sales_unique.head(2)"
   ]
  },
  {
   "cell_type": "code",
   "execution_count": 12,
   "id": "bf78869e",
   "metadata": {},
   "outputs": [
    {
     "name": "stdout",
     "output_type": "stream",
     "text": [
      "(17920125, 7)\n"
     ]
    },
    {
     "data": {
      "text/html": [
       "<div>\n",
       "<style scoped>\n",
       "    .dataframe tbody tr th:only-of-type {\n",
       "        vertical-align: middle;\n",
       "    }\n",
       "\n",
       "    .dataframe tbody tr th {\n",
       "        vertical-align: top;\n",
       "    }\n",
       "\n",
       "    .dataframe thead th {\n",
       "        text-align: right;\n",
       "    }\n",
       "</style>\n",
       "<table border=\"1\" class=\"dataframe\">\n",
       "  <thead>\n",
       "    <tr style=\"text-align: right;\">\n",
       "      <th></th>\n",
       "      <th>S100</th>\n",
       "      <th>I100</th>\n",
       "      <th>C100</th>\n",
       "      <th>C101</th>\n",
       "      <th>DATE</th>\n",
       "      <th>QTT</th>\n",
       "      <th>item_id</th>\n",
       "    </tr>\n",
       "  </thead>\n",
       "  <tbody>\n",
       "    <tr>\n",
       "      <th>0</th>\n",
       "      <td>0</td>\n",
       "      <td>0</td>\n",
       "      <td>12</td>\n",
       "      <td>76</td>\n",
       "      <td>2017-01-08</td>\n",
       "      <td>2.0</td>\n",
       "      <td>0_12_76</td>\n",
       "    </tr>\n",
       "    <tr>\n",
       "      <th>1</th>\n",
       "      <td>0</td>\n",
       "      <td>0</td>\n",
       "      <td>12</td>\n",
       "      <td>76</td>\n",
       "      <td>2017-01-15</td>\n",
       "      <td>1.0</td>\n",
       "      <td>0_12_76</td>\n",
       "    </tr>\n",
       "  </tbody>\n",
       "</table>\n",
       "</div>"
      ],
      "text/plain": [
       "   S100  I100  C100  C101       DATE  QTT  item_id\n",
       "0     0     0    12    76 2017-01-08  2.0  0_12_76\n",
       "1     0     0    12    76 2017-01-15  1.0  0_12_76"
      ]
     },
     "execution_count": 12,
     "metadata": {},
     "output_type": "execute_result"
    }
   ],
   "source": [
    "df_sales = sample_sales_unique.merge(df_sales,on=['DATE','S100','I100','C100','C101'],how='left')\n",
    "df_sales.replace([np.inf, -np.inf,np.nan],0 , inplace=True)\n",
    "print(df_sales.shape)\n",
    "df_sales.head(2)"
   ]
  },
  {
   "cell_type": "code",
   "execution_count": 13,
   "id": "cde663c8",
   "metadata": {},
   "outputs": [
    {
     "data": {
      "text/plain": [
       "(Timestamp('2017-01-08 00:00:00'), Timestamp('2021-11-21 00:00:00'))"
      ]
     },
     "execution_count": 13,
     "metadata": {},
     "output_type": "execute_result"
    }
   ],
   "source": [
    "df_sales['DATE'].min(),df_sales['DATE'].max()"
   ]
  },
  {
   "cell_type": "code",
   "execution_count": 14,
   "id": "68882399",
   "metadata": {},
   "outputs": [
    {
     "data": {
      "text/html": [
       "<div>\n",
       "<style scoped>\n",
       "    .dataframe tbody tr th:only-of-type {\n",
       "        vertical-align: middle;\n",
       "    }\n",
       "\n",
       "    .dataframe tbody tr th {\n",
       "        vertical-align: top;\n",
       "    }\n",
       "\n",
       "    .dataframe thead th {\n",
       "        text-align: right;\n",
       "    }\n",
       "</style>\n",
       "<table border=\"1\" class=\"dataframe\">\n",
       "  <thead>\n",
       "    <tr style=\"text-align: right;\">\n",
       "      <th></th>\n",
       "      <th>S100</th>\n",
       "      <th>I100</th>\n",
       "      <th>C100</th>\n",
       "      <th>C101</th>\n",
       "      <th>DATE</th>\n",
       "      <th>QTT</th>\n",
       "      <th>item_id</th>\n",
       "    </tr>\n",
       "  </thead>\n",
       "  <tbody>\n",
       "    <tr>\n",
       "      <th>239</th>\n",
       "      <td>0</td>\n",
       "      <td>0</td>\n",
       "      <td>12</td>\n",
       "      <td>76</td>\n",
       "      <td>2021-08-08</td>\n",
       "      <td>0.0</td>\n",
       "      <td>0</td>\n",
       "    </tr>\n",
       "    <tr>\n",
       "      <th>240</th>\n",
       "      <td>0</td>\n",
       "      <td>0</td>\n",
       "      <td>12</td>\n",
       "      <td>76</td>\n",
       "      <td>2021-08-15</td>\n",
       "      <td>0.0</td>\n",
       "      <td>0</td>\n",
       "    </tr>\n",
       "  </tbody>\n",
       "</table>\n",
       "</div>"
      ],
      "text/plain": [
       "     S100  I100  C100  C101       DATE  QTT item_id\n",
       "239     0     0    12    76 2021-08-08  0.0       0\n",
       "240     0     0    12    76 2021-08-15  0.0       0"
      ]
     },
     "execution_count": 14,
     "metadata": {},
     "output_type": "execute_result"
    }
   ],
   "source": [
    "df_sales[df_sales['DATE']>'2021-08-01'].head(2)"
   ]
  },
  {
   "cell_type": "code",
   "execution_count": 15,
   "id": "472757cf",
   "metadata": {},
   "outputs": [
    {
     "data": {
      "image/png": "[encoded data removed]",
      "text/plain": [
       "<Figure size 3600x360 with 1 Axes>"
      ]
     },
     "metadata": {
      "needs_background": "light"
     },
     "output_type": "display_data"
    }
   ],
   "source": [
    "sub_group = get_store_item(df_sales,0,1,12,140)\n",
    "sub_group.head()\n",
    "\n",
    "fig = plt.figure(figsize=(50,5))\n",
    "plt.plot(sub_group.index,sub_group['QTT'],'--o')\n",
    "#plt.xticks(rotation=90)\n",
    "plt.xticks(sub_group.index, sub_group['DATE'].astype(str), rotation=90)\n",
    "plt.show()"
   ]
  },
  {
   "cell_type": "code",
   "execution_count": 16,
   "id": "d7ea5128",
   "metadata": {},
   "outputs": [
    {
     "name": "stdout",
     "output_type": "stream",
     "text": [
      "Memory usage of dataframe is 1093.76 MB\n",
      "Memory usage after optimization is: 427.40 MB\n",
      "Decreased by 60.9%\n"
     ]
    }
   ],
   "source": [
    "df_sales = reduce_mem_usage(df_sales)"
   ]
  },
  {
   "cell_type": "code",
   "execution_count": null,
   "id": "90e73c4b",
   "metadata": {
    "collapsed": false,
    "gradient": {
     "editing": false,
     "id": "6338cdf4",
     "kernelId": "cb40c0d7-fd9c-42da-9b82-284ee8e2c9c3",
     "source_hidden": false
    },
    "jupyter": {
     "outputs_hidden": false
    }
   },
   "outputs": [],
   "source": [
    "\n",
    "df_sales = df_sales.merge(df_items,on=['I100'])\n",
    "df_sales = df_sales.merge(df_stores,on=['S100'])\n",
    "    \n",
    "df_submission_sample = df_submission_sample.merge(df_items,on=['I100'])\n",
    "df_submission_sample = df_submission_sample.merge(df_stores,on=['S100'])\n",
    "\n",
    "df_sales.replace([np.inf, -np.inf, np.nan],0,inplace=True)\n",
    "df_submission_sample.replace([np.inf, -np.inf, np.nan],0,inplace=True)\n",
    "\n",
    "features_names = set(df_sales.columns)-set(['QTT','DATE','item_id','ID'])\n",
    "print(features_names)"
   ]
  },
  {
   "cell_type": "markdown",
   "id": "e31f7b6f",
   "metadata": {
    "gradient": {
     "editing": false,
     "id": "6f2feaa4",
     "kernelId": "cb40c0d7-fd9c-42da-9b82-284ee8e2c9c3",
     "source_hidden": false
    },
    "jupyter": {
     "outputs_hidden": false
    }
   },
   "source": [
    "# Feature engineering"
   ]
  },
  {
   "cell_type": "code",
   "execution_count": null,
   "id": "97e6d10a",
   "metadata": {
    "collapsed": false,
    "gradient": {
     "editing": false,
     "id": "167e99f3",
     "kernelId": "cb40c0d7-fd9c-42da-9b82-284ee8e2c9c3",
     "source_hidden": false
    },
    "jupyter": {
     "outputs_hidden": false
    }
   },
   "outputs": [],
   "source": [
    "df_sales             = fe_dates(df_sales)\n",
    "df_submission_sample = fe_dates(df_submission_sample)"
   ]
  },
  {
   "cell_type": "code",
   "execution_count": null,
   "id": "6ad89647",
   "metadata": {
    "collapsed": false,
    "gradient": {
     "editing": false,
     "id": "f4dfc983",
     "kernelId": "cb40c0d7-fd9c-42da-9b82-284ee8e2c9c3",
     "source_hidden": false
    },
    "jupyter": {
     "outputs_hidden": false
    }
   },
   "outputs": [],
   "source": [
    "df_sales             = string_to_categorical(df_sales).copy()\n",
    "df_submission_sample = string_to_categorical(df_submission_sample).copy()"
   ]
  },
  {
   "cell_type": "code",
   "execution_count": null,
   "id": "0ffd01fa",
   "metadata": {},
   "outputs": [],
   "source": [
    "print(df_sales.shape,df_submission_sample.shape)\n",
    "df_auxiliar = pd.concat([df_sales,df_submission_sample])\n",
    "df_auxiliar.replace([np.inf, -np.inf, np.nan],0,inplace=True)\n",
    "\n",
    "df_auxiliar['item_cnt_unclipped'] = df_auxiliar['QTT']\n",
    "df_auxiliar['QTT'] = df_auxiliar['QTT'].clip(0, 15)\n",
    "\n",
    "df_auxiliar = string_to_categorical(df_auxiliar).copy()\n"
   ]
  },
  {
   "cell_type": "code",
   "execution_count": null,
   "id": "b4691d92",
   "metadata": {
    "collapsed": false,
    "gradient": {
     "editing": false,
     "id": "5fa9a8d0",
     "kernelId": "cb40c0d7-fd9c-42da-9b82-284ee8e2c9c3",
     "source_hidden": false
    },
    "jupyter": {
     "outputs_hidden": false
    }
   },
   "outputs": [],
   "source": [
    "df_auxiliar['date_block_num'] = df_auxiliar['year']*12 + df_auxiliar['month'] - 1\n",
    "\n",
    "#individual items across all shops\n",
    "df_auxiliar = agg_cnt_col(df_auxiliar, ['date_block_num','I100'],'item_cnt_all_shops',{'QTT':'mean'})\n",
    "df_auxiliar = agg_cnt_col(df_auxiliar, ['date_block_num','C100','S100'],'item_cnt_all_shops_median',{'QTT':'median'}) \n",
    "#all items in category at individual shops\n",
    "df_auxiliar = agg_cnt_col(df_auxiliar, ['date_block_num','C100','S100'],'category_cnt',{'QTT':'mean'})\n",
    "df_auxiliar = agg_cnt_col(df_auxiliar, ['date_block_num','C100','S100'],'category_cnt_median',{'QTT':'median'}) \n",
    "#all items in category across all shops\n",
    "df_auxiliar = agg_cnt_col(df_auxiliar, ['date_block_num','C100'],'category_cnt_all_shops',{'QTT':'mean'})\n",
    "df_auxiliar = agg_cnt_col(df_auxiliar, ['date_block_num','C100'],'category_cnt_all_shops_median',{'QTT':'median'})\n"
   ]
  },
  {
   "cell_type": "code",
   "execution_count": null,
   "id": "d32e8c29",
   "metadata": {},
   "outputs": [],
   "source": [
    "#all items in group\n",
    "df_auxiliar = agg_cnt_col(df_auxiliar, ['date_block_num','C101','S100'],'group_cnt',{'QTT':'mean'})\n",
    "#all items in group across all shops\n",
    "df_auxiliar = agg_cnt_col(df_auxiliar, ['date_block_num','C101'],'group_cnt_all_shops',{'QTT':'mean'})\n",
    "#all items at individual shops\n",
    "df_auxiliar = agg_cnt_col(df_auxiliar, ['date_block_num','S100'],'shop_cnt',{'QTT':'mean'})\n",
    "#all items at all shops within the city\n",
    "#df_auxiliar = agg_cnt_col(df_auxiliar, ['date_block_num','shop_city'],'city_cnt',{'item_cnt':'mean'})"
   ]
  },
  {
   "cell_type": "code",
   "execution_count": null,
   "id": "1e8375fc",
   "metadata": {},
   "outputs": [],
   "source": [
    "df_auxiliar['item_age'] = (df_auxiliar['date_block_num'] - df_auxiliar.groupby('I100')['date_block_num'].transform('min')).astype('int8')\n",
    "\n",
    "df_auxiliar['category_age'] = (df_auxiliar['date_block_num'] - df_auxiliar.groupby('C100')['date_block_num'].transform('min')).astype('int8')\n",
    "df_auxiliar['group_age'] = (df_auxiliar['date_block_num'] - df_auxiliar.groupby('C101')['date_block_num'].transform('min')).astype('int8')\n",
    "df_auxiliar['shop_age'] = (df_auxiliar['date_block_num'] - df_auxiliar.groupby('S100')['date_block_num'].transform('min')).astype('int8')"
   ]
  },
  {
   "cell_type": "code",
   "execution_count": null,
   "id": "1c74dd90",
   "metadata": {},
   "outputs": [],
   "source": [
    "#mean units sold of new item in category at individual shop\n",
    "df_auxiliar = new_item_sales(df_auxiliar, ['date_block_num','C100','S100'], 'new_items_in_cat')\n",
    "#mean units sold of new item in category across all shops\n",
    "df_auxiliar = new_item_sales(df_auxiliar, ['date_block_num','C100'], 'new_items_in_cat_all_shops')\n"
   ]
  },
  {
   "cell_type": "code",
   "execution_count": null,
   "id": "5fcfe09a",
   "metadata": {},
   "outputs": [],
   "source": [
    "lag12_cols = {\n",
    "    'QTT':['date_block_num', 'S100', 'I100'],\n",
    "    #'QTT':['date_block_num', 'S100', 'I100','C100','C101'],\n",
    "    'item_cnt_all_shops':['date_block_num', 'I100'],\n",
    "    'category_cnt':['date_block_num', 'S100', 'C100'],\n",
    "    'category_cnt_all_shops':['date_block_num', 'C100'],\n",
    "    'group_cnt':['date_block_num', 'S100', 'C101'],\n",
    "    'group_cnt_all_shops':['date_block_num', 'C101'],\n",
    "    'shop_cnt':['date_block_num', 'S100'],\n",
    "    #'city_cnt':['date_block_num', 'shop_city'],\n",
    "    'new_items_in_cat':['date_block_num', 'S100', 'C100'],\n",
    "    'new_items_in_cat_all_shops':['date_block_num', 'C100']\n",
    "}\n",
    "for col,merge_cols in tqdm.tqdm(lag12_cols.items()):\n",
    "    df_auxiliar[f'{col}_lag1to12'] = 0\n",
    "    for i in range(1,13):\n",
    "        df_auxiliar = lag_feature(df_auxiliar, i, col, merge_cols)\n",
    "        df_auxiliar[f'{col}_lag1to12'] += df_auxiliar[f'{col}_lag{i}']\n",
    "        if i > 2:\n",
    "            del df_auxiliar[f'{col}_lag{i}']\n",
    "    if col == 'QTT':\n",
    "        del df_auxiliar[f'{col}_lag1']\n",
    "        del df_auxiliar[f'{col}_lag2']        \n",
    "    else:\n",
    "        del df_auxiliar[col]"
   ]
  },
  {
   "cell_type": "code",
   "execution_count": null,
   "id": "c68a0c4a",
   "metadata": {},
   "outputs": [],
   "source": [
    "lag2_cols = {\n",
    "    'item_cnt_unclipped':['date_block_num', 'S100', 'I100'],\n",
    "    'item_cnt_all_shops_median':['date_block_num', 'I100'],\n",
    "    'category_cnt_median':['date_block_num', 'S100', 'C100'],\n",
    "    'category_cnt_all_shops_median':['date_block_num', 'C100']\n",
    "}\n",
    "for col in tqdm.tqdm(lag2_cols):\n",
    "    df_auxiliar = lag_feature(df_auxiliar, 1, col, merge_cols)\n",
    "    df_auxiliar = lag_feature(df_auxiliar, 2, col, merge_cols)\n",
    "    df_auxiliar = lag_feature(df_auxiliar, 3, col, merge_cols)\n",
    "    df_auxiliar = lag_feature(df_auxiliar, 4, col, merge_cols)\n",
    "    \n",
    "    if col!='item_cnt_unclipped':\n",
    "        del df_auxiliar[col]"
   ]
  },
  {
   "cell_type": "code",
   "execution_count": null,
   "id": "600e0c8a",
   "metadata": {},
   "outputs": [],
   "source": [
    "df_auxiliar['item_cnt_diff'] = df_auxiliar['item_cnt_unclipped_lag1']/df_auxiliar['QTT_lag1to12']\n",
    "df_auxiliar['item_cnt_all_shops_diff'] = df_auxiliar['item_cnt_all_shops_lag1']/df_auxiliar['item_cnt_all_shops_lag1to12']\n",
    "df_auxiliar['category_cnt_diff'] = df_auxiliar['category_cnt_lag1']/df_auxiliar['category_cnt_lag1to12']\n",
    "df_auxiliar['category_cnt_all_shops_diff'] = df_auxiliar['category_cnt_all_shops_lag1']/df_auxiliar['category_cnt_all_shops_lag1to12']"
   ]
  },
  {
   "cell_type": "code",
   "execution_count": null,
   "id": "7815cd89",
   "metadata": {},
   "outputs": [],
   "source": [
    "#total units of item sold at individual shop\n",
    "df_auxiliar = past_information(df_auxiliar, ['S100','I100'],'item_cnt_sum_alltime',{'QTT':'sum'})\n",
    "#total units of item sold at all shops\n",
    "df_auxiliar = past_information(df_auxiliar, ['I100'],'item_cnt_sum_alltime_allshops',{'QTT':'sum'})\n",
    "\n",
    "#these columns are no longer needed, and would cause data leakage if retained"
   ]
  },
  {
   "cell_type": "code",
   "execution_count": null,
   "id": "660d145a",
   "metadata": {},
   "outputs": [],
   "source": [
    "df_auxiliar['QTT']= df_auxiliar['item_cnt_unclipped'].copy()\n",
    "del df_auxiliar['item_cnt_unclipped']\n"
   ]
  },
  {
   "cell_type": "code",
   "execution_count": null,
   "id": "d73ee3f9",
   "metadata": {},
   "outputs": [],
   "source": [
    "for col in df_auxiliar.columns:\n",
    "    if len(df_auxiliar[col].unique()) == 1:\n",
    "        print('drop unique column',col)\n",
    "        df_auxiliar.drop(col,inplace=True,axis=1)"
   ]
  },
  {
   "cell_type": "code",
   "execution_count": null,
   "id": "d1533c71",
   "metadata": {},
   "outputs": [],
   "source": [
    "#df_auxiliar = categorical_to_numeric(df_auxiliar)\n",
    "df_sales, df_submission_sample = df_auxiliar[:N_sales], df_auxiliar[N_sales:]\n",
    "print(df_sales.shape,df_submission_sample.shape)"
   ]
  },
  {
   "cell_type": "code",
   "execution_count": null,
   "id": "f52b1e52",
   "metadata": {
    "collapsed": false,
    "gradient": {
     "editing": false,
     "id": "886677b1",
     "kernelId": "cb40c0d7-fd9c-42da-9b82-284ee8e2c9c3",
     "source_hidden": false
    },
    "jupyter": {
     "outputs_hidden": false
    }
   },
   "outputs": [],
   "source": [
    "df_submission_sample['DATE'].min(),df_submission_sample['DATE'].max()"
   ]
  },
  {
   "cell_type": "code",
   "execution_count": null,
   "id": "551cdbd5",
   "metadata": {
    "gradient": {
     "editing": false,
     "id": "e877d6a4",
     "kernelId": "cb40c0d7-fd9c-42da-9b82-284ee8e2c9c3"
    }
   },
   "outputs": [],
   "source": [
    "#df_sales2 = df_sales[df_sales['QTT']<=15].copy()"
   ]
  },
  {
   "cell_type": "code",
   "execution_count": null,
   "id": "11c03f4e",
   "metadata": {
    "gradient": {
     "editing": false,
     "id": "68146890",
     "kernelId": "cb40c0d7-fd9c-42da-9b82-284ee8e2c9c3"
    }
   },
   "outputs": [],
   "source": [
    "#df_submission_sample = df_submission_sample[df_submission_sample['S100']==0]"
   ]
  },
  {
   "cell_type": "code",
   "execution_count": null,
   "id": "680051b1",
   "metadata": {
    "gradient": {
     "editing": false,
     "execution_count": 31,
     "id": "2aac54a7",
     "kernelId": "cb40c0d7-fd9c-42da-9b82-284ee8e2c9c3"
    }
   },
   "outputs": [],
   "source": [
    "features_names = set(df_sales.columns)-set(['QTT','DATE','item_id','ID'])\n",
    "print(features_names)"
   ]
  },
  {
   "cell_type": "code",
   "execution_count": null,
   "id": "2fcea49a",
   "metadata": {
    "collapsed": false,
    "gradient": {
     "editing": false,
     "id": "ee9cd961",
     "kernelId": "cb40c0d7-fd9c-42da-9b82-284ee8e2c9c3",
     "source_hidden": false
    },
    "jupyter": {
     "outputs_hidden": false
    }
   },
   "outputs": [],
   "source": [
    "from sklearn.model_selection import train_test_split\n",
    "\n",
    "if True:\n",
    "    X_train      = df_sales[(df_sales['DATE'] >= '2017-01-01') & (df_sales['DATE'] < '2020-01-01')].copy()\n",
    "    X_validation = df_sales[(df_sales['DATE'] >= '2021-06-01') & (df_sales['DATE'] < '2021-08-01')].copy()\n",
    "    X_test       = df_sales[(df_sales['DATE'] >= '2021-08-01') & (df_sales['DATE'] < '2021-10-03')].copy() \n",
    "    \n",
    "    #X_train = X_train[X_train['QTT']<=350].copy()\n",
    "\n",
    "    y_train = X_train['QTT']\n",
    "    X_train = X_train[features_names]\n",
    "\n",
    "    y_validation = X_validation['QTT']\n",
    "    X_validation = X_validation[features_names]\n",
    "\n",
    "    y_test = X_test['QTT']\n",
    "    X_test = X_test[features_names]\n",
    "\n",
    "else:\n",
    "    #X_train      = df_sales[((df_sales['DATE'] >= '2019-01-01') & (df_sales['DATE'] < '2020-01-01'))|\n",
    "    #                        ((df_sales['DATE'] >= '2021-01-01') & (df_sales['DATE'] < '2021-08-01'))].copy()\n",
    "    X_train      = df_sales[((df_sales['DATE'] >= '2017-01-01') & (df_sales['DATE'] < '2021-08-01'))].copy()\n",
    "    X_test       = df_sales[(df_sales['DATE'] >= '2021-08-01') & (df_sales['DATE'] < '2021-10-03')].copy() \n",
    "\n",
    "    y_train = X_train['QTT']\n",
    "    X_train = X_train[features_names]\n",
    "\n",
    "    y_test = X_test['QTT']\n",
    "    X_test = X_test[features_names]\n",
    "\n",
    "    X_train, X_validation, y_train, y_validation = train_test_split(X_train, y_train, test_size=0.3, random_state=42)"
   ]
  },
  {
   "cell_type": "code",
   "execution_count": null,
   "id": "bea567d4",
   "metadata": {
    "gradient": {
     "editing": false,
     "id": "6bf057a3",
     "kernelId": "cb40c0d7-fd9c-42da-9b82-284ee8e2c9c3"
    }
   },
   "outputs": [],
   "source": []
  },
  {
   "cell_type": "code",
   "execution_count": null,
   "id": "b5b0a0da",
   "metadata": {
    "collapsed": false,
    "gradient": {
     "editing": false,
     "id": "9f2b7f04",
     "kernelId": "cb40c0d7-fd9c-42da-9b82-284ee8e2c9c3",
     "source_hidden": false
    },
    "jupyter": {
     "outputs_hidden": false
    }
   },
   "outputs": [],
   "source": [
    "y_submission = df_submission_sample['QTT']\n",
    "X_submission = df_submission_sample[features_names]"
   ]
  },
  {
   "cell_type": "code",
   "execution_count": null,
   "id": "2e2d552f",
   "metadata": {
    "gradient": {
     "editing": false,
     "execution_count": 34,
     "id": "ca57d0e4",
     "kernelId": "cb40c0d7-fd9c-42da-9b82-284ee8e2c9c3"
    }
   },
   "outputs": [],
   "source": [
    "y_validation.hist(bins=100)\n"
   ]
  },
  {
   "cell_type": "code",
   "execution_count": null,
   "id": "7cb5f8b2",
   "metadata": {
    "gradient": {
     "editing": false,
     "execution_count": 35,
     "id": "d4ad358f",
     "kernelId": "cb40c0d7-fd9c-42da-9b82-284ee8e2c9c3"
    }
   },
   "outputs": [],
   "source": [
    "y_test.hist(bins=100)\n"
   ]
  },
  {
   "cell_type": "code",
   "execution_count": null,
   "id": "4fe7d566",
   "metadata": {
    "gradient": {
     "editing": false,
     "execution_count": 36,
     "id": "c9f9e39f",
     "kernelId": "cb40c0d7-fd9c-42da-9b82-284ee8e2c9c3"
    }
   },
   "outputs": [],
   "source": [
    "#X_test[y_test.values>25]['S100'].value_counts()"
   ]
  },
  {
   "cell_type": "code",
   "execution_count": null,
   "id": "aa09b0b3",
   "metadata": {
    "collapsed": false,
    "gradient": {
     "editing": false,
     "id": "8e58a6df",
     "kernelId": "cb40c0d7-fd9c-42da-9b82-284ee8e2c9c3",
     "source_hidden": false
    },
    "jupyter": {
     "outputs_hidden": false
    }
   },
   "outputs": [],
   "source": [
    "import lightgbm as lgb\n",
    "\n",
    "hyper_params = {\n",
    "    'device':'gpu',\n",
    "    'is_unbalance':True,\n",
    "    'is_enable_sparse':True,\n",
    "    'task': 'train',\n",
    "    'boosting_type': 'gbdt',\n",
    "    'objective': 'regression',\n",
    "    'metric': ['rmse'],\n",
    "    'verbose': 0,\n",
    "    'learning_rate': 0.1,\n",
    "    'feature_fraction': 0.9,\n",
    "    'bagging_fraction': 0.7,\n",
    "    'bagging_freq': 10,\n",
    "    \"max_depth\": 8,\n",
    "    \"num_leaves\": 30,  \n",
    "    \"max_bin\": 128,\n",
    "    \"num_iterations\": 8000\n",
    "\n",
    "}"
   ]
  },
  {
   "cell_type": "code",
   "execution_count": null,
   "id": "4142e71b",
   "metadata": {
    "gradient": {
     "editing": false,
     "execution_count": 38,
     "id": "58917f5f",
     "kernelId": "cb40c0d7-fd9c-42da-9b82-284ee8e2c9c3"
    }
   },
   "outputs": [],
   "source": [
    "lgb_train = lgb.Dataset(X_train, y_train)\n",
    "lgb_valid = lgb.Dataset(X_validation, y_validation)"
   ]
  },
  {
   "cell_type": "code",
   "execution_count": null,
   "id": "5adb04e3",
   "metadata": {
    "gradient": {
     "editing": false,
     "execution_count": 39,
     "id": "58734d9e",
     "kernelId": "cb40c0d7-fd9c-42da-9b82-284ee8e2c9c3"
    },
    "scrolled": true
   },
   "outputs": [],
   "source": [
    "gbm = lgb.train(hyper_params, lgb_train, 3000, valid_sets=[lgb_train, lgb_valid],early_stopping_rounds=50, verbose_eval=50)"
   ]
  },
  {
   "cell_type": "code",
   "execution_count": null,
   "id": "57a863aa",
   "metadata": {
    "collapsed": false,
    "gradient": {
     "editing": false,
     "id": "e106a525",
     "kernelId": "cb40c0d7-fd9c-42da-9b82-284ee8e2c9c3",
     "source_hidden": false
    },
    "jupyter": {
     "outputs_hidden": false
    }
   },
   "outputs": [],
   "source": [
    "X_train_pred      = gbm.predict(X_train)#, num_iteration=gbm.best_iteration_)\n",
    "X_validation_pred = gbm.predict(X_validation)#, num_iteration=gbm.best_iteration_)\n",
    "X_test_pred       = gbm.predict(X_test)#, num_iteration=gbm.best_iteration_)\n",
    "\n",
    "X_submission_pred = gbm.predict(X_submission)#, num_iteration=gbm.best_iteration_)"
   ]
  },
  {
   "cell_type": "code",
   "execution_count": null,
   "id": "00dc036e",
   "metadata": {
    "collapsed": false,
    "gradient": {
     "editing": false,
     "id": "b7a05554",
     "kernelId": "cb40c0d7-fd9c-42da-9b82-284ee8e2c9c3",
     "source_hidden": false
    },
    "jupyter": {
     "outputs_hidden": false
    }
   },
   "outputs": [],
   "source": [
    "from sklearn.metrics import mean_squared_error\n",
    "\n",
    "X_train_pred = np.maximum(X_train_pred, 0)\n",
    "X_validation_pred = np.maximum(X_validation_pred, 0)\n",
    "X_test_pred = np.maximum(X_test_pred, 0)\n",
    "X_submission_pred = np.maximum(X_submission_pred, 0)\n",
    "\n",
    "df_train_rmse = mean_squared_error(y_train,X_train_pred, squared=False)\n",
    "df_val_rmse   = mean_squared_error(y_validation,X_validation_pred, squared=False)\n",
    "df_test_rmse  = mean_squared_error(y_test,X_test_pred, squared=False)\n",
    "\n",
    "print('Final score mean_squared_error')\n",
    "print('Score train:',df_train_rmse)\n",
    "print('Score val  :',df_val_rmse)\n",
    "print('Score test :',df_test_rmse)"
   ]
  },
  {
   "cell_type": "code",
   "execution_count": null,
   "id": "74616f66",
   "metadata": {
    "gradient": {
     "editing": false,
     "id": "511f49e2",
     "kernelId": "cb40c0d7-fd9c-42da-9b82-284ee8e2c9c3"
    }
   },
   "outputs": [],
   "source": [
    "#X_test_pred[0] = 200"
   ]
  },
  {
   "cell_type": "code",
   "execution_count": null,
   "id": "41e88601",
   "metadata": {
    "collapsed": false,
    "gradient": {
     "editing": false,
     "id": "261bfca0",
     "kernelId": "cb40c0d7-fd9c-42da-9b82-284ee8e2c9c3",
     "source_hidden": false
    },
    "jupyter": {
     "outputs_hidden": false
    }
   },
   "outputs": [],
   "source": [
    "import matplotlib.pyplot as plt\n",
    "\n",
    "fig = plt.figure(figsize=(20,8))\n",
    "plt.plot(X_test_pred,'b', alpha=0.7)\n",
    "plt.plot(y_test.values,'r', alpha=0.4)\n",
    "plt.legend([\"prediction\", \"real\"], loc =\"upper right\")\n",
    "\n",
    "plt.show()"
   ]
  },
  {
   "cell_type": "code",
   "execution_count": null,
   "id": "1455e17d",
   "metadata": {
    "collapsed": false,
    "gradient": {
     "editing": false,
     "id": "b64b0528",
     "kernelId": "cb40c0d7-fd9c-42da-9b82-284ee8e2c9c3",
     "source_hidden": false
    },
    "jupyter": {
     "outputs_hidden": false
    }
   },
   "outputs": [],
   "source": [
    "df_submission_sample.reset_index(drop=True,inplace=True)\n",
    "df_submission_sample['QTT'] = X_submission_pred\n",
    "df_submission_sample.head()"
   ]
  },
  {
   "cell_type": "code",
   "execution_count": null,
   "id": "1421d02f",
   "metadata": {
    "collapsed": false,
    "gradient": {
     "editing": false,
     "id": "3ce24ba2",
     "kernelId": "cb40c0d7-fd9c-42da-9b82-284ee8e2c9c3",
     "source_hidden": false
    },
    "jupyter": {
     "outputs_hidden": false
    }
   },
   "outputs": [],
   "source": [
    "filename_submission= 'submission_baseline01_'+str(np.round(df_test_rmse,4))+'_local.csv'\n",
    "save = False\n",
    "if save:\n",
    "    print('saving..')\n",
    "    print(filename_submission)\n",
    "    df_submission_sample[['ID','QTT']].to_csv(os.path.join(PATH_RESULTS,'submissions',filename_submission),index=None)"
   ]
  },
  {
   "cell_type": "code",
   "execution_count": null,
   "id": "66044baa",
   "metadata": {
    "collapsed": false,
    "gradient": {
     "editing": false,
     "id": "e08a278c",
     "kernelId": "cb40c0d7-fd9c-42da-9b82-284ee8e2c9c3",
     "source_hidden": false
    },
    "jupyter": {
     "outputs_hidden": false
    }
   },
   "outputs": [],
   "source": [
    "result = pd.read_csv(os.path.join(PATH_RESULTS,'submissions','submission_2.1046_local.csv'))"
   ]
  },
  {
   "cell_type": "code",
   "execution_count": null,
   "id": "d22b1175",
   "metadata": {
    "collapsed": false,
    "gradient": {
     "editing": false,
     "id": "febf1b1a",
     "kernelId": "cb40c0d7-fd9c-42da-9b82-284ee8e2c9c3",
     "source_hidden": false
    },
    "jupyter": {
     "outputs_hidden": false
    }
   },
   "outputs": [],
   "source": [
    "df_submission_sample['QTT_reference']= result['QTT'].copy()\n",
    "df_submission_sample[['QTT_reference','QTT']][-20:]"
   ]
  },
  {
   "cell_type": "code",
   "execution_count": null,
   "id": "7d8e3051",
   "metadata": {
    "collapsed": false,
    "gradient": {
     "editing": false,
     "id": "df3cf25b",
     "kernelId": "cb40c0d7-fd9c-42da-9b82-284ee8e2c9c3",
     "source_hidden": false
    },
    "jupyter": {
     "outputs_hidden": false
    }
   },
   "outputs": [],
   "source": [
    "fig = plt.figure(figsize=(20,8))\n",
    "plt.plot(df_submission_sample['QTT'],'b', alpha=0.7)\n",
    "plt.plot(result['QTT'],'r', alpha=0.4)\n",
    "plt.legend([\"prediction\", \"real\"], loc =\"upper right\")\n",
    "plt.show()"
   ]
  },
  {
   "cell_type": "code",
   "execution_count": null,
   "id": "e9772e94",
   "metadata": {
    "gradient": {
     "editing": false,
     "id": "d4f5e533",
     "kernelId": "cb40c0d7-fd9c-42da-9b82-284ee8e2c9c3"
    }
   },
   "outputs": [],
   "source": [
    "difference = mean_squared_error(df_submission_sample['QTT'],result['QTT'], squared=False)\n",
    "\n",
    "print('Final score mean_squared_error')\n",
    "print('Score train:',difference)"
   ]
  },
  {
   "cell_type": "code",
   "execution_count": null,
   "id": "cdcc771c",
   "metadata": {
    "gradient": {
     "editing": false,
     "id": "876b010a",
     "kernelId": "cb40c0d7-fd9c-42da-9b82-284ee8e2c9c3"
    }
   },
   "outputs": [],
   "source": []
  },
  {
   "cell_type": "code",
   "execution_count": null,
   "id": "b57352bf",
   "metadata": {
    "gradient": {
     "editing": false,
     "id": "e584e1be",
     "kernelId": "cb40c0d7-fd9c-42da-9b82-284ee8e2c9c3"
    }
   },
   "outputs": [],
   "source": []
  },
  {
   "cell_type": "code",
   "execution_count": null,
   "id": "5aede345",
   "metadata": {
    "gradient": {
     "editing": false,
     "id": "2232a1f3",
     "kernelId": "cb40c0d7-fd9c-42da-9b82-284ee8e2c9c3"
    }
   },
   "outputs": [],
   "source": []
  },
  {
   "cell_type": "markdown",
   "id": "f9807ed8",
   "metadata": {},
   "source": []
  },
  {
   "cell_type": "code",
   "execution_count": null,
   "id": "39ccaba6",
   "metadata": {
    "gradient": {
     "editing": false,
     "id": "3c8c777b",
     "kernelId": "cb40c0d7-fd9c-42da-9b82-284ee8e2c9c3"
    }
   },
   "outputs": [],
   "source": []
  },
  {
   "cell_type": "code",
   "execution_count": null,
   "id": "d55ea8a2",
   "metadata": {
    "gradient": {
     "editing": false,
     "id": "a56fec25",
     "kernelId": "cb40c0d7-fd9c-42da-9b82-284ee8e2c9c3"
    }
   },
   "outputs": [],
   "source": []
  },
  {
   "cell_type": "code",
   "execution_count": null,
   "id": "21aa3939",
   "metadata": {
    "gradient": {
     "editing": false,
     "id": "a6fc02a8",
     "kernelId": "cb40c0d7-fd9c-42da-9b82-284ee8e2c9c3"
    }
   },
   "outputs": [],
   "source": []
  },
  {
   "cell_type": "code",
   "execution_count": null,
   "id": "a7931530",
   "metadata": {
    "gradient": {
     "editing": false,
     "id": "9da182d8",
     "kernelId": "cb40c0d7-fd9c-42da-9b82-284ee8e2c9c3"
    }
   },
   "outputs": [],
   "source": []
  }
 ],
 "metadata": {
  "kernelspec": {
   "display_name": "Python 3 (ipykernel)",
   "language": "python",
   "name": "python3"
  },
  "language_info": {
   "codemirror_mode": {
    "name": "ipython",
    "version": 3
   },
   "file_extension": ".py",
   "mimetype": "text/x-python",
   "name": "python",
   "nbconvert_exporter": "python",
   "pygments_lexer": "ipython3",
   "version": "3.8.12"
  }
 },
 "nbformat": 4,
 "nbformat_minor": 5
}
