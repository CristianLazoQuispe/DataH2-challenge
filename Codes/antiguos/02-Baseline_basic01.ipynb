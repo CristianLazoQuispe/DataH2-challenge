{
 "cells": [
  {
   "cell_type": "code",
   "execution_count": 2,
   "id": "11fa3ed3",
   "metadata": {
    "collapsed": false,
    "gradient": {
     "editing": false,
     "id": "914b6400",
     "kernelId": "2916018f-6766-4ce9-a9f0-c3eb16ceb4f1",
     "source_hidden": false
    },
    "jupyter": {
     "outputs_hidden": false
    }
   },
   "outputs": [],
   "source": [
    "import sys\n",
    "sys.path.insert(1, '../Src')\n",
    "import numpy as np\n",
    "import pandas as pd\n",
    "import os\n",
    "from utils.feature_engineering import *\n",
    "from utils.preprocessing import *\n",
    "\n",
    "PATH_DATASET = '../Dataset/'\n",
    "#PATH_DATASET = '../Dataset/datah-m1-challange/'\n",
    "PATH_RESULTS = '../Results/'"
   ]
  },
  {
   "cell_type": "markdown",
   "id": "c56571db",
   "metadata": {
    "gradient": {
     "editing": false,
     "id": "2b0d2fad",
     "kernelId": "2916018f-6766-4ce9-a9f0-c3eb16ceb4f1"
    }
   },
   "source": [
    "# loading dataset"
   ]
  },
  {
   "cell_type": "code",
   "execution_count": 32,
   "id": "6e6cdb29",
   "metadata": {
    "collapsed": false,
    "gradient": {
     "editing": false,
     "id": "1d92c12b",
     "kernelId": "2916018f-6766-4ce9-a9f0-c3eb16ceb4f1",
     "source_hidden": false
    },
    "jupyter": {
     "outputs_hidden": false
    }
   },
   "outputs": [
    {
     "name": "stdout",
     "output_type": "stream",
     "text": [
      "{'I103', 'I100', 'C100', 'S100', 'C101', 'S102', 'S103', 'I101', 'S101', 'I102'}\n"
     ]
    }
   ],
   "source": [
    "df_sales  = pd.read_pickle(os.path.join(PATH_RESULTS,'dataset','sales.pkl'))\n",
    "df_items  = pd.read_pickle(os.path.join(PATH_RESULTS,'dataset','item.pkl'))\n",
    "df_stores = pd.read_pickle(os.path.join(PATH_RESULTS,'dataset','store.pkl'))\n",
    "\n",
    "df_submission_sample = pd.read_pickle(os.path.join(PATH_RESULTS,'dataset','submission_sample.pkl'))\n",
    "\n",
    "N_submission = df_submission_sample.shape[0]\n",
    "N_sales      = df_sales.shape[0]\n",
    "\n",
    "df_sales = df_sales.merge(df_items,on=['I100'])\n",
    "df_sales = df_sales.merge(df_stores,on=['S100'])\n",
    "    \n",
    "df_submission_sample = df_submission_sample.merge(df_items,on=['I100'])\n",
    "df_submission_sample = df_submission_sample.merge(df_stores,on=['S100'])\n",
    "\n",
    "df_sales.replace([np.inf, -np.inf, np.nan],0,inplace=True)\n",
    "df_submission_sample.replace([np.inf, -np.inf, np.nan],0,inplace=True)\n",
    "\n",
    "features_names = set(df_sales.columns)-set(['QTT','DATE','item_id','ID'])\n",
    "print(features_names)"
   ]
  },
  {
   "cell_type": "markdown",
   "id": "9e6cd562",
   "metadata": {
    "gradient": {
     "editing": false,
     "id": "ed0aa261",
     "kernelId": "2916018f-6766-4ce9-a9f0-c3eb16ceb4f1",
     "source_hidden": false
    },
    "jupyter": {
     "outputs_hidden": false
    }
   },
   "source": [
    "# Feature engineering"
   ]
  },
  {
   "cell_type": "code",
   "execution_count": 33,
   "id": "ea1596e8",
   "metadata": {
    "collapsed": false,
    "gradient": {
     "editing": false,
     "id": "9e41664d",
     "kernelId": "2916018f-6766-4ce9-a9f0-c3eb16ceb4f1",
     "source_hidden": false
    },
    "jupyter": {
     "outputs_hidden": false
    }
   },
   "outputs": [],
   "source": [
    "df_sales             = fe_dates(df_sales)\n",
    "df_submission_sample = fe_dates(df_submission_sample)"
   ]
  },
  {
   "cell_type": "code",
   "execution_count": 34,
   "id": "1637e5a1",
   "metadata": {
    "collapsed": false,
    "gradient": {
     "editing": false,
     "id": "5825e67d",
     "kernelId": "2916018f-6766-4ce9-a9f0-c3eb16ceb4f1",
     "source_hidden": false
    },
    "jupyter": {
     "outputs_hidden": false
    }
   },
   "outputs": [
    {
     "name": "stdout",
     "output_type": "stream",
     "text": [
      "item_id object category\n",
      "ID object category\n",
      "item_id object category\n"
     ]
    }
   ],
   "source": [
    "df_sales             = string_to_categorical(df_sales).copy()\n",
    "df_submission_sample = string_to_categorical(df_submission_sample).copy()"
   ]
  },
  {
   "cell_type": "code",
   "execution_count": 35,
   "id": "750dfa3c",
   "metadata": {},
   "outputs": [
    {
     "name": "stdout",
     "output_type": "stream",
     "text": [
      "DATE 243\n",
      "S100 31\n",
      "I100 96\n",
      "C100 21\n",
      "C101 355\n",
      "QTT 197\n",
      "item_id 3827\n",
      "I101 6\n",
      "I102 3\n",
      "I103 3\n",
      "S101 2\n",
      "S102 20\n",
      "S103 11\n",
      "year 5\n",
      "month 12\n",
      "day 31\n",
      "day_of_week 1\n",
      "day_of_year 243\n",
      "is_year_start 1\n",
      "is_quarter_start 2\n",
      "is_month_start 2\n",
      "is_month_end 2\n"
     ]
    }
   ],
   "source": [
    "for column in df_sales.columns:\n",
    "    print(column,df_sales[column].nunique())\n"
   ]
  },
  {
   "cell_type": "code",
   "execution_count": 36,
   "id": "0229ae4d",
   "metadata": {
    "collapsed": false,
    "gradient": {
     "editing": false,
     "id": "4c686032",
     "kernelId": "2916018f-6766-4ce9-a9f0-c3eb16ceb4f1",
     "source_hidden": false
    },
    "jupyter": {
     "outputs_hidden": false
    }
   },
   "outputs": [
    {
     "name": "stdout",
     "output_type": "stream",
     "text": [
      "(2749369, 22) (69121, 23)\n",
      "item_id object category\n",
      "(2749369, 23) (69121, 23)\n"
     ]
    }
   ],
   "source": [
    "print(df_sales.shape,df_submission_sample.shape)\n",
    "df_auxiliar = pd.concat([df_sales,df_submission_sample])\n",
    "df_auxiliar.replace([np.inf, -np.inf, np.nan],0,inplace=True)\n",
    "\n",
    "for value in [\"S100\",\"S101\", \"S102\",\"S103\",\"I100\",\"I101\",\"I102\",\"I103\",\"C100\",\"C101\"]:        \n",
    "    df_auxiliar[value] = df_auxiliar[value].astype(str).astype(int)\n",
    "\n",
    "\n",
    "df_auxiliar = string_to_categorical(df_auxiliar).copy()\n",
    "\n",
    "#df_auxiliar = pd.get_dummies(data=df_auxiliar, columns=[\"S100\",\"S101\", \"S102\",\"S103\",\"I100\",\"I101\",\"I102\",\"I103\",\"C100\",\"C101\"])\n",
    "\n",
    "#df_auxiliar = categorical_to_numeric(df_auxiliar)\n",
    "df_sales, df_submission_sample = df_auxiliar[:N_sales], df_auxiliar[N_sales:]\n",
    "print(df_sales.shape,df_submission_sample.shape)"
   ]
  },
  {
   "cell_type": "code",
   "execution_count": 37,
   "id": "519d7eac",
   "metadata": {
    "collapsed": false,
    "gradient": {
     "editing": false,
     "id": "549c633f",
     "kernelId": "2916018f-6766-4ce9-a9f0-c3eb16ceb4f1",
     "source_hidden": false
    },
    "jupyter": {
     "outputs_hidden": false
    }
   },
   "outputs": [
    {
     "data": {
      "text/plain": [
       "(Timestamp('2021-10-03 00:00:00'), Timestamp('2021-11-21 00:00:00'))"
      ]
     },
     "execution_count": 37,
     "metadata": {},
     "output_type": "execute_result"
    }
   ],
   "source": [
    "df_submission_sample['DATE'].min(),df_submission_sample['DATE'].max()"
   ]
  },
  {
   "cell_type": "code",
   "execution_count": 38,
   "id": "7a788c6e",
   "metadata": {
    "gradient": {
     "editing": false,
     "id": "11ed6c9b",
     "kernelId": "2916018f-6766-4ce9-a9f0-c3eb16ceb4f1"
    }
   },
   "outputs": [],
   "source": [
    "#df_sales2 = df_sales[df_sales['QTT']<=15].copy()"
   ]
  },
  {
   "cell_type": "code",
   "execution_count": 39,
   "id": "d7bf433d",
   "metadata": {
    "gradient": {
     "editing": false,
     "id": "21ca0366",
     "kernelId": "2916018f-6766-4ce9-a9f0-c3eb16ceb4f1"
    }
   },
   "outputs": [],
   "source": [
    "#df_submission_sample = df_submission_sample[df_submission_sample['S100']==0]"
   ]
  },
  {
   "cell_type": "code",
   "execution_count": 40,
   "id": "6acfcbb7",
   "metadata": {
    "gradient": {
     "editing": false,
     "id": "23c59066",
     "kernelId": "2916018f-6766-4ce9-a9f0-c3eb16ceb4f1"
    }
   },
   "outputs": [
    {
     "name": "stdout",
     "output_type": "stream",
     "text": [
      "19\n"
     ]
    }
   ],
   "source": [
    "features_names = set(df_sales.columns)-set(['QTT','DATE','item_id','ID'])\n",
    "print(len(features_names))\n",
    "#{'I103', 'is_year_start', 'I101', 'C100', 'day', 'S100', 'year', 'month', 'is_month_start', 'day_of_week', 'I102', \n",
    "#'I100', 'S101', 'day_of_year', 'is_quarter_start', 'C101', 'S103', 'S102', 'is_month_end'}"
   ]
  },
  {
   "cell_type": "code",
   "execution_count": 51,
   "id": "fdb919dd",
   "metadata": {},
   "outputs": [
    {
     "data": {
      "text/html": [
       "<div>\n",
       "<style scoped>\n",
       "    .dataframe tbody tr th:only-of-type {\n",
       "        vertical-align: middle;\n",
       "    }\n",
       "\n",
       "    .dataframe tbody tr th {\n",
       "        vertical-align: top;\n",
       "    }\n",
       "\n",
       "    .dataframe thead th {\n",
       "        text-align: right;\n",
       "    }\n",
       "</style>\n",
       "<table border=\"1\" class=\"dataframe\">\n",
       "  <thead>\n",
       "    <tr style=\"text-align: right;\">\n",
       "      <th></th>\n",
       "      <th>DATE</th>\n",
       "      <th>S100</th>\n",
       "      <th>I100</th>\n",
       "      <th>C100</th>\n",
       "      <th>C101</th>\n",
       "      <th>QTT</th>\n",
       "      <th>item_id</th>\n",
       "      <th>I101</th>\n",
       "      <th>I102</th>\n",
       "      <th>I103</th>\n",
       "      <th>...</th>\n",
       "      <th>year</th>\n",
       "      <th>month</th>\n",
       "      <th>day</th>\n",
       "      <th>day_of_week</th>\n",
       "      <th>day_of_year</th>\n",
       "      <th>is_year_start</th>\n",
       "      <th>is_quarter_start</th>\n",
       "      <th>is_month_start</th>\n",
       "      <th>is_month_end</th>\n",
       "      <th>ID</th>\n",
       "    </tr>\n",
       "  </thead>\n",
       "  <tbody>\n",
       "    <tr>\n",
       "      <th>0</th>\n",
       "      <td>2021-10-03</td>\n",
       "      <td>0</td>\n",
       "      <td>1</td>\n",
       "      <td>12</td>\n",
       "      <td>140</td>\n",
       "      <td>-1</td>\n",
       "      <td>1_12_140</td>\n",
       "      <td>2</td>\n",
       "      <td>1</td>\n",
       "      <td>1</td>\n",
       "      <td>...</td>\n",
       "      <td>2021</td>\n",
       "      <td>10</td>\n",
       "      <td>3</td>\n",
       "      <td>6</td>\n",
       "      <td>276</td>\n",
       "      <td>False</td>\n",
       "      <td>False</td>\n",
       "      <td>False</td>\n",
       "      <td>False</td>\n",
       "      <td>2021-10-03_0_1_12_140</td>\n",
       "    </tr>\n",
       "    <tr>\n",
       "      <th>1</th>\n",
       "      <td>2021-10-03</td>\n",
       "      <td>0</td>\n",
       "      <td>1</td>\n",
       "      <td>12</td>\n",
       "      <td>164</td>\n",
       "      <td>-1</td>\n",
       "      <td>1_12_164</td>\n",
       "      <td>2</td>\n",
       "      <td>1</td>\n",
       "      <td>1</td>\n",
       "      <td>...</td>\n",
       "      <td>2021</td>\n",
       "      <td>10</td>\n",
       "      <td>3</td>\n",
       "      <td>6</td>\n",
       "      <td>276</td>\n",
       "      <td>False</td>\n",
       "      <td>False</td>\n",
       "      <td>False</td>\n",
       "      <td>False</td>\n",
       "      <td>2021-10-03_0_1_12_164</td>\n",
       "    </tr>\n",
       "  </tbody>\n",
       "</table>\n",
       "<p>2 rows × 23 columns</p>\n",
       "</div>"
      ],
      "text/plain": [
       "        DATE  S100  I100  C100  C101  QTT   item_id  I101  I102  I103  ...  \\\n",
       "0 2021-10-03     0     1    12   140   -1  1_12_140     2     1     1  ...   \n",
       "1 2021-10-03     0     1    12   164   -1  1_12_164     2     1     1  ...   \n",
       "\n",
       "   year  month  day  day_of_week  day_of_year  is_year_start  \\\n",
       "0  2021     10    3            6          276          False   \n",
       "1  2021     10    3            6          276          False   \n",
       "\n",
       "   is_quarter_start  is_month_start  is_month_end                     ID  \n",
       "0             False           False         False  2021-10-03_0_1_12_140  \n",
       "1             False           False         False  2021-10-03_0_1_12_164  \n",
       "\n",
       "[2 rows x 23 columns]"
      ]
     },
     "execution_count": 51,
     "metadata": {},
     "output_type": "execute_result"
    }
   ],
   "source": [
    "df_submission_sample.head(2)\n"
   ]
  },
  {
   "cell_type": "code",
   "execution_count": 213,
   "id": "1d34f709",
   "metadata": {
    "collapsed": false,
    "gradient": {
     "editing": false,
     "id": "56e78f8f",
     "kernelId": "2916018f-6766-4ce9-a9f0-c3eb16ceb4f1",
     "source_hidden": false
    },
    "jupyter": {
     "outputs_hidden": false
    }
   },
   "outputs": [],
   "source": []
  },
  {
   "cell_type": "code",
   "execution_count": 228,
   "id": "ab255681",
   "metadata": {},
   "outputs": [],
   "source": [
    "hyper_params ={      \n",
    "  'boosting_type': 'gbdt',\n",
    "   'objective': 'tweedie',\n",
    "   'tweedie_variance_power': 1.1,\n",
    "    'metric': 'rmse',\n",
    "    'subsample': 0.6,\n",
    "    'subsample_freq': 1,\n",
    "    'learning_rate': 0.02,\n",
    "    'num_leaves': 2**11-1,\n",
    "    'min_data_in_leaf': 2**12-1,\n",
    "    'feature_fraction': 0.6,\n",
    "    'max_bin': 100,\n",
    "    #'n_estimators': …,   \n",
    "    'boost_from_average': False,\n",
    "    'verbose': -1,\n",
    "    'num_threads': 12\n",
    "   }    "
   ]
  },
  {
   "cell_type": "code",
   "execution_count": 229,
   "id": "4057ae46",
   "metadata": {
    "collapsed": false,
    "gradient": {
     "editing": false,
     "id": "105da351",
     "kernelId": "2916018f-6766-4ce9-a9f0-c3eb16ceb4f1",
     "source_hidden": false
    },
    "jupyter": {
     "outputs_hidden": false
    }
   },
   "outputs": [],
   "source": [
    "import lightgbm as lgb\n",
    "\n",
    "hyper_params = {\n",
    "    'device':'gpu',\n",
    "    'is_unbalance':True,\n",
    "    'is_enable_sparse':True,\n",
    "    'task': 'train',\n",
    "    'boosting_type': 'gbdt',\n",
    "   'objective': 'tweedie',\n",
    "   'tweedie_variance_power': 1.1,\n",
    "    'metric':  ['rmse'],\n",
    "    'verbose': 0,\n",
    "    'learning_rate': 0.05,\n",
    "    'feature_fraction': 0.9,\n",
    "    'bagging_fraction': 0.7,\n",
    "    'bagging_freq': 10,\n",
    "    \"max_depth\": 10,\n",
    "    \"num_leaves\": 64,  \n",
    "    \"max_bin\": 128,\n",
    "    \"num_iterations\": 800\n",
    "}\n",
    "\n",
    "\n",
    "hyper_params ={      \n",
    "  'boosting_type': 'gbdt',\n",
    "   'objective': 'tweedie',\n",
    "   'tweedie_variance_power': 1.1,\n",
    "    'metric': 'rmse',\n",
    "    'subsample': 0.6,\n",
    "    'subsample_freq': 1,\n",
    "    'learning_rate': 0.02,\n",
    "    'num_leaves': 2**11-1,\n",
    "    'min_data_in_leaf': 2**12-1,\n",
    "    'feature_fraction': 0.6,\n",
    "    'max_bin': 100,\n",
    "    #'n_estimators': …,   \n",
    "    'boost_from_average': False,\n",
    "    'verbose': -1,\n",
    "    'num_threads': 12\n",
    "   }    \n"
   ]
  },
  {
   "cell_type": "code",
   "execution_count": 248,
   "id": "b42998e8",
   "metadata": {},
   "outputs": [],
   "source": []
  },
  {
   "cell_type": "code",
   "execution_count": 249,
   "id": "b93cb32b",
   "metadata": {},
   "outputs": [],
   "source": [
    "#unique_stores"
   ]
  },
  {
   "cell_type": "code",
   "execution_count": null,
   "id": "2cde221d",
   "metadata": {},
   "outputs": [],
   "source": []
  },
  {
   "cell_type": "code",
   "execution_count": 252,
   "id": "2e537272",
   "metadata": {
    "collapsed": false,
    "gradient": {
     "editing": false,
     "id": "cfa54437",
     "kernelId": "2916018f-6766-4ce9-a9f0-c3eb16ceb4f1",
     "source_hidden": false
    },
    "jupyter": {
     "outputs_hidden": false
    },
    "scrolled": true
   },
   "outputs": [
    {
     "name": "stdout",
     "output_type": "stream",
     "text": [
      "********** 0 **********\n",
      "Analyzing store : 0\n",
      "X_train       (91205, 19)\n",
      "y_validation  (5048,)\n",
      "X_test        (3597, 19)\n",
      "X_submission  (2822, 19)\n",
      "Training until validation scores don't improve for 50 rounds\n",
      "[50]\ttraining's rmse: 2.56758\tvalid_1's rmse: 2.63407\n",
      "[100]\ttraining's rmse: 2.43104\tvalid_1's rmse: 2.49977\n",
      "[150]\ttraining's rmse: 2.371\tvalid_1's rmse: 2.43979\n",
      "[200]\ttraining's rmse: 2.33496\tvalid_1's rmse: 2.40849\n",
      "[250]\ttraining's rmse: 2.3099\tvalid_1's rmse: 2.39009\n",
      "[300]\ttraining's rmse: 2.28823\tvalid_1's rmse: 2.37392\n",
      "[350]\ttraining's rmse: 2.27083\tvalid_1's rmse: 2.36229\n",
      "[400]\ttraining's rmse: 2.25701\tvalid_1's rmse: 2.35338\n",
      "[450]\ttraining's rmse: 2.2455\tvalid_1's rmse: 2.34466\n",
      "[500]\ttraining's rmse: 2.23531\tvalid_1's rmse: 2.33809\n",
      "[550]\ttraining's rmse: 2.22518\tvalid_1's rmse: 2.32981\n",
      "[600]\ttraining's rmse: 2.21599\tvalid_1's rmse: 2.32395\n",
      "[650]\ttraining's rmse: 2.20578\tvalid_1's rmse: 2.32085\n",
      "[700]\ttraining's rmse: 2.19733\tvalid_1's rmse: 2.3158\n",
      "[750]\ttraining's rmse: 2.18993\tvalid_1's rmse: 2.31177\n",
      "[800]\ttraining's rmse: 2.18272\tvalid_1's rmse: 2.30883\n",
      "[850]\ttraining's rmse: 2.17634\tvalid_1's rmse: 2.30631\n",
      "[900]\ttraining's rmse: 2.1697\tvalid_1's rmse: 2.3053\n",
      "[950]\ttraining's rmse: 2.16308\tvalid_1's rmse: 2.3002\n",
      "[1000]\ttraining's rmse: 2.15705\tvalid_1's rmse: 2.29597\n",
      "[1050]\ttraining's rmse: 2.15194\tvalid_1's rmse: 2.29325\n",
      "[1100]\ttraining's rmse: 2.14698\tvalid_1's rmse: 2.29264\n",
      "[1150]\ttraining's rmse: 2.14158\tvalid_1's rmse: 2.28951\n",
      "[1200]\ttraining's rmse: 2.13691\tvalid_1's rmse: 2.28702\n",
      "[1250]\ttraining's rmse: 2.13201\tvalid_1's rmse: 2.28551\n",
      "[1300]\ttraining's rmse: 2.12761\tvalid_1's rmse: 2.28349\n",
      "[1350]\ttraining's rmse: 2.12449\tvalid_1's rmse: 2.28357\n",
      "Early stopping, best iteration is:\n",
      "[1308]\ttraining's rmse: 2.12677\tvalid_1's rmse: 2.28245\n",
      "make predictions...\n",
      "Final score mean_squared_error\n",
      "Score train: 2.1267705303943263\n",
      "Score val  : 2.282447884022056\n",
      "Score test : 2.281749063383734\n",
      "saving model.. ../Results/lightgbm/model_v1/model_0.txt\n",
      "********** 1 **********\n",
      "Analyzing store : 1\n",
      "X_train       (72192, 19)\n",
      "y_validation  (4414,)\n",
      "X_test        (2797, 19)\n",
      "X_submission  (2159, 19)\n",
      "Training until validation scores don't improve for 50 rounds\n"
     ]
    },
    {
     "name": "stderr",
     "output_type": "stream",
     "text": [
      "/opt/conda/lib/python3.8/site-packages/lightgbm/engine.py:181: UserWarning: 'early_stopping_rounds' argument is deprecated and will be removed in a future release of LightGBM. Pass 'early_stopping()' callback via 'callbacks' argument instead.\n",
      "  _log_warning(\"'early_stopping_rounds' argument is deprecated and will be removed in a future release of LightGBM. \"\n",
      "/opt/conda/lib/python3.8/site-packages/lightgbm/engine.py:239: UserWarning: 'verbose_eval' argument is deprecated and will be removed in a future release of LightGBM. Pass 'log_evaluation()' callback via 'callbacks' argument instead.\n",
      "  _log_warning(\"'verbose_eval' argument is deprecated and will be removed in a future release of LightGBM. \"\n"
     ]
    },
    {
     "name": "stdout",
     "output_type": "stream",
     "text": [
      "[50]\ttraining's rmse: 2.05418\tvalid_1's rmse: 1.5106\n",
      "[100]\ttraining's rmse: 1.97605\tvalid_1's rmse: 1.4511\n",
      "[150]\ttraining's rmse: 1.9436\tvalid_1's rmse: 1.4344\n",
      "[200]\ttraining's rmse: 1.92284\tvalid_1's rmse: 1.42587\n",
      "[250]\ttraining's rmse: 1.90583\tvalid_1's rmse: 1.41941\n",
      "[300]\ttraining's rmse: 1.89012\tvalid_1's rmse: 1.41448\n",
      "[350]\ttraining's rmse: 1.87694\tvalid_1's rmse: 1.41155\n",
      "[400]\ttraining's rmse: 1.86507\tvalid_1's rmse: 1.4096\n",
      "[450]\ttraining's rmse: 1.85569\tvalid_1's rmse: 1.40869\n",
      "[500]\ttraining's rmse: 1.84658\tvalid_1's rmse: 1.40739\n",
      "[550]\ttraining's rmse: 1.8386\tvalid_1's rmse: 1.40631\n",
      "[600]\ttraining's rmse: 1.83141\tvalid_1's rmse: 1.40595\n",
      "[650]\ttraining's rmse: 1.82549\tvalid_1's rmse: 1.40595\n",
      "Early stopping, best iteration is:\n",
      "[603]\ttraining's rmse: 1.83109\tvalid_1's rmse: 1.40584\n",
      "make predictions...\n",
      "Final score mean_squared_error\n",
      "Score train: 1.831093150478635\n",
      "Score val  : 1.4058445754188327\n",
      "Score test : 1.565100922048357\n",
      "saving model.. ../Results/lightgbm/model_v1/model_1.txt\n",
      "********** 2 **********\n",
      "Analyzing store : 2\n",
      "X_train       (67972, 19)\n",
      "y_validation  (3725,)\n",
      "X_test        (2802, 19)\n",
      "X_submission  (2205, 19)\n",
      "Training until validation scores don't improve for 50 rounds\n"
     ]
    },
    {
     "name": "stderr",
     "output_type": "stream",
     "text": [
      "/opt/conda/lib/python3.8/site-packages/lightgbm/engine.py:181: UserWarning: 'early_stopping_rounds' argument is deprecated and will be removed in a future release of LightGBM. Pass 'early_stopping()' callback via 'callbacks' argument instead.\n",
      "  _log_warning(\"'early_stopping_rounds' argument is deprecated and will be removed in a future release of LightGBM. \"\n",
      "/opt/conda/lib/python3.8/site-packages/lightgbm/engine.py:239: UserWarning: 'verbose_eval' argument is deprecated and will be removed in a future release of LightGBM. Pass 'log_evaluation()' callback via 'callbacks' argument instead.\n",
      "  _log_warning(\"'verbose_eval' argument is deprecated and will be removed in a future release of LightGBM. \"\n"
     ]
    },
    {
     "name": "stdout",
     "output_type": "stream",
     "text": [
      "[50]\ttraining's rmse: 2.25862\tvalid_1's rmse: 3.11981\n",
      "[100]\ttraining's rmse: 2.16552\tvalid_1's rmse: 2.98383\n",
      "[150]\ttraining's rmse: 2.1276\tvalid_1's rmse: 2.92191\n",
      "[200]\ttraining's rmse: 2.10578\tvalid_1's rmse: 2.88263\n",
      "[250]\ttraining's rmse: 2.08743\tvalid_1's rmse: 2.85128\n",
      "[300]\ttraining's rmse: 2.07223\tvalid_1's rmse: 2.82893\n",
      "[350]\ttraining's rmse: 2.0596\tvalid_1's rmse: 2.817\n",
      "[400]\ttraining's rmse: 2.04798\tvalid_1's rmse: 2.81428\n",
      "[450]\ttraining's rmse: 2.03824\tvalid_1's rmse: 2.80827\n",
      "[500]\ttraining's rmse: 2.02964\tvalid_1's rmse: 2.80563\n",
      "[550]\ttraining's rmse: 2.02139\tvalid_1's rmse: 2.79936\n",
      "[600]\ttraining's rmse: 2.01306\tvalid_1's rmse: 2.79851\n",
      "Early stopping, best iteration is:\n",
      "[574]\ttraining's rmse: 2.01754\tvalid_1's rmse: 2.79491\n",
      "make predictions...\n",
      "Final score mean_squared_error\n",
      "Score train: 2.017537950680969\n",
      "Score val  : 2.7949093370687783\n",
      "Score test : 2.043136179286473\n",
      "saving model.. ../Results/lightgbm/model_v1/model_2.txt\n",
      "********** 3 **********\n",
      "Analyzing store : 3\n",
      "X_train       (65868, 19)\n",
      "y_validation  (4745,)\n",
      "X_test        (3233, 19)\n",
      "X_submission  (2303, 19)\n",
      "Training until validation scores don't improve for 50 rounds\n"
     ]
    },
    {
     "name": "stderr",
     "output_type": "stream",
     "text": [
      "/opt/conda/lib/python3.8/site-packages/lightgbm/engine.py:181: UserWarning: 'early_stopping_rounds' argument is deprecated and will be removed in a future release of LightGBM. Pass 'early_stopping()' callback via 'callbacks' argument instead.\n",
      "  _log_warning(\"'early_stopping_rounds' argument is deprecated and will be removed in a future release of LightGBM. \"\n",
      "/opt/conda/lib/python3.8/site-packages/lightgbm/engine.py:239: UserWarning: 'verbose_eval' argument is deprecated and will be removed in a future release of LightGBM. Pass 'log_evaluation()' callback via 'callbacks' argument instead.\n",
      "  _log_warning(\"'verbose_eval' argument is deprecated and will be removed in a future release of LightGBM. \"\n"
     ]
    },
    {
     "name": "stdout",
     "output_type": "stream",
     "text": [
      "[50]\ttraining's rmse: 4.28988\tvalid_1's rmse: 3.52955\n",
      "[100]\ttraining's rmse: 4.14702\tvalid_1's rmse: 3.38267\n",
      "[150]\ttraining's rmse: 4.10719\tvalid_1's rmse: 3.34741\n",
      "[200]\ttraining's rmse: 4.08748\tvalid_1's rmse: 3.33095\n",
      "[250]\ttraining's rmse: 4.07349\tvalid_1's rmse: 3.31969\n",
      "[300]\ttraining's rmse: 4.06142\tvalid_1's rmse: 3.31144\n",
      "[350]\ttraining's rmse: 4.05136\tvalid_1's rmse: 3.3031\n",
      "[400]\ttraining's rmse: 4.04224\tvalid_1's rmse: 3.2959\n",
      "[450]\ttraining's rmse: 4.03408\tvalid_1's rmse: 3.28902\n",
      "[500]\ttraining's rmse: 4.02718\tvalid_1's rmse: 3.28262\n",
      "[550]\ttraining's rmse: 4.02005\tvalid_1's rmse: 3.27659\n",
      "[600]\ttraining's rmse: 4.01404\tvalid_1's rmse: 3.27119\n",
      "[650]\ttraining's rmse: 4.00832\tvalid_1's rmse: 3.26745\n",
      "[700]\ttraining's rmse: 4.00266\tvalid_1's rmse: 3.26294\n",
      "[750]\ttraining's rmse: 3.99732\tvalid_1's rmse: 3.25941\n",
      "[800]\ttraining's rmse: 3.99284\tvalid_1's rmse: 3.25551\n",
      "[850]\ttraining's rmse: 3.98812\tvalid_1's rmse: 3.25083\n",
      "[900]\ttraining's rmse: 3.98372\tvalid_1's rmse: 3.24719\n",
      "[950]\ttraining's rmse: 3.97969\tvalid_1's rmse: 3.244\n",
      "[1000]\ttraining's rmse: 3.97634\tvalid_1's rmse: 3.24206\n",
      "[1050]\ttraining's rmse: 3.97265\tvalid_1's rmse: 3.23932\n",
      "[1100]\ttraining's rmse: 3.96916\tvalid_1's rmse: 3.23566\n",
      "[1150]\ttraining's rmse: 3.96598\tvalid_1's rmse: 3.23381\n",
      "[1200]\ttraining's rmse: 3.96258\tvalid_1's rmse: 3.23238\n",
      "[1250]\ttraining's rmse: 3.95964\tvalid_1's rmse: 3.23047\n",
      "[1300]\ttraining's rmse: 3.95672\tvalid_1's rmse: 3.22781\n",
      "[1350]\ttraining's rmse: 3.95368\tvalid_1's rmse: 3.22525\n",
      "[1400]\ttraining's rmse: 3.95085\tvalid_1's rmse: 3.22258\n",
      "[1450]\ttraining's rmse: 3.94838\tvalid_1's rmse: 3.22098\n",
      "[1500]\ttraining's rmse: 3.94621\tvalid_1's rmse: 3.22026\n",
      "[1550]\ttraining's rmse: 3.94373\tvalid_1's rmse: 3.21804\n",
      "[1600]\ttraining's rmse: 3.94168\tvalid_1's rmse: 3.21646\n",
      "[1650]\ttraining's rmse: 3.93945\tvalid_1's rmse: 3.2147\n",
      "[1700]\ttraining's rmse: 3.93746\tvalid_1's rmse: 3.21299\n",
      "[1750]\ttraining's rmse: 3.9349\tvalid_1's rmse: 3.21098\n",
      "[1800]\ttraining's rmse: 3.93283\tvalid_1's rmse: 3.20992\n",
      "[1850]\ttraining's rmse: 3.93067\tvalid_1's rmse: 3.20906\n",
      "[1900]\ttraining's rmse: 3.92869\tvalid_1's rmse: 3.20775\n",
      "[1950]\ttraining's rmse: 3.92671\tvalid_1's rmse: 3.20598\n",
      "[2000]\ttraining's rmse: 3.92464\tvalid_1's rmse: 3.20342\n",
      "[2050]\ttraining's rmse: 3.92257\tvalid_1's rmse: 3.20186\n",
      "[2100]\ttraining's rmse: 3.92116\tvalid_1's rmse: 3.20177\n",
      "[2150]\ttraining's rmse: 3.9194\tvalid_1's rmse: 3.19939\n",
      "[2200]\ttraining's rmse: 3.91746\tvalid_1's rmse: 3.19797\n",
      "[2250]\ttraining's rmse: 3.91595\tvalid_1's rmse: 3.19738\n",
      "[2300]\ttraining's rmse: 3.91442\tvalid_1's rmse: 3.19742\n",
      "Early stopping, best iteration is:\n",
      "[2262]\ttraining's rmse: 3.91572\tvalid_1's rmse: 3.197\n",
      "make predictions...\n",
      "Final score mean_squared_error\n",
      "Score train: 3.9157216216207047\n",
      "Score val  : 3.197001709670772\n",
      "Score test : 3.182517932720538\n",
      "saving model.. ../Results/lightgbm/model_v1/model_3.txt\n",
      "********** 5 **********\n",
      "Analyzing store : 5\n",
      "X_train       (93174, 19)\n",
      "y_validation  (5015,)\n",
      "X_test        (3834, 19)\n",
      "X_submission  (2486, 19)\n",
      "Training until validation scores don't improve for 50 rounds\n"
     ]
    },
    {
     "name": "stderr",
     "output_type": "stream",
     "text": [
      "/opt/conda/lib/python3.8/site-packages/lightgbm/engine.py:181: UserWarning: 'early_stopping_rounds' argument is deprecated and will be removed in a future release of LightGBM. Pass 'early_stopping()' callback via 'callbacks' argument instead.\n",
      "  _log_warning(\"'early_stopping_rounds' argument is deprecated and will be removed in a future release of LightGBM. \"\n",
      "/opt/conda/lib/python3.8/site-packages/lightgbm/engine.py:239: UserWarning: 'verbose_eval' argument is deprecated and will be removed in a future release of LightGBM. Pass 'log_evaluation()' callback via 'callbacks' argument instead.\n",
      "  _log_warning(\"'verbose_eval' argument is deprecated and will be removed in a future release of LightGBM. \"\n"
     ]
    },
    {
     "name": "stdout",
     "output_type": "stream",
     "text": [
      "[50]\ttraining's rmse: 2.47962\tvalid_1's rmse: 2.32491\n",
      "[100]\ttraining's rmse: 2.34801\tvalid_1's rmse: 2.20167\n",
      "[150]\ttraining's rmse: 2.28927\tvalid_1's rmse: 2.15409\n",
      "[200]\ttraining's rmse: 2.25676\tvalid_1's rmse: 2.13226\n",
      "[250]\ttraining's rmse: 2.23072\tvalid_1's rmse: 2.1086\n",
      "[300]\ttraining's rmse: 2.20886\tvalid_1's rmse: 2.09053\n",
      "[350]\ttraining's rmse: 2.19141\tvalid_1's rmse: 2.07529\n",
      "[400]\ttraining's rmse: 2.17579\tvalid_1's rmse: 2.06366\n",
      "[450]\ttraining's rmse: 2.16267\tvalid_1's rmse: 2.05214\n",
      "[500]\ttraining's rmse: 2.15162\tvalid_1's rmse: 2.04478\n",
      "[550]\ttraining's rmse: 2.14063\tvalid_1's rmse: 2.03552\n",
      "[600]\ttraining's rmse: 2.13103\tvalid_1's rmse: 2.02874\n",
      "[650]\ttraining's rmse: 2.12125\tvalid_1's rmse: 2.01882\n",
      "[700]\ttraining's rmse: 2.1127\tvalid_1's rmse: 2.01265\n",
      "[750]\ttraining's rmse: 2.10499\tvalid_1's rmse: 2.00583\n",
      "[800]\ttraining's rmse: 2.09769\tvalid_1's rmse: 2.00003\n",
      "[850]\ttraining's rmse: 2.09062\tvalid_1's rmse: 1.99573\n",
      "[900]\ttraining's rmse: 2.08332\tvalid_1's rmse: 1.98847\n",
      "[950]\ttraining's rmse: 2.07727\tvalid_1's rmse: 1.98446\n",
      "[1000]\ttraining's rmse: 2.07122\tvalid_1's rmse: 1.97826\n",
      "[1050]\ttraining's rmse: 2.06517\tvalid_1's rmse: 1.97381\n",
      "[1100]\ttraining's rmse: 2.0589\tvalid_1's rmse: 1.96819\n",
      "[1150]\ttraining's rmse: 2.05359\tvalid_1's rmse: 1.9656\n",
      "[1200]\ttraining's rmse: 2.0483\tvalid_1's rmse: 1.96234\n",
      "[1250]\ttraining's rmse: 2.04367\tvalid_1's rmse: 1.95948\n",
      "[1300]\ttraining's rmse: 2.0385\tvalid_1's rmse: 1.95536\n",
      "[1350]\ttraining's rmse: 2.03439\tvalid_1's rmse: 1.95379\n",
      "[1400]\ttraining's rmse: 2.02993\tvalid_1's rmse: 1.9498\n",
      "[1450]\ttraining's rmse: 2.02605\tvalid_1's rmse: 1.94817\n",
      "[1500]\ttraining's rmse: 2.02231\tvalid_1's rmse: 1.94576\n",
      "[1550]\ttraining's rmse: 2.01875\tvalid_1's rmse: 1.94231\n",
      "[1600]\ttraining's rmse: 2.01485\tvalid_1's rmse: 1.93985\n",
      "[1650]\ttraining's rmse: 2.01171\tvalid_1's rmse: 1.94022\n",
      "Early stopping, best iteration is:\n",
      "[1607]\ttraining's rmse: 2.01433\tvalid_1's rmse: 1.93916\n",
      "make predictions...\n",
      "Final score mean_squared_error\n",
      "Score train: 2.014333311896061\n",
      "Score val  : 1.939155683768336\n",
      "Score test : 1.976394711462801\n",
      "saving model.. ../Results/lightgbm/model_v1/model_5.txt\n",
      "********** 6 **********\n",
      "Analyzing store : 6\n",
      "X_train       (80264, 19)\n",
      "y_validation  (5006,)\n",
      "X_test        (3157, 19)\n",
      "X_submission  (2373, 19)\n",
      "Training until validation scores don't improve for 50 rounds\n"
     ]
    },
    {
     "name": "stderr",
     "output_type": "stream",
     "text": [
      "/opt/conda/lib/python3.8/site-packages/lightgbm/engine.py:181: UserWarning: 'early_stopping_rounds' argument is deprecated and will be removed in a future release of LightGBM. Pass 'early_stopping()' callback via 'callbacks' argument instead.\n",
      "  _log_warning(\"'early_stopping_rounds' argument is deprecated and will be removed in a future release of LightGBM. \"\n",
      "/opt/conda/lib/python3.8/site-packages/lightgbm/engine.py:239: UserWarning: 'verbose_eval' argument is deprecated and will be removed in a future release of LightGBM. Pass 'log_evaluation()' callback via 'callbacks' argument instead.\n",
      "  _log_warning(\"'verbose_eval' argument is deprecated and will be removed in a future release of LightGBM. \"\n"
     ]
    },
    {
     "name": "stdout",
     "output_type": "stream",
     "text": [
      "[50]\ttraining's rmse: 2.76782\tvalid_1's rmse: 3.0511\n",
      "[100]\ttraining's rmse: 2.63136\tvalid_1's rmse: 2.88332\n",
      "[150]\ttraining's rmse: 2.57012\tvalid_1's rmse: 2.80239\n",
      "[200]\ttraining's rmse: 2.53265\tvalid_1's rmse: 2.7574\n",
      "[250]\ttraining's rmse: 2.50642\tvalid_1's rmse: 2.72915\n",
      "[300]\ttraining's rmse: 2.48469\tvalid_1's rmse: 2.70479\n",
      "[350]\ttraining's rmse: 2.467\tvalid_1's rmse: 2.68823\n",
      "[400]\ttraining's rmse: 2.45024\tvalid_1's rmse: 2.67685\n",
      "[450]\ttraining's rmse: 2.43568\tvalid_1's rmse: 2.66318\n",
      "[500]\ttraining's rmse: 2.42404\tvalid_1's rmse: 2.65134\n",
      "[550]\ttraining's rmse: 2.41267\tvalid_1's rmse: 2.64176\n",
      "[600]\ttraining's rmse: 2.40245\tvalid_1's rmse: 2.6328\n",
      "[650]\ttraining's rmse: 2.39343\tvalid_1's rmse: 2.63025\n",
      "[700]\ttraining's rmse: 2.3845\tvalid_1's rmse: 2.62333\n",
      "[750]\ttraining's rmse: 2.37628\tvalid_1's rmse: 2.61675\n",
      "[800]\ttraining's rmse: 2.36888\tvalid_1's rmse: 2.61402\n",
      "[850]\ttraining's rmse: 2.36202\tvalid_1's rmse: 2.60977\n",
      "[900]\ttraining's rmse: 2.35598\tvalid_1's rmse: 2.60645\n",
      "[950]\ttraining's rmse: 2.34949\tvalid_1's rmse: 2.60549\n",
      "[1000]\ttraining's rmse: 2.34322\tvalid_1's rmse: 2.60178\n",
      "[1050]\ttraining's rmse: 2.33698\tvalid_1's rmse: 2.59737\n",
      "[1100]\ttraining's rmse: 2.33159\tvalid_1's rmse: 2.59725\n",
      "Early stopping, best iteration is:\n",
      "[1059]\ttraining's rmse: 2.33589\tvalid_1's rmse: 2.59651\n",
      "make predictions...\n",
      "Final score mean_squared_error\n",
      "Score train: 2.3358860378669655\n",
      "Score val  : 2.596510788442791\n",
      "Score test : 2.3407647108715284\n",
      "saving model.. ../Results/lightgbm/model_v1/model_6.txt\n",
      "********** 7 **********\n",
      "Analyzing store : 7\n",
      "X_train       (99966, 19)\n",
      "y_validation  (5710,)\n",
      "X_test        (3372, 19)\n",
      "X_submission  (2299, 19)\n",
      "Training until validation scores don't improve for 50 rounds\n"
     ]
    },
    {
     "name": "stderr",
     "output_type": "stream",
     "text": [
      "/opt/conda/lib/python3.8/site-packages/lightgbm/engine.py:181: UserWarning: 'early_stopping_rounds' argument is deprecated and will be removed in a future release of LightGBM. Pass 'early_stopping()' callback via 'callbacks' argument instead.\n",
      "  _log_warning(\"'early_stopping_rounds' argument is deprecated and will be removed in a future release of LightGBM. \"\n",
      "/opt/conda/lib/python3.8/site-packages/lightgbm/engine.py:239: UserWarning: 'verbose_eval' argument is deprecated and will be removed in a future release of LightGBM. Pass 'log_evaluation()' callback via 'callbacks' argument instead.\n",
      "  _log_warning(\"'verbose_eval' argument is deprecated and will be removed in a future release of LightGBM. \"\n"
     ]
    },
    {
     "name": "stdout",
     "output_type": "stream",
     "text": [
      "[50]\ttraining's rmse: 3.18127\tvalid_1's rmse: 3.60863\n",
      "[100]\ttraining's rmse: 2.97879\tvalid_1's rmse: 3.36531\n",
      "[150]\ttraining's rmse: 2.88872\tvalid_1's rmse: 3.25743\n",
      "[200]\ttraining's rmse: 2.83447\tvalid_1's rmse: 3.19423\n",
      "[250]\ttraining's rmse: 2.79312\tvalid_1's rmse: 3.17476\n",
      "[300]\ttraining's rmse: 2.75875\tvalid_1's rmse: 3.15836\n",
      "[350]\ttraining's rmse: 2.7303\tvalid_1's rmse: 3.14558\n",
      "[400]\ttraining's rmse: 2.70833\tvalid_1's rmse: 3.14229\n",
      "[450]\ttraining's rmse: 2.68899\tvalid_1's rmse: 3.13465\n",
      "[500]\ttraining's rmse: 2.67225\tvalid_1's rmse: 3.13517\n",
      "Early stopping, best iteration is:\n",
      "[463]\ttraining's rmse: 2.68427\tvalid_1's rmse: 3.13296\n",
      "make predictions...\n",
      "Final score mean_squared_error\n",
      "Score train: 2.684273910901341\n",
      "Score val  : 3.1329557956547056\n",
      "Score test : 3.3985630790389534\n",
      "saving model.. ../Results/lightgbm/model_v1/model_7.txt\n",
      "********** 8 **********\n",
      "Analyzing store : 8\n",
      "X_train       (78970, 19)\n",
      "y_validation  (4549,)\n",
      "X_test        (3306, 19)\n",
      "X_submission  (2434, 19)\n",
      "Training until validation scores don't improve for 50 rounds\n"
     ]
    },
    {
     "name": "stderr",
     "output_type": "stream",
     "text": [
      "/opt/conda/lib/python3.8/site-packages/lightgbm/engine.py:181: UserWarning: 'early_stopping_rounds' argument is deprecated and will be removed in a future release of LightGBM. Pass 'early_stopping()' callback via 'callbacks' argument instead.\n",
      "  _log_warning(\"'early_stopping_rounds' argument is deprecated and will be removed in a future release of LightGBM. \"\n",
      "/opt/conda/lib/python3.8/site-packages/lightgbm/engine.py:239: UserWarning: 'verbose_eval' argument is deprecated and will be removed in a future release of LightGBM. Pass 'log_evaluation()' callback via 'callbacks' argument instead.\n",
      "  _log_warning(\"'verbose_eval' argument is deprecated and will be removed in a future release of LightGBM. \"\n"
     ]
    },
    {
     "name": "stdout",
     "output_type": "stream",
     "text": [
      "[50]\ttraining's rmse: 2.09465\tvalid_1's rmse: 2.99178\n",
      "[100]\ttraining's rmse: 1.98844\tvalid_1's rmse: 2.85093\n",
      "[150]\ttraining's rmse: 1.94925\tvalid_1's rmse: 2.79057\n",
      "[200]\ttraining's rmse: 1.92797\tvalid_1's rmse: 2.76171\n",
      "[250]\ttraining's rmse: 1.91276\tvalid_1's rmse: 2.74846\n",
      "[300]\ttraining's rmse: 1.90082\tvalid_1's rmse: 2.74019\n",
      "[350]\ttraining's rmse: 1.89057\tvalid_1's rmse: 2.73641\n",
      "[400]\ttraining's rmse: 1.88235\tvalid_1's rmse: 2.73058\n",
      "[450]\ttraining's rmse: 1.87474\tvalid_1's rmse: 2.7274\n",
      "[500]\ttraining's rmse: 1.86847\tvalid_1's rmse: 2.7255\n",
      "[550]\ttraining's rmse: 1.86239\tvalid_1's rmse: 2.72618\n",
      "Early stopping, best iteration is:\n",
      "[510]\ttraining's rmse: 1.86731\tvalid_1's rmse: 2.72497\n",
      "make predictions...\n",
      "Final score mean_squared_error\n",
      "Score train: 1.867306069345089\n",
      "Score val  : 2.7249722581334024\n",
      "Score test : 2.0986422103777005\n",
      "saving model.. ../Results/lightgbm/model_v1/model_8.txt\n",
      "********** 9 **********\n",
      "Analyzing store : 9\n",
      "X_train       (82191, 19)\n",
      "y_validation  (4537,)\n",
      "X_test        (3651, 19)\n",
      "X_submission  (2685, 19)\n",
      "Training until validation scores don't improve for 50 rounds\n"
     ]
    },
    {
     "name": "stderr",
     "output_type": "stream",
     "text": [
      "/opt/conda/lib/python3.8/site-packages/lightgbm/engine.py:181: UserWarning: 'early_stopping_rounds' argument is deprecated and will be removed in a future release of LightGBM. Pass 'early_stopping()' callback via 'callbacks' argument instead.\n",
      "  _log_warning(\"'early_stopping_rounds' argument is deprecated and will be removed in a future release of LightGBM. \"\n",
      "/opt/conda/lib/python3.8/site-packages/lightgbm/engine.py:239: UserWarning: 'verbose_eval' argument is deprecated and will be removed in a future release of LightGBM. Pass 'log_evaluation()' callback via 'callbacks' argument instead.\n",
      "  _log_warning(\"'verbose_eval' argument is deprecated and will be removed in a future release of LightGBM. \"\n"
     ]
    },
    {
     "name": "stdout",
     "output_type": "stream",
     "text": [
      "[50]\ttraining's rmse: 2.2374\tvalid_1's rmse: 1.95819\n",
      "[100]\ttraining's rmse: 2.13923\tvalid_1's rmse: 1.8622\n",
      "[150]\ttraining's rmse: 2.10014\tvalid_1's rmse: 1.82902\n",
      "[200]\ttraining's rmse: 2.07253\tvalid_1's rmse: 1.80927\n",
      "[250]\ttraining's rmse: 2.05096\tvalid_1's rmse: 1.79269\n",
      "[300]\ttraining's rmse: 2.03193\tvalid_1's rmse: 1.7763\n",
      "[350]\ttraining's rmse: 2.01673\tvalid_1's rmse: 1.7644\n",
      "[400]\ttraining's rmse: 2.00304\tvalid_1's rmse: 1.75349\n",
      "[450]\ttraining's rmse: 1.99144\tvalid_1's rmse: 1.74366\n",
      "[500]\ttraining's rmse: 1.98025\tvalid_1's rmse: 1.73421\n",
      "[550]\ttraining's rmse: 1.97161\tvalid_1's rmse: 1.72742\n",
      "[600]\ttraining's rmse: 1.96213\tvalid_1's rmse: 1.72009\n",
      "[650]\ttraining's rmse: 1.9539\tvalid_1's rmse: 1.71294\n",
      "[700]\ttraining's rmse: 1.94528\tvalid_1's rmse: 1.70554\n",
      "[750]\ttraining's rmse: 1.93687\tvalid_1's rmse: 1.69915\n",
      "[800]\ttraining's rmse: 1.92976\tvalid_1's rmse: 1.69299\n",
      "[850]\ttraining's rmse: 1.92323\tvalid_1's rmse: 1.68959\n",
      "[900]\ttraining's rmse: 1.91594\tvalid_1's rmse: 1.68279\n",
      "[950]\ttraining's rmse: 1.91051\tvalid_1's rmse: 1.6785\n",
      "[1000]\ttraining's rmse: 1.90436\tvalid_1's rmse: 1.67329\n",
      "[1050]\ttraining's rmse: 1.898\tvalid_1's rmse: 1.66801\n",
      "[1100]\ttraining's rmse: 1.89246\tvalid_1's rmse: 1.6647\n",
      "[1150]\ttraining's rmse: 1.8872\tvalid_1's rmse: 1.66173\n",
      "[1200]\ttraining's rmse: 1.88212\tvalid_1's rmse: 1.65772\n",
      "[1250]\ttraining's rmse: 1.87748\tvalid_1's rmse: 1.65451\n",
      "[1300]\ttraining's rmse: 1.87272\tvalid_1's rmse: 1.65157\n",
      "[1350]\ttraining's rmse: 1.86784\tvalid_1's rmse: 1.64905\n",
      "[1400]\ttraining's rmse: 1.8637\tvalid_1's rmse: 1.64594\n",
      "[1450]\ttraining's rmse: 1.85998\tvalid_1's rmse: 1.64348\n",
      "[1500]\ttraining's rmse: 1.85648\tvalid_1's rmse: 1.64188\n",
      "[1550]\ttraining's rmse: 1.8529\tvalid_1's rmse: 1.64035\n",
      "[1600]\ttraining's rmse: 1.84915\tvalid_1's rmse: 1.63834\n",
      "[1650]\ttraining's rmse: 1.84563\tvalid_1's rmse: 1.63652\n",
      "[1700]\ttraining's rmse: 1.84285\tvalid_1's rmse: 1.63574\n",
      "[1750]\ttraining's rmse: 1.83953\tvalid_1's rmse: 1.63379\n",
      "[1800]\ttraining's rmse: 1.83695\tvalid_1's rmse: 1.63278\n",
      "[1850]\ttraining's rmse: 1.83345\tvalid_1's rmse: 1.63143\n",
      "[1900]\ttraining's rmse: 1.83043\tvalid_1's rmse: 1.63022\n",
      "[1950]\ttraining's rmse: 1.82749\tvalid_1's rmse: 1.62916\n",
      "[2000]\ttraining's rmse: 1.82417\tvalid_1's rmse: 1.62878\n",
      "[2050]\ttraining's rmse: 1.82154\tvalid_1's rmse: 1.62698\n",
      "[2100]\ttraining's rmse: 1.81867\tvalid_1's rmse: 1.6254\n",
      "[2150]\ttraining's rmse: 1.81638\tvalid_1's rmse: 1.62369\n",
      "[2200]\ttraining's rmse: 1.81438\tvalid_1's rmse: 1.62342\n",
      "[2250]\ttraining's rmse: 1.8121\tvalid_1's rmse: 1.62287\n",
      "[2300]\ttraining's rmse: 1.80988\tvalid_1's rmse: 1.6223\n",
      "[2350]\ttraining's rmse: 1.80725\tvalid_1's rmse: 1.62074\n",
      "[2400]\ttraining's rmse: 1.8048\tvalid_1's rmse: 1.61991\n",
      "[2450]\ttraining's rmse: 1.80319\tvalid_1's rmse: 1.62035\n",
      "Early stopping, best iteration is:\n",
      "[2404]\ttraining's rmse: 1.80452\tvalid_1's rmse: 1.61955\n",
      "make predictions...\n",
      "Final score mean_squared_error\n",
      "Score train: 1.8045195331908614\n",
      "Score val  : 1.6195454100047024\n",
      "Score test : 1.880148810762532\n",
      "saving model.. ../Results/lightgbm/model_v1/model_9.txt\n",
      "********** 10 **********\n",
      "Analyzing store : 10\n",
      "X_train       (88103, 19)\n",
      "y_validation  (6206,)\n",
      "X_test        (4124, 19)\n",
      "X_submission  (3216, 19)\n",
      "Training until validation scores don't improve for 50 rounds\n"
     ]
    },
    {
     "name": "stderr",
     "output_type": "stream",
     "text": [
      "/opt/conda/lib/python3.8/site-packages/lightgbm/engine.py:181: UserWarning: 'early_stopping_rounds' argument is deprecated and will be removed in a future release of LightGBM. Pass 'early_stopping()' callback via 'callbacks' argument instead.\n",
      "  _log_warning(\"'early_stopping_rounds' argument is deprecated and will be removed in a future release of LightGBM. \"\n",
      "/opt/conda/lib/python3.8/site-packages/lightgbm/engine.py:239: UserWarning: 'verbose_eval' argument is deprecated and will be removed in a future release of LightGBM. Pass 'log_evaluation()' callback via 'callbacks' argument instead.\n",
      "  _log_warning(\"'verbose_eval' argument is deprecated and will be removed in a future release of LightGBM. \"\n"
     ]
    },
    {
     "name": "stdout",
     "output_type": "stream",
     "text": [
      "[50]\ttraining's rmse: 3.04009\tvalid_1's rmse: 3.31956\n",
      "[100]\ttraining's rmse: 2.8918\tvalid_1's rmse: 3.1451\n",
      "[150]\ttraining's rmse: 2.83051\tvalid_1's rmse: 3.07011\n",
      "[200]\ttraining's rmse: 2.79176\tvalid_1's rmse: 3.03173\n",
      "[250]\ttraining's rmse: 2.76047\tvalid_1's rmse: 3.01552\n",
      "[300]\ttraining's rmse: 2.73495\tvalid_1's rmse: 3.00174\n",
      "[350]\ttraining's rmse: 2.71257\tvalid_1's rmse: 2.99252\n",
      "[400]\ttraining's rmse: 2.69337\tvalid_1's rmse: 2.98606\n",
      "[450]\ttraining's rmse: 2.67442\tvalid_1's rmse: 2.97763\n",
      "[500]\ttraining's rmse: 2.65786\tvalid_1's rmse: 2.97997\n",
      "Early stopping, best iteration is:\n",
      "[471]\ttraining's rmse: 2.66709\tvalid_1's rmse: 2.977\n",
      "make predictions...\n",
      "Final score mean_squared_error\n",
      "Score train: 2.6670933701453077\n",
      "Score val  : 2.9769952079654893\n",
      "Score test : 2.7537473223653883\n",
      "saving model.. ../Results/lightgbm/model_v1/model_10.txt\n",
      "********** 12 **********\n",
      "Analyzing store : 12\n",
      "X_train       (92915, 19)\n",
      "y_validation  (6206,)\n",
      "X_test        (3969, 19)\n",
      "X_submission  (2804, 19)\n",
      "Training until validation scores don't improve for 50 rounds\n"
     ]
    },
    {
     "name": "stderr",
     "output_type": "stream",
     "text": [
      "/opt/conda/lib/python3.8/site-packages/lightgbm/engine.py:181: UserWarning: 'early_stopping_rounds' argument is deprecated and will be removed in a future release of LightGBM. Pass 'early_stopping()' callback via 'callbacks' argument instead.\n",
      "  _log_warning(\"'early_stopping_rounds' argument is deprecated and will be removed in a future release of LightGBM. \"\n",
      "/opt/conda/lib/python3.8/site-packages/lightgbm/engine.py:239: UserWarning: 'verbose_eval' argument is deprecated and will be removed in a future release of LightGBM. Pass 'log_evaluation()' callback via 'callbacks' argument instead.\n",
      "  _log_warning(\"'verbose_eval' argument is deprecated and will be removed in a future release of LightGBM. \"\n"
     ]
    },
    {
     "name": "stdout",
     "output_type": "stream",
     "text": [
      "[50]\ttraining's rmse: 2.52547\tvalid_1's rmse: 2.9937\n",
      "[100]\ttraining's rmse: 2.39873\tvalid_1's rmse: 2.83203\n",
      "[150]\ttraining's rmse: 2.33771\tvalid_1's rmse: 2.7503\n",
      "[200]\ttraining's rmse: 2.29673\tvalid_1's rmse: 2.6971\n",
      "[250]\ttraining's rmse: 2.26606\tvalid_1's rmse: 2.66607\n",
      "[300]\ttraining's rmse: 2.23938\tvalid_1's rmse: 2.64161\n",
      "[350]\ttraining's rmse: 2.21643\tvalid_1's rmse: 2.62621\n",
      "[400]\ttraining's rmse: 2.19513\tvalid_1's rmse: 2.61298\n",
      "[450]\ttraining's rmse: 2.17846\tvalid_1's rmse: 2.60424\n",
      "[500]\ttraining's rmse: 2.1636\tvalid_1's rmse: 2.60192\n",
      "[550]\ttraining's rmse: 2.15024\tvalid_1's rmse: 2.59743\n",
      "[600]\ttraining's rmse: 2.13853\tvalid_1's rmse: 2.59421\n",
      "[650]\ttraining's rmse: 2.12832\tvalid_1's rmse: 2.59183\n",
      "[700]\ttraining's rmse: 2.11807\tvalid_1's rmse: 2.59013\n",
      "[750]\ttraining's rmse: 2.10886\tvalid_1's rmse: 2.58807\n",
      "Early stopping, best iteration is:\n",
      "[723]\ttraining's rmse: 2.11326\tvalid_1's rmse: 2.58697\n",
      "make predictions...\n",
      "Final score mean_squared_error\n",
      "Score train: 2.113262069395885\n",
      "Score val  : 2.5869709554149733\n",
      "Score test : 2.3932023157917044\n",
      "saving model.. ../Results/lightgbm/model_v1/model_12.txt\n",
      "********** 13 **********\n",
      "Analyzing store : 13\n",
      "X_train       (109669, 19)\n",
      "y_validation  (6855,)\n",
      "X_test        (4483, 19)\n",
      "X_submission  (3452, 19)\n",
      "Training until validation scores don't improve for 50 rounds\n"
     ]
    },
    {
     "name": "stderr",
     "output_type": "stream",
     "text": [
      "/opt/conda/lib/python3.8/site-packages/lightgbm/engine.py:181: UserWarning: 'early_stopping_rounds' argument is deprecated and will be removed in a future release of LightGBM. Pass 'early_stopping()' callback via 'callbacks' argument instead.\n",
      "  _log_warning(\"'early_stopping_rounds' argument is deprecated and will be removed in a future release of LightGBM. \"\n",
      "/opt/conda/lib/python3.8/site-packages/lightgbm/engine.py:239: UserWarning: 'verbose_eval' argument is deprecated and will be removed in a future release of LightGBM. Pass 'log_evaluation()' callback via 'callbacks' argument instead.\n",
      "  _log_warning(\"'verbose_eval' argument is deprecated and will be removed in a future release of LightGBM. \"\n"
     ]
    },
    {
     "name": "stdout",
     "output_type": "stream",
     "text": [
      "[50]\ttraining's rmse: 2.87324\tvalid_1's rmse: 2.98171\n",
      "[100]\ttraining's rmse: 2.70532\tvalid_1's rmse: 2.79008\n",
      "[150]\ttraining's rmse: 2.62781\tvalid_1's rmse: 2.69755\n",
      "[200]\ttraining's rmse: 2.58186\tvalid_1's rmse: 2.64155\n",
      "[250]\ttraining's rmse: 2.54357\tvalid_1's rmse: 2.59777\n",
      "[300]\ttraining's rmse: 2.5157\tvalid_1's rmse: 2.56309\n",
      "[350]\ttraining's rmse: 2.4955\tvalid_1's rmse: 2.54735\n",
      "[400]\ttraining's rmse: 2.47817\tvalid_1's rmse: 2.53941\n",
      "[450]\ttraining's rmse: 2.46466\tvalid_1's rmse: 2.53199\n",
      "[500]\ttraining's rmse: 2.45265\tvalid_1's rmse: 2.52407\n",
      "[550]\ttraining's rmse: 2.44185\tvalid_1's rmse: 2.52294\n",
      "[600]\ttraining's rmse: 2.43114\tvalid_1's rmse: 2.51227\n",
      "[650]\ttraining's rmse: 2.42183\tvalid_1's rmse: 2.50873\n",
      "[700]\ttraining's rmse: 2.413\tvalid_1's rmse: 2.50269\n",
      "[750]\ttraining's rmse: 2.40496\tvalid_1's rmse: 2.50002\n",
      "Early stopping, best iteration is:\n",
      "[732]\ttraining's rmse: 2.40734\tvalid_1's rmse: 2.49884\n",
      "make predictions...\n",
      "Final score mean_squared_error\n",
      "Score train: 2.4073357772336403\n",
      "Score val  : 2.4988372716268232\n",
      "Score test : 2.3550346171654\n",
      "saving model.. ../Results/lightgbm/model_v1/model_13.txt\n",
      "********** 14 **********\n",
      "Analyzing store : 14\n",
      "X_train       (95439, 19)\n",
      "y_validation  (5331,)\n",
      "X_test        (3456, 19)\n",
      "X_submission  (2728, 19)\n",
      "Training until validation scores don't improve for 50 rounds\n"
     ]
    },
    {
     "name": "stderr",
     "output_type": "stream",
     "text": [
      "/opt/conda/lib/python3.8/site-packages/lightgbm/engine.py:181: UserWarning: 'early_stopping_rounds' argument is deprecated and will be removed in a future release of LightGBM. Pass 'early_stopping()' callback via 'callbacks' argument instead.\n",
      "  _log_warning(\"'early_stopping_rounds' argument is deprecated and will be removed in a future release of LightGBM. \"\n",
      "/opt/conda/lib/python3.8/site-packages/lightgbm/engine.py:239: UserWarning: 'verbose_eval' argument is deprecated and will be removed in a future release of LightGBM. Pass 'log_evaluation()' callback via 'callbacks' argument instead.\n",
      "  _log_warning(\"'verbose_eval' argument is deprecated and will be removed in a future release of LightGBM. \"\n"
     ]
    },
    {
     "name": "stdout",
     "output_type": "stream",
     "text": [
      "[50]\ttraining's rmse: 2.29214\tvalid_1's rmse: 1.83371\n",
      "[100]\ttraining's rmse: 2.18488\tvalid_1's rmse: 1.76387\n",
      "[150]\ttraining's rmse: 2.14042\tvalid_1's rmse: 1.74759\n",
      "[200]\ttraining's rmse: 2.11512\tvalid_1's rmse: 1.73797\n",
      "[250]\ttraining's rmse: 2.09594\tvalid_1's rmse: 1.73074\n",
      "[300]\ttraining's rmse: 2.07997\tvalid_1's rmse: 1.72312\n",
      "[350]\ttraining's rmse: 2.0676\tvalid_1's rmse: 1.71736\n",
      "[400]\ttraining's rmse: 2.05612\tvalid_1's rmse: 1.71094\n",
      "[450]\ttraining's rmse: 2.04624\tvalid_1's rmse: 1.70458\n",
      "[500]\ttraining's rmse: 2.03759\tvalid_1's rmse: 1.69926\n",
      "[550]\ttraining's rmse: 2.02897\tvalid_1's rmse: 1.69553\n",
      "[600]\ttraining's rmse: 2.02148\tvalid_1's rmse: 1.69074\n",
      "[650]\ttraining's rmse: 2.01466\tvalid_1's rmse: 1.68857\n",
      "[700]\ttraining's rmse: 2.00801\tvalid_1's rmse: 1.68496\n",
      "[750]\ttraining's rmse: 2.00179\tvalid_1's rmse: 1.68216\n",
      "[800]\ttraining's rmse: 1.99713\tvalid_1's rmse: 1.68004\n",
      "[850]\ttraining's rmse: 1.99238\tvalid_1's rmse: 1.6783\n",
      "[900]\ttraining's rmse: 1.988\tvalid_1's rmse: 1.6756\n",
      "[950]\ttraining's rmse: 1.98371\tvalid_1's rmse: 1.67498\n",
      "[1000]\ttraining's rmse: 1.97924\tvalid_1's rmse: 1.67207\n",
      "[1050]\ttraining's rmse: 1.97486\tvalid_1's rmse: 1.66991\n",
      "[1100]\ttraining's rmse: 1.97123\tvalid_1's rmse: 1.66897\n",
      "[1150]\ttraining's rmse: 1.96771\tvalid_1's rmse: 1.6684\n",
      "[1200]\ttraining's rmse: 1.96407\tvalid_1's rmse: 1.66685\n",
      "[1250]\ttraining's rmse: 1.9613\tvalid_1's rmse: 1.66618\n",
      "[1300]\ttraining's rmse: 1.9575\tvalid_1's rmse: 1.66382\n",
      "[1350]\ttraining's rmse: 1.95408\tvalid_1's rmse: 1.66354\n",
      "[1400]\ttraining's rmse: 1.95083\tvalid_1's rmse: 1.66153\n",
      "[1450]\ttraining's rmse: 1.94803\tvalid_1's rmse: 1.66082\n",
      "[1500]\ttraining's rmse: 1.9451\tvalid_1's rmse: 1.65954\n",
      "[1550]\ttraining's rmse: 1.94271\tvalid_1's rmse: 1.65781\n",
      "[1600]\ttraining's rmse: 1.94013\tvalid_1's rmse: 1.65676\n",
      "[1650]\ttraining's rmse: 1.93771\tvalid_1's rmse: 1.65569\n",
      "[1700]\ttraining's rmse: 1.93489\tvalid_1's rmse: 1.65607\n",
      "[1750]\ttraining's rmse: 1.93233\tvalid_1's rmse: 1.65501\n",
      "[1800]\ttraining's rmse: 1.93018\tvalid_1's rmse: 1.65528\n",
      "Early stopping, best iteration is:\n",
      "[1758]\ttraining's rmse: 1.93205\tvalid_1's rmse: 1.65458\n",
      "make predictions...\n",
      "Final score mean_squared_error\n",
      "Score train: 1.9320509553016567\n",
      "Score val  : 1.6545846449377617\n",
      "Score test : 1.7526662869432936\n",
      "saving model.. ../Results/lightgbm/model_v1/model_14.txt\n",
      "********** 15 **********\n",
      "Analyzing store : 15\n",
      "X_train       (87223, 19)\n",
      "y_validation  (4879,)\n",
      "X_test        (2844, 19)\n",
      "X_submission  (2218, 19)\n",
      "Training until validation scores don't improve for 50 rounds\n"
     ]
    },
    {
     "name": "stderr",
     "output_type": "stream",
     "text": [
      "/opt/conda/lib/python3.8/site-packages/lightgbm/engine.py:181: UserWarning: 'early_stopping_rounds' argument is deprecated and will be removed in a future release of LightGBM. Pass 'early_stopping()' callback via 'callbacks' argument instead.\n",
      "  _log_warning(\"'early_stopping_rounds' argument is deprecated and will be removed in a future release of LightGBM. \"\n",
      "/opt/conda/lib/python3.8/site-packages/lightgbm/engine.py:239: UserWarning: 'verbose_eval' argument is deprecated and will be removed in a future release of LightGBM. Pass 'log_evaluation()' callback via 'callbacks' argument instead.\n",
      "  _log_warning(\"'verbose_eval' argument is deprecated and will be removed in a future release of LightGBM. \"\n"
     ]
    },
    {
     "name": "stdout",
     "output_type": "stream",
     "text": [
      "[50]\ttraining's rmse: 2.39061\tvalid_1's rmse: 2.03671\n",
      "[100]\ttraining's rmse: 2.26642\tvalid_1's rmse: 1.93962\n",
      "[150]\ttraining's rmse: 2.21749\tvalid_1's rmse: 1.90593\n",
      "[200]\ttraining's rmse: 2.18811\tvalid_1's rmse: 1.89195\n",
      "[250]\ttraining's rmse: 2.16629\tvalid_1's rmse: 1.8835\n",
      "[300]\ttraining's rmse: 2.14823\tvalid_1's rmse: 1.88011\n",
      "[350]\ttraining's rmse: 2.13546\tvalid_1's rmse: 1.87724\n",
      "[400]\ttraining's rmse: 2.12404\tvalid_1's rmse: 1.8769\n",
      "[450]\ttraining's rmse: 2.11393\tvalid_1's rmse: 1.87519\n",
      "[500]\ttraining's rmse: 2.10517\tvalid_1's rmse: 1.8752\n",
      "Early stopping, best iteration is:\n",
      "[475]\ttraining's rmse: 2.10925\tvalid_1's rmse: 1.8743\n",
      "make predictions...\n",
      "Final score mean_squared_error\n",
      "Score train: 2.1092502463010967\n",
      "Score val  : 1.8742964164326663\n",
      "Score test : 1.8755202148199521\n",
      "saving model.. ../Results/lightgbm/model_v1/model_15.txt\n",
      "********** 16 **********\n",
      "Analyzing store : 16\n",
      "X_train       (85251, 19)\n",
      "y_validation  (4735,)\n",
      "X_test        (3041, 19)\n",
      "X_submission  (2448, 19)\n",
      "Training until validation scores don't improve for 50 rounds\n"
     ]
    },
    {
     "name": "stderr",
     "output_type": "stream",
     "text": [
      "/opt/conda/lib/python3.8/site-packages/lightgbm/engine.py:181: UserWarning: 'early_stopping_rounds' argument is deprecated and will be removed in a future release of LightGBM. Pass 'early_stopping()' callback via 'callbacks' argument instead.\n",
      "  _log_warning(\"'early_stopping_rounds' argument is deprecated and will be removed in a future release of LightGBM. \"\n",
      "/opt/conda/lib/python3.8/site-packages/lightgbm/engine.py:239: UserWarning: 'verbose_eval' argument is deprecated and will be removed in a future release of LightGBM. Pass 'log_evaluation()' callback via 'callbacks' argument instead.\n",
      "  _log_warning(\"'verbose_eval' argument is deprecated and will be removed in a future release of LightGBM. \"\n"
     ]
    },
    {
     "name": "stdout",
     "output_type": "stream",
     "text": [
      "[50]\ttraining's rmse: 3.37069\tvalid_1's rmse: 3.35601\n",
      "[100]\ttraining's rmse: 3.15855\tvalid_1's rmse: 3.13429\n",
      "[150]\ttraining's rmse: 3.05535\tvalid_1's rmse: 3.04718\n",
      "[200]\ttraining's rmse: 2.98703\tvalid_1's rmse: 3.00498\n",
      "[250]\ttraining's rmse: 2.92886\tvalid_1's rmse: 2.97693\n",
      "[300]\ttraining's rmse: 2.88296\tvalid_1's rmse: 2.94706\n",
      "[350]\ttraining's rmse: 2.84488\tvalid_1's rmse: 2.93526\n",
      "[400]\ttraining's rmse: 2.81367\tvalid_1's rmse: 2.9243\n",
      "[450]\ttraining's rmse: 2.78679\tvalid_1's rmse: 2.91501\n",
      "[500]\ttraining's rmse: 2.76385\tvalid_1's rmse: 2.9149\n",
      "[550]\ttraining's rmse: 2.74201\tvalid_1's rmse: 2.90369\n",
      "[600]\ttraining's rmse: 2.72188\tvalid_1's rmse: 2.89978\n",
      "[650]\ttraining's rmse: 2.70597\tvalid_1's rmse: 2.89446\n",
      "[700]\ttraining's rmse: 2.68792\tvalid_1's rmse: 2.89027\n",
      "[750]\ttraining's rmse: 2.67277\tvalid_1's rmse: 2.88347\n",
      "[800]\ttraining's rmse: 2.65849\tvalid_1's rmse: 2.879\n",
      "[850]\ttraining's rmse: 2.64666\tvalid_1's rmse: 2.87751\n",
      "[900]\ttraining's rmse: 2.63525\tvalid_1's rmse: 2.87329\n",
      "[950]\ttraining's rmse: 2.62408\tvalid_1's rmse: 2.87215\n",
      "Early stopping, best iteration is:\n",
      "[925]\ttraining's rmse: 2.62942\tvalid_1's rmse: 2.87028\n",
      "make predictions...\n",
      "Final score mean_squared_error\n",
      "Score train: 2.6294161738004163\n",
      "Score val  : 2.8702779112377415\n",
      "Score test : 2.8699558869469497\n",
      "saving model.. ../Results/lightgbm/model_v1/model_16.txt\n",
      "********** 17 **********\n",
      "Analyzing store : 17\n",
      "X_train       (85074, 19)\n",
      "y_validation  (5406,)\n",
      "X_test        (3808, 19)\n",
      "X_submission  (2735, 19)\n",
      "Training until validation scores don't improve for 50 rounds\n"
     ]
    },
    {
     "name": "stderr",
     "output_type": "stream",
     "text": [
      "/opt/conda/lib/python3.8/site-packages/lightgbm/engine.py:181: UserWarning: 'early_stopping_rounds' argument is deprecated and will be removed in a future release of LightGBM. Pass 'early_stopping()' callback via 'callbacks' argument instead.\n",
      "  _log_warning(\"'early_stopping_rounds' argument is deprecated and will be removed in a future release of LightGBM. \"\n",
      "/opt/conda/lib/python3.8/site-packages/lightgbm/engine.py:239: UserWarning: 'verbose_eval' argument is deprecated and will be removed in a future release of LightGBM. Pass 'log_evaluation()' callback via 'callbacks' argument instead.\n",
      "  _log_warning(\"'verbose_eval' argument is deprecated and will be removed in a future release of LightGBM. \"\n"
     ]
    },
    {
     "name": "stdout",
     "output_type": "stream",
     "text": [
      "[50]\ttraining's rmse: 3.14654\tvalid_1's rmse: 3.26516\n",
      "[100]\ttraining's rmse: 3.00507\tvalid_1's rmse: 3.09686\n",
      "[150]\ttraining's rmse: 2.9459\tvalid_1's rmse: 3.02741\n",
      "[200]\ttraining's rmse: 2.91162\tvalid_1's rmse: 2.99354\n",
      "[250]\ttraining's rmse: 2.88675\tvalid_1's rmse: 2.96915\n",
      "[300]\ttraining's rmse: 2.86664\tvalid_1's rmse: 2.94641\n",
      "[350]\ttraining's rmse: 2.8483\tvalid_1's rmse: 2.92604\n",
      "[400]\ttraining's rmse: 2.83208\tvalid_1's rmse: 2.90862\n",
      "[450]\ttraining's rmse: 2.81741\tvalid_1's rmse: 2.89396\n",
      "[500]\ttraining's rmse: 2.80482\tvalid_1's rmse: 2.88614\n",
      "[550]\ttraining's rmse: 2.79129\tvalid_1's rmse: 2.87447\n",
      "[600]\ttraining's rmse: 2.78088\tvalid_1's rmse: 2.86569\n",
      "[650]\ttraining's rmse: 2.77072\tvalid_1's rmse: 2.85795\n",
      "[700]\ttraining's rmse: 2.75924\tvalid_1's rmse: 2.84731\n",
      "[750]\ttraining's rmse: 2.74899\tvalid_1's rmse: 2.84027\n",
      "[800]\ttraining's rmse: 2.74045\tvalid_1's rmse: 2.83689\n",
      "[850]\ttraining's rmse: 2.73233\tvalid_1's rmse: 2.83135\n",
      "[900]\ttraining's rmse: 2.72485\tvalid_1's rmse: 2.82698\n",
      "[950]\ttraining's rmse: 2.71716\tvalid_1's rmse: 2.8213\n",
      "[1000]\ttraining's rmse: 2.70945\tvalid_1's rmse: 2.81673\n",
      "[1050]\ttraining's rmse: 2.70324\tvalid_1's rmse: 2.81456\n",
      "[1100]\ttraining's rmse: 2.69714\tvalid_1's rmse: 2.81176\n",
      "[1150]\ttraining's rmse: 2.6907\tvalid_1's rmse: 2.80971\n",
      "[1200]\ttraining's rmse: 2.68449\tvalid_1's rmse: 2.80552\n",
      "[1250]\ttraining's rmse: 2.67899\tvalid_1's rmse: 2.80485\n",
      "Early stopping, best iteration is:\n",
      "[1246]\ttraining's rmse: 2.67938\tvalid_1's rmse: 2.80388\n",
      "make predictions...\n",
      "Final score mean_squared_error\n",
      "Score train: 2.6793753535315417\n",
      "Score val  : 2.803882086256058\n",
      "Score test : 2.800628676377368\n",
      "saving model.. ../Results/lightgbm/model_v1/model_17.txt\n",
      "********** 18 **********\n",
      "Analyzing store : 18\n",
      "X_train       (91593, 19)\n",
      "y_validation  (5178,)\n",
      "X_test        (3963, 19)\n",
      "X_submission  (3223, 19)\n",
      "Training until validation scores don't improve for 50 rounds\n"
     ]
    },
    {
     "name": "stderr",
     "output_type": "stream",
     "text": [
      "/opt/conda/lib/python3.8/site-packages/lightgbm/engine.py:181: UserWarning: 'early_stopping_rounds' argument is deprecated and will be removed in a future release of LightGBM. Pass 'early_stopping()' callback via 'callbacks' argument instead.\n",
      "  _log_warning(\"'early_stopping_rounds' argument is deprecated and will be removed in a future release of LightGBM. \"\n",
      "/opt/conda/lib/python3.8/site-packages/lightgbm/engine.py:239: UserWarning: 'verbose_eval' argument is deprecated and will be removed in a future release of LightGBM. Pass 'log_evaluation()' callback via 'callbacks' argument instead.\n",
      "  _log_warning(\"'verbose_eval' argument is deprecated and will be removed in a future release of LightGBM. \"\n"
     ]
    },
    {
     "name": "stdout",
     "output_type": "stream",
     "text": [
      "[50]\ttraining's rmse: 2.85713\tvalid_1's rmse: 2.20653\n",
      "[100]\ttraining's rmse: 2.74197\tvalid_1's rmse: 2.12233\n",
      "[150]\ttraining's rmse: 2.69641\tvalid_1's rmse: 2.09658\n",
      "[200]\ttraining's rmse: 2.66753\tvalid_1's rmse: 2.08414\n",
      "[250]\ttraining's rmse: 2.64423\tvalid_1's rmse: 2.0737\n",
      "[300]\ttraining's rmse: 2.62591\tvalid_1's rmse: 2.0667\n",
      "[350]\ttraining's rmse: 2.61121\tvalid_1's rmse: 2.05983\n",
      "[400]\ttraining's rmse: 2.59808\tvalid_1's rmse: 2.05565\n",
      "[450]\ttraining's rmse: 2.58651\tvalid_1's rmse: 2.05064\n",
      "[500]\ttraining's rmse: 2.57663\tvalid_1's rmse: 2.04761\n",
      "[550]\ttraining's rmse: 2.56637\tvalid_1's rmse: 2.04471\n",
      "[600]\ttraining's rmse: 2.55671\tvalid_1's rmse: 2.0417\n",
      "[650]\ttraining's rmse: 2.54765\tvalid_1's rmse: 2.03815\n",
      "[700]\ttraining's rmse: 2.5392\tvalid_1's rmse: 2.03402\n",
      "[750]\ttraining's rmse: 2.53036\tvalid_1's rmse: 2.03234\n",
      "[800]\ttraining's rmse: 2.52268\tvalid_1's rmse: 2.0308\n",
      "[850]\ttraining's rmse: 2.51598\tvalid_1's rmse: 2.02877\n",
      "[900]\ttraining's rmse: 2.50887\tvalid_1's rmse: 2.02752\n",
      "[950]\ttraining's rmse: 2.50245\tvalid_1's rmse: 2.02572\n",
      "[1000]\ttraining's rmse: 2.49598\tvalid_1's rmse: 2.02438\n",
      "[1050]\ttraining's rmse: 2.48973\tvalid_1's rmse: 2.02327\n",
      "[1100]\ttraining's rmse: 2.48373\tvalid_1's rmse: 2.0233\n",
      "Early stopping, best iteration is:\n",
      "[1065]\ttraining's rmse: 2.48805\tvalid_1's rmse: 2.023\n",
      "make predictions...\n",
      "Final score mean_squared_error\n",
      "Score train: 2.4880492081064784\n",
      "Score val  : 2.023000099960887\n",
      "Score test : 2.23650334772215\n",
      "saving model.. ../Results/lightgbm/model_v1/model_18.txt\n",
      "********** 20 **********\n",
      "Analyzing store : 20\n",
      "X_train       (74722, 19)\n",
      "y_validation  (4922,)\n",
      "X_test        (3378, 19)\n",
      "X_submission  (2549, 19)\n",
      "Training until validation scores don't improve for 50 rounds\n"
     ]
    },
    {
     "name": "stderr",
     "output_type": "stream",
     "text": [
      "/opt/conda/lib/python3.8/site-packages/lightgbm/engine.py:181: UserWarning: 'early_stopping_rounds' argument is deprecated and will be removed in a future release of LightGBM. Pass 'early_stopping()' callback via 'callbacks' argument instead.\n",
      "  _log_warning(\"'early_stopping_rounds' argument is deprecated and will be removed in a future release of LightGBM. \"\n",
      "/opt/conda/lib/python3.8/site-packages/lightgbm/engine.py:239: UserWarning: 'verbose_eval' argument is deprecated and will be removed in a future release of LightGBM. Pass 'log_evaluation()' callback via 'callbacks' argument instead.\n",
      "  _log_warning(\"'verbose_eval' argument is deprecated and will be removed in a future release of LightGBM. \"\n"
     ]
    },
    {
     "name": "stdout",
     "output_type": "stream",
     "text": [
      "[50]\ttraining's rmse: 2.18811\tvalid_1's rmse: 2.13766\n",
      "[100]\ttraining's rmse: 2.10475\tvalid_1's rmse: 2.0442\n",
      "[150]\ttraining's rmse: 2.06729\tvalid_1's rmse: 2.00182\n",
      "[200]\ttraining's rmse: 2.04023\tvalid_1's rmse: 1.97863\n",
      "[250]\ttraining's rmse: 2.01891\tvalid_1's rmse: 1.9632\n",
      "[300]\ttraining's rmse: 1.99978\tvalid_1's rmse: 1.9486\n",
      "[350]\ttraining's rmse: 1.98418\tvalid_1's rmse: 1.93894\n",
      "[400]\ttraining's rmse: 1.97088\tvalid_1's rmse: 1.92745\n",
      "[450]\ttraining's rmse: 1.95901\tvalid_1's rmse: 1.91872\n",
      "[500]\ttraining's rmse: 1.94832\tvalid_1's rmse: 1.91217\n",
      "[550]\ttraining's rmse: 1.93814\tvalid_1's rmse: 1.90685\n",
      "[600]\ttraining's rmse: 1.92822\tvalid_1's rmse: 1.89953\n",
      "[650]\ttraining's rmse: 1.92001\tvalid_1's rmse: 1.89494\n",
      "[700]\ttraining's rmse: 1.91175\tvalid_1's rmse: 1.89032\n",
      "[750]\ttraining's rmse: 1.90348\tvalid_1's rmse: 1.8847\n",
      "[800]\ttraining's rmse: 1.89715\tvalid_1's rmse: 1.88107\n",
      "[850]\ttraining's rmse: 1.89146\tvalid_1's rmse: 1.88029\n",
      "[900]\ttraining's rmse: 1.88617\tvalid_1's rmse: 1.87753\n",
      "[950]\ttraining's rmse: 1.88051\tvalid_1's rmse: 1.87344\n",
      "[1000]\ttraining's rmse: 1.87507\tvalid_1's rmse: 1.87004\n",
      "[1050]\ttraining's rmse: 1.87085\tvalid_1's rmse: 1.87006\n",
      "[1100]\ttraining's rmse: 1.86659\tvalid_1's rmse: 1.8699\n",
      "[1150]\ttraining's rmse: 1.86184\tvalid_1's rmse: 1.8659\n",
      "[1200]\ttraining's rmse: 1.85743\tvalid_1's rmse: 1.86628\n",
      "Early stopping, best iteration is:\n",
      "[1157]\ttraining's rmse: 1.86116\tvalid_1's rmse: 1.86576\n",
      "make predictions...\n",
      "Final score mean_squared_error\n",
      "Score train: 1.8611584110177368\n",
      "Score val  : 1.8657564540555367\n",
      "Score test : 1.7106635662930068\n",
      "saving model.. ../Results/lightgbm/model_v1/model_20.txt\n",
      "********** 21 **********\n",
      "Analyzing store : 21\n",
      "X_train       (89616, 19)\n",
      "y_validation  (3937,)\n",
      "X_test        (2854, 19)\n",
      "X_submission  (1770, 19)\n",
      "Training until validation scores don't improve for 50 rounds\n"
     ]
    },
    {
     "name": "stderr",
     "output_type": "stream",
     "text": [
      "/opt/conda/lib/python3.8/site-packages/lightgbm/engine.py:181: UserWarning: 'early_stopping_rounds' argument is deprecated and will be removed in a future release of LightGBM. Pass 'early_stopping()' callback via 'callbacks' argument instead.\n",
      "  _log_warning(\"'early_stopping_rounds' argument is deprecated and will be removed in a future release of LightGBM. \"\n",
      "/opt/conda/lib/python3.8/site-packages/lightgbm/engine.py:239: UserWarning: 'verbose_eval' argument is deprecated and will be removed in a future release of LightGBM. Pass 'log_evaluation()' callback via 'callbacks' argument instead.\n",
      "  _log_warning(\"'verbose_eval' argument is deprecated and will be removed in a future release of LightGBM. \"\n"
     ]
    },
    {
     "name": "stdout",
     "output_type": "stream",
     "text": [
      "[50]\ttraining's rmse: 2.84805\tvalid_1's rmse: 2.98989\n",
      "[100]\ttraining's rmse: 2.72973\tvalid_1's rmse: 2.84353\n",
      "[150]\ttraining's rmse: 2.68181\tvalid_1's rmse: 2.78543\n",
      "[200]\ttraining's rmse: 2.65356\tvalid_1's rmse: 2.75731\n",
      "[250]\ttraining's rmse: 2.63296\tvalid_1's rmse: 2.73886\n",
      "[300]\ttraining's rmse: 2.61543\tvalid_1's rmse: 2.72563\n",
      "[350]\ttraining's rmse: 2.6003\tvalid_1's rmse: 2.71615\n",
      "[400]\ttraining's rmse: 2.58776\tvalid_1's rmse: 2.70674\n",
      "[450]\ttraining's rmse: 2.57667\tvalid_1's rmse: 2.69986\n",
      "[500]\ttraining's rmse: 2.56747\tvalid_1's rmse: 2.6953\n",
      "[550]\ttraining's rmse: 2.55799\tvalid_1's rmse: 2.69058\n",
      "[600]\ttraining's rmse: 2.54937\tvalid_1's rmse: 2.6829\n",
      "[650]\ttraining's rmse: 2.54196\tvalid_1's rmse: 2.68136\n",
      "[700]\ttraining's rmse: 2.53425\tvalid_1's rmse: 2.67773\n",
      "[750]\ttraining's rmse: 2.527\tvalid_1's rmse: 2.6741\n",
      "[800]\ttraining's rmse: 2.52055\tvalid_1's rmse: 2.67134\n",
      "[850]\ttraining's rmse: 2.51411\tvalid_1's rmse: 2.66871\n",
      "[900]\ttraining's rmse: 2.50882\tvalid_1's rmse: 2.66591\n",
      "[950]\ttraining's rmse: 2.50345\tvalid_1's rmse: 2.66416\n",
      "[1000]\ttraining's rmse: 2.49825\tvalid_1's rmse: 2.66286\n",
      "Early stopping, best iteration is:\n",
      "[993]\ttraining's rmse: 2.49899\tvalid_1's rmse: 2.66246\n",
      "make predictions...\n",
      "Final score mean_squared_error\n",
      "Score train: 2.498990879027163\n",
      "Score val  : 2.662457852485407\n",
      "Score test : 3.1305116240031703\n",
      "saving model.. ../Results/lightgbm/model_v1/model_21.txt\n",
      "********** 22 **********\n",
      "Analyzing store : 22\n",
      "X_train       (10905, 19)\n",
      "y_validation  (1010,)\n",
      "X_test        (451, 19)\n",
      "X_submission  (233, 19)\n",
      "Training until validation scores don't improve for 50 rounds\n",
      "[50]\ttraining's rmse: 24.5481\tvalid_1's rmse: 4.36015\n",
      "Early stopping, best iteration is:\n",
      "[1]\ttraining's rmse: 24.5481\tvalid_1's rmse: 4.36015\n",
      "make predictions...\n",
      "Final score mean_squared_error\n",
      "Score train: 24.548067361556768\n",
      "Score val  : 4.360148058163726\n",
      "Score test : 20.717560061460464\n",
      "saving model.. ../Results/lightgbm/model_v1/model_22.txt\n",
      "********** 23 **********\n",
      "Analyzing store : 23\n",
      "X_train       (75976, 19)\n",
      "y_validation  (5100,)\n",
      "X_test        (3374, 19)\n",
      "X_submission  (2581, 19)\n"
     ]
    },
    {
     "name": "stderr",
     "output_type": "stream",
     "text": [
      "/opt/conda/lib/python3.8/site-packages/lightgbm/engine.py:181: UserWarning: 'early_stopping_rounds' argument is deprecated and will be removed in a future release of LightGBM. Pass 'early_stopping()' callback via 'callbacks' argument instead.\n",
      "  _log_warning(\"'early_stopping_rounds' argument is deprecated and will be removed in a future release of LightGBM. \"\n",
      "/opt/conda/lib/python3.8/site-packages/lightgbm/engine.py:239: UserWarning: 'verbose_eval' argument is deprecated and will be removed in a future release of LightGBM. Pass 'log_evaluation()' callback via 'callbacks' argument instead.\n",
      "  _log_warning(\"'verbose_eval' argument is deprecated and will be removed in a future release of LightGBM. \"\n",
      "/opt/conda/lib/python3.8/site-packages/lightgbm/engine.py:181: UserWarning: 'early_stopping_rounds' argument is deprecated and will be removed in a future release of LightGBM. Pass 'early_stopping()' callback via 'callbacks' argument instead.\n",
      "  _log_warning(\"'early_stopping_rounds' argument is deprecated and will be removed in a future release of LightGBM. \"\n",
      "/opt/conda/lib/python3.8/site-packages/lightgbm/engine.py:239: UserWarning: 'verbose_eval' argument is deprecated and will be removed in a future release of LightGBM. Pass 'log_evaluation()' callback via 'callbacks' argument instead.\n",
      "  _log_warning(\"'verbose_eval' argument is deprecated and will be removed in a future release of LightGBM. \"\n"
     ]
    },
    {
     "name": "stdout",
     "output_type": "stream",
     "text": [
      "Training until validation scores don't improve for 50 rounds\n",
      "[50]\ttraining's rmse: 3.08002\tvalid_1's rmse: 2.68113\n",
      "[100]\ttraining's rmse: 2.93127\tvalid_1's rmse: 2.53974\n",
      "[150]\ttraining's rmse: 2.86462\tvalid_1's rmse: 2.48943\n",
      "[200]\ttraining's rmse: 2.82456\tvalid_1's rmse: 2.4713\n",
      "[250]\ttraining's rmse: 2.79221\tvalid_1's rmse: 2.45641\n",
      "[300]\ttraining's rmse: 2.76462\tvalid_1's rmse: 2.44535\n",
      "[350]\ttraining's rmse: 2.73995\tvalid_1's rmse: 2.43339\n",
      "[400]\ttraining's rmse: 2.7181\tvalid_1's rmse: 2.41946\n",
      "[450]\ttraining's rmse: 2.69909\tvalid_1's rmse: 2.40905\n",
      "[500]\ttraining's rmse: 2.68331\tvalid_1's rmse: 2.40331\n",
      "[550]\ttraining's rmse: 2.66702\tvalid_1's rmse: 2.4001\n",
      "[600]\ttraining's rmse: 2.65425\tvalid_1's rmse: 2.39449\n",
      "[650]\ttraining's rmse: 2.64106\tvalid_1's rmse: 2.3923\n",
      "[700]\ttraining's rmse: 2.6289\tvalid_1's rmse: 2.3897\n",
      "[750]\ttraining's rmse: 2.6177\tvalid_1's rmse: 2.38558\n",
      "[800]\ttraining's rmse: 2.60753\tvalid_1's rmse: 2.38336\n",
      "[850]\ttraining's rmse: 2.59854\tvalid_1's rmse: 2.38065\n",
      "[900]\ttraining's rmse: 2.58985\tvalid_1's rmse: 2.37823\n",
      "[950]\ttraining's rmse: 2.5811\tvalid_1's rmse: 2.37711\n",
      "[1000]\ttraining's rmse: 2.57357\tvalid_1's rmse: 2.37469\n",
      "[1050]\ttraining's rmse: 2.56527\tvalid_1's rmse: 2.37452\n",
      "[1100]\ttraining's rmse: 2.55782\tvalid_1's rmse: 2.37022\n",
      "[1150]\ttraining's rmse: 2.55006\tvalid_1's rmse: 2.36738\n",
      "[1200]\ttraining's rmse: 2.54254\tvalid_1's rmse: 2.36514\n",
      "Early stopping, best iteration is:\n",
      "[1181]\ttraining's rmse: 2.54516\tvalid_1's rmse: 2.36474\n",
      "make predictions...\n",
      "Final score mean_squared_error\n",
      "Score train: 2.5451626422539895\n",
      "Score val  : 2.3647387343324118\n",
      "Score test : 2.0682572085479998\n",
      "saving model.. ../Results/lightgbm/model_v1/model_23.txt\n",
      "********** 24 **********\n",
      "Analyzing store : 24\n",
      "X_train       (89065, 19)\n",
      "y_validation  (4467,)\n",
      "X_test        (3423, 19)\n",
      "X_submission  (2193, 19)\n",
      "Training until validation scores don't improve for 50 rounds\n"
     ]
    },
    {
     "name": "stderr",
     "output_type": "stream",
     "text": [
      "/opt/conda/lib/python3.8/site-packages/lightgbm/engine.py:181: UserWarning: 'early_stopping_rounds' argument is deprecated and will be removed in a future release of LightGBM. Pass 'early_stopping()' callback via 'callbacks' argument instead.\n",
      "  _log_warning(\"'early_stopping_rounds' argument is deprecated and will be removed in a future release of LightGBM. \"\n",
      "/opt/conda/lib/python3.8/site-packages/lightgbm/engine.py:239: UserWarning: 'verbose_eval' argument is deprecated and will be removed in a future release of LightGBM. Pass 'log_evaluation()' callback via 'callbacks' argument instead.\n",
      "  _log_warning(\"'verbose_eval' argument is deprecated and will be removed in a future release of LightGBM. \"\n"
     ]
    },
    {
     "name": "stdout",
     "output_type": "stream",
     "text": [
      "[50]\ttraining's rmse: 2.38574\tvalid_1's rmse: 1.87834\n",
      "[100]\ttraining's rmse: 2.26935\tvalid_1's rmse: 1.82143\n",
      "[150]\ttraining's rmse: 2.21469\tvalid_1's rmse: 1.79669\n",
      "[200]\ttraining's rmse: 2.17971\tvalid_1's rmse: 1.77728\n",
      "[250]\ttraining's rmse: 2.15569\tvalid_1's rmse: 1.76106\n",
      "[300]\ttraining's rmse: 2.13594\tvalid_1's rmse: 1.7474\n",
      "[350]\ttraining's rmse: 2.12088\tvalid_1's rmse: 1.7356\n",
      "[400]\ttraining's rmse: 2.10969\tvalid_1's rmse: 1.72685\n",
      "[450]\ttraining's rmse: 2.09994\tvalid_1's rmse: 1.71978\n",
      "[500]\ttraining's rmse: 2.0914\tvalid_1's rmse: 1.71378\n",
      "[550]\ttraining's rmse: 2.08259\tvalid_1's rmse: 1.70762\n",
      "[600]\ttraining's rmse: 2.075\tvalid_1's rmse: 1.70248\n",
      "[650]\ttraining's rmse: 2.06802\tvalid_1's rmse: 1.6984\n",
      "[700]\ttraining's rmse: 2.06134\tvalid_1's rmse: 1.69473\n",
      "[750]\ttraining's rmse: 2.05541\tvalid_1's rmse: 1.69161\n",
      "[800]\ttraining's rmse: 2.0501\tvalid_1's rmse: 1.68898\n",
      "[850]\ttraining's rmse: 2.0454\tvalid_1's rmse: 1.68625\n",
      "[900]\ttraining's rmse: 2.04141\tvalid_1's rmse: 1.68372\n",
      "[950]\ttraining's rmse: 2.03715\tvalid_1's rmse: 1.68196\n",
      "[1000]\ttraining's rmse: 2.03324\tvalid_1's rmse: 1.68029\n",
      "[1050]\ttraining's rmse: 2.02945\tvalid_1's rmse: 1.67807\n",
      "[1100]\ttraining's rmse: 2.02596\tvalid_1's rmse: 1.67633\n",
      "[1150]\ttraining's rmse: 2.02218\tvalid_1's rmse: 1.67464\n",
      "[1200]\ttraining's rmse: 2.01877\tvalid_1's rmse: 1.67305\n",
      "[1250]\ttraining's rmse: 2.01588\tvalid_1's rmse: 1.67216\n",
      "[1300]\ttraining's rmse: 2.01255\tvalid_1's rmse: 1.67028\n",
      "[1350]\ttraining's rmse: 2.00966\tvalid_1's rmse: 1.66922\n",
      "[1400]\ttraining's rmse: 2.00665\tvalid_1's rmse: 1.66767\n",
      "[1450]\ttraining's rmse: 2.00367\tvalid_1's rmse: 1.66724\n",
      "[1500]\ttraining's rmse: 2.00076\tvalid_1's rmse: 1.66654\n",
      "[1550]\ttraining's rmse: 1.99856\tvalid_1's rmse: 1.66612\n",
      "[1600]\ttraining's rmse: 1.99593\tvalid_1's rmse: 1.66475\n",
      "[1650]\ttraining's rmse: 1.99357\tvalid_1's rmse: 1.66391\n",
      "[1700]\ttraining's rmse: 1.9914\tvalid_1's rmse: 1.66293\n",
      "[1750]\ttraining's rmse: 1.98916\tvalid_1's rmse: 1.66286\n",
      "[1800]\ttraining's rmse: 1.98679\tvalid_1's rmse: 1.66202\n",
      "[1850]\ttraining's rmse: 1.98428\tvalid_1's rmse: 1.66062\n",
      "[1900]\ttraining's rmse: 1.98205\tvalid_1's rmse: 1.65997\n",
      "[1950]\ttraining's rmse: 1.98016\tvalid_1's rmse: 1.65984\n",
      "[2000]\ttraining's rmse: 1.97792\tvalid_1's rmse: 1.65935\n",
      "[2050]\ttraining's rmse: 1.97555\tvalid_1's rmse: 1.65832\n",
      "[2100]\ttraining's rmse: 1.97353\tvalid_1's rmse: 1.65807\n",
      "[2150]\ttraining's rmse: 1.97158\tvalid_1's rmse: 1.65745\n",
      "[2200]\ttraining's rmse: 1.96968\tvalid_1's rmse: 1.6571\n",
      "Early stopping, best iteration is:\n",
      "[2186]\ttraining's rmse: 1.97011\tvalid_1's rmse: 1.65696\n",
      "make predictions...\n",
      "Final score mean_squared_error\n",
      "Score train: 1.9701051326094443\n",
      "Score val  : 1.6569635042713902\n",
      "Score test : 1.979307826640113\n",
      "saving model.. ../Results/lightgbm/model_v1/model_24.txt\n",
      "********** 25 **********\n",
      "Analyzing store : 25\n",
      "X_train       (89241, 19)\n",
      "y_validation  (5989,)\n",
      "X_test        (4014, 19)\n",
      "X_submission  (3021, 19)\n",
      "Training until validation scores don't improve for 50 rounds\n"
     ]
    },
    {
     "name": "stderr",
     "output_type": "stream",
     "text": [
      "/opt/conda/lib/python3.8/site-packages/lightgbm/engine.py:181: UserWarning: 'early_stopping_rounds' argument is deprecated and will be removed in a future release of LightGBM. Pass 'early_stopping()' callback via 'callbacks' argument instead.\n",
      "  _log_warning(\"'early_stopping_rounds' argument is deprecated and will be removed in a future release of LightGBM. \"\n",
      "/opt/conda/lib/python3.8/site-packages/lightgbm/engine.py:239: UserWarning: 'verbose_eval' argument is deprecated and will be removed in a future release of LightGBM. Pass 'log_evaluation()' callback via 'callbacks' argument instead.\n",
      "  _log_warning(\"'verbose_eval' argument is deprecated and will be removed in a future release of LightGBM. \"\n"
     ]
    },
    {
     "name": "stdout",
     "output_type": "stream",
     "text": [
      "[50]\ttraining's rmse: 1.99026\tvalid_1's rmse: 2.02662\n",
      "[100]\ttraining's rmse: 1.90651\tvalid_1's rmse: 1.95438\n",
      "[150]\ttraining's rmse: 1.87614\tvalid_1's rmse: 1.92905\n",
      "[200]\ttraining's rmse: 1.85857\tvalid_1's rmse: 1.91559\n",
      "[250]\ttraining's rmse: 1.84515\tvalid_1's rmse: 1.90703\n",
      "[300]\ttraining's rmse: 1.83438\tvalid_1's rmse: 1.89974\n",
      "[350]\ttraining's rmse: 1.82607\tvalid_1's rmse: 1.89438\n",
      "[400]\ttraining's rmse: 1.81814\tvalid_1's rmse: 1.89108\n",
      "[450]\ttraining's rmse: 1.81163\tvalid_1's rmse: 1.88722\n",
      "[500]\ttraining's rmse: 1.80585\tvalid_1's rmse: 1.88406\n",
      "[550]\ttraining's rmse: 1.80038\tvalid_1's rmse: 1.88164\n",
      "[600]\ttraining's rmse: 1.79524\tvalid_1's rmse: 1.88019\n",
      "[650]\ttraining's rmse: 1.79048\tvalid_1's rmse: 1.87827\n",
      "[700]\ttraining's rmse: 1.78568\tvalid_1's rmse: 1.87696\n",
      "[750]\ttraining's rmse: 1.7813\tvalid_1's rmse: 1.87508\n",
      "[800]\ttraining's rmse: 1.77767\tvalid_1's rmse: 1.87565\n",
      "Early stopping, best iteration is:\n",
      "[765]\ttraining's rmse: 1.78014\tvalid_1's rmse: 1.8748\n",
      "make predictions...\n",
      "Final score mean_squared_error\n",
      "Score train: 1.7801394031081639\n",
      "Score val  : 1.8747975614156192\n",
      "Score test : 1.6834056266782766\n",
      "saving model.. ../Results/lightgbm/model_v1/model_25.txt\n",
      "********** 26 **********\n",
      "Analyzing store : 26\n",
      "X_train       (91598, 19)\n",
      "y_validation  (5590,)\n",
      "X_test        (3732, 19)\n",
      "X_submission  (2889, 19)\n",
      "Training until validation scores don't improve for 50 rounds\n"
     ]
    },
    {
     "name": "stderr",
     "output_type": "stream",
     "text": [
      "/opt/conda/lib/python3.8/site-packages/lightgbm/engine.py:181: UserWarning: 'early_stopping_rounds' argument is deprecated and will be removed in a future release of LightGBM. Pass 'early_stopping()' callback via 'callbacks' argument instead.\n",
      "  _log_warning(\"'early_stopping_rounds' argument is deprecated and will be removed in a future release of LightGBM. \"\n",
      "/opt/conda/lib/python3.8/site-packages/lightgbm/engine.py:239: UserWarning: 'verbose_eval' argument is deprecated and will be removed in a future release of LightGBM. Pass 'log_evaluation()' callback via 'callbacks' argument instead.\n",
      "  _log_warning(\"'verbose_eval' argument is deprecated and will be removed in a future release of LightGBM. \"\n"
     ]
    },
    {
     "name": "stdout",
     "output_type": "stream",
     "text": [
      "[50]\ttraining's rmse: 3.13114\tvalid_1's rmse: 3.03019\n",
      "[100]\ttraining's rmse: 2.96722\tvalid_1's rmse: 2.88685\n",
      "[150]\ttraining's rmse: 2.88594\tvalid_1's rmse: 2.82969\n",
      "[200]\ttraining's rmse: 2.83122\tvalid_1's rmse: 2.80408\n",
      "[250]\ttraining's rmse: 2.78745\tvalid_1's rmse: 2.77311\n",
      "[300]\ttraining's rmse: 2.75094\tvalid_1's rmse: 2.75457\n",
      "[350]\ttraining's rmse: 2.71976\tvalid_1's rmse: 2.73836\n",
      "[400]\ttraining's rmse: 2.6902\tvalid_1's rmse: 2.72307\n",
      "[450]\ttraining's rmse: 2.66712\tvalid_1's rmse: 2.70684\n",
      "[500]\ttraining's rmse: 2.64299\tvalid_1's rmse: 2.6908\n",
      "[550]\ttraining's rmse: 2.62049\tvalid_1's rmse: 2.67837\n",
      "[600]\ttraining's rmse: 2.60145\tvalid_1's rmse: 2.67223\n",
      "[650]\ttraining's rmse: 2.58332\tvalid_1's rmse: 2.66442\n",
      "[700]\ttraining's rmse: 2.56533\tvalid_1's rmse: 2.65406\n",
      "[750]\ttraining's rmse: 2.55027\tvalid_1's rmse: 2.64675\n",
      "[800]\ttraining's rmse: 2.53713\tvalid_1's rmse: 2.64199\n",
      "[850]\ttraining's rmse: 2.52324\tvalid_1's rmse: 2.63652\n",
      "[900]\ttraining's rmse: 2.51244\tvalid_1's rmse: 2.6303\n",
      "[950]\ttraining's rmse: 2.5012\tvalid_1's rmse: 2.62688\n",
      "[1000]\ttraining's rmse: 2.48914\tvalid_1's rmse: 2.62238\n",
      "[1050]\ttraining's rmse: 2.48003\tvalid_1's rmse: 2.616\n",
      "[1100]\ttraining's rmse: 2.46954\tvalid_1's rmse: 2.61021\n",
      "[1150]\ttraining's rmse: 2.46074\tvalid_1's rmse: 2.60675\n",
      "[1200]\ttraining's rmse: 2.45282\tvalid_1's rmse: 2.60328\n",
      "[1250]\ttraining's rmse: 2.44468\tvalid_1's rmse: 2.60048\n",
      "[1300]\ttraining's rmse: 2.43511\tvalid_1's rmse: 2.59682\n",
      "[1350]\ttraining's rmse: 2.42796\tvalid_1's rmse: 2.59447\n",
      "[1400]\ttraining's rmse: 2.42241\tvalid_1's rmse: 2.59253\n",
      "[1450]\ttraining's rmse: 2.41595\tvalid_1's rmse: 2.5899\n",
      "[1500]\ttraining's rmse: 2.40943\tvalid_1's rmse: 2.58516\n",
      "[1550]\ttraining's rmse: 2.40355\tvalid_1's rmse: 2.58511\n",
      "Early stopping, best iteration is:\n",
      "[1527]\ttraining's rmse: 2.40698\tvalid_1's rmse: 2.58459\n",
      "make predictions...\n",
      "Final score mean_squared_error\n",
      "Score train: 2.406975295587218\n",
      "Score val  : 2.584587702532216\n",
      "Score test : 2.733463931574196\n",
      "saving model.. ../Results/lightgbm/model_v1/model_26.txt\n",
      "********** 27 **********\n",
      "Analyzing store : 27\n",
      "X_train       (107999, 19)\n",
      "y_validation  (6921,)\n",
      "X_test        (4686, 19)\n",
      "X_submission  (3568, 19)\n",
      "Training until validation scores don't improve for 50 rounds\n"
     ]
    },
    {
     "name": "stderr",
     "output_type": "stream",
     "text": [
      "/opt/conda/lib/python3.8/site-packages/lightgbm/engine.py:181: UserWarning: 'early_stopping_rounds' argument is deprecated and will be removed in a future release of LightGBM. Pass 'early_stopping()' callback via 'callbacks' argument instead.\n",
      "  _log_warning(\"'early_stopping_rounds' argument is deprecated and will be removed in a future release of LightGBM. \"\n",
      "/opt/conda/lib/python3.8/site-packages/lightgbm/engine.py:239: UserWarning: 'verbose_eval' argument is deprecated and will be removed in a future release of LightGBM. Pass 'log_evaluation()' callback via 'callbacks' argument instead.\n",
      "  _log_warning(\"'verbose_eval' argument is deprecated and will be removed in a future release of LightGBM. \"\n"
     ]
    },
    {
     "name": "stdout",
     "output_type": "stream",
     "text": [
      "[50]\ttraining's rmse: 3.97695\tvalid_1's rmse: 4.96703\n",
      "[100]\ttraining's rmse: 3.72621\tvalid_1's rmse: 4.59777\n",
      "[150]\ttraining's rmse: 3.6268\tvalid_1's rmse: 4.4345\n",
      "[200]\ttraining's rmse: 3.57137\tvalid_1's rmse: 4.34219\n",
      "[250]\ttraining's rmse: 3.53177\tvalid_1's rmse: 4.27573\n",
      "[300]\ttraining's rmse: 3.49728\tvalid_1's rmse: 4.21652\n",
      "[350]\ttraining's rmse: 3.47258\tvalid_1's rmse: 4.17444\n",
      "[400]\ttraining's rmse: 3.45195\tvalid_1's rmse: 4.14213\n",
      "[450]\ttraining's rmse: 3.43569\tvalid_1's rmse: 4.11299\n",
      "[500]\ttraining's rmse: 3.42324\tvalid_1's rmse: 4.09529\n",
      "[550]\ttraining's rmse: 3.41117\tvalid_1's rmse: 4.07667\n",
      "[600]\ttraining's rmse: 3.40038\tvalid_1's rmse: 4.066\n",
      "[650]\ttraining's rmse: 3.39201\tvalid_1's rmse: 4.05065\n",
      "[700]\ttraining's rmse: 3.38308\tvalid_1's rmse: 4.03306\n",
      "[750]\ttraining's rmse: 3.37523\tvalid_1's rmse: 4.02482\n",
      "[800]\ttraining's rmse: 3.36764\tvalid_1's rmse: 4.01373\n",
      "[850]\ttraining's rmse: 3.36163\tvalid_1's rmse: 4.01023\n",
      "[900]\ttraining's rmse: 3.35446\tvalid_1's rmse: 3.99822\n",
      "[950]\ttraining's rmse: 3.34813\tvalid_1's rmse: 3.99212\n",
      "[1000]\ttraining's rmse: 3.34211\tvalid_1's rmse: 3.98379\n",
      "[1050]\ttraining's rmse: 3.33665\tvalid_1's rmse: 3.97859\n",
      "[1100]\ttraining's rmse: 3.33183\tvalid_1's rmse: 3.97504\n",
      "Early stopping, best iteration is:\n",
      "[1099]\ttraining's rmse: 3.3319\tvalid_1's rmse: 3.97483\n",
      "make predictions...\n",
      "Final score mean_squared_error\n",
      "Score train: 3.331898030113521\n",
      "Score val  : 3.9748349811156904\n",
      "Score test : 4.884450994518655\n",
      "saving model.. ../Results/lightgbm/model_v1/model_27.txt\n",
      "********** 28 **********\n",
      "Analyzing store : 28\n",
      "X_train       (105187, 19)\n",
      "y_validation  (6035,)\n",
      "X_test        (4361, 19)\n",
      "X_submission  (3239, 19)\n",
      "Training until validation scores don't improve for 50 rounds\n"
     ]
    },
    {
     "name": "stderr",
     "output_type": "stream",
     "text": [
      "/opt/conda/lib/python3.8/site-packages/lightgbm/engine.py:181: UserWarning: 'early_stopping_rounds' argument is deprecated and will be removed in a future release of LightGBM. Pass 'early_stopping()' callback via 'callbacks' argument instead.\n",
      "  _log_warning(\"'early_stopping_rounds' argument is deprecated and will be removed in a future release of LightGBM. \"\n",
      "/opt/conda/lib/python3.8/site-packages/lightgbm/engine.py:239: UserWarning: 'verbose_eval' argument is deprecated and will be removed in a future release of LightGBM. Pass 'log_evaluation()' callback via 'callbacks' argument instead.\n",
      "  _log_warning(\"'verbose_eval' argument is deprecated and will be removed in a future release of LightGBM. \"\n"
     ]
    },
    {
     "name": "stdout",
     "output_type": "stream",
     "text": [
      "[50]\ttraining's rmse: 2.19434\tvalid_1's rmse: 1.97736\n",
      "[100]\ttraining's rmse: 2.07222\tvalid_1's rmse: 1.88467\n",
      "[150]\ttraining's rmse: 2.01632\tvalid_1's rmse: 1.84304\n",
      "[200]\ttraining's rmse: 1.97929\tvalid_1's rmse: 1.81442\n",
      "[250]\ttraining's rmse: 1.95072\tvalid_1's rmse: 1.79289\n",
      "[300]\ttraining's rmse: 1.93135\tvalid_1's rmse: 1.78237\n",
      "[350]\ttraining's rmse: 1.91491\tvalid_1's rmse: 1.76999\n",
      "[400]\ttraining's rmse: 1.90252\tvalid_1's rmse: 1.76179\n",
      "[450]\ttraining's rmse: 1.89189\tvalid_1's rmse: 1.75664\n",
      "[500]\ttraining's rmse: 1.88296\tvalid_1's rmse: 1.75324\n",
      "[550]\ttraining's rmse: 1.87458\tvalid_1's rmse: 1.74718\n",
      "[600]\ttraining's rmse: 1.8678\tvalid_1's rmse: 1.74341\n",
      "[650]\ttraining's rmse: 1.86089\tvalid_1's rmse: 1.74053\n",
      "[700]\ttraining's rmse: 1.85432\tvalid_1's rmse: 1.73672\n",
      "[750]\ttraining's rmse: 1.8485\tvalid_1's rmse: 1.7341\n",
      "[800]\ttraining's rmse: 1.84348\tvalid_1's rmse: 1.73256\n",
      "[850]\ttraining's rmse: 1.83852\tvalid_1's rmse: 1.73153\n",
      "[900]\ttraining's rmse: 1.83394\tvalid_1's rmse: 1.72997\n",
      "[950]\ttraining's rmse: 1.82916\tvalid_1's rmse: 1.7291\n",
      "[1000]\ttraining's rmse: 1.8249\tvalid_1's rmse: 1.72676\n",
      "[1050]\ttraining's rmse: 1.82055\tvalid_1's rmse: 1.72536\n",
      "[1100]\ttraining's rmse: 1.8167\tvalid_1's rmse: 1.72358\n",
      "[1150]\ttraining's rmse: 1.8128\tvalid_1's rmse: 1.72135\n",
      "[1200]\ttraining's rmse: 1.80944\tvalid_1's rmse: 1.72031\n",
      "[1250]\ttraining's rmse: 1.80592\tvalid_1's rmse: 1.71844\n",
      "[1300]\ttraining's rmse: 1.80228\tvalid_1's rmse: 1.71798\n",
      "[1350]\ttraining's rmse: 1.79891\tvalid_1's rmse: 1.71846\n",
      "Early stopping, best iteration is:\n",
      "[1311]\ttraining's rmse: 1.80151\tvalid_1's rmse: 1.7174\n",
      "make predictions...\n",
      "Final score mean_squared_error\n",
      "Score train: 1.8015112652974736\n",
      "Score val  : 1.7174026982100645\n",
      "Score test : 1.9555118150707649\n",
      "saving model.. ../Results/lightgbm/model_v1/model_28.txt\n",
      "********** 29 **********\n",
      "Analyzing store : 29\n",
      "X_train       (78630, 19)\n",
      "y_validation  (4943,)\n",
      "X_test        (3664, 19)\n",
      "X_submission  (2488, 19)\n",
      "Training until validation scores don't improve for 50 rounds\n"
     ]
    },
    {
     "name": "stderr",
     "output_type": "stream",
     "text": [
      "/opt/conda/lib/python3.8/site-packages/lightgbm/engine.py:181: UserWarning: 'early_stopping_rounds' argument is deprecated and will be removed in a future release of LightGBM. Pass 'early_stopping()' callback via 'callbacks' argument instead.\n",
      "  _log_warning(\"'early_stopping_rounds' argument is deprecated and will be removed in a future release of LightGBM. \"\n",
      "/opt/conda/lib/python3.8/site-packages/lightgbm/engine.py:239: UserWarning: 'verbose_eval' argument is deprecated and will be removed in a future release of LightGBM. Pass 'log_evaluation()' callback via 'callbacks' argument instead.\n",
      "  _log_warning(\"'verbose_eval' argument is deprecated and will be removed in a future release of LightGBM. \"\n"
     ]
    },
    {
     "name": "stdout",
     "output_type": "stream",
     "text": [
      "[50]\ttraining's rmse: 2.33678\tvalid_1's rmse: 1.79454\n",
      "[100]\ttraining's rmse: 2.23564\tvalid_1's rmse: 1.73984\n",
      "[150]\ttraining's rmse: 2.18829\tvalid_1's rmse: 1.72557\n",
      "[200]\ttraining's rmse: 2.16127\tvalid_1's rmse: 1.71675\n",
      "[250]\ttraining's rmse: 2.14097\tvalid_1's rmse: 1.70962\n",
      "[300]\ttraining's rmse: 2.1259\tvalid_1's rmse: 1.70193\n",
      "[350]\ttraining's rmse: 2.11235\tvalid_1's rmse: 1.69691\n",
      "[400]\ttraining's rmse: 2.1005\tvalid_1's rmse: 1.69105\n",
      "[450]\ttraining's rmse: 2.08987\tvalid_1's rmse: 1.68552\n",
      "[500]\ttraining's rmse: 2.08161\tvalid_1's rmse: 1.68146\n",
      "[550]\ttraining's rmse: 2.07268\tvalid_1's rmse: 1.67728\n",
      "[600]\ttraining's rmse: 2.06432\tvalid_1's rmse: 1.67326\n",
      "[650]\ttraining's rmse: 2.05679\tvalid_1's rmse: 1.67094\n",
      "[700]\ttraining's rmse: 2.04904\tvalid_1's rmse: 1.66758\n",
      "[750]\ttraining's rmse: 2.0405\tvalid_1's rmse: 1.6641\n",
      "[800]\ttraining's rmse: 2.03431\tvalid_1's rmse: 1.6625\n",
      "[850]\ttraining's rmse: 2.02815\tvalid_1's rmse: 1.65985\n",
      "[900]\ttraining's rmse: 2.02222\tvalid_1's rmse: 1.65718\n",
      "[950]\ttraining's rmse: 2.01695\tvalid_1's rmse: 1.65562\n",
      "[1000]\ttraining's rmse: 2.01097\tvalid_1's rmse: 1.65462\n",
      "[1050]\ttraining's rmse: 2.00549\tvalid_1's rmse: 1.6526\n",
      "[1100]\ttraining's rmse: 1.99995\tvalid_1's rmse: 1.65137\n",
      "[1150]\ttraining's rmse: 1.99456\tvalid_1's rmse: 1.6495\n",
      "[1200]\ttraining's rmse: 1.99038\tvalid_1's rmse: 1.64801\n",
      "[1250]\ttraining's rmse: 1.98699\tvalid_1's rmse: 1.64646\n",
      "[1300]\ttraining's rmse: 1.98228\tvalid_1's rmse: 1.64604\n",
      "[1350]\ttraining's rmse: 1.97867\tvalid_1's rmse: 1.64419\n",
      "[1400]\ttraining's rmse: 1.97552\tvalid_1's rmse: 1.643\n",
      "[1450]\ttraining's rmse: 1.97157\tvalid_1's rmse: 1.64287\n",
      "[1500]\ttraining's rmse: 1.9679\tvalid_1's rmse: 1.64225\n",
      "[1550]\ttraining's rmse: 1.96456\tvalid_1's rmse: 1.64141\n",
      "[1600]\ttraining's rmse: 1.96057\tvalid_1's rmse: 1.64107\n",
      "[1650]\ttraining's rmse: 1.95744\tvalid_1's rmse: 1.6404\n",
      "[1700]\ttraining's rmse: 1.95451\tvalid_1's rmse: 1.63937\n",
      "[1750]\ttraining's rmse: 1.95137\tvalid_1's rmse: 1.63902\n",
      "[1800]\ttraining's rmse: 1.94918\tvalid_1's rmse: 1.63869\n",
      "[1850]\ttraining's rmse: 1.946\tvalid_1's rmse: 1.63844\n",
      "[1900]\ttraining's rmse: 1.94373\tvalid_1's rmse: 1.63776\n",
      "[1950]\ttraining's rmse: 1.94129\tvalid_1's rmse: 1.63749\n",
      "[2000]\ttraining's rmse: 1.93903\tvalid_1's rmse: 1.63668\n",
      "[2050]\ttraining's rmse: 1.93634\tvalid_1's rmse: 1.63631\n",
      "Early stopping, best iteration is:\n",
      "[2034]\ttraining's rmse: 1.93735\tvalid_1's rmse: 1.63615\n",
      "make predictions...\n",
      "Final score mean_squared_error\n",
      "Score train: 1.9373468945444\n",
      "Score val  : 1.6361479831096801\n",
      "Score test : 1.8830112609126344\n",
      "saving model.. ../Results/lightgbm/model_v1/model_29.txt\n"
     ]
    }
   ],
   "source": [
    "from sklearn.model_selection import train_test_split\n",
    "from sklearn.metrics import mean_squared_error\n",
    "\n",
    "model_version = 'model_v1'\n",
    "unique_stores = sorted(df_submission_sample['S100'].unique())\n",
    "\n",
    "predictions_store = {}\n",
    "\n",
    "for store in unique_stores:\n",
    "    print('*'*10,store,'*'*10)\n",
    "    print('Analyzing store :',store)\n",
    "    \n",
    "    df_sales2             = df_sales[df_sales['S100']==store]\n",
    "    df_submission_sample2 = df_submission_sample[df_submission_sample['S100']==store]\n",
    "    \n",
    "    X_train      = df_sales2[(df_sales2['DATE'] >= '2017-01-01') & (df_sales2['DATE'] < '2021-05-01')].copy()\n",
    "    X_validation = df_sales2[(df_sales2['DATE'] >= '2021-05-01') & (df_sales2['DATE'] < '2021-08-01')].copy()\n",
    "    X_test       = df_sales2[(df_sales2['DATE'] >= '2021-08-01') & (df_sales2['DATE'] < '2021-10-03')].copy() \n",
    "    \n",
    "    y_train = X_train['QTT']\n",
    "    X_train = X_train[features_names]\n",
    "    \n",
    "    y_validation = X_validation['QTT']\n",
    "    X_validation = X_validation[features_names]\n",
    "    \n",
    "    y_test = X_test['QTT']\n",
    "    X_test = X_test[features_names]\n",
    "\n",
    "    y_submission = df_submission_sample2['QTT']\n",
    "    X_submission = df_submission_sample2[features_names]\n",
    "\n",
    "    \n",
    "    print('X_train      ',X_train.shape)\n",
    "    print('y_validation ',y_validation.shape)\n",
    "    print('X_test       ',X_test.shape)\n",
    "    print('X_submission ',X_submission.shape)\n",
    "    \n",
    "    lgb_train = lgb.Dataset(X_train, y_train)\n",
    "    lgb_valid = lgb.Dataset(X_validation, y_validation)\n",
    "\n",
    "    gbm2 = lgb.train(hyper_params, lgb_train, 3000, valid_sets=[lgb_train, lgb_valid],early_stopping_rounds=50, verbose_eval=50)\n",
    "\n",
    "\n",
    "\n",
    "\n",
    "\n",
    "    print('make predictions...')\n",
    "    X_train_pred      = gbm2.predict(X_train)#, num_iteration=gbm.best_iteration_)\n",
    "    X_validation_pred = gbm2.predict(X_validation)#, num_iteration=gbm.best_iteration_)\n",
    "    X_test_pred       = gbm2.predict(X_test)#, num_iteration=gbm.best_iteration_)\n",
    "\n",
    "    X_submission_pred = gbm2.predict(X_submission)#, num_iteration=gbm.best_iteration_)\n",
    "\n",
    "    \n",
    "    X_train_pred = np.maximum(X_train_pred, 0)\n",
    "    X_validation_pred = np.maximum(X_validation_pred, 0)\n",
    "    X_test_pred = np.maximum(X_test_pred, 0)\n",
    "    X_submission_pred = np.maximum(X_submission_pred, 0)\n",
    "\n",
    "    df_train_rmse = mean_squared_error(y_train,X_train_pred, squared=False)\n",
    "    df_val_rmse   = mean_squared_error(y_validation,X_validation_pred, squared=False)\n",
    "    df_test_rmse  = mean_squared_error(y_test,X_test_pred, squared=False)\n",
    "\n",
    "    print('Final score mean_squared_error')\n",
    "    print('Score train:',df_train_rmse)\n",
    "    print('Score val  :',df_val_rmse)\n",
    "    print('Score test :',df_test_rmse)\n",
    "    \n",
    "    \n",
    "    model_name = os.path.join(PATH_RESULTS,'lightgbm',model_version,'model_'+str(store)+'.txt')\n",
    "    print('saving model..',model_name)\n",
    "    gbm2.save_model(model_name, num_iteration=gbm2.best_iteration)\n",
    "    \n",
    "    predictions_store[store] = X_submission_pred\n",
    "\n"
   ]
  },
  {
   "cell_type": "code",
   "execution_count": 253,
   "id": "766e6e84",
   "metadata": {},
   "outputs": [
    {
     "name": "stdout",
     "output_type": "stream",
     "text": [
      "X_train       (78630, 19)\n",
      "y_validation  (4943,)\n",
      "X_test        (3664, 19)\n",
      "X_submission  (2488, 19)\n"
     ]
    }
   ],
   "source": [
    "from sklearn.model_selection import train_test_split\n",
    "from sklearn.metrics import mean_squared_error\n",
    "\n",
    "model_version = 'model_v1'\n",
    "unique_stores = sorted(df_submission_sample['S100'].unique())\n",
    "\n",
    "X_train_stores = []\n",
    "X_validation_stores = []\n",
    "X_test_stores = []\n",
    "X_submission_stores = []\n",
    "\n",
    "for store in unique_stores:\n",
    "    print('*'*10,store,'*'*10)\n",
    "    print('Analyzing store :',store)\n",
    "    \n",
    "    df_sales2             = df_sales[df_sales['S100']==store].copy()\n",
    "    df_submission_sample2 = df_submission_sample[df_submission_sample['S100']==store].copy()\n",
    "    \n",
    "    X_train      = df_sales2[(df_sales2['DATE'] >= '2017-01-01') & (df_sales2['DATE'] < '2021-05-01')].copy()\n",
    "    X_validation = df_sales2[(df_sales2['DATE'] >= '2021-05-01') & (df_sales2['DATE'] < '2021-08-01')].copy()\n",
    "    X_test       = df_sales2[(df_sales2['DATE'] >= '2021-08-01') & (df_sales2['DATE'] < '2021-10-03')].copy() \n",
    "    \n",
    "   \n",
    "    print('X_train      ',X_train.shape)\n",
    "    print('y_validation ',y_validation.shape)\n",
    "    print('X_test       ',X_test.shape)\n",
    "    print('X_submission ',X_submission.shape)\n",
    "    \n",
    "\n",
    "    model_name = os.path.join(PATH_RESULTS,'lightgbm',model_version,'model_'+str(store)+'.txt')\n",
    "    print('reading model..',model_name)\n",
    "    gbm2 = lgb.Booster(model_file=model_name)\n",
    "\n",
    "\n",
    "    print('make predictions...')\n",
    "    X_train_pred      = gbm2.predict(X_train[features_names])#, num_iteration=gbm.best_iteration_)\n",
    "    X_validation_pred = gbm2.predict(X_validation[features_names])#, num_iteration=gbm.best_iteration_)\n",
    "    X_test_pred       = gbm2.predict(X_test[features_names])#, num_iteration=gbm.best_iteration_)\n",
    "\n",
    "    X_submission_pred = gbm2.predict(df_submission_sample2[features_names])#, num_iteration=gbm.best_iteration_)\n",
    "\n",
    "    \n",
    "    X_train_pred = np.maximum(X_train_pred, 0)\n",
    "    X_validation_pred = np.maximum(X_validation_pred, 0)\n",
    "    X_test_pred = np.maximum(X_test_pred, 0)\n",
    "    X_submission_pred = np.maximum(X_submission_pred, 0)    \n",
    "    \n",
    "    \n",
    "    predictions_store[store]\n",
    "\n"
   ]
  },
  {
   "cell_type": "code",
   "execution_count": null,
   "id": "5067da6f",
   "metadata": {},
   "outputs": [],
   "source": []
  },
  {
   "cell_type": "code",
   "execution_count": null,
   "id": "5e1de6ca",
   "metadata": {},
   "outputs": [],
   "source": []
  },
  {
   "cell_type": "code",
   "execution_count": 239,
   "id": "e946ab16",
   "metadata": {},
   "outputs": [],
   "source": []
  },
  {
   "cell_type": "code",
   "execution_count": 240,
   "id": "2f2a8e04",
   "metadata": {},
   "outputs": [
    {
     "name": "stdout",
     "output_type": "stream",
     "text": [
      "Final score mean_squared_error\n",
      "Score train: 2.1411469860484367\n",
      "Score val  : 2.2019515202781954\n",
      "Score test : 2.837888301794848\n"
     ]
    }
   ],
   "source": [
    "X_train_pred      = bst.predict(X_train)#, num_iteration=gbm.best_iteration_)\n",
    "X_validation_pred = bst.predict(X_validation)#, num_iteration=gbm.best_iteration_)\n",
    "X_test_pred       = bst.predict(X_test)#, num_iteration=gbm.best_iteration_)\n",
    "\n",
    "X_submission_pred = bst.predict(X_submission)#, num_iteration=gbm.best_iteration_)\n",
    "\n",
    "\n",
    "from sklearn.metrics import mean_squared_error\n",
    "\n",
    "X_train_pred = np.maximum(X_train_pred, 0)\n",
    "X_validation_pred = np.maximum(X_validation_pred, 0)\n",
    "X_test_pred = np.maximum(X_test_pred, 0)\n",
    "X_submission_pred = np.maximum(X_submission_pred, 0)\n",
    "\n",
    "df_train_rmse = mean_squared_error(y_train,X_train_pred, squared=False)\n",
    "df_val_rmse   = mean_squared_error(y_validation,X_validation_pred, squared=False)\n",
    "df_test_rmse  = mean_squared_error(y_test,X_test_pred, squared=False)\n",
    "\n",
    "print('Final score mean_squared_error')\n",
    "print('Score train:',df_train_rmse)\n",
    "print('Score val  :',df_val_rmse)\n",
    "print('Score test :',df_test_rmse)\n",
    "\n"
   ]
  },
  {
   "cell_type": "code",
   "execution_count": 231,
   "id": "c1f89e0d",
   "metadata": {
    "collapsed": false,
    "gradient": {
     "editing": false,
     "id": "30c1c994",
     "kernelId": "2916018f-6766-4ce9-a9f0-c3eb16ceb4f1",
     "source_hidden": false
    },
    "jupyter": {
     "outputs_hidden": false
    }
   },
   "outputs": [],
   "source": []
  },
  {
   "cell_type": "code",
   "execution_count": 232,
   "id": "d433d76a",
   "metadata": {
    "collapsed": false,
    "gradient": {
     "editing": false,
     "id": "fad5eda9",
     "kernelId": "2916018f-6766-4ce9-a9f0-c3eb16ceb4f1",
     "source_hidden": false
    },
    "jupyter": {
     "outputs_hidden": false
    }
   },
   "outputs": [
    {
     "name": "stdout",
     "output_type": "stream",
     "text": [
      "Final score mean_squared_error\n",
      "Score train: 2.1411469860484367\n",
      "Score val  : 2.2019515202781954\n",
      "Score test : 2.837888301794848\n"
     ]
    }
   ],
   "source": []
  },
  {
   "cell_type": "code",
   "execution_count": 233,
   "id": "9d8f1020",
   "metadata": {
    "gradient": {
     "editing": false,
     "id": "dba91e85",
     "kernelId": "2916018f-6766-4ce9-a9f0-c3eb16ceb4f1"
    }
   },
   "outputs": [],
   "source": [
    "#X_test_pred[0] = 200"
   ]
  },
  {
   "cell_type": "code",
   "execution_count": 219,
   "id": "ddb237b9",
   "metadata": {
    "collapsed": false,
    "gradient": {
     "editing": false,
     "id": "f34c1ff2",
     "kernelId": "2916018f-6766-4ce9-a9f0-c3eb16ceb4f1",
     "source_hidden": false
    },
    "jupyter": {
     "outputs_hidden": false
    }
   },
   "outputs": [
    {
     "data": {
      "image/png": "[encoded data removed]",
      "text/plain": [
       "<Figure size 1440x576 with 1 Axes>"
      ]
     },
     "metadata": {
      "needs_background": "light"
     },
     "output_type": "display_data"
    }
   ],
   "source": [
    "import matplotlib.pyplot as plt\n",
    "\n",
    "fig = plt.figure(figsize=(20,8))\n",
    "plt.plot(X_test_pred,'b', alpha=0.7)\n",
    "plt.plot(y_test.values,'r', alpha=0.4)\n",
    "plt.legend([\"prediction\", \"real\"], loc =\"upper right\")\n",
    "\n",
    "plt.show()"
   ]
  },
  {
   "cell_type": "code",
   "execution_count": 220,
   "id": "623e65af",
   "metadata": {
    "collapsed": false,
    "gradient": {
     "editing": false,
     "id": "056983a7",
     "kernelId": "2916018f-6766-4ce9-a9f0-c3eb16ceb4f1",
     "source_hidden": false
    },
    "jupyter": {
     "outputs_hidden": false
    }
   },
   "outputs": [
    {
     "name": "stderr",
     "output_type": "stream",
     "text": [
      "/tmp/ipykernel_3027/1936749470.py:2: SettingWithCopyWarning: \n",
      "A value is trying to be set on a copy of a slice from a DataFrame.\n",
      "Try using .loc[row_indexer,col_indexer] = value instead\n",
      "\n",
      "See the caveats in the documentation: https://pandas.pydata.org/pandas-docs/stable/user_guide/indexing.html#returning-a-view-versus-a-copy\n",
      "  df_submission_sample['QTT'] = X_submission_pred\n"
     ]
    },
    {
     "data": {
      "text/html": [
       "<div>\n",
       "<style scoped>\n",
       "    .dataframe tbody tr th:only-of-type {\n",
       "        vertical-align: middle;\n",
       "    }\n",
       "\n",
       "    .dataframe tbody tr th {\n",
       "        vertical-align: top;\n",
       "    }\n",
       "\n",
       "    .dataframe thead th {\n",
       "        text-align: right;\n",
       "    }\n",
       "</style>\n",
       "<table border=\"1\" class=\"dataframe\">\n",
       "  <thead>\n",
       "    <tr style=\"text-align: right;\">\n",
       "      <th></th>\n",
       "      <th>DATE</th>\n",
       "      <th>S100</th>\n",
       "      <th>I100</th>\n",
       "      <th>C100</th>\n",
       "      <th>C101</th>\n",
       "      <th>QTT</th>\n",
       "      <th>item_id</th>\n",
       "      <th>I101</th>\n",
       "      <th>I102</th>\n",
       "      <th>I103</th>\n",
       "      <th>...</th>\n",
       "      <th>month</th>\n",
       "      <th>day</th>\n",
       "      <th>day_of_week</th>\n",
       "      <th>day_of_year</th>\n",
       "      <th>is_year_start</th>\n",
       "      <th>is_quarter_start</th>\n",
       "      <th>is_month_start</th>\n",
       "      <th>is_month_end</th>\n",
       "      <th>ID</th>\n",
       "      <th>QTT_reference</th>\n",
       "    </tr>\n",
       "  </thead>\n",
       "  <tbody>\n",
       "    <tr>\n",
       "      <th>0</th>\n",
       "      <td>2021-10-03</td>\n",
       "      <td>0</td>\n",
       "      <td>1</td>\n",
       "      <td>12</td>\n",
       "      <td>140</td>\n",
       "      <td>1.340853</td>\n",
       "      <td>1_12_140</td>\n",
       "      <td>2</td>\n",
       "      <td>1</td>\n",
       "      <td>1</td>\n",
       "      <td>...</td>\n",
       "      <td>10</td>\n",
       "      <td>3</td>\n",
       "      <td>6</td>\n",
       "      <td>276</td>\n",
       "      <td>False</td>\n",
       "      <td>False</td>\n",
       "      <td>False</td>\n",
       "      <td>False</td>\n",
       "      <td>2021-10-03_0_1_12_140</td>\n",
       "      <td>1.373770</td>\n",
       "    </tr>\n",
       "    <tr>\n",
       "      <th>1</th>\n",
       "      <td>2021-10-03</td>\n",
       "      <td>0</td>\n",
       "      <td>1</td>\n",
       "      <td>12</td>\n",
       "      <td>164</td>\n",
       "      <td>1.279838</td>\n",
       "      <td>1_12_164</td>\n",
       "      <td>2</td>\n",
       "      <td>1</td>\n",
       "      <td>1</td>\n",
       "      <td>...</td>\n",
       "      <td>10</td>\n",
       "      <td>3</td>\n",
       "      <td>6</td>\n",
       "      <td>276</td>\n",
       "      <td>False</td>\n",
       "      <td>False</td>\n",
       "      <td>False</td>\n",
       "      <td>False</td>\n",
       "      <td>2021-10-03_0_1_12_164</td>\n",
       "      <td>1.451087</td>\n",
       "    </tr>\n",
       "    <tr>\n",
       "      <th>2</th>\n",
       "      <td>2021-10-03</td>\n",
       "      <td>0</td>\n",
       "      <td>1</td>\n",
       "      <td>12</td>\n",
       "      <td>339</td>\n",
       "      <td>1.298008</td>\n",
       "      <td>1_12_339</td>\n",
       "      <td>2</td>\n",
       "      <td>1</td>\n",
       "      <td>1</td>\n",
       "      <td>...</td>\n",
       "      <td>10</td>\n",
       "      <td>3</td>\n",
       "      <td>6</td>\n",
       "      <td>276</td>\n",
       "      <td>False</td>\n",
       "      <td>False</td>\n",
       "      <td>False</td>\n",
       "      <td>False</td>\n",
       "      <td>2021-10-03_0_1_12_339</td>\n",
       "      <td>1.311537</td>\n",
       "    </tr>\n",
       "    <tr>\n",
       "      <th>3</th>\n",
       "      <td>2021-10-03</td>\n",
       "      <td>0</td>\n",
       "      <td>1</td>\n",
       "      <td>13</td>\n",
       "      <td>128</td>\n",
       "      <td>1.263037</td>\n",
       "      <td>1_13_128</td>\n",
       "      <td>2</td>\n",
       "      <td>1</td>\n",
       "      <td>1</td>\n",
       "      <td>...</td>\n",
       "      <td>10</td>\n",
       "      <td>3</td>\n",
       "      <td>6</td>\n",
       "      <td>276</td>\n",
       "      <td>False</td>\n",
       "      <td>False</td>\n",
       "      <td>False</td>\n",
       "      <td>False</td>\n",
       "      <td>2021-10-03_0_1_13_128</td>\n",
       "      <td>1.282604</td>\n",
       "    </tr>\n",
       "    <tr>\n",
       "      <th>4</th>\n",
       "      <td>2021-10-03</td>\n",
       "      <td>0</td>\n",
       "      <td>1</td>\n",
       "      <td>14</td>\n",
       "      <td>164</td>\n",
       "      <td>1.362378</td>\n",
       "      <td>1_14_164</td>\n",
       "      <td>2</td>\n",
       "      <td>1</td>\n",
       "      <td>1</td>\n",
       "      <td>...</td>\n",
       "      <td>10</td>\n",
       "      <td>3</td>\n",
       "      <td>6</td>\n",
       "      <td>276</td>\n",
       "      <td>False</td>\n",
       "      <td>False</td>\n",
       "      <td>False</td>\n",
       "      <td>False</td>\n",
       "      <td>2021-10-03_0_1_14_164</td>\n",
       "      <td>1.673136</td>\n",
       "    </tr>\n",
       "  </tbody>\n",
       "</table>\n",
       "<p>5 rows × 24 columns</p>\n",
       "</div>"
      ],
      "text/plain": [
       "        DATE  S100  I100  C100  C101       QTT   item_id  I101  I102  I103  \\\n",
       "0 2021-10-03     0     1    12   140  1.340853  1_12_140     2     1     1   \n",
       "1 2021-10-03     0     1    12   164  1.279838  1_12_164     2     1     1   \n",
       "2 2021-10-03     0     1    12   339  1.298008  1_12_339     2     1     1   \n",
       "3 2021-10-03     0     1    13   128  1.263037  1_13_128     2     1     1   \n",
       "4 2021-10-03     0     1    14   164  1.362378  1_14_164     2     1     1   \n",
       "\n",
       "   ...  month  day  day_of_week  day_of_year  is_year_start  is_quarter_start  \\\n",
       "0  ...     10    3            6          276          False             False   \n",
       "1  ...     10    3            6          276          False             False   \n",
       "2  ...     10    3            6          276          False             False   \n",
       "3  ...     10    3            6          276          False             False   \n",
       "4  ...     10    3            6          276          False             False   \n",
       "\n",
       "   is_month_start  is_month_end                     ID  QTT_reference  \n",
       "0           False         False  2021-10-03_0_1_12_140       1.373770  \n",
       "1           False         False  2021-10-03_0_1_12_164       1.451087  \n",
       "2           False         False  2021-10-03_0_1_12_339       1.311537  \n",
       "3           False         False  2021-10-03_0_1_13_128       1.282604  \n",
       "4           False         False  2021-10-03_0_1_14_164       1.673136  \n",
       "\n",
       "[5 rows x 24 columns]"
      ]
     },
     "execution_count": 220,
     "metadata": {},
     "output_type": "execute_result"
    }
   ],
   "source": [
    "df_submission_sample.reset_index(drop=True,inplace=True)\n",
    "df_submission_sample['QTT'] = X_submission_pred\n",
    "df_submission_sample.head()"
   ]
  },
  {
   "cell_type": "code",
   "execution_count": 227,
   "id": "0caa361b",
   "metadata": {
    "collapsed": false,
    "gradient": {
     "editing": false,
     "id": "b911b672",
     "kernelId": "2916018f-6766-4ce9-a9f0-c3eb16ceb4f1",
     "source_hidden": false
    },
    "jupyter": {
     "outputs_hidden": false
    }
   },
   "outputs": [
    {
     "name": "stdout",
     "output_type": "stream",
     "text": [
      "saving..\n",
      "submission_baseline01_2.2027_2.8456_local.csv\n"
     ]
    }
   ],
   "source": [
    "filename_submission= 'submission_baseline01_'+str(np.round(df_val_rmse,4))+'_'+str(np.round(df_test_rmse,4))+'_local.csv'\n",
    "save = True\n",
    "if save:\n",
    "    print('saving..')\n",
    "    print(filename_submission)\n",
    "    df_submission_sample[['ID','QTT']].to_csv(os.path.join(PATH_RESULTS,'submissions',filename_submission),index=None)"
   ]
  },
  {
   "cell_type": "code",
   "execution_count": 222,
   "id": "3a714750",
   "metadata": {},
   "outputs": [
    {
     "data": {
      "text/html": [
       "<div>\n",
       "<style scoped>\n",
       "    .dataframe tbody tr th:only-of-type {\n",
       "        vertical-align: middle;\n",
       "    }\n",
       "\n",
       "    .dataframe tbody tr th {\n",
       "        vertical-align: top;\n",
       "    }\n",
       "\n",
       "    .dataframe thead th {\n",
       "        text-align: right;\n",
       "    }\n",
       "</style>\n",
       "<table border=\"1\" class=\"dataframe\">\n",
       "  <thead>\n",
       "    <tr style=\"text-align: right;\">\n",
       "      <th></th>\n",
       "      <th>ID</th>\n",
       "      <th>QTT</th>\n",
       "    </tr>\n",
       "  </thead>\n",
       "  <tbody>\n",
       "    <tr>\n",
       "      <th>0</th>\n",
       "      <td>2021-10-03_0_1_12_140</td>\n",
       "      <td>1.340853</td>\n",
       "    </tr>\n",
       "    <tr>\n",
       "      <th>1</th>\n",
       "      <td>2021-10-03_0_1_12_164</td>\n",
       "      <td>1.279838</td>\n",
       "    </tr>\n",
       "    <tr>\n",
       "      <th>2</th>\n",
       "      <td>2021-10-03_0_1_12_339</td>\n",
       "      <td>1.298008</td>\n",
       "    </tr>\n",
       "    <tr>\n",
       "      <th>3</th>\n",
       "      <td>2021-10-03_0_1_13_128</td>\n",
       "      <td>1.263037</td>\n",
       "    </tr>\n",
       "    <tr>\n",
       "      <th>4</th>\n",
       "      <td>2021-10-03_0_1_14_164</td>\n",
       "      <td>1.362378</td>\n",
       "    </tr>\n",
       "    <tr>\n",
       "      <th>...</th>\n",
       "      <td>...</td>\n",
       "      <td>...</td>\n",
       "    </tr>\n",
       "    <tr>\n",
       "      <th>69116</th>\n",
       "      <td>2021-10-24_22_18_13_76</td>\n",
       "      <td>3.147484</td>\n",
       "    </tr>\n",
       "    <tr>\n",
       "      <th>69117</th>\n",
       "      <td>2021-11-07_22_18_12_76</td>\n",
       "      <td>2.132922</td>\n",
       "    </tr>\n",
       "    <tr>\n",
       "      <th>69118</th>\n",
       "      <td>2021-11-07_22_18_13_76</td>\n",
       "      <td>3.331959</td>\n",
       "    </tr>\n",
       "    <tr>\n",
       "      <th>69119</th>\n",
       "      <td>2021-10-17_22_12_15_79</td>\n",
       "      <td>2.099209</td>\n",
       "    </tr>\n",
       "    <tr>\n",
       "      <th>69120</th>\n",
       "      <td>2021-11-07_22_12_15_79</td>\n",
       "      <td>2.074886</td>\n",
       "    </tr>\n",
       "  </tbody>\n",
       "</table>\n",
       "<p>69121 rows × 2 columns</p>\n",
       "</div>"
      ],
      "text/plain": [
       "                           ID       QTT\n",
       "0       2021-10-03_0_1_12_140  1.340853\n",
       "1       2021-10-03_0_1_12_164  1.279838\n",
       "2       2021-10-03_0_1_12_339  1.298008\n",
       "3       2021-10-03_0_1_13_128  1.263037\n",
       "4       2021-10-03_0_1_14_164  1.362378\n",
       "...                       ...       ...\n",
       "69116  2021-10-24_22_18_13_76  3.147484\n",
       "69117  2021-11-07_22_18_12_76  2.132922\n",
       "69118  2021-11-07_22_18_13_76  3.331959\n",
       "69119  2021-10-17_22_12_15_79  2.099209\n",
       "69120  2021-11-07_22_12_15_79  2.074886\n",
       "\n",
       "[69121 rows x 2 columns]"
      ]
     },
     "execution_count": 222,
     "metadata": {},
     "output_type": "execute_result"
    }
   ],
   "source": [
    "df_submission_sample[['ID','QTT']]"
   ]
  },
  {
   "cell_type": "code",
   "execution_count": 223,
   "id": "04a2382a",
   "metadata": {
    "collapsed": false,
    "gradient": {
     "editing": false,
     "id": "f3c21899",
     "kernelId": "2916018f-6766-4ce9-a9f0-c3eb16ceb4f1",
     "source_hidden": false
    },
    "jupyter": {
     "outputs_hidden": false
    }
   },
   "outputs": [],
   "source": [
    "result = pd.read_csv(os.path.join(PATH_RESULTS,'submissions','submission_2.1046_local.csv'))"
   ]
  },
  {
   "cell_type": "code",
   "execution_count": 224,
   "id": "f188178f",
   "metadata": {
    "collapsed": false,
    "gradient": {
     "editing": false,
     "id": "9eb686bd",
     "kernelId": "2916018f-6766-4ce9-a9f0-c3eb16ceb4f1",
     "source_hidden": false
    },
    "jupyter": {
     "outputs_hidden": false
    }
   },
   "outputs": [
    {
     "name": "stderr",
     "output_type": "stream",
     "text": [
      "/tmp/ipykernel_3027/848815569.py:1: SettingWithCopyWarning: \n",
      "A value is trying to be set on a copy of a slice from a DataFrame.\n",
      "Try using .loc[row_indexer,col_indexer] = value instead\n",
      "\n",
      "See the caveats in the documentation: https://pandas.pydata.org/pandas-docs/stable/user_guide/indexing.html#returning-a-view-versus-a-copy\n",
      "  df_submission_sample['QTT_reference']= result['QTT'].copy()\n"
     ]
    },
    {
     "data": {
      "text/html": [
       "<div>\n",
       "<style scoped>\n",
       "    .dataframe tbody tr th:only-of-type {\n",
       "        vertical-align: middle;\n",
       "    }\n",
       "\n",
       "    .dataframe tbody tr th {\n",
       "        vertical-align: top;\n",
       "    }\n",
       "\n",
       "    .dataframe thead th {\n",
       "        text-align: right;\n",
       "    }\n",
       "</style>\n",
       "<table border=\"1\" class=\"dataframe\">\n",
       "  <thead>\n",
       "    <tr style=\"text-align: right;\">\n",
       "      <th></th>\n",
       "      <th>QTT_reference</th>\n",
       "      <th>QTT</th>\n",
       "    </tr>\n",
       "  </thead>\n",
       "  <tbody>\n",
       "    <tr>\n",
       "      <th>69101</th>\n",
       "      <td>3.906683</td>\n",
       "      <td>5.018049</td>\n",
       "    </tr>\n",
       "    <tr>\n",
       "      <th>69102</th>\n",
       "      <td>3.740769</td>\n",
       "      <td>5.893526</td>\n",
       "    </tr>\n",
       "    <tr>\n",
       "      <th>69103</th>\n",
       "      <td>0.067038</td>\n",
       "      <td>2.076998</td>\n",
       "    </tr>\n",
       "    <tr>\n",
       "      <th>69104</th>\n",
       "      <td>2.382908</td>\n",
       "      <td>2.213521</td>\n",
       "    </tr>\n",
       "    <tr>\n",
       "      <th>69105</th>\n",
       "      <td>59.378511</td>\n",
       "      <td>28.656136</td>\n",
       "    </tr>\n",
       "    <tr>\n",
       "      <th>69106</th>\n",
       "      <td>65.152742</td>\n",
       "      <td>31.452772</td>\n",
       "    </tr>\n",
       "    <tr>\n",
       "      <th>69107</th>\n",
       "      <td>80.167873</td>\n",
       "      <td>33.093957</td>\n",
       "    </tr>\n",
       "    <tr>\n",
       "      <th>69108</th>\n",
       "      <td>89.173996</td>\n",
       "      <td>32.742018</td>\n",
       "    </tr>\n",
       "    <tr>\n",
       "      <th>69109</th>\n",
       "      <td>89.656533</td>\n",
       "      <td>33.059403</td>\n",
       "    </tr>\n",
       "    <tr>\n",
       "      <th>69110</th>\n",
       "      <td>72.946618</td>\n",
       "      <td>34.764282</td>\n",
       "    </tr>\n",
       "    <tr>\n",
       "      <th>69111</th>\n",
       "      <td>72.264904</td>\n",
       "      <td>37.704587</td>\n",
       "    </tr>\n",
       "    <tr>\n",
       "      <th>69112</th>\n",
       "      <td>4.508399</td>\n",
       "      <td>1.198768</td>\n",
       "    </tr>\n",
       "    <tr>\n",
       "      <th>69113</th>\n",
       "      <td>0.097681</td>\n",
       "      <td>3.012885</td>\n",
       "    </tr>\n",
       "    <tr>\n",
       "      <th>69114</th>\n",
       "      <td>0.433274</td>\n",
       "      <td>3.301375</td>\n",
       "    </tr>\n",
       "    <tr>\n",
       "      <th>69115</th>\n",
       "      <td>-1.645062</td>\n",
       "      <td>3.256259</td>\n",
       "    </tr>\n",
       "    <tr>\n",
       "      <th>69116</th>\n",
       "      <td>-0.803513</td>\n",
       "      <td>3.147484</td>\n",
       "    </tr>\n",
       "    <tr>\n",
       "      <th>69117</th>\n",
       "      <td>2.547081</td>\n",
       "      <td>2.132922</td>\n",
       "    </tr>\n",
       "    <tr>\n",
       "      <th>69118</th>\n",
       "      <td>-0.627789</td>\n",
       "      <td>3.331959</td>\n",
       "    </tr>\n",
       "    <tr>\n",
       "      <th>69119</th>\n",
       "      <td>1.484558</td>\n",
       "      <td>2.099209</td>\n",
       "    </tr>\n",
       "    <tr>\n",
       "      <th>69120</th>\n",
       "      <td>2.111604</td>\n",
       "      <td>2.074886</td>\n",
       "    </tr>\n",
       "  </tbody>\n",
       "</table>\n",
       "</div>"
      ],
      "text/plain": [
       "       QTT_reference        QTT\n",
       "69101       3.906683   5.018049\n",
       "69102       3.740769   5.893526\n",
       "69103       0.067038   2.076998\n",
       "69104       2.382908   2.213521\n",
       "69105      59.378511  28.656136\n",
       "69106      65.152742  31.452772\n",
       "69107      80.167873  33.093957\n",
       "69108      89.173996  32.742018\n",
       "69109      89.656533  33.059403\n",
       "69110      72.946618  34.764282\n",
       "69111      72.264904  37.704587\n",
       "69112       4.508399   1.198768\n",
       "69113       0.097681   3.012885\n",
       "69114       0.433274   3.301375\n",
       "69115      -1.645062   3.256259\n",
       "69116      -0.803513   3.147484\n",
       "69117       2.547081   2.132922\n",
       "69118      -0.627789   3.331959\n",
       "69119       1.484558   2.099209\n",
       "69120       2.111604   2.074886"
      ]
     },
     "execution_count": 224,
     "metadata": {},
     "output_type": "execute_result"
    }
   ],
   "source": [
    "df_submission_sample['QTT_reference']= result['QTT'].copy()\n",
    "df_submission_sample[['QTT_reference','QTT']][-20:]"
   ]
  },
  {
   "cell_type": "code",
   "execution_count": 225,
   "id": "571d6362",
   "metadata": {
    "collapsed": false,
    "gradient": {
     "editing": false,
     "id": "fd8e4801",
     "kernelId": "2916018f-6766-4ce9-a9f0-c3eb16ceb4f1",
     "source_hidden": false
    },
    "jupyter": {
     "outputs_hidden": false
    }
   },
   "outputs": [
    {
     "data": {
      "image/png": "[encoded data removed]",
      "text/plain": [
       "<Figure size 1440x576 with 1 Axes>"
      ]
     },
     "metadata": {
      "needs_background": "light"
     },
     "output_type": "display_data"
    }
   ],
   "source": [
    "fig = plt.figure(figsize=(20,8))\n",
    "plt.plot(df_submission_sample['QTT'],'b', alpha=0.7)\n",
    "plt.plot(result['QTT'],'r', alpha=0.4)\n",
    "plt.legend([\"prediction\", \"real\"], loc =\"upper right\")\n",
    "plt.show()"
   ]
  },
  {
   "cell_type": "code",
   "execution_count": 226,
   "id": "f2fe3401",
   "metadata": {
    "gradient": {
     "editing": false,
     "id": "f49659fd",
     "kernelId": "2916018f-6766-4ce9-a9f0-c3eb16ceb4f1"
    }
   },
   "outputs": [
    {
     "name": "stdout",
     "output_type": "stream",
     "text": [
      "Final score mean_squared_error\n",
      "Score train: 1.2461280973337043\n"
     ]
    }
   ],
   "source": [
    "difference = mean_squared_error(df_submission_sample['QTT'],result['QTT'], squared=False)\n",
    "\n",
    "print('Final score mean_squared_error')\n",
    "print('Score train:',difference)"
   ]
  },
  {
   "cell_type": "code",
   "execution_count": null,
   "id": "7cbcf155",
   "metadata": {
    "gradient": {
     "editing": false,
     "id": "a6e75b6b",
     "kernelId": "2916018f-6766-4ce9-a9f0-c3eb16ceb4f1"
    }
   },
   "outputs": [],
   "source": []
  },
  {
   "cell_type": "code",
   "execution_count": null,
   "id": "a510e508",
   "metadata": {
    "gradient": {
     "editing": false,
     "id": "390259a8",
     "kernelId": "2916018f-6766-4ce9-a9f0-c3eb16ceb4f1"
    }
   },
   "outputs": [],
   "source": []
  },
  {
   "cell_type": "code",
   "execution_count": null,
   "id": "7f36a1b6",
   "metadata": {
    "gradient": {
     "editing": false,
     "id": "12e4ab3f",
     "kernelId": "2916018f-6766-4ce9-a9f0-c3eb16ceb4f1"
    }
   },
   "outputs": [],
   "source": []
  },
  {
   "cell_type": "code",
   "execution_count": null,
   "id": "4488e223",
   "metadata": {
    "gradient": {
     "editing": false,
     "id": "103025f4",
     "kernelId": "2916018f-6766-4ce9-a9f0-c3eb16ceb4f1"
    }
   },
   "outputs": [],
   "source": []
  },
  {
   "cell_type": "code",
   "execution_count": null,
   "id": "f130f6c4",
   "metadata": {
    "gradient": {
     "editing": false,
     "id": "87cebf21",
     "kernelId": "2916018f-6766-4ce9-a9f0-c3eb16ceb4f1"
    }
   },
   "outputs": [],
   "source": []
  },
  {
   "cell_type": "code",
   "execution_count": null,
   "id": "4eeccba2",
   "metadata": {
    "gradient": {
     "editing": false,
     "id": "69c8ccd1",
     "kernelId": "2916018f-6766-4ce9-a9f0-c3eb16ceb4f1"
    }
   },
   "outputs": [],
   "source": []
  },
  {
   "cell_type": "code",
   "execution_count": null,
   "id": "49c617f4",
   "metadata": {
    "gradient": {
     "editing": false,
     "id": "f846d702",
     "kernelId": "2916018f-6766-4ce9-a9f0-c3eb16ceb4f1"
    }
   },
   "outputs": [],
   "source": []
  }
 ],
 "metadata": {
  "kernelspec": {
   "display_name": "Python 3 (ipykernel)",
   "language": "python",
   "name": "python3"
  },
  "language_info": {
   "codemirror_mode": {
    "name": "ipython",
    "version": 3
   },
   "file_extension": ".py",
   "mimetype": "text/x-python",
   "name": "python",
   "nbconvert_exporter": "python",
   "pygments_lexer": "ipython3",
   "version": "3.8.12"
  }
 },
 "nbformat": 4,
 "nbformat_minor": 5
}
