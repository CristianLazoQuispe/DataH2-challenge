{
 "cells": [
  {
   "cell_type": "code",
   "execution_count": 1,
   "id": "7092ad2a",
   "metadata": {
    "collapsed": false,
    "gradient": {
     "editing": false,
     "id": "8f503db5",
     "kernelId": "8acadc02-40bf-4da4-bde9-070f59c4e515",
     "source_hidden": false
    },
    "jupyter": {
     "outputs_hidden": false
    }
   },
   "outputs": [],
   "source": [
    "import sys\n",
    "sys.path.insert(1, '../Src')\n",
    "import numpy as np\n",
    "import pandas as pd\n",
    "import os\n",
    "from utils.feature_engineering import *\n",
    "from utils.preprocessing import *\n",
    "from utils.analysis import * \n",
    "PATH_DATASET = '../Dataset/'\n",
    "#PATH_DATASET = '../Dataset/datah-m1-challange/'\n",
    "PATH_RESULTS = '../Results/'"
   ]
  },
  {
   "cell_type": "code",
   "execution_count": 2,
   "id": "5c9d63fa",
   "metadata": {
    "collapsed": false,
    "gradient": {
     "editing": false,
     "id": "a87fd79b",
     "kernelId": "8acadc02-40bf-4da4-bde9-070f59c4e515",
     "source_hidden": false
    },
    "jupyter": {
     "outputs_hidden": false
    }
   },
   "outputs": [],
   "source": [
    "df_sales  = pd.read_pickle(os.path.join(PATH_RESULTS,'dataset','sales.pkl'))\n",
    "df_items  = pd.read_pickle(os.path.join(PATH_RESULTS,'dataset','item.pkl'))\n",
    "df_stores = pd.read_pickle(os.path.join(PATH_RESULTS,'dataset','store.pkl'))\n",
    "\n",
    "df_submission_sample = pd.read_pickle(os.path.join(PATH_RESULTS,'dataset','submission_sample.pkl'))"
   ]
  },
  {
   "cell_type": "code",
   "execution_count": 3,
   "id": "6fb605e5",
   "metadata": {
    "gradient": {
     "editing": false,
     "execution_count": 3,
     "id": "bb7c9673",
     "kernelId": "8acadc02-40bf-4da4-bde9-070f59c4e515"
    }
   },
   "outputs": [
    {
     "data": {
      "text/html": [
       "<div>\n",
       "<style scoped>\n",
       "    .dataframe tbody tr th:only-of-type {\n",
       "        vertical-align: middle;\n",
       "    }\n",
       "\n",
       "    .dataframe tbody tr th {\n",
       "        vertical-align: top;\n",
       "    }\n",
       "\n",
       "    .dataframe thead th {\n",
       "        text-align: right;\n",
       "    }\n",
       "</style>\n",
       "<table border=\"1\" class=\"dataframe\">\n",
       "  <thead>\n",
       "    <tr style=\"text-align: right;\">\n",
       "      <th></th>\n",
       "      <th>DATE</th>\n",
       "      <th>S100</th>\n",
       "      <th>I100</th>\n",
       "      <th>C100</th>\n",
       "      <th>C101</th>\n",
       "      <th>QTT</th>\n",
       "      <th>item_id</th>\n",
       "    </tr>\n",
       "  </thead>\n",
       "  <tbody>\n",
       "    <tr>\n",
       "      <th>0</th>\n",
       "      <td>2017-01-08</td>\n",
       "      <td>0</td>\n",
       "      <td>0</td>\n",
       "      <td>12</td>\n",
       "      <td>76</td>\n",
       "      <td>2</td>\n",
       "      <td>0_12_76</td>\n",
       "    </tr>\n",
       "    <tr>\n",
       "      <th>1</th>\n",
       "      <td>2017-01-08</td>\n",
       "      <td>0</td>\n",
       "      <td>0</td>\n",
       "      <td>12</td>\n",
       "      <td>149</td>\n",
       "      <td>3</td>\n",
       "      <td>0_12_149</td>\n",
       "    </tr>\n",
       "    <tr>\n",
       "      <th>2</th>\n",
       "      <td>2017-01-08</td>\n",
       "      <td>0</td>\n",
       "      <td>0</td>\n",
       "      <td>12</td>\n",
       "      <td>256</td>\n",
       "      <td>3</td>\n",
       "      <td>0_12_256</td>\n",
       "    </tr>\n",
       "    <tr>\n",
       "      <th>3</th>\n",
       "      <td>2017-01-08</td>\n",
       "      <td>0</td>\n",
       "      <td>0</td>\n",
       "      <td>12</td>\n",
       "      <td>354</td>\n",
       "      <td>3</td>\n",
       "      <td>0_12_354</td>\n",
       "    </tr>\n",
       "    <tr>\n",
       "      <th>4</th>\n",
       "      <td>2017-01-08</td>\n",
       "      <td>0</td>\n",
       "      <td>0</td>\n",
       "      <td>13</td>\n",
       "      <td>149</td>\n",
       "      <td>2</td>\n",
       "      <td>0_13_149</td>\n",
       "    </tr>\n",
       "  </tbody>\n",
       "</table>\n",
       "</div>"
      ],
      "text/plain": [
       "         DATE  S100  I100  C100  C101  QTT   item_id\n",
       "0  2017-01-08     0     0    12    76    2   0_12_76\n",
       "1  2017-01-08     0     0    12   149    3  0_12_149\n",
       "2  2017-01-08     0     0    12   256    3  0_12_256\n",
       "3  2017-01-08     0     0    12   354    3  0_12_354\n",
       "4  2017-01-08     0     0    13   149    2  0_13_149"
      ]
     },
     "execution_count": 3,
     "metadata": {},
     "output_type": "execute_result"
    }
   ],
   "source": [
    "df_sales.head()"
   ]
  },
  {
   "cell_type": "raw",
   "id": "7e5e116e",
   "metadata": {
    "gradient": {
     "editing": false,
     "id": "df34f52f",
     "kernelId": "8acadc02-40bf-4da4-bde9-070f59c4e515"
    }
   },
   "source": [
    "date before 254 2020-03-22 00:00:00\n",
    "date not exists 255\n",
    "date before 254 2020-03-22 00:00:00\n",
    "date not exists 256\n",
    "date before 254 2020-03-22 00:00:00\n",
    "date not exists 257"
   ]
  },
  {
   "cell_type": "code",
   "execution_count": 4,
   "id": "6dad2396",
   "metadata": {
    "gradient": {
     "editing": false,
     "execution_count": 4,
     "id": "1d120567",
     "kernelId": "8acadc02-40bf-4da4-bde9-070f59c4e515"
    }
   },
   "outputs": [
    {
     "data": {
      "text/plain": [
       "Timestamp('2020-04-19 00:00:00')"
      ]
     },
     "execution_count": 4,
     "metadata": {},
     "output_type": "execute_result"
    }
   ],
   "source": [
    "pd.to_datetime('2020-03-29')+ pd.DateOffset(days=7)*3"
   ]
  },
  {
   "cell_type": "code",
   "execution_count": 5,
   "id": "c2e5d38d",
   "metadata": {
    "gradient": {
     "editing": false,
     "execution_count": 5,
     "id": "575c53f2",
     "kernelId": "8acadc02-40bf-4da4-bde9-070f59c4e515"
    }
   },
   "outputs": [
    {
     "data": {
      "text/plain": [
       "'2017-01-08'"
      ]
     },
     "execution_count": 5,
     "metadata": {},
     "output_type": "execute_result"
    }
   ],
   "source": [
    "df_sales['DATE'].iloc[0]"
   ]
  },
  {
   "cell_type": "raw",
   "id": "f0f76b7e",
   "metadata": {
    "gradient": {
     "editing": false,
     "id": "5999967a",
     "kernelId": "8acadc02-40bf-4da4-bde9-070f59c4e515"
    }
   },
   "source": [
    "df2 = {'DATE': '2020-03-29', 'S100': 0, 'I100': 0,\"C100\":12,\"C101\":149,\"QTT\":0,\"item_id\":\"0_12_149\"}\n",
    "df_sales = df_sales.append(df2, ignore_index = True)"
   ]
  },
  {
   "cell_type": "raw",
   "id": "a060aae3",
   "metadata": {
    "gradient": {
     "editing": false,
     "id": "4a501cce",
     "kernelId": "8acadc02-40bf-4da4-bde9-070f59c4e515"
    }
   },
   "source": [
    "df2 = {'DATE': '2020-04-05', 'S100': 0, 'I100': 0,\"C100\":12,\"C101\":149,\"QTT\":0,\"item_id\":\"0_12_149\"}\n",
    "df_sales = df_sales.append(df2, ignore_index = True)\n",
    "df2 = {'DATE': '2020-04-12', 'S100': 0, 'I100': 0,\"C100\":12,\"C101\":149,\"QTT\":0,\"item_id\":\"0_12_149\"}\n",
    "df_sales = df_sales.append(df2, ignore_index = True)\n",
    "df2 = {'DATE': '2020-04-19', 'S100': 0, 'I100': 0,\"C100\":12,\"C101\":149,\"QTT\":0,\"item_id\":\"0_12_149\"}\n",
    "df_sales = df_sales.append(df2, ignore_index = True)"
   ]
  },
  {
   "cell_type": "code",
   "execution_count": null,
   "id": "df5f0723",
   "metadata": {
    "gradient": {
     "editing": false,
     "execution_count": 5,
     "id": "9d93e1e3",
     "kernelId": "8acadc02-40bf-4da4-bde9-070f59c4e515"
    }
   },
   "outputs": [],
   "source": []
  },
  {
   "cell_type": "code",
   "execution_count": 6,
   "id": "89325948",
   "metadata": {
    "collapsed": false,
    "gradient": {
     "editing": false,
     "id": "74606a36",
     "kernelId": "8acadc02-40bf-4da4-bde9-070f59c4e515",
     "source_hidden": false
    },
    "jupyter": {
     "outputs_hidden": false
    }
   },
   "outputs": [],
   "source": [
    "N_submission = df_submission_sample.shape[0]\n",
    "N_sales      = df_sales.shape[0]"
   ]
  },
  {
   "cell_type": "code",
   "execution_count": 7,
   "id": "effee7be",
   "metadata": {
    "collapsed": false,
    "gradient": {
     "editing": false,
     "id": "2e0a47c1",
     "kernelId": "8acadc02-40bf-4da4-bde9-070f59c4e515",
     "source_hidden": false
    },
    "jupyter": {
     "outputs_hidden": false
    }
   },
   "outputs": [],
   "source": [
    "df_sales = fe_dates(df_sales)\n",
    "df_submission_sample = fe_dates(df_submission_sample)"
   ]
  },
  {
   "cell_type": "code",
   "execution_count": 8,
   "id": "dbe9b1e0",
   "metadata": {
    "collapsed": false,
    "gradient": {
     "editing": false,
     "id": "768eef29",
     "kernelId": "8acadc02-40bf-4da4-bde9-070f59c4e515",
     "source_hidden": false
    },
    "jupyter": {
     "outputs_hidden": false
    }
   },
   "outputs": [],
   "source": [
    "df_sales = df_sales.merge(df_items,on=['I100'])\n",
    "df_sales = df_sales.merge(df_stores,on=['S100'])\n",
    "    \n",
    "df_submission_sample = df_submission_sample.merge(df_items,on=['I100'])\n",
    "df_submission_sample = df_submission_sample.merge(df_stores,on=['S100'])\n",
    "\n"
   ]
  },
  {
   "cell_type": "code",
   "execution_count": 9,
   "id": "73ebc9b9",
   "metadata": {
    "collapsed": false,
    "gradient": {
     "editing": false,
     "id": "f390bd69",
     "kernelId": "8acadc02-40bf-4da4-bde9-070f59c4e515",
     "source_hidden": false
    },
    "jupyter": {
     "outputs_hidden": false
    }
   },
   "outputs": [],
   "source": [
    "def string_to_categorical(df):\n",
    "    for name in df.columns:\n",
    "        aux = df[name].dtype\n",
    "        if str(aux) in ['str','object']:\n",
    "            df[name] = df[name].astype('category')\n",
    "            print(name,aux,df[name].dtype)\n",
    "    return df"
   ]
  },
  {
   "cell_type": "code",
   "execution_count": 10,
   "id": "057147f8",
   "metadata": {
    "collapsed": false,
    "gradient": {
     "editing": false,
     "id": "44b5ea1d",
     "kernelId": "8acadc02-40bf-4da4-bde9-070f59c4e515",
     "source_hidden": false
    },
    "jupyter": {
     "outputs_hidden": false
    }
   },
   "outputs": [
    {
     "name": "stdout",
     "output_type": "stream",
     "text": [
      "item_id object category\n",
      "ID object category\n",
      "item_id object category\n"
     ]
    }
   ],
   "source": [
    "df_sales.replace([np.inf, -np.inf, np.nan],0,inplace=True)\n",
    "df_submission_sample.replace([np.inf, -np.inf, np.nan],0,inplace=True)\n",
    "df_sales             = string_to_categorical(df_sales).copy()\n",
    "df_submission_sample = string_to_categorical(df_submission_sample).copy()\n"
   ]
  },
  {
   "cell_type": "code",
   "execution_count": 11,
   "id": "f568767d",
   "metadata": {
    "collapsed": false,
    "gradient": {
     "editing": false,
     "id": "df609080",
     "kernelId": "8acadc02-40bf-4da4-bde9-070f59c4e515",
     "source_hidden": false
    },
    "jupyter": {
     "outputs_hidden": false
    }
   },
   "outputs": [
    {
     "data": {
      "text/html": [
       "<div>\n",
       "<style scoped>\n",
       "    .dataframe tbody tr th:only-of-type {\n",
       "        vertical-align: middle;\n",
       "    }\n",
       "\n",
       "    .dataframe tbody tr th {\n",
       "        vertical-align: top;\n",
       "    }\n",
       "\n",
       "    .dataframe thead th {\n",
       "        text-align: right;\n",
       "    }\n",
       "</style>\n",
       "<table border=\"1\" class=\"dataframe\">\n",
       "  <thead>\n",
       "    <tr style=\"text-align: right;\">\n",
       "      <th></th>\n",
       "      <th>DATE</th>\n",
       "      <th>S100</th>\n",
       "      <th>I100</th>\n",
       "      <th>C100</th>\n",
       "      <th>C101</th>\n",
       "      <th>QTT</th>\n",
       "      <th>item_id</th>\n",
       "      <th>year</th>\n",
       "      <th>month</th>\n",
       "      <th>day</th>\n",
       "      <th>...</th>\n",
       "      <th>is_year_start</th>\n",
       "      <th>is_quarter_start</th>\n",
       "      <th>is_month_start</th>\n",
       "      <th>is_month_end</th>\n",
       "      <th>I101</th>\n",
       "      <th>I102</th>\n",
       "      <th>I103</th>\n",
       "      <th>S101</th>\n",
       "      <th>S102</th>\n",
       "      <th>S103</th>\n",
       "    </tr>\n",
       "  </thead>\n",
       "  <tbody>\n",
       "    <tr>\n",
       "      <th>0</th>\n",
       "      <td>2017-01-08</td>\n",
       "      <td>0</td>\n",
       "      <td>0</td>\n",
       "      <td>12</td>\n",
       "      <td>76</td>\n",
       "      <td>2</td>\n",
       "      <td>0_12_76</td>\n",
       "      <td>2017</td>\n",
       "      <td>1</td>\n",
       "      <td>8</td>\n",
       "      <td>...</td>\n",
       "      <td>False</td>\n",
       "      <td>False</td>\n",
       "      <td>False</td>\n",
       "      <td>False</td>\n",
       "      <td>2</td>\n",
       "      <td>1</td>\n",
       "      <td>1</td>\n",
       "      <td>1</td>\n",
       "      <td>17</td>\n",
       "      <td>10</td>\n",
       "    </tr>\n",
       "    <tr>\n",
       "      <th>1</th>\n",
       "      <td>2017-01-08</td>\n",
       "      <td>0</td>\n",
       "      <td>0</td>\n",
       "      <td>12</td>\n",
       "      <td>149</td>\n",
       "      <td>3</td>\n",
       "      <td>0_12_149</td>\n",
       "      <td>2017</td>\n",
       "      <td>1</td>\n",
       "      <td>8</td>\n",
       "      <td>...</td>\n",
       "      <td>False</td>\n",
       "      <td>False</td>\n",
       "      <td>False</td>\n",
       "      <td>False</td>\n",
       "      <td>2</td>\n",
       "      <td>1</td>\n",
       "      <td>1</td>\n",
       "      <td>1</td>\n",
       "      <td>17</td>\n",
       "      <td>10</td>\n",
       "    </tr>\n",
       "    <tr>\n",
       "      <th>2</th>\n",
       "      <td>2017-01-08</td>\n",
       "      <td>0</td>\n",
       "      <td>0</td>\n",
       "      <td>12</td>\n",
       "      <td>256</td>\n",
       "      <td>3</td>\n",
       "      <td>0_12_256</td>\n",
       "      <td>2017</td>\n",
       "      <td>1</td>\n",
       "      <td>8</td>\n",
       "      <td>...</td>\n",
       "      <td>False</td>\n",
       "      <td>False</td>\n",
       "      <td>False</td>\n",
       "      <td>False</td>\n",
       "      <td>2</td>\n",
       "      <td>1</td>\n",
       "      <td>1</td>\n",
       "      <td>1</td>\n",
       "      <td>17</td>\n",
       "      <td>10</td>\n",
       "    </tr>\n",
       "    <tr>\n",
       "      <th>3</th>\n",
       "      <td>2017-01-08</td>\n",
       "      <td>0</td>\n",
       "      <td>0</td>\n",
       "      <td>12</td>\n",
       "      <td>354</td>\n",
       "      <td>3</td>\n",
       "      <td>0_12_354</td>\n",
       "      <td>2017</td>\n",
       "      <td>1</td>\n",
       "      <td>8</td>\n",
       "      <td>...</td>\n",
       "      <td>False</td>\n",
       "      <td>False</td>\n",
       "      <td>False</td>\n",
       "      <td>False</td>\n",
       "      <td>2</td>\n",
       "      <td>1</td>\n",
       "      <td>1</td>\n",
       "      <td>1</td>\n",
       "      <td>17</td>\n",
       "      <td>10</td>\n",
       "    </tr>\n",
       "    <tr>\n",
       "      <th>4</th>\n",
       "      <td>2017-01-08</td>\n",
       "      <td>0</td>\n",
       "      <td>0</td>\n",
       "      <td>13</td>\n",
       "      <td>149</td>\n",
       "      <td>2</td>\n",
       "      <td>0_13_149</td>\n",
       "      <td>2017</td>\n",
       "      <td>1</td>\n",
       "      <td>8</td>\n",
       "      <td>...</td>\n",
       "      <td>False</td>\n",
       "      <td>False</td>\n",
       "      <td>False</td>\n",
       "      <td>False</td>\n",
       "      <td>2</td>\n",
       "      <td>1</td>\n",
       "      <td>1</td>\n",
       "      <td>1</td>\n",
       "      <td>17</td>\n",
       "      <td>10</td>\n",
       "    </tr>\n",
       "  </tbody>\n",
       "</table>\n",
       "<p>5 rows × 22 columns</p>\n",
       "</div>"
      ],
      "text/plain": [
       "        DATE  S100  I100  C100  C101  QTT   item_id  year  month  day  ...  \\\n",
       "0 2017-01-08     0     0    12    76    2   0_12_76  2017      1    8  ...   \n",
       "1 2017-01-08     0     0    12   149    3  0_12_149  2017      1    8  ...   \n",
       "2 2017-01-08     0     0    12   256    3  0_12_256  2017      1    8  ...   \n",
       "3 2017-01-08     0     0    12   354    3  0_12_354  2017      1    8  ...   \n",
       "4 2017-01-08     0     0    13   149    2  0_13_149  2017      1    8  ...   \n",
       "\n",
       "   is_year_start  is_quarter_start  is_month_start  is_month_end  I101  I102  \\\n",
       "0          False             False           False         False     2     1   \n",
       "1          False             False           False         False     2     1   \n",
       "2          False             False           False         False     2     1   \n",
       "3          False             False           False         False     2     1   \n",
       "4          False             False           False         False     2     1   \n",
       "\n",
       "   I103  S101  S102  S103  \n",
       "0     1     1    17    10  \n",
       "1     1     1    17    10  \n",
       "2     1     1    17    10  \n",
       "3     1     1    17    10  \n",
       "4     1     1    17    10  \n",
       "\n",
       "[5 rows x 22 columns]"
      ]
     },
     "execution_count": 11,
     "metadata": {},
     "output_type": "execute_result"
    }
   ],
   "source": [
    "df_sales.head()"
   ]
  },
  {
   "cell_type": "code",
   "execution_count": 12,
   "id": "a9961c6d",
   "metadata": {
    "collapsed": false,
    "gradient": {
     "editing": false,
     "id": "1c490145",
     "kernelId": "8acadc02-40bf-4da4-bde9-070f59c4e515",
     "source_hidden": false
    },
    "jupyter": {
     "outputs_hidden": false
    }
   },
   "outputs": [],
   "source": [
    "def categorical_to_numeric(df):\n",
    "    cat_columns = df.select_dtypes(['category']).columns\n",
    "    print(cat_columns)\n",
    "    df[cat_columns] = df[cat_columns].apply(lambda x: x.cat.codes)\n",
    "    df[cat_columns] = df[cat_columns].astype(int)\n",
    "    return df"
   ]
  },
  {
   "cell_type": "code",
   "execution_count": null,
   "id": "a6aac4cf",
   "metadata": {
    "gradient": {
     "execution_count": 12,
     "id": "931adfde",
     "kernelId": "8acadc02-40bf-4da4-bde9-070f59c4e515"
    }
   },
   "outputs": [],
   "source": []
  },
  {
   "cell_type": "code",
   "execution_count": 13,
   "id": "43b9aca3",
   "metadata": {
    "collapsed": false,
    "gradient": {
     "editing": false,
     "id": "8006bbcf",
     "kernelId": "8acadc02-40bf-4da4-bde9-070f59c4e515",
     "source_hidden": false
    },
    "jupyter": {
     "outputs_hidden": false
    }
   },
   "outputs": [
    {
     "name": "stdout",
     "output_type": "stream",
     "text": [
      "(2749369, 22) (69121, 23)\n",
      "item_id object category\n",
      "Index(['item_id', 'ID'], dtype='object')\n",
      "(2749369, 24) (69121, 24)\n"
     ]
    }
   ],
   "source": [
    "print(df_sales.shape,df_submission_sample.shape)\n",
    "df_auxiliar = pd.concat([df_sales,df_submission_sample])\n",
    "df_auxiliar.replace([np.inf, -np.inf, np.nan],0,inplace=True)\n",
    "\n",
    "df_auxiliar = string_to_categorical(df_auxiliar).copy()\n",
    "\n",
    "dates = df_auxiliar['DATE'].unique()\n",
    "\n",
    "date = df_auxiliar['DATE'].min()\n",
    "maxi = df_auxiliar['DATE'].max()\n",
    "\n",
    "dict_dates = {}\n",
    "idx = 0\n",
    "while(True):    \n",
    "    if date>maxi:\n",
    "        break\n",
    "    dict_dates[date]=idx\n",
    "    date = date+ pd.DateOffset(days=7)    \n",
    "    idx = idx+1\n",
    "    \n",
    "df_auxiliar['date_block_num'] = df_auxiliar['DATE'].replace(dict_dates)\n",
    "\n",
    "#df_auxiliar['date_block_num'] = df_auxiliar['year']*12*4+df_auxiliar['month']*4+df_auxiliar['day']//7\n",
    "\n",
    "#df_auxiliar['date_block_num'] = df_auxiliar['date_block_num']-int(df_auxiliar['date_block_num'].min())+100\n",
    "\n",
    "df_auxiliar = categorical_to_numeric(df_auxiliar)\n",
    "\n",
    "df_auxiliar = columns_to_str(df_auxiliar,[\"S101\", \"S102\",\"S103\",\"I100\",\"I101\",\"I102\",\"I103\",\"C100\",\"C101\"])\n",
    "\n",
    "df_sales, df_submission_sample = df_auxiliar[:N_sales], df_auxiliar[N_sales:]\n",
    "print(df_sales.shape,df_submission_sample.shape)"
   ]
  },
  {
   "cell_type": "code",
   "execution_count": 14,
   "id": "0d9d6906",
   "metadata": {
    "gradient": {
     "id": "678b576c",
     "kernelId": "8acadc02-40bf-4da4-bde9-070f59c4e515"
    }
   },
   "outputs": [
    {
     "name": "stderr",
     "output_type": "stream",
     "text": [
      "/tmp/ipykernel_9906/797300667.py:3: SettingWithCopyWarning: \n",
      "A value is trying to be set on a copy of a slice from a DataFrame.\n",
      "Try using .loc[row_indexer,col_indexer] = value instead\n",
      "\n",
      "See the caveats in the documentation: https://pandas.pydata.org/pandas-docs/stable/user_guide/indexing.html#returning-a-view-versus-a-copy\n",
      "  df_sales[cat_col]             = (df_sales[cat_col].astype(str) +'_'+ cat_col).astype('category')\n",
      "/tmp/ipykernel_9906/797300667.py:4: SettingWithCopyWarning: \n",
      "A value is trying to be set on a copy of a slice from a DataFrame.\n",
      "Try using .loc[row_indexer,col_indexer] = value instead\n",
      "\n",
      "See the caveats in the documentation: https://pandas.pydata.org/pandas-docs/stable/user_guide/indexing.html#returning-a-view-versus-a-copy\n",
      "  df_submission_sample[cat_col] = (df_submission_sample[cat_col].astype(str) +'_'+ cat_col).astype('category')\n"
     ]
    }
   ],
   "source": [
    "#'day_of_week', 'day', 'is_month_end', 'day_of_year',  'is_quarter_start', 'year', 'month', 'is_year_start', 'is_month_start'\n",
    "for cat_col in [\"S100\", \"item_id\",\"S101\", \"S102\",\"S103\",\"I100\",\"I101\",\"I102\",\"I103\",\"C100\",\"C101\"]:\n",
    "    df_sales[cat_col]             = (df_sales[cat_col].astype(str) +'_'+ cat_col).astype('category')\n",
    "    df_submission_sample[cat_col] = (df_submission_sample[cat_col].astype(str) +'_'+ cat_col).astype('category')\n"
   ]
  },
  {
   "cell_type": "code",
   "execution_count": 15,
   "id": "588f4713",
   "metadata": {
    "gradient": {
     "id": "81ed0706",
     "kernelId": "8acadc02-40bf-4da4-bde9-070f59c4e515"
    }
   },
   "outputs": [
    {
     "data": {
      "text/plain": [
       "0            0\n",
       "1            0\n",
       "2            0\n",
       "3            0\n",
       "4            0\n",
       "          ... \n",
       "2749364    161\n",
       "2749365    162\n",
       "2749366    162\n",
       "2749367    162\n",
       "2749368    164\n",
       "Name: date_block_num, Length: 2749369, dtype: int64"
      ]
     },
     "execution_count": 15,
     "metadata": {},
     "output_type": "execute_result"
    }
   ],
   "source": [
    "df_sales['date_block_num']"
   ]
  },
  {
   "cell_type": "code",
   "execution_count": 16,
   "id": "25f9fc79",
   "metadata": {
    "gradient": {
     "id": "9490013d",
     "kernelId": "8acadc02-40bf-4da4-bde9-070f59c4e515"
    }
   },
   "outputs": [
    {
     "name": "stderr",
     "output_type": "stream",
     "text": [
      "/opt/conda/lib/python3.8/site-packages/pandas/core/frame.py:5238: SettingWithCopyWarning: \n",
      "A value is trying to be set on a copy of a slice from a DataFrame\n",
      "\n",
      "See the caveats in the documentation: https://pandas.pydata.org/pandas-docs/stable/user_guide/indexing.html#returning-a-view-versus-a-copy\n",
      "  return super().replace(\n"
     ]
    }
   ],
   "source": [
    "df_sales.replace(['',np.inf, -np.inf, np.nan],0,inplace=True)\n",
    "df_submission_sample.replace(['',np.inf, -np.inf, np.nan],0,inplace=True)\n"
   ]
  },
  {
   "cell_type": "code",
   "execution_count": 17,
   "id": "6ccf2499",
   "metadata": {
    "gradient": {
     "id": "d2bbe2a2",
     "kernelId": "8acadc02-40bf-4da4-bde9-070f59c4e515"
    }
   },
   "outputs": [
    {
     "name": "stdout",
     "output_type": "stream",
     "text": [
      "0 246\n",
      "date before 167 2020-03-22 00:00:00\n",
      "date not exists 168\n",
      "date before 167 2020-03-22 00:00:00\n",
      "date not exists 169\n",
      "date before 167 2020-03-22 00:00:00\n",
      "date not exists 170\n",
      "date before 167 2020-03-22 00:00:00\n",
      "date not exists 171\n"
     ]
    }
   ],
   "source": [
    "date_block_num_min_sales = df_sales['date_block_num'].min()\n",
    "date_block_num_max_sales = df_sales['date_block_num'].max()\n",
    "print(date_block_num_min_sales,date_block_num_max_sales)\n",
    "\n",
    "aux = df_sales['DATE'].min()\n",
    "id_aux = 0\n",
    "for i in range(date_block_num_min_sales,date_block_num_max_sales+1):\n",
    "    ga = df_sales[df_sales['date_block_num']==i]\n",
    "    if len(ga)>0:\n",
    "        date = ga['DATE'].iloc[0]\n",
    "        #print(date,i)\n",
    "        if date<aux :\n",
    "            print('discontinuidad')\n",
    "            print('before :',aux,id_aux)\n",
    "            print('actual :',date,i)\n",
    "        elif date==aux and id_aux !=0:\n",
    "            print('igualdad')\n",
    "            print('before :',aux,id_aux)\n",
    "            print('actual :',date,i)\n",
    "        else:\n",
    "            pass\n",
    "        aux = date\n",
    "        id_aux =i\n",
    "    else:\n",
    "        print('date before',id_aux,aux)\n",
    "        print('date not exists',i)"
   ]
  },
  {
   "cell_type": "code",
   "execution_count": 18,
   "id": "16ced9a3",
   "metadata": {
    "gradient": {
     "id": "f17db8c1",
     "kernelId": "8acadc02-40bf-4da4-bde9-070f59c4e515"
    }
   },
   "outputs": [
    {
     "name": "stdout",
     "output_type": "stream",
     "text": [
      "0 254\n"
     ]
    }
   ],
   "source": [
    "date_block_num_min_sales = df_auxiliar['date_block_num'].min()\n",
    "date_block_num_max_sales = df_auxiliar['date_block_num'].max()\n",
    "print(date_block_num_min_sales,date_block_num_max_sales)\n",
    "\n",
    "aux = df_auxiliar['DATE'].min()\n",
    "id_aux = 0\n",
    "for i in range(date_block_num_min_sales,date_block_num_max_sales+1):\n",
    "    ga = df_auxiliar[df_auxiliar['date_block_num']==i]\n",
    "    if len(ga)>0:\n",
    "        date = ga['DATE'].iloc[0]\n",
    "        #print(date,i)"
   ]
  },
  {
   "cell_type": "code",
   "execution_count": 19,
   "id": "a62de53a",
   "metadata": {
    "collapsed": false,
    "gradient": {
     "editing": false,
     "id": "667a923e",
     "kernelId": "8acadc02-40bf-4da4-bde9-070f59c4e515",
     "source_hidden": false
    },
    "jupyter": {
     "outputs_hidden": false
    }
   },
   "outputs": [
    {
     "name": "stdout",
     "output_type": "stream",
     "text": [
      "{'I103', 'I101', 'day', 'is_quarter_start', 'day_of_year', 'is_year_start', 'S102', 'day_of_week', 'date_block_num', 'is_month_start', 'S103', 'ID', 'C101', 'C100', 'I102', 'year', 'S101', 'month', 'is_month_end', 'S100', 'item_id', 'I100'}\n"
     ]
    }
   ],
   "source": [
    "features_names = set(df_sales.columns)-set(['QTT','DATE'])\n",
    "print(features_names)"
   ]
  },
  {
   "cell_type": "code",
   "execution_count": 20,
   "id": "f9db5e00",
   "metadata": {
    "gradient": {
     "id": "21cfefde",
     "kernelId": "8acadc02-40bf-4da4-bde9-070f59c4e515"
    }
   },
   "outputs": [
    {
     "data": {
      "text/plain": [
       "(Timestamp('2021-10-03 00:00:00'), Timestamp('2021-11-21 00:00:00'))"
      ]
     },
     "execution_count": 20,
     "metadata": {},
     "output_type": "execute_result"
    }
   ],
   "source": [
    "df_submission_sample['DATE'].min(),df_submission_sample['DATE'].max()"
   ]
  },
  {
   "cell_type": "code",
   "execution_count": 21,
   "id": "0d83df4f",
   "metadata": {
    "gradient": {
     "id": "6b94c9cc",
     "kernelId": "8acadc02-40bf-4da4-bde9-070f59c4e515"
    }
   },
   "outputs": [],
   "source": [
    "features_names = ['DATE','QTT','date_block_num',\"S100\", \"item_id\",\"S101\", \"S102\",\"S103\",\"I100\",\"I101\",\"I102\",\"I103\",\"C100\",\"C101\",'day_of_week', 'day', 'is_month_end', 'day_of_year',  'is_quarter_start', 'year', 'month', 'is_year_start', 'is_month_start']"
   ]
  },
  {
   "cell_type": "code",
   "execution_count": 22,
   "id": "f1a8e09b",
   "metadata": {
    "gradient": {
     "id": "3e26ab74",
     "kernelId": "8acadc02-40bf-4da4-bde9-070f59c4e515"
    }
   },
   "outputs": [],
   "source": [
    "df_sales             = df_sales[features_names]\n",
    "df_submission_sample = df_submission_sample[features_names]\n"
   ]
  },
  {
   "cell_type": "code",
   "execution_count": 23,
   "id": "7554438c",
   "metadata": {
    "gradient": {
     "id": "b1ea19bc",
     "kernelId": "8acadc02-40bf-4da4-bde9-070f59c4e515"
    }
   },
   "outputs": [],
   "source": [
    "qtt_values = df_sales['QTT']"
   ]
  },
  {
   "cell_type": "code",
   "execution_count": 24,
   "id": "3dd75117",
   "metadata": {
    "gradient": {
     "id": "f63bd36c",
     "kernelId": "8acadc02-40bf-4da4-bde9-070f59c4e515"
    }
   },
   "outputs": [],
   "source": [
    "df_sales['QTT'] = qtt_values*1.0"
   ]
  },
  {
   "cell_type": "code",
   "execution_count": 25,
   "id": "736991f1",
   "metadata": {
    "gradient": {
     "id": "ac693d20",
     "kernelId": "8acadc02-40bf-4da4-bde9-070f59c4e515"
    }
   },
   "outputs": [
    {
     "data": {
      "text/plain": [
       "0    2.0\n",
       "1    3.0\n",
       "2    3.0\n",
       "3    3.0\n",
       "4    2.0\n",
       "Name: QTT, dtype: float64"
      ]
     },
     "execution_count": 25,
     "metadata": {},
     "output_type": "execute_result"
    }
   ],
   "source": [
    "df_sales['QTT'].head()"
   ]
  },
  {
   "cell_type": "code",
   "execution_count": 26,
   "id": "2002f73c",
   "metadata": {
    "gradient": {
     "editing": false,
     "id": "551f157e",
     "kernelId": "8acadc02-40bf-4da4-bde9-070f59c4e515"
    }
   },
   "outputs": [],
   "source": [
    "#df_sales2 = df_sales[df_sales['QTT']<=15].copy()"
   ]
  },
  {
   "cell_type": "code",
   "execution_count": 27,
   "id": "c505a684",
   "metadata": {
    "gradient": {
     "editing": false,
     "id": "021baea0",
     "kernelId": "8acadc02-40bf-4da4-bde9-070f59c4e515"
    }
   },
   "outputs": [],
   "source": [
    "#df_submission_sample = df_submission_sample[df_submission_sample['S100']==0]"
   ]
  },
  {
   "cell_type": "raw",
   "id": "b3fdc79c",
   "metadata": {
    "gradient": {
     "editing": false,
     "id": "d04ba0da",
     "kernelId": "8acadc02-40bf-4da4-bde9-070f59c4e515",
     "source_hidden": false
    },
    "jupyter": {
     "outputs_hidden": false
    }
   },
   "source": [
    "X_train      = df_sales[(df_sales['DATE'] >= '2017-01-01') & (df_sales['DATE'] < '2020-10-01')].copy()\n",
    "#X_train = X_train.sample(frac=1).reset_index(drop=True)\n",
    "X_validation = df_sales[(df_sales['DATE'] >= '2020-10-01') & (df_sales['DATE'] < '2021-03-01')].copy()\n",
    "X_test       = df_sales[(df_sales['DATE'] >= '2021-03-01') & (df_sales['DATE'] < '2021-10-03')].copy() "
   ]
  },
  {
   "cell_type": "raw",
   "id": "14294202",
   "metadata": {
    "gradient": {
     "editing": false,
     "id": "33958f60",
     "kernelId": "8acadc02-40bf-4da4-bde9-070f59c4e515"
    }
   },
   "source": [
    "X_train['item_id']"
   ]
  },
  {
   "cell_type": "code",
   "execution_count": 28,
   "id": "9dffd066",
   "metadata": {
    "gradient": {
     "editing": false,
     "id": "5266d97a",
     "kernelId": "8acadc02-40bf-4da4-bde9-070f59c4e515"
    }
   },
   "outputs": [
    {
     "name": "stderr",
     "output_type": "stream",
     "text": [
      "Global seed set to 42\n"
     ]
    }
   ],
   "source": [
    "import warnings\n",
    "import numpy as np\n",
    "import pandas as pd\n",
    "import copy\n",
    "from pathlib import Path\n",
    "import torch\n",
    "import torch.nn as nn\n",
    "\n",
    "import pytorch_lightning as pl\n",
    "from pytorch_lightning.callbacks import EarlyStopping, LearningRateMonitor\n",
    "from pytorch_lightning.loggers import TensorBoardLogger\n",
    "\n",
    "import pytorch_forecasting\n",
    "from pytorch_forecasting import Baseline, TemporalFusionTransformer, TimeSeriesDataSet\n",
    "from pytorch_forecasting.data import GroupNormalizer,EncoderNormalizer\n",
    "\n",
    "from pytorch_forecasting.metrics import SMAPE, PoissonLoss, QuantileLoss\n",
    "from pytorch_forecasting.models.temporal_fusion_transformer.tuning import optimize_hyperparameters\n",
    "\n",
    "import matplotlib.pyplot as plt\n",
    "%matplotlib inline\n",
    "import warnings\n",
    "warnings.filterwarnings(\"ignore\")\n",
    "\n",
    "import os\n",
    "# configure network and trainer\n",
    "pl.seed_everything(42)\n",
    "\n",
    "os.environ['CUDA_LAUNCH_BLOCKING'] = \"1\""
   ]
  },
  {
   "cell_type": "code",
   "execution_count": 29,
   "id": "d62683b9",
   "metadata": {
    "gradient": {
     "editing": false,
     "id": "0db0bc1f",
     "kernelId": "8acadc02-40bf-4da4-bde9-070f59c4e515"
    }
   },
   "outputs": [],
   "source": [
    "df_sales.drop(df_sales[(df_sales['item_id']==167)].index, inplace=True)\n"
   ]
  },
  {
   "cell_type": "code",
   "execution_count": 30,
   "id": "fa690834",
   "metadata": {
    "gradient": {
     "editing": false,
     "id": "773263d0",
     "kernelId": "8acadc02-40bf-4da4-bde9-070f59c4e515"
    }
   },
   "outputs": [
    {
     "data": {
      "text/plain": [
       "DATE                datetime64[ns]\n",
       "QTT                        float64\n",
       "date_block_num               int64\n",
       "S100                      category\n",
       "item_id                   category\n",
       "S101                      category\n",
       "S102                      category\n",
       "S103                      category\n",
       "I100                      category\n",
       "I101                      category\n",
       "I102                      category\n",
       "I103                      category\n",
       "C100                      category\n",
       "C101                      category\n",
       "day_of_week                  int64\n",
       "day                          int64\n",
       "is_month_end                  bool\n",
       "day_of_year                  int64\n",
       "is_quarter_start              bool\n",
       "year                         int64\n",
       "month                        int64\n",
       "is_year_start                 bool\n",
       "is_month_start                bool\n",
       "dtype: object"
      ]
     },
     "execution_count": 30,
     "metadata": {},
     "output_type": "execute_result"
    }
   ],
   "source": [
    "df_sales.dtypes"
   ]
  },
  {
   "cell_type": "code",
   "execution_count": 31,
   "id": "6efe76a0",
   "metadata": {
    "gradient": {
     "editing": false,
     "id": "a0a0345d",
     "kernelId": "8acadc02-40bf-4da4-bde9-070f59c4e515"
    }
   },
   "outputs": [
    {
     "data": {
      "text/html": [
       "<div>\n",
       "<style scoped>\n",
       "    .dataframe tbody tr th:only-of-type {\n",
       "        vertical-align: middle;\n",
       "    }\n",
       "\n",
       "    .dataframe tbody tr th {\n",
       "        vertical-align: top;\n",
       "    }\n",
       "\n",
       "    .dataframe thead th {\n",
       "        text-align: right;\n",
       "    }\n",
       "</style>\n",
       "<table border=\"1\" class=\"dataframe\">\n",
       "  <thead>\n",
       "    <tr style=\"text-align: right;\">\n",
       "      <th></th>\n",
       "      <th>DATE</th>\n",
       "      <th>QTT</th>\n",
       "      <th>date_block_num</th>\n",
       "      <th>S100</th>\n",
       "      <th>item_id</th>\n",
       "      <th>S101</th>\n",
       "      <th>S102</th>\n",
       "      <th>S103</th>\n",
       "      <th>I100</th>\n",
       "      <th>I101</th>\n",
       "      <th>...</th>\n",
       "      <th>C101</th>\n",
       "      <th>day_of_week</th>\n",
       "      <th>day</th>\n",
       "      <th>is_month_end</th>\n",
       "      <th>day_of_year</th>\n",
       "      <th>is_quarter_start</th>\n",
       "      <th>year</th>\n",
       "      <th>month</th>\n",
       "      <th>is_year_start</th>\n",
       "      <th>is_month_start</th>\n",
       "    </tr>\n",
       "  </thead>\n",
       "  <tbody>\n",
       "    <tr>\n",
       "      <th>0</th>\n",
       "      <td>2017-01-08</td>\n",
       "      <td>2.0</td>\n",
       "      <td>0</td>\n",
       "      <td>0_S100</td>\n",
       "      <td>4_item_id</td>\n",
       "      <td>1_S101</td>\n",
       "      <td>17_S102</td>\n",
       "      <td>10_S103</td>\n",
       "      <td>0_I100</td>\n",
       "      <td>2_I101</td>\n",
       "      <td>...</td>\n",
       "      <td>76_C101</td>\n",
       "      <td>6</td>\n",
       "      <td>8</td>\n",
       "      <td>False</td>\n",
       "      <td>8</td>\n",
       "      <td>False</td>\n",
       "      <td>2017</td>\n",
       "      <td>1</td>\n",
       "      <td>False</td>\n",
       "      <td>False</td>\n",
       "    </tr>\n",
       "    <tr>\n",
       "      <th>1</th>\n",
       "      <td>2017-01-08</td>\n",
       "      <td>3.0</td>\n",
       "      <td>0</td>\n",
       "      <td>0_S100</td>\n",
       "      <td>0_item_id</td>\n",
       "      <td>1_S101</td>\n",
       "      <td>17_S102</td>\n",
       "      <td>10_S103</td>\n",
       "      <td>0_I100</td>\n",
       "      <td>2_I101</td>\n",
       "      <td>...</td>\n",
       "      <td>149_C101</td>\n",
       "      <td>6</td>\n",
       "      <td>8</td>\n",
       "      <td>False</td>\n",
       "      <td>8</td>\n",
       "      <td>False</td>\n",
       "      <td>2017</td>\n",
       "      <td>1</td>\n",
       "      <td>False</td>\n",
       "      <td>False</td>\n",
       "    </tr>\n",
       "    <tr>\n",
       "      <th>2</th>\n",
       "      <td>2017-01-08</td>\n",
       "      <td>3.0</td>\n",
       "      <td>0</td>\n",
       "      <td>0_S100</td>\n",
       "      <td>2_item_id</td>\n",
       "      <td>1_S101</td>\n",
       "      <td>17_S102</td>\n",
       "      <td>10_S103</td>\n",
       "      <td>0_I100</td>\n",
       "      <td>2_I101</td>\n",
       "      <td>...</td>\n",
       "      <td>256_C101</td>\n",
       "      <td>6</td>\n",
       "      <td>8</td>\n",
       "      <td>False</td>\n",
       "      <td>8</td>\n",
       "      <td>False</td>\n",
       "      <td>2017</td>\n",
       "      <td>1</td>\n",
       "      <td>False</td>\n",
       "      <td>False</td>\n",
       "    </tr>\n",
       "    <tr>\n",
       "      <th>3</th>\n",
       "      <td>2017-01-08</td>\n",
       "      <td>3.0</td>\n",
       "      <td>0</td>\n",
       "      <td>0_S100</td>\n",
       "      <td>3_item_id</td>\n",
       "      <td>1_S101</td>\n",
       "      <td>17_S102</td>\n",
       "      <td>10_S103</td>\n",
       "      <td>0_I100</td>\n",
       "      <td>2_I101</td>\n",
       "      <td>...</td>\n",
       "      <td>354_C101</td>\n",
       "      <td>6</td>\n",
       "      <td>8</td>\n",
       "      <td>False</td>\n",
       "      <td>8</td>\n",
       "      <td>False</td>\n",
       "      <td>2017</td>\n",
       "      <td>1</td>\n",
       "      <td>False</td>\n",
       "      <td>False</td>\n",
       "    </tr>\n",
       "    <tr>\n",
       "      <th>4</th>\n",
       "      <td>2017-01-08</td>\n",
       "      <td>2.0</td>\n",
       "      <td>0</td>\n",
       "      <td>0_S100</td>\n",
       "      <td>6_item_id</td>\n",
       "      <td>1_S101</td>\n",
       "      <td>17_S102</td>\n",
       "      <td>10_S103</td>\n",
       "      <td>0_I100</td>\n",
       "      <td>2_I101</td>\n",
       "      <td>...</td>\n",
       "      <td>149_C101</td>\n",
       "      <td>6</td>\n",
       "      <td>8</td>\n",
       "      <td>False</td>\n",
       "      <td>8</td>\n",
       "      <td>False</td>\n",
       "      <td>2017</td>\n",
       "      <td>1</td>\n",
       "      <td>False</td>\n",
       "      <td>False</td>\n",
       "    </tr>\n",
       "  </tbody>\n",
       "</table>\n",
       "<p>5 rows × 23 columns</p>\n",
       "</div>"
      ],
      "text/plain": [
       "        DATE  QTT  date_block_num    S100    item_id    S101     S102  \\\n",
       "0 2017-01-08  2.0               0  0_S100  4_item_id  1_S101  17_S102   \n",
       "1 2017-01-08  3.0               0  0_S100  0_item_id  1_S101  17_S102   \n",
       "2 2017-01-08  3.0               0  0_S100  2_item_id  1_S101  17_S102   \n",
       "3 2017-01-08  3.0               0  0_S100  3_item_id  1_S101  17_S102   \n",
       "4 2017-01-08  2.0               0  0_S100  6_item_id  1_S101  17_S102   \n",
       "\n",
       "      S103    I100    I101  ...      C101 day_of_week day is_month_end  \\\n",
       "0  10_S103  0_I100  2_I101  ...   76_C101           6   8        False   \n",
       "1  10_S103  0_I100  2_I101  ...  149_C101           6   8        False   \n",
       "2  10_S103  0_I100  2_I101  ...  256_C101           6   8        False   \n",
       "3  10_S103  0_I100  2_I101  ...  354_C101           6   8        False   \n",
       "4  10_S103  0_I100  2_I101  ...  149_C101           6   8        False   \n",
       "\n",
       "   day_of_year  is_quarter_start  year  month  is_year_start  is_month_start  \n",
       "0            8             False  2017      1          False           False  \n",
       "1            8             False  2017      1          False           False  \n",
       "2            8             False  2017      1          False           False  \n",
       "3            8             False  2017      1          False           False  \n",
       "4            8             False  2017      1          False           False  \n",
       "\n",
       "[5 rows x 23 columns]"
      ]
     },
     "execution_count": 31,
     "metadata": {},
     "output_type": "execute_result"
    }
   ],
   "source": [
    "df_sales.head(5)"
   ]
  },
  {
   "cell_type": "code",
   "execution_count": 32,
   "id": "f5333376",
   "metadata": {
    "gradient": {
     "editing": false,
     "id": "311a52a3",
     "kernelId": "8acadc02-40bf-4da4-bde9-070f59c4e515"
    }
   },
   "outputs": [
    {
     "data": {
      "text/html": [
       "<div>\n",
       "<style scoped>\n",
       "    .dataframe tbody tr th:only-of-type {\n",
       "        vertical-align: middle;\n",
       "    }\n",
       "\n",
       "    .dataframe tbody tr th {\n",
       "        vertical-align: top;\n",
       "    }\n",
       "\n",
       "    .dataframe thead th {\n",
       "        text-align: right;\n",
       "    }\n",
       "</style>\n",
       "<table border=\"1\" class=\"dataframe\">\n",
       "  <thead>\n",
       "    <tr style=\"text-align: right;\">\n",
       "      <th></th>\n",
       "      <th>DATE</th>\n",
       "      <th>QTT</th>\n",
       "      <th>date_block_num</th>\n",
       "      <th>S100</th>\n",
       "      <th>item_id</th>\n",
       "      <th>S101</th>\n",
       "      <th>S102</th>\n",
       "      <th>S103</th>\n",
       "      <th>I100</th>\n",
       "      <th>I101</th>\n",
       "      <th>...</th>\n",
       "      <th>C101</th>\n",
       "      <th>day_of_week</th>\n",
       "      <th>day</th>\n",
       "      <th>is_month_end</th>\n",
       "      <th>day_of_year</th>\n",
       "      <th>is_quarter_start</th>\n",
       "      <th>year</th>\n",
       "      <th>month</th>\n",
       "      <th>is_year_start</th>\n",
       "      <th>is_month_start</th>\n",
       "    </tr>\n",
       "  </thead>\n",
       "  <tbody>\n",
       "    <tr>\n",
       "      <th>0</th>\n",
       "      <td>2017-01-08</td>\n",
       "      <td>2.0</td>\n",
       "      <td>0</td>\n",
       "      <td>0_S100</td>\n",
       "      <td>4_item_id</td>\n",
       "      <td>1_S101</td>\n",
       "      <td>17_S102</td>\n",
       "      <td>10_S103</td>\n",
       "      <td>0_I100</td>\n",
       "      <td>2_I101</td>\n",
       "      <td>...</td>\n",
       "      <td>76_C101</td>\n",
       "      <td>6</td>\n",
       "      <td>8</td>\n",
       "      <td>False</td>\n",
       "      <td>8</td>\n",
       "      <td>False</td>\n",
       "      <td>2017</td>\n",
       "      <td>1</td>\n",
       "      <td>False</td>\n",
       "      <td>False</td>\n",
       "    </tr>\n",
       "    <tr>\n",
       "      <th>1</th>\n",
       "      <td>2017-01-08</td>\n",
       "      <td>3.0</td>\n",
       "      <td>0</td>\n",
       "      <td>0_S100</td>\n",
       "      <td>0_item_id</td>\n",
       "      <td>1_S101</td>\n",
       "      <td>17_S102</td>\n",
       "      <td>10_S103</td>\n",
       "      <td>0_I100</td>\n",
       "      <td>2_I101</td>\n",
       "      <td>...</td>\n",
       "      <td>149_C101</td>\n",
       "      <td>6</td>\n",
       "      <td>8</td>\n",
       "      <td>False</td>\n",
       "      <td>8</td>\n",
       "      <td>False</td>\n",
       "      <td>2017</td>\n",
       "      <td>1</td>\n",
       "      <td>False</td>\n",
       "      <td>False</td>\n",
       "    </tr>\n",
       "    <tr>\n",
       "      <th>2</th>\n",
       "      <td>2017-01-08</td>\n",
       "      <td>3.0</td>\n",
       "      <td>0</td>\n",
       "      <td>0_S100</td>\n",
       "      <td>2_item_id</td>\n",
       "      <td>1_S101</td>\n",
       "      <td>17_S102</td>\n",
       "      <td>10_S103</td>\n",
       "      <td>0_I100</td>\n",
       "      <td>2_I101</td>\n",
       "      <td>...</td>\n",
       "      <td>256_C101</td>\n",
       "      <td>6</td>\n",
       "      <td>8</td>\n",
       "      <td>False</td>\n",
       "      <td>8</td>\n",
       "      <td>False</td>\n",
       "      <td>2017</td>\n",
       "      <td>1</td>\n",
       "      <td>False</td>\n",
       "      <td>False</td>\n",
       "    </tr>\n",
       "    <tr>\n",
       "      <th>3</th>\n",
       "      <td>2017-01-08</td>\n",
       "      <td>3.0</td>\n",
       "      <td>0</td>\n",
       "      <td>0_S100</td>\n",
       "      <td>3_item_id</td>\n",
       "      <td>1_S101</td>\n",
       "      <td>17_S102</td>\n",
       "      <td>10_S103</td>\n",
       "      <td>0_I100</td>\n",
       "      <td>2_I101</td>\n",
       "      <td>...</td>\n",
       "      <td>354_C101</td>\n",
       "      <td>6</td>\n",
       "      <td>8</td>\n",
       "      <td>False</td>\n",
       "      <td>8</td>\n",
       "      <td>False</td>\n",
       "      <td>2017</td>\n",
       "      <td>1</td>\n",
       "      <td>False</td>\n",
       "      <td>False</td>\n",
       "    </tr>\n",
       "    <tr>\n",
       "      <th>4</th>\n",
       "      <td>2017-01-08</td>\n",
       "      <td>2.0</td>\n",
       "      <td>0</td>\n",
       "      <td>0_S100</td>\n",
       "      <td>6_item_id</td>\n",
       "      <td>1_S101</td>\n",
       "      <td>17_S102</td>\n",
       "      <td>10_S103</td>\n",
       "      <td>0_I100</td>\n",
       "      <td>2_I101</td>\n",
       "      <td>...</td>\n",
       "      <td>149_C101</td>\n",
       "      <td>6</td>\n",
       "      <td>8</td>\n",
       "      <td>False</td>\n",
       "      <td>8</td>\n",
       "      <td>False</td>\n",
       "      <td>2017</td>\n",
       "      <td>1</td>\n",
       "      <td>False</td>\n",
       "      <td>False</td>\n",
       "    </tr>\n",
       "    <tr>\n",
       "      <th>...</th>\n",
       "      <td>...</td>\n",
       "      <td>...</td>\n",
       "      <td>...</td>\n",
       "      <td>...</td>\n",
       "      <td>...</td>\n",
       "      <td>...</td>\n",
       "      <td>...</td>\n",
       "      <td>...</td>\n",
       "      <td>...</td>\n",
       "      <td>...</td>\n",
       "      <td>...</td>\n",
       "      <td>...</td>\n",
       "      <td>...</td>\n",
       "      <td>...</td>\n",
       "      <td>...</td>\n",
       "      <td>...</td>\n",
       "      <td>...</td>\n",
       "      <td>...</td>\n",
       "      <td>...</td>\n",
       "      <td>...</td>\n",
       "      <td>...</td>\n",
       "    </tr>\n",
       "    <tr>\n",
       "      <th>2749364</th>\n",
       "      <td>2020-02-09</td>\n",
       "      <td>7.0</td>\n",
       "      <td>161</td>\n",
       "      <td>16_S100</td>\n",
       "      <td>2108_item_id</td>\n",
       "      <td>1_S101</td>\n",
       "      <td>18_S102</td>\n",
       "      <td>10_S103</td>\n",
       "      <td>61_I100</td>\n",
       "      <td>0_I101</td>\n",
       "      <td>...</td>\n",
       "      <td>354_C101</td>\n",
       "      <td>6</td>\n",
       "      <td>9</td>\n",
       "      <td>False</td>\n",
       "      <td>40</td>\n",
       "      <td>False</td>\n",
       "      <td>2020</td>\n",
       "      <td>2</td>\n",
       "      <td>False</td>\n",
       "      <td>False</td>\n",
       "    </tr>\n",
       "    <tr>\n",
       "      <th>2749365</th>\n",
       "      <td>2020-02-16</td>\n",
       "      <td>2.0</td>\n",
       "      <td>162</td>\n",
       "      <td>16_S100</td>\n",
       "      <td>2109_item_id</td>\n",
       "      <td>1_S101</td>\n",
       "      <td>18_S102</td>\n",
       "      <td>10_S103</td>\n",
       "      <td>61_I100</td>\n",
       "      <td>0_I101</td>\n",
       "      <td>...</td>\n",
       "      <td>76_C101</td>\n",
       "      <td>6</td>\n",
       "      <td>16</td>\n",
       "      <td>False</td>\n",
       "      <td>47</td>\n",
       "      <td>False</td>\n",
       "      <td>2020</td>\n",
       "      <td>2</td>\n",
       "      <td>False</td>\n",
       "      <td>False</td>\n",
       "    </tr>\n",
       "    <tr>\n",
       "      <th>2749366</th>\n",
       "      <td>2020-02-16</td>\n",
       "      <td>8.0</td>\n",
       "      <td>162</td>\n",
       "      <td>16_S100</td>\n",
       "      <td>2106_item_id</td>\n",
       "      <td>1_S101</td>\n",
       "      <td>18_S102</td>\n",
       "      <td>10_S103</td>\n",
       "      <td>61_I100</td>\n",
       "      <td>0_I101</td>\n",
       "      <td>...</td>\n",
       "      <td>281_C101</td>\n",
       "      <td>6</td>\n",
       "      <td>16</td>\n",
       "      <td>False</td>\n",
       "      <td>47</td>\n",
       "      <td>False</td>\n",
       "      <td>2020</td>\n",
       "      <td>2</td>\n",
       "      <td>False</td>\n",
       "      <td>False</td>\n",
       "    </tr>\n",
       "    <tr>\n",
       "      <th>2749367</th>\n",
       "      <td>2020-02-16</td>\n",
       "      <td>7.0</td>\n",
       "      <td>162</td>\n",
       "      <td>16_S100</td>\n",
       "      <td>2108_item_id</td>\n",
       "      <td>1_S101</td>\n",
       "      <td>18_S102</td>\n",
       "      <td>10_S103</td>\n",
       "      <td>61_I100</td>\n",
       "      <td>0_I101</td>\n",
       "      <td>...</td>\n",
       "      <td>354_C101</td>\n",
       "      <td>6</td>\n",
       "      <td>16</td>\n",
       "      <td>False</td>\n",
       "      <td>47</td>\n",
       "      <td>False</td>\n",
       "      <td>2020</td>\n",
       "      <td>2</td>\n",
       "      <td>False</td>\n",
       "      <td>False</td>\n",
       "    </tr>\n",
       "    <tr>\n",
       "      <th>2749368</th>\n",
       "      <td>2020-03-01</td>\n",
       "      <td>1.0</td>\n",
       "      <td>164</td>\n",
       "      <td>16_S100</td>\n",
       "      <td>2106_item_id</td>\n",
       "      <td>1_S101</td>\n",
       "      <td>18_S102</td>\n",
       "      <td>10_S103</td>\n",
       "      <td>61_I100</td>\n",
       "      <td>0_I101</td>\n",
       "      <td>...</td>\n",
       "      <td>281_C101</td>\n",
       "      <td>6</td>\n",
       "      <td>1</td>\n",
       "      <td>False</td>\n",
       "      <td>61</td>\n",
       "      <td>False</td>\n",
       "      <td>2020</td>\n",
       "      <td>3</td>\n",
       "      <td>False</td>\n",
       "      <td>True</td>\n",
       "    </tr>\n",
       "  </tbody>\n",
       "</table>\n",
       "<p>2749369 rows × 23 columns</p>\n",
       "</div>"
      ],
      "text/plain": [
       "              DATE  QTT  date_block_num     S100       item_id    S101  \\\n",
       "0       2017-01-08  2.0               0   0_S100     4_item_id  1_S101   \n",
       "1       2017-01-08  3.0               0   0_S100     0_item_id  1_S101   \n",
       "2       2017-01-08  3.0               0   0_S100     2_item_id  1_S101   \n",
       "3       2017-01-08  3.0               0   0_S100     3_item_id  1_S101   \n",
       "4       2017-01-08  2.0               0   0_S100     6_item_id  1_S101   \n",
       "...            ...  ...             ...      ...           ...     ...   \n",
       "2749364 2020-02-09  7.0             161  16_S100  2108_item_id  1_S101   \n",
       "2749365 2020-02-16  2.0             162  16_S100  2109_item_id  1_S101   \n",
       "2749366 2020-02-16  8.0             162  16_S100  2106_item_id  1_S101   \n",
       "2749367 2020-02-16  7.0             162  16_S100  2108_item_id  1_S101   \n",
       "2749368 2020-03-01  1.0             164  16_S100  2106_item_id  1_S101   \n",
       "\n",
       "            S102     S103     I100    I101  ...      C101 day_of_week day  \\\n",
       "0        17_S102  10_S103   0_I100  2_I101  ...   76_C101           6   8   \n",
       "1        17_S102  10_S103   0_I100  2_I101  ...  149_C101           6   8   \n",
       "2        17_S102  10_S103   0_I100  2_I101  ...  256_C101           6   8   \n",
       "3        17_S102  10_S103   0_I100  2_I101  ...  354_C101           6   8   \n",
       "4        17_S102  10_S103   0_I100  2_I101  ...  149_C101           6   8   \n",
       "...          ...      ...      ...     ...  ...       ...         ...  ..   \n",
       "2749364  18_S102  10_S103  61_I100  0_I101  ...  354_C101           6   9   \n",
       "2749365  18_S102  10_S103  61_I100  0_I101  ...   76_C101           6  16   \n",
       "2749366  18_S102  10_S103  61_I100  0_I101  ...  281_C101           6  16   \n",
       "2749367  18_S102  10_S103  61_I100  0_I101  ...  354_C101           6  16   \n",
       "2749368  18_S102  10_S103  61_I100  0_I101  ...  281_C101           6   1   \n",
       "\n",
       "        is_month_end  day_of_year  is_quarter_start  year  month  \\\n",
       "0              False            8             False  2017      1   \n",
       "1              False            8             False  2017      1   \n",
       "2              False            8             False  2017      1   \n",
       "3              False            8             False  2017      1   \n",
       "4              False            8             False  2017      1   \n",
       "...              ...          ...               ...   ...    ...   \n",
       "2749364        False           40             False  2020      2   \n",
       "2749365        False           47             False  2020      2   \n",
       "2749366        False           47             False  2020      2   \n",
       "2749367        False           47             False  2020      2   \n",
       "2749368        False           61             False  2020      3   \n",
       "\n",
       "         is_year_start  is_month_start  \n",
       "0                False           False  \n",
       "1                False           False  \n",
       "2                False           False  \n",
       "3                False           False  \n",
       "4                False           False  \n",
       "...                ...             ...  \n",
       "2749364          False           False  \n",
       "2749365          False           False  \n",
       "2749366          False           False  \n",
       "2749367          False           False  \n",
       "2749368          False            True  \n",
       "\n",
       "[2749369 rows x 23 columns]"
      ]
     },
     "execution_count": 32,
     "metadata": {},
     "output_type": "execute_result"
    }
   ],
   "source": [
    "df_sales"
   ]
  },
  {
   "cell_type": "code",
   "execution_count": 33,
   "id": "a6948f76",
   "metadata": {
    "gradient": {
     "editing": false,
     "id": "7a9d304a",
     "kernelId": "8acadc02-40bf-4da4-bde9-070f59c4e515"
    }
   },
   "outputs": [
    {
     "data": {
      "text/plain": [
       "Index(['DATE', 'QTT', 'date_block_num', 'S100', 'item_id', 'S101', 'S102',\n",
       "       'S103', 'I100', 'I101', 'I102', 'I103', 'C100', 'C101', 'day_of_week',\n",
       "       'day', 'is_month_end', 'day_of_year', 'is_quarter_start', 'year',\n",
       "       'month', 'is_year_start', 'is_month_start'],\n",
       "      dtype='object')"
      ]
     },
     "execution_count": 33,
     "metadata": {},
     "output_type": "execute_result"
    }
   ],
   "source": [
    "df_sales.columns"
   ]
  },
  {
   "cell_type": "raw",
   "id": "721172c8",
   "metadata": {
    "gradient": {
     "editing": false,
     "id": "99dbacec",
     "kernelId": "8acadc02-40bf-4da4-bde9-070f59c4e515"
    }
   },
   "source": [
    "\n",
    "                          \"QTT\": pytorch_forecasting.data.encoders.NaNLabelEncoder(add_nan=True),                          \n",
    "                          \"date_block_num\": pytorch_forecasting.data.encoders.NaNLabelEncoder(add_nan=True),\n"
   ]
  },
  {
   "cell_type": "code",
   "execution_count": 34,
   "id": "37645e12",
   "metadata": {
    "gradient": {
     "editing": false,
     "id": "77b7140f",
     "kernelId": "8acadc02-40bf-4da4-bde9-070f59c4e515"
    }
   },
   "outputs": [
    {
     "data": {
      "text/plain": [
       "[247, 248, 249, 250, 251, 252, 253, 254]"
      ]
     },
     "execution_count": 34,
     "metadata": {},
     "output_type": "execute_result"
    }
   ],
   "source": [
    "sorted(df_submission_sample['date_block_num'].value_counts().index)"
   ]
  },
  {
   "cell_type": "code",
   "execution_count": 35,
   "id": "00b0123a",
   "metadata": {
    "gradient": {
     "editing": false,
     "id": "457f6d71",
     "kernelId": "8acadc02-40bf-4da4-bde9-070f59c4e515"
    }
   },
   "outputs": [
    {
     "data": {
      "text/plain": [
       "8"
      ]
     },
     "execution_count": 35,
     "metadata": {},
     "output_type": "execute_result"
    }
   ],
   "source": [
    "prediction_steps = df_submission_sample['date_block_num'].nunique()\n",
    "prediction_steps"
   ]
  },
  {
   "cell_type": "code",
   "execution_count": 46,
   "id": "ce153354",
   "metadata": {
    "gradient": {
     "editing": false,
     "id": "d0a48c03",
     "kernelId": "8acadc02-40bf-4da4-bde9-070f59c4e515"
    }
   },
   "outputs": [],
   "source": [
    "#'day_of_week', 'day', 'is_month_end', 'day_of_year',  'is_quarter_start', 'year', 'month', 'is_year_start', 'is_month_start', \n",
    "# 'I103','S103', 'C101','I100' , 'C100', 'ID', 'I102','S102',, 'S101', 'S100', 'item_id', 'date_block_num', 'I101'\n",
    "max_prediction_length = prediction_steps\n",
    "\n",
    "max_encoder_length = 27\n",
    "\n",
    "training_cutoff = df_sales['date_block_num'].max() - max_prediction_length\n",
    "\n",
    "training = TimeSeriesDataSet(\n",
    "    df_sales[lambda x: x['date_block_num'] <= training_cutoff],\n",
    "    time_idx='date_block_num',\n",
    "    target=\"QTT\",\n",
    "    group_ids=[\"S100\", \"item_id\"],\n",
    "    min_encoder_length=0,  \n",
    "    max_encoder_length=max_encoder_length,\n",
    "    min_prediction_length=1,\n",
    "    max_prediction_length=max_prediction_length,\n",
    "    \n",
    "    static_categoricals=[\"S100\", \"item_id\"],\n",
    "    \n",
    "    time_varying_unknown_categoricals=[\"S100\", \"item_id\",\"S101\", \"S102\",\"S103\",\"I100\",\"I101\",\"I102\",\"I103\",\"C100\",\"C101\"],\n",
    "    time_varying_unknown_reals=[\"date_block_num\",\"QTT\",'day_of_week', 'day', 'is_month_end', 'day_of_year',  'is_quarter_start', 'year', 'month', 'is_year_start', 'is_month_start'],\n",
    "    \n",
    "    time_varying_known_reals=['date_block_num'],\n",
    "    time_varying_known_categoricals=[],  \n",
    "       \n",
    "    #target_normalizer=GroupNormalizer(\n",
    "    #    groups=[\"S100\", \"item_id\"], transformation=\"softplus\"\n",
    "    #),  # use softplus and normalize by group    \n",
    "    \n",
    "    categorical_encoders={\"item_id\": pytorch_forecasting.data.encoders.NaNLabelEncoder(add_nan=True),\n",
    "                          \n",
    "                          \"S100\":  pytorch_forecasting.data.encoders.NaNLabelEncoder(add_nan=True),\n",
    "                          \"S101\": pytorch_forecasting.data.encoders.NaNLabelEncoder(add_nan=True),\n",
    "                          \"S102\": pytorch_forecasting.data.encoders.NaNLabelEncoder(add_nan=True),\n",
    "                          \"S103\": pytorch_forecasting.data.encoders.NaNLabelEncoder(add_nan=True),\n",
    "                          \"I100\": pytorch_forecasting.data.encoders.NaNLabelEncoder(add_nan=True),\n",
    "                          \"I101\": pytorch_forecasting.data.encoders.NaNLabelEncoder(add_nan=True),\n",
    "                          \"I102\": pytorch_forecasting.data.encoders.NaNLabelEncoder(add_nan=True),\n",
    "                          \"I103\": pytorch_forecasting.data.encoders.NaNLabelEncoder(add_nan=True),\n",
    "                          \"C100\": pytorch_forecasting.data.encoders.NaNLabelEncoder(add_nan=True),                          \n",
    "                          \"C101\": pytorch_forecasting.data.encoders.NaNLabelEncoder(add_nan=True),\n",
    "                         #\"date_block_num\": pytorch_forecasting.data.encoders.NaNLabelEncoder(add_nan=True),\n",
    "                         },\n",
    "    #,\n",
    "    #                      \"item_id\":pytorch_forecasting.data.encoders.NaNLabelEncoder(add_nan=True),\n",
    "    #                     },\n",
    "    #'day_of_week', 'day', 'is_month_end', 'day_of_year',  'is_quarter_start', 'year', 'month', 'is_year_start', 'is_month_start']},\n",
    "    add_relative_time_idx=True,\n",
    "    add_target_scales=True,\n",
    "    add_encoder_length=True,\n",
    "    allow_missing_timesteps=True,\n",
    ")"
   ]
  },
  {
   "cell_type": "code",
   "execution_count": 47,
   "id": "c13f08d1",
   "metadata": {
    "gradient": {
     "editing": false,
     "id": "1e9a40a5",
     "kernelId": "8acadc02-40bf-4da4-bde9-070f59c4e515"
    }
   },
   "outputs": [],
   "source": [
    "validation = TimeSeriesDataSet.from_dataset(training, df_sales, predict=True, stop_randomization=True)\n"
   ]
  },
  {
   "cell_type": "code",
   "execution_count": 48,
   "id": "ffa166ff",
   "metadata": {},
   "outputs": [],
   "source": [
    "batch_size = 64\n",
    "train_dataloader = training.to_dataloader(train=True, batch_size=batch_size, num_workers=0)\n",
    "\n",
    "val_dataloader   = validation.to_dataloader(train=False, batch_size=batch_size * 10, num_workers=0)"
   ]
  },
  {
   "cell_type": "code",
   "execution_count": 49,
   "id": "e70db99b",
   "metadata": {
    "gradient": {
     "editing": false,
     "id": "72b45362",
     "kernelId": "8acadc02-40bf-4da4-bde9-070f59c4e515"
    }
   },
   "outputs": [],
   "source": [
    "from pytorch_forecasting.metrics import QuantileLoss\n"
   ]
  },
  {
   "cell_type": "code",
   "execution_count": 50,
   "id": "5ea707a9",
   "metadata": {
    "gradient": {
     "editing": false,
     "id": "4ee35b87",
     "kernelId": "8acadc02-40bf-4da4-bde9-070f59c4e515"
    }
   },
   "outputs": [],
   "source": [
    "from pytorch_forecasting.metrics import SMAPE, MAE\n",
    "\n",
    "composite_metric = SMAPE() + 1e-4 * MAE()"
   ]
  },
  {
   "cell_type": "code",
   "execution_count": 51,
   "id": "4fed55b8",
   "metadata": {
    "gradient": {
     "editing": false,
     "id": "dab3864c",
     "kernelId": "8acadc02-40bf-4da4-bde9-070f59c4e515"
    }
   },
   "outputs": [
    {
     "name": "stderr",
     "output_type": "stream",
     "text": [
      "GPU available: True, used: True\n",
      "TPU available: False, using: 0 TPU cores\n",
      "IPU available: False, using: 0 IPUs\n"
     ]
    },
    {
     "name": "stdout",
     "output_type": "stream",
     "text": [
      "Number of parameters in network: 97.5k\n"
     ]
    }
   ],
   "source": [
    "\n",
    "trainer = pl.Trainer(\n",
    "    gpus=1,\n",
    "    # clipping gradients is a hyperparameter and important to prevent divergance\n",
    "    # of the gradient for recurrent neural networks\n",
    "    gradient_clip_val=0.1,\n",
    "    \n",
    ")\n",
    "\n",
    "\n",
    "tft = TemporalFusionTransformer.from_dataset(\n",
    "    training,\n",
    "    # not meaningful for finding the learning rate but otherwise very important\n",
    "    learning_rate=0.03,\n",
    "    hidden_size=16,  # most important hyperparameter apart from learning rate\n",
    "    # number of attention heads. Set to up to 4 for large datasets\n",
    "    attention_head_size=1,\n",
    "    dropout=0.1,  # between 0.1 and 0.3 are good values\n",
    "    hidden_continuous_size=8,  # set to <= hidden_size\n",
    "    output_size=1,  # 7 quantiles by default\n",
    "    loss=pytorch_forecasting.metrics.RMSE(),\n",
    "    #loss=SMAPE(),\n",
    "    \n",
    "    # reduce learning rate if no improvement in validation loss after x epochs\n",
    "    reduce_on_plateau_patience=4,\n",
    ")\n",
    "print(f\"Number of parameters in network: {tft.size()/1e3:.1f}k\")"
   ]
  },
  {
   "cell_type": "code",
   "execution_count": 52,
   "id": "121296d0",
   "metadata": {
    "gradient": {
     "editing": false,
     "id": "28328d80",
     "kernelId": "8acadc02-40bf-4da4-bde9-070f59c4e515"
    }
   },
   "outputs": [
    {
     "data": {
      "text/plain": [
       "{'item_id': NaNLabelEncoder(add_nan=True),\n",
       " 'S100': NaNLabelEncoder(add_nan=True),\n",
       " 'S101': NaNLabelEncoder(add_nan=True),\n",
       " 'S102': NaNLabelEncoder(add_nan=True),\n",
       " 'S103': NaNLabelEncoder(add_nan=True),\n",
       " 'I100': NaNLabelEncoder(add_nan=True),\n",
       " 'I101': NaNLabelEncoder(add_nan=True),\n",
       " 'I102': NaNLabelEncoder(add_nan=True),\n",
       " 'I103': NaNLabelEncoder(add_nan=True),\n",
       " 'C100': NaNLabelEncoder(add_nan=True),\n",
       " 'C101': NaNLabelEncoder(add_nan=True),\n",
       " '__group_id__S100': NaNLabelEncoder(),\n",
       " '__group_id__item_id': NaNLabelEncoder()}"
      ]
     },
     "execution_count": 52,
     "metadata": {},
     "output_type": "execute_result"
    }
   ],
   "source": [
    "training.categorical_encoders"
   ]
  },
  {
   "cell_type": "markdown",
   "id": "190c4f8e",
   "metadata": {
    "gradient": {
     "editing": false,
     "id": "73ab681d",
     "kernelId": "8acadc02-40bf-4da4-bde9-070f59c4e515"
    }
   },
   "source": [
    "tft.requires_grad_ = False"
   ]
  },
  {
   "cell_type": "code",
   "execution_count": 53,
   "id": "9bca7641",
   "metadata": {
    "gradient": {
     "editing": false,
     "id": "6f1beaec",
     "kernelId": "8acadc02-40bf-4da4-bde9-070f59c4e515"
    },
    "scrolled": true,
    "tags": []
   },
   "outputs": [
    {
     "name": "stderr",
     "output_type": "stream",
     "text": [
      "LOCAL_RANK: 0 - CUDA_VISIBLE_DEVICES: [0]\n",
      "Global seed set to 42\n",
      "\n",
      "Finding best initial lr:   0%|          | 0/100 [00:00<?, ?it/s]\u001b[A\n",
      "Finding best initial lr:   1%|          | 1/100 [00:00<00:50,  1.98it/s]\u001b[A\n",
      "Finding best initial lr:   2%|▏         | 2/100 [00:00<00:33,  2.95it/s]\u001b[A\n",
      "Finding best initial lr:   3%|▎         | 3/100 [00:01<00:30,  3.14it/s]\u001b[A\n",
      "Finding best initial lr:   4%|▍         | 4/100 [00:01<00:28,  3.37it/s]\u001b[A\n",
      "Finding best initial lr:   5%|▌         | 5/100 [00:01<00:25,  3.67it/s]\u001b[A\n",
      "Finding best initial lr:   6%|▌         | 6/100 [00:01<00:26,  3.60it/s]\u001b[A\n",
      "Finding best initial lr:   7%|▋         | 7/100 [00:02<00:24,  3.85it/s]\u001b[A\n",
      "Finding best initial lr:   8%|▊         | 8/100 [00:02<00:23,  3.84it/s]\u001b[A\n",
      "Finding best initial lr:   9%|▉         | 9/100 [00:02<00:22,  3.97it/s]\u001b[A\n",
      "Finding best initial lr:  10%|█         | 10/100 [00:02<00:22,  3.94it/s]\u001b[A\n",
      "Finding best initial lr:  11%|█         | 11/100 [00:03<00:22,  4.03it/s]\u001b[A\n",
      "Finding best initial lr:  12%|█▏        | 12/100 [00:03<00:22,  3.87it/s]\u001b[A\n",
      "Finding best initial lr:  13%|█▎        | 13/100 [00:03<00:21,  4.09it/s]\u001b[A\n",
      "Finding best initial lr:  14%|█▍        | 14/100 [00:03<00:21,  4.01it/s]\u001b[A\n",
      "Finding best initial lr:  15%|█▌        | 15/100 [00:04<00:20,  4.06it/s]\u001b[A\n",
      "Finding best initial lr:  16%|█▌        | 16/100 [00:04<00:21,  3.98it/s]\u001b[A\n",
      "Finding best initial lr:  17%|█▋        | 17/100 [00:04<00:20,  4.10it/s]\u001b[A\n",
      "Finding best initial lr:  18%|█▊        | 18/100 [00:04<00:20,  3.94it/s]\u001b[A\n",
      "Finding best initial lr:  19%|█▉        | 19/100 [00:05<00:20,  3.91it/s]\u001b[A\n",
      "Finding best initial lr:  20%|██        | 20/100 [00:05<00:20,  3.85it/s]\u001b[A\n",
      "Finding best initial lr:  21%|██        | 21/100 [00:05<00:20,  3.83it/s]\u001b[A\n",
      "Finding best initial lr:  22%|██▏       | 22/100 [00:05<00:19,  3.94it/s]\u001b[A\n",
      "Finding best initial lr:  23%|██▎       | 23/100 [00:06<00:19,  3.87it/s]\u001b[A\n",
      "Finding best initial lr:  24%|██▍       | 24/100 [00:06<00:19,  3.90it/s]\u001b[A\n",
      "Finding best initial lr:  25%|██▌       | 25/100 [00:06<00:19,  3.86it/s]\u001b[A\n",
      "Finding best initial lr:  26%|██▌       | 26/100 [00:06<00:20,  3.68it/s]\u001b[A\n",
      "Finding best initial lr:  27%|██▋       | 27/100 [00:07<00:18,  3.88it/s]\u001b[A\n",
      "Finding best initial lr:  28%|██▊       | 28/100 [00:07<00:18,  3.84it/s]\u001b[A\n",
      "Finding best initial lr:  29%|██▉       | 29/100 [00:07<00:17,  3.98it/s]\u001b[A\n",
      "Finding best initial lr:  30%|███       | 30/100 [00:07<00:18,  3.79it/s]\u001b[A\n",
      "Finding best initial lr:  31%|███       | 31/100 [00:08<00:17,  3.97it/s]\u001b[A\n",
      "Finding best initial lr:  32%|███▏      | 32/100 [00:08<00:17,  3.90it/s]\u001b[A\n",
      "Finding best initial lr:  33%|███▎      | 33/100 [00:08<00:16,  4.05it/s]\u001b[A\n",
      "Finding best initial lr:  34%|███▍      | 34/100 [00:08<00:16,  3.94it/s]\u001b[A\n",
      "Finding best initial lr:  35%|███▌      | 35/100 [00:09<00:16,  4.04it/s]\u001b[A\n",
      "Finding best initial lr:  36%|███▌      | 36/100 [00:09<00:16,  3.88it/s]\u001b[A\n",
      "Finding best initial lr:  37%|███▋      | 37/100 [00:09<00:16,  3.86it/s]\u001b[A\n",
      "Finding best initial lr:  38%|███▊      | 38/100 [00:09<00:15,  3.94it/s]\u001b[A\n",
      "Finding best initial lr:  39%|███▉      | 39/100 [00:10<00:15,  3.82it/s]\u001b[A\n",
      "Finding best initial lr:  40%|████      | 40/100 [00:10<00:14,  4.02it/s]\u001b[A\n",
      "Finding best initial lr:  41%|████      | 41/100 [00:10<00:14,  3.93it/s]\u001b[A\n",
      "Finding best initial lr:  42%|████▏     | 42/100 [00:10<00:14,  3.93it/s]\u001b[A\n",
      "Finding best initial lr:  43%|████▎     | 43/100 [00:11<00:15,  3.77it/s]\u001b[A\n",
      "Finding best initial lr:  44%|████▍     | 44/100 [00:11<00:15,  3.71it/s]\u001b[A\n",
      "Finding best initial lr:  45%|████▌     | 45/100 [00:11<00:14,  3.71it/s]\u001b[A\n",
      "Finding best initial lr:  46%|████▌     | 46/100 [00:12<00:14,  3.78it/s]\u001b[A\n",
      "Finding best initial lr:  47%|████▋     | 47/100 [00:12<00:14,  3.72it/s]\u001b[A\n",
      "Finding best initial lr:  48%|████▊     | 48/100 [00:12<00:14,  3.67it/s]\u001b[A\n",
      "Finding best initial lr:  49%|████▉     | 49/100 [00:12<00:13,  3.85it/s]\u001b[A\n",
      "Finding best initial lr:  50%|█████     | 50/100 [00:13<00:13,  3.78it/s]\u001b[A\n",
      "Finding best initial lr:  51%|█████     | 51/100 [00:13<00:12,  3.90it/s]\u001b[A\n",
      "Finding best initial lr:  52%|█████▏    | 52/100 [00:13<00:12,  3.90it/s]\u001b[A\n",
      "Finding best initial lr:  53%|█████▎    | 53/100 [00:13<00:11,  4.03it/s]\u001b[A\n",
      "Finding best initial lr:  54%|█████▍    | 54/100 [00:14<00:11,  3.88it/s]\u001b[A\n",
      "Finding best initial lr:  55%|█████▌    | 55/100 [00:14<00:11,  4.05it/s]\u001b[A\n",
      "Finding best initial lr:  56%|█████▌    | 56/100 [00:14<00:11,  3.97it/s]\u001b[A\n",
      "Finding best initial lr:  57%|█████▋    | 57/100 [00:14<00:10,  4.07it/s]\u001b[A\n",
      "Finding best initial lr:  58%|█████▊    | 58/100 [00:15<00:10,  3.93it/s]\u001b[A\n",
      "Finding best initial lr:  59%|█████▉    | 59/100 [00:15<00:10,  4.01it/s]\u001b[A\n",
      "Finding best initial lr:  60%|██████    | 60/100 [00:15<00:10,  3.88it/s]\u001b[A\n",
      "Finding best initial lr:  61%|██████    | 61/100 [00:15<00:09,  4.06it/s]\u001b[A\n",
      "Finding best initial lr:  62%|██████▏   | 62/100 [00:16<00:09,  3.97it/s]\u001b[A\n",
      "Finding best initial lr:  63%|██████▎   | 63/100 [00:16<00:09,  4.07it/s]\u001b[A\n",
      "Finding best initial lr:  64%|██████▍   | 64/100 [00:16<00:09,  3.99it/s]\u001b[A\n",
      "Finding best initial lr:  65%|██████▌   | 65/100 [00:16<00:08,  3.96it/s]\u001b[A\n",
      "Finding best initial lr:  66%|██████▌   | 66/100 [00:17<00:08,  3.80it/s]\u001b[A\n",
      "Finding best initial lr:  67%|██████▋   | 67/100 [00:17<00:08,  3.88it/s]\u001b[A\n",
      "Finding best initial lr:  68%|██████▊   | 68/100 [00:17<00:07,  4.04it/s]\u001b[A\n",
      "Finding best initial lr:  69%|██████▉   | 69/100 [00:17<00:07,  4.08it/s]\u001b[A\n",
      "Finding best initial lr:  70%|███████   | 70/100 [00:18<00:07,  3.99it/s]\u001b[A\n",
      "Finding best initial lr:  71%|███████   | 71/100 [00:18<00:06,  4.19it/s]\u001b[A\n",
      "Finding best initial lr:  72%|███████▏  | 72/100 [00:18<00:07,  3.99it/s]\u001b[A\n",
      "Finding best initial lr:  73%|███████▎  | 73/100 [00:18<00:06,  4.11it/s]\u001b[A\n",
      "Finding best initial lr:  74%|███████▍  | 74/100 [00:19<00:06,  3.89it/s]\u001b[A\n",
      "Finding best initial lr:  75%|███████▌  | 75/100 [00:19<00:06,  4.04it/s]\u001b[A\n",
      "Finding best initial lr:  76%|███████▌  | 76/100 [00:19<00:06,  3.96it/s]\u001b[A\n",
      "Finding best initial lr:  77%|███████▋  | 77/100 [00:19<00:05,  4.03it/s]\u001b[A\n",
      "Finding best initial lr:  78%|███████▊  | 78/100 [00:20<00:05,  3.84it/s]\u001b[A\n",
      "Finding best initial lr:  79%|███████▉  | 79/100 [00:20<00:05,  3.80it/s]\u001b[A\n",
      "Finding best initial lr:  80%|████████  | 80/100 [00:20<00:05,  3.95it/s]\u001b[A\n",
      "Finding best initial lr:  81%|████████  | 81/100 [00:20<00:05,  3.79it/s]\u001b[A\n",
      "Finding best initial lr:  82%|████████▏ | 82/100 [00:21<00:04,  3.97it/s]\u001b[A\n",
      "Finding best initial lr:  83%|████████▎ | 83/100 [00:21<00:04,  3.84it/s]\u001b[A\n",
      "Finding best initial lr:  84%|████████▍ | 84/100 [00:21<00:04,  3.73it/s]\u001b[A\n",
      "Finding best initial lr:  85%|████████▌ | 85/100 [00:21<00:03,  3.91it/s]\u001b[A\n",
      "Finding best initial lr:  86%|████████▌ | 86/100 [00:22<00:03,  3.80it/s]\u001b[A\n",
      "Finding best initial lr:  87%|████████▋ | 87/100 [00:22<00:03,  3.81it/s]\u001b[A\n",
      "Finding best initial lr:  88%|████████▊ | 88/100 [00:22<00:03,  3.95it/s]\u001b[A\n",
      "Finding best initial lr:  89%|████████▉ | 89/100 [00:22<00:02,  4.02it/s]\u001b[A\n",
      "Finding best initial lr:  90%|█████████ | 90/100 [00:23<00:02,  3.88it/s]\u001b[A\n",
      "Finding best initial lr:  91%|█████████ | 91/100 [00:23<00:02,  4.07it/s]\u001b[A\n",
      "Finding best initial lr:  92%|█████████▏| 92/100 [00:23<00:02,  3.99it/s]\u001b[A\n",
      "Finding best initial lr:  93%|█████████▎| 93/100 [00:23<00:01,  4.08it/s]\u001b[A\n",
      "Finding best initial lr:  94%|█████████▍| 94/100 [00:24<00:01,  3.92it/s]\u001b[A\n",
      "Finding best initial lr:  95%|█████████▌| 95/100 [00:24<00:01,  3.88it/s]\u001b[A\n",
      "Finding best initial lr:  96%|█████████▌| 96/100 [00:24<00:01,  3.91it/s]\u001b[A\n",
      "Finding best initial lr:  97%|█████████▋| 97/100 [00:24<00:00,  3.90it/s]\u001b[A\n",
      "Finding best initial lr:  98%|█████████▊| 98/100 [00:25<00:00,  4.07it/s]\u001b[A\n",
      "Finding best initial lr:  99%|█████████▉| 99/100 [00:25<00:00,  3.89it/s]\u001b[A\n",
      "Finding best initial lr: 100%|██████████| 100/100 [00:25<00:00,  4.00it/s]\u001b[ARestoring states from the checkpoint path at /notebooks/dataH-kaggle/Codes/lr_find_temp_model_ed2422dc-1556-46b7-83f3-37a1260993d3.ckpt\n",
      "Finding best initial lr: 100%|██████████| 100/100 [00:25<00:00,  3.86it/s]\n"
     ]
    },
    {
     "name": "stdout",
     "output_type": "stream",
     "text": [
      "suggested learning rate: 1.8197008586099832e-06\n"
     ]
    },
    {
     "data": {
      "image/png": "[encoded data removed]",
      "text/plain": [
       "<Figure size 432x288 with 1 Axes>"
      ]
     },
     "metadata": {
      "needs_background": "light"
     },
     "output_type": "display_data"
    }
   ],
   "source": [
    "# find optimal learning rate\n",
    "res = trainer.tuner.lr_find(\n",
    "    tft,\n",
    "    train_dataloader=train_dataloader,\n",
    "    val_dataloaders=val_dataloader,\n",
    "    max_lr=0.1,\n",
    "    min_lr=1e-7,\n",
    ")\n",
    "\n",
    "print(f\"suggested learning rate: {res.suggestion()}\")\n",
    "fig = res.plot(show=True, suggest=True)\n",
    "fig.show()"
   ]
  },
  {
   "cell_type": "code",
   "execution_count": 54,
   "id": "f93079c2",
   "metadata": {
    "gradient": {
     "editing": false,
     "id": "50570579",
     "kernelId": "8acadc02-40bf-4da4-bde9-070f59c4e515"
    }
   },
   "outputs": [
    {
     "name": "stdout",
     "output_type": "stream",
     "text": [
      "Number of parameters in network: 97.5k\n"
     ]
    }
   ],
   "source": [
    "tft = TemporalFusionTransformer.from_dataset(\n",
    "    training,\n",
    "    learning_rate=res.suggestion(),\n",
    "    hidden_size=16,\n",
    "    attention_head_size=1,\n",
    "    dropout=0.1,\n",
    "    hidden_continuous_size=8,\n",
    "    output_size=1, \n",
    "    loss=pytorch_forecasting.metrics.RMSE(),\n",
    "    #loss= SMAPE(),\n",
    "    log_interval=10,  \n",
    "    reduce_on_plateau_patience=4,\n",
    ")\n",
    "print(f\"Number of parameters in network: {tft.size()/1e3:.1f}k\")"
   ]
  },
  {
   "cell_type": "code",
   "execution_count": 55,
   "id": "9d1f64d2",
   "metadata": {
    "gradient": {
     "id": "de312a9b",
     "kernelId": "8acadc02-40bf-4da4-bde9-070f59c4e515"
    }
   },
   "outputs": [
    {
     "name": "stderr",
     "output_type": "stream",
     "text": [
      "GPU available: True, used: True\n",
      "TPU available: False, using: 0 TPU cores\n",
      "IPU available: False, using: 0 IPUs\n"
     ]
    }
   ],
   "source": [
    "early_stop_callback = EarlyStopping(monitor=\"val_loss\", min_delta=1e-7, patience=10, verbose=False, mode=\"min\")\n",
    "lr_logger = LearningRateMonitor()  \n",
    "logger = TensorBoardLogger(\"lightning_logs\") \n",
    "\n",
    "trainer = pl.Trainer(\n",
    "    max_epochs= 100,\n",
    "    gpus=1,\n",
    "    weights_summary=\"top\",\n",
    "    gradient_clip_val=0.1,\n",
    "    limit_train_batches=30,  \n",
    "    callbacks=[lr_logger, early_stop_callback],\n",
    "    logger=logger,\n",
    ")\n"
   ]
  },
  {
   "cell_type": "code",
   "execution_count": null,
   "id": "8cdbd395",
   "metadata": {
    "gradient": {
     "editing": false,
     "id": "9ccde754",
     "kernelId": "8acadc02-40bf-4da4-bde9-070f59c4e515"
    },
    "scrolled": true,
    "tags": []
   },
   "outputs": [
    {
     "name": "stderr",
     "output_type": "stream",
     "text": [
      "LOCAL_RANK: 0 - CUDA_VISIBLE_DEVICES: [0]\n",
      "\n",
      "   | Name                               | Type                            | Params\n",
      "----------------------------------------------------------------------------------------\n",
      "0  | loss                               | RMSE                            | 0     \n",
      "1  | logging_metrics                    | ModuleList                      | 0     \n",
      "2  | input_embeddings                   | MultiEmbedding                  | 68.8 K\n",
      "3  | prescalers                         | ModuleDict                      | 240   \n",
      "4  | static_variable_selection          | VariableSelectionNetwork        | 2.1 K \n",
      "5  | encoder_variable_selection         | VariableSelectionNetwork        | 11.4 K\n",
      "6  | decoder_variable_selection         | VariableSelectionNetwork        | 1.2 K \n",
      "7  | static_context_variable_selection  | GatedResidualNetwork            | 1.1 K \n",
      "8  | static_context_initial_hidden_lstm | GatedResidualNetwork            | 1.1 K \n",
      "9  | static_context_initial_cell_lstm   | GatedResidualNetwork            | 1.1 K \n",
      "10 | static_context_enrichment          | GatedResidualNetwork            | 1.1 K \n",
      "11 | lstm_encoder                       | LSTM                            | 2.2 K \n",
      "12 | lstm_decoder                       | LSTM                            | 2.2 K \n",
      "13 | post_lstm_gate_encoder             | GatedLinearUnit                 | 544   \n",
      "14 | post_lstm_add_norm_encoder         | AddNorm                         | 32    \n",
      "15 | static_enrichment                  | GatedResidualNetwork            | 1.4 K \n",
      "16 | multihead_attn                     | InterpretableMultiHeadAttention | 1.1 K \n",
      "17 | post_attn_gate_norm                | GateAddNorm                     | 576   \n",
      "18 | pos_wise_ff                        | GatedResidualNetwork            | 1.1 K \n",
      "19 | pre_output_gate_norm               | GateAddNorm                     | 576   \n",
      "20 | output_layer                       | Linear                          | 17    \n",
      "----------------------------------------------------------------------------------------\n",
      "97.5 K    Trainable params\n",
      "0         Non-trainable params\n",
      "97.5 K    Total params\n",
      "0.390     Total estimated model params size (MB)\n"
     ]
    },
    {
     "name": "stdout",
     "output_type": "stream",
     "text": [
      "                                                                      "
     ]
    },
    {
     "name": "stderr",
     "output_type": "stream",
     "text": [
      "Global seed set to 42\n"
     ]
    },
    {
     "name": "stdout",
     "output_type": "stream",
     "text": [
      "Epoch 0:  25%|██▌       | 30/119 [00:08<00:25,  3.50it/s, loss=2.76, v_num=42, train_loss_step=1.780]\n",
      "Validating: 0it [00:00, ?it/s]\u001b[A\n",
      "Validating:   0%|          | 0/89 [00:00<?, ?it/s]\u001b[A\n",
      "Epoch 0:  27%|██▋       | 32/119 [00:09<00:27,  3.20it/s, loss=2.76, v_num=42, train_loss_step=1.780]\n",
      "Validating:   2%|▏         | 2/89 [00:02<01:30,  1.04s/it]\u001b[A\n",
      "Epoch 0:  29%|██▊       | 34/119 [00:11<00:28,  2.93it/s, loss=2.76, v_num=42, train_loss_step=1.780]\n",
      "Validating:   4%|▍         | 4/89 [00:03<01:13,  1.16it/s]\u001b[A\n",
      "Epoch 0:  30%|███       | 36/119 [00:13<00:30,  2.75it/s, loss=2.76, v_num=42, train_loss_step=1.780]\n",
      "Validating:   7%|▋         | 6/89 [00:05<01:06,  1.25it/s]\u001b[A\n",
      "Epoch 0:  32%|███▏      | 38/119 [00:14<00:31,  2.60it/s, loss=2.76, v_num=42, train_loss_step=1.780]\n",
      "Validating:   9%|▉         | 8/89 [00:06<01:02,  1.29it/s]\u001b[A\n",
      "Epoch 0:  34%|███▎      | 40/119 [00:16<00:31,  2.49it/s, loss=2.76, v_num=42, train_loss_step=1.780]\n",
      "Validating:  11%|█         | 10/89 [00:08<01:02,  1.27it/s]\u001b[A\n",
      "Epoch 0:  35%|███▌      | 42/119 [00:17<00:32,  2.36it/s, loss=2.76, v_num=42, train_loss_step=1.780]\n",
      "Validating:  13%|█▎        | 12/89 [00:09<01:01,  1.25it/s]\u001b[A\n",
      "Epoch 0:  37%|███▋      | 44/119 [00:19<00:32,  2.28it/s, loss=2.76, v_num=42, train_loss_step=1.780]\n",
      "Validating:  16%|█▌        | 14/89 [00:11<00:57,  1.30it/s]\u001b[A\n",
      "Epoch 0:  39%|███▊      | 46/119 [00:21<00:33,  2.17it/s, loss=2.76, v_num=42, train_loss_step=1.780]\n",
      "Validating:  18%|█▊        | 16/89 [00:13<01:03,  1.16it/s]\u001b[A\n",
      "Epoch 0:  40%|████      | 48/119 [00:22<00:33,  2.11it/s, loss=2.76, v_num=42, train_loss_step=1.780]\n",
      "Validating:  20%|██        | 18/89 [00:14<00:57,  1.24it/s]\u001b[A\n",
      "Epoch 0:  42%|████▏     | 50/119 [00:24<00:33,  2.06it/s, loss=2.76, v_num=42, train_loss_step=1.780]\n",
      "Validating:  22%|██▏       | 20/89 [00:16<00:54,  1.27it/s]\u001b[A\n",
      "Epoch 0:  44%|████▎     | 52/119 [00:25<00:33,  2.00it/s, loss=2.76, v_num=42, train_loss_step=1.780]\n",
      "Validating:  25%|██▍       | 22/89 [00:18<00:54,  1.24it/s]\u001b[A\n",
      "Epoch 0:  45%|████▌     | 54/119 [00:27<00:33,  1.96it/s, loss=2.76, v_num=42, train_loss_step=1.780]\n",
      "Validating:  27%|██▋       | 24/89 [00:19<00:50,  1.28it/s]\u001b[A\n",
      "Epoch 0:  47%|████▋     | 56/119 [00:29<00:32,  1.93it/s, loss=2.76, v_num=42, train_loss_step=1.780]\n",
      "Validating:  29%|██▉       | 26/89 [00:21<00:49,  1.28it/s]\u001b[A\n",
      "Epoch 0:  49%|████▊     | 58/119 [00:30<00:32,  1.89it/s, loss=2.76, v_num=42, train_loss_step=1.780]\n",
      "Validating:  31%|███▏      | 28/89 [00:22<00:50,  1.20it/s]\u001b[A\n",
      "Epoch 0:  50%|█████     | 60/119 [00:32<00:31,  1.86it/s, loss=2.76, v_num=42, train_loss_step=1.780]\n",
      "Validating:  34%|███▎      | 30/89 [00:24<00:47,  1.25it/s]\u001b[A\n",
      "Epoch 0:  52%|█████▏    | 62/119 [00:33<00:31,  1.82it/s, loss=2.76, v_num=42, train_loss_step=1.780]\n",
      "Validating:  36%|███▌      | 32/89 [00:26<00:45,  1.25it/s]\u001b[A\n",
      "Epoch 0:  54%|█████▍    | 64/119 [00:35<00:30,  1.79it/s, loss=2.76, v_num=42, train_loss_step=1.780]\n",
      "Validating:  38%|███▊      | 34/89 [00:27<00:46,  1.18it/s]\u001b[A\n",
      "Epoch 0:  55%|█████▌    | 66/119 [00:37<00:30,  1.77it/s, loss=2.76, v_num=42, train_loss_step=1.780]\n",
      "Validating:  40%|████      | 36/89 [00:29<00:43,  1.23it/s]\u001b[A\n",
      "Epoch 0:  57%|█████▋    | 68/119 [00:38<00:29,  1.75it/s, loss=2.76, v_num=42, train_loss_step=1.780]\n",
      "Validating:  43%|████▎     | 38/89 [00:31<00:40,  1.26it/s]\u001b[A\n",
      "Epoch 0:  59%|█████▉    | 70/119 [00:40<00:28,  1.73it/s, loss=2.76, v_num=42, train_loss_step=1.780]\n",
      "Validating:  45%|████▍     | 40/89 [00:32<00:38,  1.26it/s]\u001b[A\n",
      "Epoch 0:  61%|██████    | 72/119 [00:42<00:27,  1.71it/s, loss=2.76, v_num=42, train_loss_step=1.780]\n",
      "Validating:  47%|████▋     | 42/89 [00:34<00:38,  1.24it/s]\u001b[A\n",
      "Epoch 0:  62%|██████▏   | 74/119 [00:43<00:26,  1.69it/s, loss=2.76, v_num=42, train_loss_step=1.780]\n",
      "Validating:  49%|████▉     | 44/89 [00:35<00:35,  1.26it/s]\u001b[A\n",
      "Epoch 0:  64%|██████▍   | 76/119 [00:45<00:25,  1.68it/s, loss=2.76, v_num=42, train_loss_step=1.780]\n",
      "Validating:  52%|█████▏    | 46/89 [00:37<00:34,  1.25it/s]\u001b[A\n",
      "Epoch 0:  66%|██████▌   | 78/119 [00:46<00:24,  1.66it/s, loss=2.76, v_num=42, train_loss_step=1.780]\n",
      "Validating:  54%|█████▍    | 48/89 [00:39<00:32,  1.28it/s]\u001b[A\n",
      "Epoch 0:  67%|██████▋   | 80/119 [00:48<00:23,  1.65it/s, loss=2.76, v_num=42, train_loss_step=1.780]\n",
      "Validating:  56%|█████▌    | 50/89 [00:40<00:30,  1.29it/s]\u001b[A\n",
      "Epoch 0:  69%|██████▉   | 82/119 [00:50<00:22,  1.64it/s, loss=2.76, v_num=42, train_loss_step=1.780]\n",
      "Validating:  58%|█████▊    | 52/89 [00:42<00:33,  1.09it/s]\u001b[A\n",
      "Epoch 0:  71%|███████   | 84/119 [00:52<00:21,  1.61it/s, loss=2.76, v_num=42, train_loss_step=1.780]\n",
      "Validating:  61%|██████    | 54/89 [00:44<00:29,  1.19it/s]\u001b[A\n",
      "Epoch 0:  72%|███████▏  | 86/119 [00:53<00:20,  1.61it/s, loss=2.76, v_num=42, train_loss_step=1.780]\n",
      "Validating:  63%|██████▎   | 56/89 [00:45<00:25,  1.28it/s]\u001b[A\n",
      "Epoch 0:  74%|███████▍  | 88/119 [00:55<00:19,  1.60it/s, loss=2.76, v_num=42, train_loss_step=1.780]\n",
      "Validating:  65%|██████▌   | 58/89 [00:47<00:23,  1.31it/s]\u001b[A\n",
      "Epoch 0:  76%|███████▌  | 90/119 [00:56<00:18,  1.59it/s, loss=2.76, v_num=42, train_loss_step=1.780]\n",
      "Validating:  67%|██████▋   | 60/89 [00:48<00:22,  1.27it/s]\u001b[A\n",
      "Epoch 0:  77%|███████▋  | 92/119 [00:58<00:17,  1.58it/s, loss=2.76, v_num=42, train_loss_step=1.780]\n",
      "Validating:  70%|██████▉   | 62/89 [00:50<00:21,  1.24it/s]\u001b[A\n",
      "Epoch 0:  79%|███████▉  | 94/119 [00:59<00:15,  1.57it/s, loss=2.76, v_num=42, train_loss_step=1.780]\n",
      "Validating:  72%|███████▏  | 64/89 [00:51<00:19,  1.29it/s]\u001b[A\n",
      "Epoch 0:  81%|████████  | 96/119 [01:01<00:14,  1.56it/s, loss=2.76, v_num=42, train_loss_step=1.780]\n",
      "Validating:  74%|███████▍  | 66/89 [00:53<00:18,  1.22it/s]\u001b[A\n",
      "Epoch 0:  82%|████████▏ | 98/119 [01:03<00:13,  1.56it/s, loss=2.76, v_num=42, train_loss_step=1.780]\n",
      "Validating:  76%|███████▋  | 68/89 [00:55<00:16,  1.26it/s]\u001b[A\n",
      "Epoch 0:  84%|████████▍ | 100/119 [01:04<00:12,  1.55it/s, loss=2.76, v_num=42, train_loss_step=1.780]\n",
      "Validating:  79%|███████▊  | 70/89 [00:57<00:17,  1.10it/s]\u001b[A\n",
      "Epoch 0:  86%|████████▌ | 102/119 [01:06<00:11,  1.53it/s, loss=2.76, v_num=42, train_loss_step=1.780]\n",
      "Validating:  81%|████████  | 72/89 [00:58<00:15,  1.12it/s]\u001b[A"
     ]
    }
   ],
   "source": [
    "# fit network\n",
    "trainer.fit(\n",
    "    tft,\n",
    "    train_dataloader=train_dataloader,\n",
    "    val_dataloaders=val_dataloader,\n",
    ")"
   ]
  },
  {
   "cell_type": "code",
   "execution_count": null,
   "id": "b8abc9e1",
   "metadata": {
    "gradient": {
     "editing": false,
     "id": "9c7eb0d1",
     "kernelId": "8acadc02-40bf-4da4-bde9-070f59c4e515"
    }
   },
   "outputs": [],
   "source": [
    "# load the best model according to the validation loss\n",
    "# (given that we use early stopping, this is not necessarily the last epoch)\n",
    "best_model_path = trainer.checkpoint_callback.best_model_path\n",
    "print(best_model_path)\n",
    "best_tft = TemporalFusionTransformer.load_from_checkpoint(best_model_path)"
   ]
  },
  {
   "cell_type": "code",
   "execution_count": null,
   "id": "2267477e",
   "metadata": {
    "gradient": {
     "editing": false,
     "id": "85a48b30",
     "kernelId": "8acadc02-40bf-4da4-bde9-070f59c4e515"
    }
   },
   "outputs": [],
   "source": [
    "# calcualte root mean squared error on validation set\n",
    "actuals = torch.cat([y[0] for x, y in iter(val_dataloader)])\n",
    "val_predictions = best_tft.predict(val_dataloader)"
   ]
  },
  {
   "cell_type": "code",
   "execution_count": null,
   "id": "9b05009c",
   "metadata": {
    "gradient": {
     "editing": false,
     "id": "eacc63fe",
     "kernelId": "8acadc02-40bf-4da4-bde9-070f59c4e515"
    }
   },
   "outputs": [],
   "source": [
    "criterion = nn.MSELoss()\n",
    "torch.sqrt(criterion(actuals,val_predictions))"
   ]
  },
  {
   "cell_type": "code",
   "execution_count": null,
   "id": "1c670f30",
   "metadata": {
    "gradient": {
     "id": "fd0ae254",
     "kernelId": "8acadc02-40bf-4da4-bde9-070f59c4e515"
    }
   },
   "outputs": [],
   "source": [
    "for i in range(20):\n",
    "    print(actuals[i],val_predictions[i])\n"
   ]
  },
  {
   "cell_type": "code",
   "execution_count": null,
   "id": "e6fed50e",
   "metadata": {
    "gradient": {
     "id": "bf185c3b",
     "kernelId": "8acadc02-40bf-4da4-bde9-070f59c4e515"
    }
   },
   "outputs": [],
   "source": [
    "print('max_prediction_length:',max_prediction_length)\n",
    "print('max_encoder_length   :',max_encoder_length)"
   ]
  },
  {
   "cell_type": "code",
   "execution_count": null,
   "id": "46847089",
   "metadata": {
    "gradient": {
     "id": "9f4243b6",
     "kernelId": "8acadc02-40bf-4da4-bde9-070f59c4e515"
    }
   },
   "outputs": [],
   "source": [
    "df_submission_sample"
   ]
  },
  {
   "cell_type": "code",
   "execution_count": null,
   "id": "bfd9fc24",
   "metadata": {
    "gradient": {
     "id": "401260b8",
     "kernelId": "8acadc02-40bf-4da4-bde9-070f59c4e515"
    }
   },
   "outputs": [],
   "source": [
    "# select last 30 days from data (max_encoder_length is 24)\n",
    "encoder_data = df_sales[lambda x: x.date_block_num > x.date_block_num.max() - max_encoder_length]\n",
    "\n",
    "print(encoder_data['date_block_num'].min(),encoder_data['date_block_num'].max())\n",
    "#print(encoder_data['DATE'].min(),encoder_data['DATE'].max())\n",
    "encoder_data"
   ]
  },
  {
   "cell_type": "code",
   "execution_count": null,
   "id": "8ea2098f",
   "metadata": {
    "gradient": {
     "id": "442ac9f0",
     "kernelId": "8acadc02-40bf-4da4-bde9-070f59c4e515"
    }
   },
   "outputs": [],
   "source": [
    "\n",
    "last_data = df_sales[df_sales['date_block_num'].isin([idx  -  max_prediction_length for idx in df_submission_sample['date_block_num'].unique()])]\n",
    "last_data['date_block_num'] = last_data['date_block_num'] + max_prediction_length\n",
    "\n",
    "decoder_data = pd.merge(df_submission_sample[[col for col in df_submission_sample.columns if 'QTT' not in col]], \n",
    "        last_data[['date_block_num','S100', 'item_id',\"QTT\"]],\n",
    "        on = ['date_block_num', 'S100', 'item_id',],\n",
    "                        how='left'\n",
    "        )\n",
    "\n",
    "\n",
    "encoder_data.replace([np.inf, -np.inf, np.nan],0,inplace=True)\n",
    "decoder_data.replace([np.inf, -np.inf, np.nan],0,inplace=True)\n",
    "\n",
    "\n",
    "# combine encoder and decoder data\n",
    "new_prediction_data = pd.concat([encoder_data, decoder_data], ignore_index=True)"
   ]
  },
  {
   "cell_type": "code",
   "execution_count": null,
   "id": "f3d5a5be",
   "metadata": {
    "gradient": {
     "id": "c422c9bf",
     "kernelId": "8acadc02-40bf-4da4-bde9-070f59c4e515"
    }
   },
   "outputs": [],
   "source": [
    "last_data"
   ]
  },
  {
   "cell_type": "code",
   "execution_count": null,
   "id": "cc9ecb1f",
   "metadata": {
    "gradient": {
     "id": "914c9561",
     "kernelId": "8acadc02-40bf-4da4-bde9-070f59c4e515"
    }
   },
   "outputs": [],
   "source": [
    "decoder_data"
   ]
  },
  {
   "cell_type": "code",
   "execution_count": null,
   "id": "f13fe547",
   "metadata": {
    "gradient": {
     "id": "93fe457d",
     "kernelId": "8acadc02-40bf-4da4-bde9-070f59c4e515"
    }
   },
   "outputs": [],
   "source": [
    "new_prediction_data"
   ]
  },
  {
   "cell_type": "code",
   "execution_count": null,
   "id": "29b1675a",
   "metadata": {
    "gradient": {
     "id": "1b80dc4a",
     "kernelId": "8acadc02-40bf-4da4-bde9-070f59c4e515"
    }
   },
   "outputs": [],
   "source": [
    "df_submission_sample.columns"
   ]
  },
  {
   "cell_type": "raw",
   "id": "4ded5878",
   "metadata": {},
   "source": [
    "new_raw_predictions, new_x = best_tft.predict(new_prediction_data, mode=\"raw\", return_x=True)"
   ]
  },
  {
   "cell_type": "code",
   "execution_count": null,
   "id": "05a0a2bc",
   "metadata": {
    "gradient": {
     "id": "7eadb219",
     "kernelId": "8acadc02-40bf-4da4-bde9-070f59c4e515"
    }
   },
   "outputs": [],
   "source": [
    "predictions = best_tft.predict(new_prediction_data, mode=\"prediction\", return_x=False)"
   ]
  },
  {
   "cell_type": "code",
   "execution_count": null,
   "id": "0c6cb462",
   "metadata": {
    "gradient": {
     "id": "f2635538",
     "kernelId": "8acadc02-40bf-4da4-bde9-070f59c4e515"
    }
   },
   "outputs": [],
   "source": [
    "predictions = pd.DataFrame(predictions.numpy()).T\n"
   ]
  },
  {
   "cell_type": "code",
   "execution_count": null,
   "id": "c118757f",
   "metadata": {
    "gradient": {
     "id": "8bec710a",
     "kernelId": "8acadc02-40bf-4da4-bde9-070f59c4e515"
    }
   },
   "outputs": [],
   "source": [
    "ga = predictions.T"
   ]
  },
  {
   "cell_type": "code",
   "execution_count": null,
   "id": "a975f357",
   "metadata": {
    "gradient": {
     "id": "17140157",
     "kernelId": "8acadc02-40bf-4da4-bde9-070f59c4e515"
    }
   },
   "outputs": [],
   "source": [
    "ga"
   ]
  },
  {
   "cell_type": "code",
   "execution_count": null,
   "id": "b2372070",
   "metadata": {
    "gradient": {
     "id": "b8ff8403",
     "kernelId": "8acadc02-40bf-4da4-bde9-070f59c4e515"
    }
   },
   "outputs": [],
   "source": [
    "idx = 1\n",
    "ga[idx].max(),ga[idx].min()"
   ]
  },
  {
   "cell_type": "code",
   "execution_count": null,
   "id": "7aafdcaa",
   "metadata": {
    "gradient": {
     "id": "f68175ff",
     "kernelId": "8acadc02-40bf-4da4-bde9-070f59c4e515"
    }
   },
   "outputs": [],
   "source": [
    "len(df_submission_sample['date_block_num'].unique())"
   ]
  },
  {
   "cell_type": "code",
   "execution_count": null,
   "id": "c7ba2537",
   "metadata": {
    "gradient": {
     "id": "502eaf84",
     "kernelId": "8acadc02-40bf-4da4-bde9-070f59c4e515"
    }
   },
   "outputs": [],
   "source": [
    "predictions['date_block_num'] = sorted(df_submission_sample['date_block_num'].unique())\n",
    "predictions = pd.melt(predictions, id_vars=['date_block_num'])\n",
    "predictions = predictions.sort_values(['date_block_num', 'variable']).reset_index(drop=True)"
   ]
  },
  {
   "cell_type": "code",
   "execution_count": null,
   "id": "24c90d4a",
   "metadata": {
    "gradient": {
     "id": "65df5380",
     "kernelId": "8acadc02-40bf-4da4-bde9-070f59c4e515"
    }
   },
   "outputs": [],
   "source": [
    "df_test = df_submission_sample.copy()"
   ]
  },
  {
   "cell_type": "code",
   "execution_count": null,
   "id": "3a9b6c09",
   "metadata": {
    "gradient": {
     "id": "1412136d",
     "kernelId": "8acadc02-40bf-4da4-bde9-070f59c4e515"
    }
   },
   "outputs": [],
   "source": [
    "df_test[['date_block_num', 'S100', 'item_id']].sort_values(['date_block_num', 'S100', 'item_id']).reset_index(drop=True)\n",
    "df_test = df_test.join(predictions['value'])"
   ]
  },
  {
   "cell_type": "code",
   "execution_count": null,
   "id": "b0dd08bd",
   "metadata": {
    "gradient": {
     "id": "b32a46b3",
     "kernelId": "8acadc02-40bf-4da4-bde9-070f59c4e515"
    }
   },
   "outputs": [],
   "source": [
    "df_test"
   ]
  },
  {
   "cell_type": "code",
   "execution_count": null,
   "id": "58e344b8",
   "metadata": {
    "gradient": {
     "id": "d1177404",
     "kernelId": "8acadc02-40bf-4da4-bde9-070f59c4e515"
    }
   },
   "outputs": [],
   "source": [
    "df_test.drop(columns=['QTT'],inplace=True)\n",
    "df_test = df_test.rename(columns={\"value\": \"QTT\"})"
   ]
  },
  {
   "cell_type": "code",
   "execution_count": null,
   "id": "1e4428c8",
   "metadata": {
    "gradient": {
     "id": "4f0cf0d7",
     "kernelId": "8acadc02-40bf-4da4-bde9-070f59c4e515"
    }
   },
   "outputs": [],
   "source": [
    "df_test"
   ]
  },
  {
   "cell_type": "code",
   "execution_count": null,
   "id": "6461e81e",
   "metadata": {
    "gradient": {
     "editing": false,
     "id": "2b594f99",
     "kernelId": "8acadc02-40bf-4da4-bde9-070f59c4e515"
    }
   },
   "outputs": [],
   "source": []
  },
  {
   "cell_type": "code",
   "execution_count": null,
   "id": "4a9307f1",
   "metadata": {},
   "outputs": [],
   "source": []
  },
  {
   "cell_type": "code",
   "execution_count": null,
   "id": "be011eb4",
   "metadata": {},
   "outputs": [],
   "source": []
  },
  {
   "cell_type": "code",
   "execution_count": null,
   "id": "9c921cb4",
   "metadata": {},
   "outputs": [],
   "source": []
  },
  {
   "cell_type": "code",
   "execution_count": null,
   "id": "857b612c",
   "metadata": {},
   "outputs": [],
   "source": []
  },
  {
   "cell_type": "code",
   "execution_count": null,
   "id": "944665e0",
   "metadata": {
    "collapsed": false,
    "gradient": {
     "editing": false,
     "id": "72245545",
     "kernelId": "8acadc02-40bf-4da4-bde9-070f59c4e515",
     "source_hidden": false
    },
    "jupyter": {
     "outputs_hidden": false
    }
   },
   "outputs": [],
   "source": [
    "X_train_pred      = gbm.predict(X_train, num_iteration=gbm.best_iteration_)\n",
    "X_validation_pred = gbm.predict(X_validation, num_iteration=gbm.best_iteration_)\n",
    "X_test_pred       = gbm.predict(X_test, num_iteration=gbm.best_iteration_)\n",
    "\n",
    "X_submission_pred = gbm.predict(X_submission, num_iteration=gbm.best_iteration_)"
   ]
  },
  {
   "cell_type": "code",
   "execution_count": null,
   "id": "f6eb194a",
   "metadata": {
    "collapsed": false,
    "gradient": {
     "editing": false,
     "id": "4acdd06d",
     "kernelId": "8acadc02-40bf-4da4-bde9-070f59c4e515",
     "source_hidden": false
    },
    "jupyter": {
     "outputs_hidden": false
    }
   },
   "outputs": [],
   "source": [
    "from sklearn.metrics import mean_squared_error\n",
    "\n",
    "X_train_pred = np.maximum(X_train_pred, 0)\n",
    "X_validation_pred = np.maximum(X_validation_pred, 0)\n",
    "X_test_pred = np.maximum(X_test_pred, 0)\n",
    "X_submission_pred = np.maximum(X_submission_pred, 0)\n",
    "\n",
    "df_train_rmse = mean_squared_error(y_train,X_train_pred, squared=False)\n",
    "df_val_rmse   = mean_squared_error(y_validation,X_validation_pred, squared=False)\n",
    "df_test_rmse  = mean_squared_error(y_test,X_test_pred, squared=False)\n",
    "\n",
    "print('Final score mean_squared_error')\n",
    "print('Score train:',df_train_rmse)\n",
    "print('Score val  :',df_val_rmse)\n",
    "print('Score test :',df_test_rmse)"
   ]
  },
  {
   "cell_type": "code",
   "execution_count": null,
   "id": "64177d90",
   "metadata": {
    "gradient": {
     "editing": false,
     "id": "9b20d08a",
     "kernelId": "8acadc02-40bf-4da4-bde9-070f59c4e515"
    }
   },
   "outputs": [],
   "source": [
    "#X_test_pred[0] = 200"
   ]
  },
  {
   "cell_type": "code",
   "execution_count": null,
   "id": "1e18dff9",
   "metadata": {
    "collapsed": false,
    "gradient": {
     "editing": false,
     "id": "fc460259",
     "kernelId": "8acadc02-40bf-4da4-bde9-070f59c4e515",
     "source_hidden": false
    },
    "jupyter": {
     "outputs_hidden": false
    }
   },
   "outputs": [],
   "source": [
    "import matplotlib.pyplot as plt\n",
    "\n",
    "fig = plt.figure(figsize=(20,8))\n",
    "plt.plot(X_test_pred,'b', alpha=0.7)\n",
    "plt.plot(y_test.values,'r', alpha=0.4)\n",
    "plt.legend([\"prediction\", \"real\"], loc =\"upper right\")\n",
    "\n",
    "plt.show()"
   ]
  },
  {
   "cell_type": "code",
   "execution_count": null,
   "id": "51c7fa0c",
   "metadata": {
    "collapsed": false,
    "gradient": {
     "editing": false,
     "id": "a20e94d7",
     "kernelId": "8acadc02-40bf-4da4-bde9-070f59c4e515",
     "source_hidden": false
    },
    "jupyter": {
     "outputs_hidden": false
    }
   },
   "outputs": [],
   "source": [
    "df_submission_sample.reset_index(drop=True,inplace=True)\n",
    "df_submission_sample['QTT'] = X_submission_pred\n",
    "df_submission_sample.head()"
   ]
  },
  {
   "cell_type": "code",
   "execution_count": null,
   "id": "b776c32f",
   "metadata": {
    "collapsed": false,
    "gradient": {
     "editing": false,
     "id": "d765f080",
     "kernelId": "8acadc02-40bf-4da4-bde9-070f59c4e515",
     "source_hidden": false
    },
    "jupyter": {
     "outputs_hidden": false
    }
   },
   "outputs": [],
   "source": [
    "filename_submission= 'submission_NOFILL_good_'+str(np.round(df_test_rmse,4))+'_local.csv'\n",
    "save = False\n",
    "if save:\n",
    "    print('saving..')\n",
    "    print(filename_submission)\n",
    "    df_submission_sample[['ID','QTT']].to_csv(os.path.join(PATH_RESULTS,'submissions','no_fill',filename_submission),index=None)"
   ]
  },
  {
   "cell_type": "code",
   "execution_count": null,
   "id": "8869587a",
   "metadata": {
    "collapsed": false,
    "gradient": {
     "editing": false,
     "id": "4fe5e14d",
     "kernelId": "8acadc02-40bf-4da4-bde9-070f59c4e515",
     "source_hidden": false
    },
    "jupyter": {
     "outputs_hidden": false
    }
   },
   "outputs": [],
   "source": [
    "result = pd.read_csv(os.path.join(PATH_RESULTS,'submissions','submission_2.1046_local.csv'))"
   ]
  },
  {
   "cell_type": "code",
   "execution_count": null,
   "id": "c181b7a3",
   "metadata": {
    "collapsed": false,
    "gradient": {
     "editing": false,
     "id": "1945b3bd",
     "kernelId": "8acadc02-40bf-4da4-bde9-070f59c4e515",
     "source_hidden": false
    },
    "jupyter": {
     "outputs_hidden": false
    }
   },
   "outputs": [],
   "source": [
    "df_test['QTT_reference']= result['QTT'].copy()\n",
    "df_test[['QTT_reference','QTT']][-20:]"
   ]
  },
  {
   "cell_type": "code",
   "execution_count": null,
   "id": "143b8ba9",
   "metadata": {
    "collapsed": false,
    "gradient": {
     "editing": false,
     "id": "059fbd7b",
     "kernelId": "8acadc02-40bf-4da4-bde9-070f59c4e515",
     "source_hidden": false
    },
    "jupyter": {
     "outputs_hidden": false
    }
   },
   "outputs": [],
   "source": [
    "fig = plt.figure(figsize=(20,8))\n",
    "plt.plot(df_submission_sample['QTT'],'b', alpha=0.7)\n",
    "plt.plot(result['QTT'],'r', alpha=0.4)\n",
    "plt.legend([\"prediction\", \"real\"], loc =\"upper right\")\n",
    "plt.show()"
   ]
  },
  {
   "cell_type": "code",
   "execution_count": null,
   "id": "06aeb3b3",
   "metadata": {
    "gradient": {
     "editing": false,
     "id": "1bd224da",
     "kernelId": "8acadc02-40bf-4da4-bde9-070f59c4e515"
    }
   },
   "outputs": [],
   "source": [
    "from sklearn.metrics import mean_squared_error\n",
    "\n",
    "difference = mean_squared_error(df_test['QTT'],result['QTT'], squared=False)\n",
    "\n",
    "print('Final score mean_squared_error')\n",
    "print('Score train:',difference)"
   ]
  },
  {
   "cell_type": "code",
   "execution_count": null,
   "id": "baceff98",
   "metadata": {
    "gradient": {
     "editing": false,
     "id": "1b8ff32b",
     "kernelId": "8acadc02-40bf-4da4-bde9-070f59c4e515"
    }
   },
   "outputs": [],
   "source": []
  },
  {
   "cell_type": "code",
   "execution_count": null,
   "id": "822f2f95",
   "metadata": {
    "gradient": {
     "editing": false,
     "id": "54968791",
     "kernelId": "8acadc02-40bf-4da4-bde9-070f59c4e515"
    }
   },
   "outputs": [],
   "source": []
  },
  {
   "cell_type": "code",
   "execution_count": null,
   "id": "6de6391a",
   "metadata": {
    "gradient": {
     "editing": false,
     "id": "f93f280e",
     "kernelId": "8acadc02-40bf-4da4-bde9-070f59c4e515"
    }
   },
   "outputs": [],
   "source": []
  },
  {
   "cell_type": "code",
   "execution_count": null,
   "id": "2d65bdaf",
   "metadata": {
    "gradient": {
     "editing": false,
     "id": "50127ce3",
     "kernelId": "8acadc02-40bf-4da4-bde9-070f59c4e515"
    }
   },
   "outputs": [],
   "source": []
  },
  {
   "cell_type": "code",
   "execution_count": null,
   "id": "48d175fe",
   "metadata": {
    "gradient": {
     "editing": false,
     "id": "ff7c03f6",
     "kernelId": "8acadc02-40bf-4da4-bde9-070f59c4e515"
    }
   },
   "outputs": [],
   "source": []
  },
  {
   "cell_type": "code",
   "execution_count": null,
   "id": "2ad706b5",
   "metadata": {
    "gradient": {
     "editing": false,
     "id": "3ff7a167",
     "kernelId": "8acadc02-40bf-4da4-bde9-070f59c4e515"
    }
   },
   "outputs": [],
   "source": []
  },
  {
   "cell_type": "code",
   "execution_count": null,
   "id": "4bc60043",
   "metadata": {
    "gradient": {
     "editing": false,
     "id": "b5be034a",
     "kernelId": "8acadc02-40bf-4da4-bde9-070f59c4e515"
    }
   },
   "outputs": [],
   "source": []
  }
 ],
 "metadata": {
  "kernelspec": {
   "display_name": "Python 3 (ipykernel)",
   "language": "python",
   "name": "python3"
  },
  "language_info": {
   "codemirror_mode": {
    "name": "ipython",
    "version": 3
   },
   "file_extension": ".py",
   "mimetype": "text/x-python",
   "name": "python",
   "nbconvert_exporter": "python",
   "pygments_lexer": "ipython3",
   "version": "3.8.12"
  }
 },
 "nbformat": 4,
 "nbformat_minor": 5
}
